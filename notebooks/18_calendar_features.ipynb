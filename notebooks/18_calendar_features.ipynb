{
 "cells": [
  {
   "cell_type": "markdown",
   "metadata": {},
   "source": [
    "# 18. Holiday & Event Calendar Features\n",
    "\n",
    "**Story 1.8**: Build Holiday & Event Calendar\n",
    "\n",
    "## Objectives\n",
    "- Create features for holidays, school breaks, major events\n",
    "- Generate binary indicators for special days affecting traffic\n",
    "- Add weekend/weekday features\n",
    "- Merge calendar features with main dataset"
   ]
  },
  {
   "cell_type": "code",
   "execution_count": 1,
   "metadata": {
    "execution": {
     "iopub.execute_input": "2025-09-06T10:41:22.797158Z",
     "iopub.status.busy": "2025-09-06T10:41:22.796781Z",
     "iopub.status.idle": "2025-09-06T10:41:23.203074Z",
     "shell.execute_reply": "2025-09-06T10:41:23.202773Z"
    }
   },
   "outputs": [
    {
     "name": "stdout",
     "output_type": "stream",
     "text": [
      "Libraries loaded successfully\n"
     ]
    }
   ],
   "source": [
    "import pandas as pd\n",
    "import numpy as np\n",
    "import matplotlib.pyplot as plt\n",
    "import seaborn as sns\n",
    "from datetime import datetime, timedelta\n",
    "import warnings\n",
    "warnings.filterwarnings('ignore')\n",
    "\n",
    "# Set style\n",
    "plt.style.use('seaborn-v0_8-darkgrid')\n",
    "sns.set_palette('husl')\n",
    "\n",
    "print('Libraries loaded successfully')"
   ]
  },
  {
   "cell_type": "markdown",
   "metadata": {},
   "source": [
    "## 1. Load Holiday Data"
   ]
  },
  {
   "cell_type": "code",
   "execution_count": 2,
   "metadata": {
    "execution": {
     "iopub.execute_input": "2025-09-06T10:41:23.216601Z",
     "iopub.status.busy": "2025-09-06T10:41:23.216470Z",
     "iopub.status.idle": "2025-09-06T10:41:23.225311Z",
     "shell.execute_reply": "2025-09-06T10:41:23.225125Z"
    }
   },
   "outputs": [
    {
     "name": "stdout",
     "output_type": "stream",
     "text": [
      "Loaded 1956 holiday records\n",
      "\n",
      "Sample holidays:\n",
      "        date country            holiday_name    type            region  \\\n",
      "0 2020-01-01      AT          New Year's Day  public               NaN   \n",
      "1 2020-01-01      DE          New Year's Day  public               NaN   \n",
      "2 2020-01-01      IT          New Year's Day  public               NaN   \n",
      "3 2020-01-01      SI          New Year's Day  public               NaN   \n",
      "4 2020-01-02      SI        New Year Holiday  public               NaN   \n",
      "5 2020-01-06      AT                Epiphany  public               NaN   \n",
      "6 2020-01-06      DE                Epiphany  public           Bavaria   \n",
      "7 2020-01-06      IT                Epiphany  public               NaN   \n",
      "8 2020-02-08      SI            Prešeren Day  public               NaN   \n",
      "9 2020-02-15      SI  Winter Holiday Group 1  school  Eastern Slovenia   \n",
      "\n",
      "  day_of_week  year  month  \n",
      "0   Wednesday  2020      1  \n",
      "1   Wednesday  2020      1  \n",
      "2   Wednesday  2020      1  \n",
      "3   Wednesday  2020      1  \n",
      "4    Thursday  2020      1  \n",
      "5      Monday  2020      1  \n",
      "6      Monday  2020      1  \n",
      "7      Monday  2020      1  \n",
      "8    Saturday  2020      2  \n",
      "9    Saturday  2020      2  \n"
     ]
    }
   ],
   "source": [
    "# Try to load existing holiday data\n",
    "try:\n",
    "    holidays_df = pd.read_csv('../data/external/holidays/holidays_combined_2020_2025.csv')\n",
    "    holidays_df['date'] = pd.to_datetime(holidays_df['date'] if 'date' in holidays_df.columns else holidays_df.iloc[:, 0])\n",
    "    print(f'Loaded {len(holidays_df)} holiday records')\n",
    "except:\n",
    "    # Create synthetic holiday data for Slovenia\n",
    "    print('Creating synthetic holiday data for Slovenia...')\n",
    "    \n",
    "    # Define Slovenian holidays (2020-2024)\n",
    "    holidays_data = []\n",
    "    \n",
    "    for year in range(2020, 2025):\n",
    "        # Fixed date holidays\n",
    "        holidays_data.extend([\n",
    "            {'date': f'{year}-01-01', 'name': \"New Year's Day\", 'type': 'public'},\n",
    "            {'date': f'{year}-01-02', 'name': \"New Year's Day (2nd)\", 'type': 'public'},\n",
    "            {'date': f'{year}-02-08', 'name': 'Prešeren Day', 'type': 'public'},\n",
    "            {'date': f'{year}-04-27', 'name': 'Day of Uprising Against Occupation', 'type': 'public'},\n",
    "            {'date': f'{year}-05-01', 'name': 'Labour Day', 'type': 'public'},\n",
    "            {'date': f'{year}-05-02', 'name': 'Labour Day (2nd)', 'type': 'public'},\n",
    "            {'date': f'{year}-06-25', 'name': 'Statehood Day', 'type': 'public'},\n",
    "            {'date': f'{year}-08-15', 'name': 'Assumption of Mary', 'type': 'public'},\n",
    "            {'date': f'{year}-10-31', 'name': 'Reformation Day', 'type': 'public'},\n",
    "            {'date': f'{year}-11-01', 'name': 'All Saints Day', 'type': 'public'},\n",
    "            {'date': f'{year}-12-25', 'name': 'Christmas', 'type': 'public'},\n",
    "            {'date': f'{year}-12-26', 'name': 'Independence and Unity Day', 'type': 'public'},\n",
    "        ])\n",
    "        \n",
    "        # Easter-related holidays (simplified - would need proper calculation)\n",
    "        easter_dates = {\n",
    "            2020: '2020-04-12', 2021: '2021-04-04', 2022: '2022-04-17',\n",
    "            2023: '2023-04-09', 2024: '2024-03-31'\n",
    "        }\n",
    "        if year in easter_dates:\n",
    "            easter = pd.to_datetime(easter_dates[year])\n",
    "            holidays_data.append({'date': easter, 'name': 'Easter Sunday', 'type': 'public'})\n",
    "            holidays_data.append({'date': easter + timedelta(days=1), 'name': 'Easter Monday', 'type': 'public'})\n",
    "    \n",
    "    holidays_df = pd.DataFrame(holidays_data)\n",
    "    holidays_df['date'] = pd.to_datetime(holidays_df['date'])\n",
    "    print(f'Created {len(holidays_df)} holiday records')\n",
    "\n",
    "# Display sample holidays\n",
    "print('\\nSample holidays:')\n",
    "print(holidays_df.head(10))"
   ]
  },
  {
   "cell_type": "markdown",
   "metadata": {},
   "source": [
    "## 2. Define School Break Periods"
   ]
  },
  {
   "cell_type": "code",
   "execution_count": 3,
   "metadata": {
    "execution": {
     "iopub.execute_input": "2025-09-06T10:41:23.226254Z",
     "iopub.status.busy": "2025-09-06T10:41:23.226125Z",
     "iopub.status.idle": "2025-09-06T10:41:23.230199Z",
     "shell.execute_reply": "2025-09-06T10:41:23.230030Z"
    }
   },
   "outputs": [
    {
     "name": "stdout",
     "output_type": "stream",
     "text": [
      "Defined 25 school break periods\n",
      "\n",
      "School breaks for 2024:\n",
      "              name      start        end\n",
      "20    Winter Break 2023-12-24 2024-01-02\n",
      "21  February Break 2024-02-15 2024-02-22\n",
      "22    Spring Break 2024-04-27 2024-05-02\n",
      "23    Summer Break 2024-06-25 2024-08-31\n",
      "24    Autumn Break 2024-10-28 2024-11-01\n"
     ]
    }
   ],
   "source": [
    "# Define school break periods for Slovenia\n",
    "school_breaks = []\n",
    "\n",
    "for year in range(2020, 2025):\n",
    "    # Winter break (around New Year)\n",
    "    school_breaks.append({\n",
    "        'start': f'{year-1}-12-24',\n",
    "        'end': f'{year}-01-02',\n",
    "        'name': 'Winter Break',\n",
    "        'year': year\n",
    "    })\n",
    "    \n",
    "    # February break (1 week)\n",
    "    school_breaks.append({\n",
    "        'start': f'{year}-02-15',\n",
    "        'end': f'{year}-02-22',\n",
    "        'name': 'February Break',\n",
    "        'year': year\n",
    "    })\n",
    "    \n",
    "    # Spring break (around May 1st)\n",
    "    school_breaks.append({\n",
    "        'start': f'{year}-04-27',\n",
    "        'end': f'{year}-05-02',\n",
    "        'name': 'Spring Break',\n",
    "        'year': year\n",
    "    })\n",
    "    \n",
    "    # Summer break (July-August)\n",
    "    school_breaks.append({\n",
    "        'start': f'{year}-06-25',\n",
    "        'end': f'{year}-08-31',\n",
    "        'name': 'Summer Break',\n",
    "        'year': year\n",
    "    })\n",
    "    \n",
    "    # Autumn break (around November 1st)\n",
    "    school_breaks.append({\n",
    "        'start': f'{year}-10-28',\n",
    "        'end': f'{year}-11-01',\n",
    "        'name': 'Autumn Break',\n",
    "        'year': year\n",
    "    })\n",
    "\n",
    "school_breaks_df = pd.DataFrame(school_breaks)\n",
    "school_breaks_df['start'] = pd.to_datetime(school_breaks_df['start'])\n",
    "school_breaks_df['end'] = pd.to_datetime(school_breaks_df['end'])\n",
    "\n",
    "print(f'Defined {len(school_breaks_df)} school break periods')\n",
    "print('\\nSchool breaks for 2024:')\n",
    "print(school_breaks_df[school_breaks_df['year'] == 2024][['name', 'start', 'end']])"
   ]
  },
  {
   "cell_type": "markdown",
   "metadata": {},
   "source": [
    "## 3. Create Calendar Feature Generator"
   ]
  },
  {
   "cell_type": "code",
   "execution_count": 4,
   "metadata": {
    "execution": {
     "iopub.execute_input": "2025-09-06T10:41:23.231062Z",
     "iopub.status.busy": "2025-09-06T10:41:23.230998Z",
     "iopub.status.idle": "2025-09-06T10:41:23.244015Z",
     "shell.execute_reply": "2025-09-06T10:41:23.243842Z"
    }
   },
   "outputs": [
    {
     "name": "stdout",
     "output_type": "stream",
     "text": [
      "Calendar features generated!\n",
      "Shape: (366, 19)\n",
      "\n",
      "Features created:\n",
      "['date', 'year', 'month', 'day', 'dayofweek', 'dayofyear', 'weekofyear', 'quarter', 'is_weekend', 'is_weekday', 'day_name', 'month_name', 'is_holiday', 'day_before_holiday', 'day_after_holiday', 'is_school_break', 'season', 'is_tourist_season', 'is_long_weekend']\n"
     ]
    }
   ],
   "source": [
    "def generate_calendar_features(date_range):\n",
    "    \"\"\"\n",
    "    Generate comprehensive calendar features for a date range\n",
    "    \n",
    "    Parameters:\n",
    "    -----------\n",
    "    date_range : pd.DatetimeIndex or list of dates\n",
    "    \n",
    "    Returns:\n",
    "    --------\n",
    "    pd.DataFrame with calendar features\n",
    "    \"\"\"\n",
    "    df = pd.DataFrame({'date': pd.to_datetime(date_range)})\n",
    "    \n",
    "    # Basic temporal features\n",
    "    df['year'] = df['date'].dt.year\n",
    "    df['month'] = df['date'].dt.month\n",
    "    df['day'] = df['date'].dt.day\n",
    "    df['dayofweek'] = df['date'].dt.dayofweek\n",
    "    df['dayofyear'] = df['date'].dt.dayofyear\n",
    "    df['weekofyear'] = df['date'].dt.isocalendar().week\n",
    "    df['quarter'] = df['date'].dt.quarter\n",
    "    \n",
    "    # Weekend indicator\n",
    "    df['is_weekend'] = (df['dayofweek'] >= 5).astype(int)\n",
    "    df['is_weekday'] = (df['dayofweek'] < 5).astype(int)\n",
    "    \n",
    "    # Day name\n",
    "    df['day_name'] = df['date'].dt.day_name()\n",
    "    \n",
    "    # Month name\n",
    "    df['month_name'] = df['date'].dt.month_name()\n",
    "    \n",
    "    # Holiday features\n",
    "    df['is_holiday'] = df['date'].isin(holidays_df['date']).astype(int)\n",
    "    \n",
    "    # Day before/after holiday\n",
    "    holiday_dates = set(holidays_df['date'])\n",
    "    df['day_before_holiday'] = df['date'].apply(\n",
    "        lambda x: 1 if (x + timedelta(days=1)) in holiday_dates else 0\n",
    "    )\n",
    "    df['day_after_holiday'] = df['date'].apply(\n",
    "        lambda x: 1 if (x - timedelta(days=1)) in holiday_dates else 0\n",
    "    )\n",
    "    \n",
    "    # School break indicator\n",
    "    df['is_school_break'] = 0\n",
    "    for _, break_period in school_breaks_df.iterrows():\n",
    "        mask = (df['date'] >= break_period['start']) & (df['date'] <= break_period['end'])\n",
    "        df.loc[mask, 'is_school_break'] = 1\n",
    "    \n",
    "    # Season\n",
    "    df['season'] = df['month'].apply(lambda x: \n",
    "        'winter' if x in [12, 1, 2] else\n",
    "        'spring' if x in [3, 4, 5] else\n",
    "        'summer' if x in [6, 7, 8] else\n",
    "        'autumn'\n",
    "    )\n",
    "    \n",
    "    # Tourist season (summer months)\n",
    "    df['is_tourist_season'] = df['month'].isin([6, 7, 8]).astype(int)\n",
    "    \n",
    "    # Long weekend (Friday or Monday adjacent to holiday)\n",
    "    df['is_long_weekend'] = (\n",
    "        ((df['dayofweek'] == 4) & df['day_after_holiday']) |  # Friday before holiday\n",
    "        ((df['dayofweek'] == 0) & df['day_before_holiday'])   # Monday after holiday\n",
    "    ).astype(int)\n",
    "    \n",
    "    return df\n",
    "\n",
    "# Generate features for sample dates\n",
    "sample_dates = pd.date_range('2024-01-01', '2024-12-31', freq='D')\n",
    "calendar_features = generate_calendar_features(sample_dates)\n",
    "\n",
    "print('Calendar features generated!')\n",
    "print(f'Shape: {calendar_features.shape}')\n",
    "print('\\nFeatures created:')\n",
    "print(calendar_features.columns.tolist())"
   ]
  },
  {
   "cell_type": "markdown",
   "metadata": {},
   "source": [
    "## 4. Visualize Calendar Features"
   ]
  },
  {
   "cell_type": "code",
   "execution_count": 5,
   "metadata": {
    "execution": {
     "iopub.execute_input": "2025-09-06T10:41:23.244873Z",
     "iopub.status.busy": "2025-09-06T10:41:23.244810Z",
     "iopub.status.idle": "2025-09-06T10:41:23.650867Z",
     "shell.execute_reply": "2025-09-06T10:41:23.650561Z"
    }
   },
   "outputs": [
    {
     "data": {
      "image/png": "[encoded data removed]",
      "text/plain": [
       "<Figure size 1500x1000 with 7 Axes>"
      ]
     },
     "metadata": {},
     "output_type": "display_data"
    }
   ],
   "source": [
    "# Create visualizations\n",
    "fig, axes = plt.subplots(2, 3, figsize=(15, 10))\n",
    "\n",
    "# 1. Holidays by month\n",
    "holiday_by_month = calendar_features.groupby('month')['is_holiday'].sum()\n",
    "axes[0, 0].bar(holiday_by_month.index, holiday_by_month.values, color='coral')\n",
    "axes[0, 0].set_title('Holidays by Month (2024)')\n",
    "axes[0, 0].set_xlabel('Month')\n",
    "axes[0, 0].set_ylabel('Number of Holidays')\n",
    "\n",
    "# 2. School breaks by month\n",
    "school_break_by_month = calendar_features.groupby('month')['is_school_break'].sum()\n",
    "axes[0, 1].bar(school_break_by_month.index, school_break_by_month.values, color='skyblue')\n",
    "axes[0, 1].set_title('School Break Days by Month (2024)')\n",
    "axes[0, 1].set_xlabel('Month')\n",
    "axes[0, 1].set_ylabel('Number of School Break Days')\n",
    "\n",
    "# 3. Weekend distribution\n",
    "weekend_counts = calendar_features['is_weekend'].value_counts()\n",
    "axes[0, 2].pie(weekend_counts.values, labels=['Weekday', 'Weekend'], \n",
    "               autopct='%1.1f%%', colors=['lightgreen', 'lightcoral'])\n",
    "axes[0, 2].set_title('Weekday vs Weekend Distribution')\n",
    "\n",
    "# 4. Special days heatmap for Q1 2024\n",
    "q1_data = calendar_features[calendar_features['quarter'] == 1].copy()\n",
    "q1_data['week'] = q1_data['date'].dt.isocalendar().week\n",
    "q1_pivot = q1_data.pivot_table(\n",
    "    values='is_holiday', \n",
    "    index='week', \n",
    "    columns='dayofweek', \n",
    "    fill_value=0\n",
    ")\n",
    "sns.heatmap(q1_pivot, cmap='YlOrRd', cbar=True, ax=axes[1, 0], \n",
    "            xticklabels=['Mon', 'Tue', 'Wed', 'Thu', 'Fri', 'Sat', 'Sun'])\n",
    "axes[1, 0].set_title('Q1 2024 Holidays Heatmap')\n",
    "axes[1, 0].set_xlabel('Day of Week')\n",
    "axes[1, 0].set_ylabel('Week Number')\n",
    "\n",
    "# 5. Tourist season overlap\n",
    "tourist_data = calendar_features.groupby('month')[['is_tourist_season', 'is_school_break']].mean()\n",
    "tourist_data.plot(kind='bar', ax=axes[1, 1], color=['orange', 'purple'])\n",
    "axes[1, 1].set_title('Tourist Season & School Breaks by Month')\n",
    "axes[1, 1].set_xlabel('Month')\n",
    "axes[1, 1].set_ylabel('Proportion of Days')\n",
    "axes[1, 1].legend(['Tourist Season', 'School Break'])\n",
    "axes[1, 1].tick_params(axis='x', rotation=0)\n",
    "\n",
    "# 6. Long weekends\n",
    "long_weekend_months = calendar_features.groupby('month')['is_long_weekend'].sum()\n",
    "axes[1, 2].bar(long_weekend_months.index, long_weekend_months.values, color='mediumpurple')\n",
    "axes[1, 2].set_title('Long Weekend Days by Month')\n",
    "axes[1, 2].set_xlabel('Month')\n",
    "axes[1, 2].set_ylabel('Number of Long Weekend Days')\n",
    "\n",
    "plt.tight_layout()\n",
    "plt.show()"
   ]
  },
  {
   "cell_type": "markdown",
   "metadata": {},
   "source": [
    "## 5. Merge with Traffic Data"
   ]
  },
  {
   "cell_type": "code",
   "execution_count": 6,
   "metadata": {
    "execution": {
     "iopub.execute_input": "2025-09-06T10:41:23.652131Z",
     "iopub.status.busy": "2025-09-06T10:41:23.652061Z",
     "iopub.status.idle": "2025-09-06T10:41:23.679298Z",
     "shell.execute_reply": "2025-09-06T10:41:23.679118Z"
    }
   },
   "outputs": [
    {
     "name": "stdout",
     "output_type": "stream",
     "text": [
      "Loaded traffic data\n",
      "Traffic data shape before merge: (10000, 15)\n",
      "Traffic data shape after merge: (10000, 33)\n",
      "\n",
      "New calendar columns added:\n",
      "['year', 'month', 'day', 'dayofweek', 'dayofyear', 'weekofyear', 'quarter', 'is_weekend', 'is_weekday', 'day_name'] ...\n"
     ]
    }
   ],
   "source": [
    "# Load sample traffic data\n",
    "try:\n",
    "    traffic_df = pd.read_csv('../data/production_merged_vehicle_speed.csv', nrows=10000)\n",
    "    print('Loaded traffic data')\n",
    "except:\n",
    "    # Create synthetic traffic data\n",
    "    np.random.seed(42)\n",
    "    traffic_df = pd.DataFrame({\n",
    "        'timestamp': pd.date_range('2024-01-01', periods=10000, freq='H'),\n",
    "        'sensor_id': np.random.choice(['S001', 'S002', 'S003'], 10000),\n",
    "        'vehicle_count': np.random.poisson(50, 10000),\n",
    "        'avg_speed': np.random.normal(80, 15, 10000)\n",
    "    })\n",
    "    print('Created synthetic traffic data')\n",
    "\n",
    "# Ensure timestamp is datetime\n",
    "if 'timestamp' in traffic_df.columns:\n",
    "    traffic_df['timestamp'] = pd.to_datetime(traffic_df['timestamp'])\n",
    "    traffic_df['date'] = traffic_df['timestamp'].dt.date\n",
    "    traffic_df['date'] = pd.to_datetime(traffic_df['date'])\n",
    "else:\n",
    "    # Find date column\n",
    "    date_cols = [col for col in traffic_df.columns if 'date' in col.lower() or 'time' in col.lower()]\n",
    "    if date_cols:\n",
    "        traffic_df['timestamp'] = pd.to_datetime(traffic_df[date_cols[0]])\n",
    "        traffic_df['date'] = traffic_df['timestamp'].dt.date\n",
    "        traffic_df['date'] = pd.to_datetime(traffic_df['date'])\n",
    "\n",
    "print(f'Traffic data shape before merge: {traffic_df.shape}')\n",
    "\n",
    "# Generate calendar features for traffic dates\n",
    "unique_dates = traffic_df['date'].unique()\n",
    "calendar_features_traffic = generate_calendar_features(unique_dates)\n",
    "\n",
    "# Merge calendar features with traffic data\n",
    "traffic_with_calendar = traffic_df.merge(\n",
    "    calendar_features_traffic,\n",
    "    on='date',\n",
    "    how='left'\n",
    ")\n",
    "\n",
    "print(f'Traffic data shape after merge: {traffic_with_calendar.shape}')\n",
    "print('\\nNew calendar columns added:')\n",
    "new_cols = [col for col in traffic_with_calendar.columns if col not in traffic_df.columns]\n",
    "print(new_cols[:10], '...' if len(new_cols) > 10 else '')"
   ]
  },
  {
   "cell_type": "markdown",
   "metadata": {},
   "source": [
    "## 6. Analyze Traffic Patterns by Calendar Features"
   ]
  },
  {
   "cell_type": "code",
   "execution_count": 7,
   "metadata": {
    "execution": {
     "iopub.execute_input": "2025-09-06T10:41:23.680195Z",
     "iopub.status.busy": "2025-09-06T10:41:23.680055Z",
     "iopub.status.idle": "2025-09-06T10:41:23.682896Z",
     "shell.execute_reply": "2025-09-06T10:41:23.682732Z"
    }
   },
   "outputs": [
    {
     "name": "stdout",
     "output_type": "stream",
     "text": [
      "No vehicle_count column found for analysis\n"
     ]
    }
   ],
   "source": [
    "# Analyze impact of calendar features on traffic\n",
    "if 'vehicle_count' in traffic_with_calendar.columns:\n",
    "    \n",
    "    fig, axes = plt.subplots(2, 2, figsize=(14, 10))\n",
    "    \n",
    "    # 1. Traffic on holidays vs non-holidays\n",
    "    holiday_traffic = traffic_with_calendar.groupby('is_holiday')['vehicle_count'].mean()\n",
    "    axes[0, 0].bar(['Regular Day', 'Holiday'], holiday_traffic.values, color=['green', 'red'])\n",
    "    axes[0, 0].set_title('Average Traffic: Holidays vs Regular Days')\n",
    "    axes[0, 0].set_ylabel('Average Vehicle Count')\n",
    "    \n",
    "    # 2. Traffic on weekends vs weekdays\n",
    "    weekend_traffic = traffic_with_calendar.groupby('is_weekend')['vehicle_count'].mean()\n",
    "    axes[0, 1].bar(['Weekday', 'Weekend'], weekend_traffic.values, color=['blue', 'orange'])\n",
    "    axes[0, 1].set_title('Average Traffic: Weekdays vs Weekends')\n",
    "    axes[0, 1].set_ylabel('Average Vehicle Count')\n",
    "    \n",
    "    # 3. Traffic during school breaks\n",
    "    school_traffic = traffic_with_calendar.groupby('is_school_break')['vehicle_count'].mean()\n",
    "    axes[1, 0].bar(['School Days', 'School Break'], school_traffic.values, color=['purple', 'yellow'])\n",
    "    axes[1, 0].set_title('Average Traffic: School Days vs Breaks')\n",
    "    axes[1, 0].set_ylabel('Average Vehicle Count')\n",
    "    \n",
    "    # 4. Traffic by day of week\n",
    "    dow_traffic = traffic_with_calendar.groupby('dayofweek')['vehicle_count'].mean()\n",
    "    axes[1, 1].bar(['Mon', 'Tue', 'Wed', 'Thu', 'Fri', 'Sat', 'Sun'], \n",
    "                   dow_traffic.values, color='teal')\n",
    "    axes[1, 1].set_title('Average Traffic by Day of Week')\n",
    "    axes[1, 1].set_ylabel('Average Vehicle Count')\n",
    "    \n",
    "    plt.tight_layout()\n",
    "    plt.show()\n",
    "    \n",
    "    # Statistical summary\n",
    "    print('Traffic Pattern Analysis:')\n",
    "    print('=' * 50)\n",
    "    print(f'Holiday vs Regular: {holiday_traffic[1]:.1f} vs {holiday_traffic[0]:.1f} vehicles')\n",
    "    print(f'Weekend vs Weekday: {weekend_traffic[1]:.1f} vs {weekend_traffic[0]:.1f} vehicles')\n",
    "    print(f'School Break vs School Days: {school_traffic[1]:.1f} vs {school_traffic[0]:.1f} vehicles')\n",
    "else:\n",
    "    print('No vehicle_count column found for analysis')"
   ]
  },
  {
   "cell_type": "markdown",
   "metadata": {},
   "source": [
    "## 7. Save Calendar Features"
   ]
  },
  {
   "cell_type": "code",
   "execution_count": 8,
   "metadata": {
    "execution": {
     "iopub.execute_input": "2025-09-06T10:41:23.683644Z",
     "iopub.status.busy": "2025-09-06T10:41:23.683581Z",
     "iopub.status.idle": "2025-09-06T10:41:23.704382Z",
     "shell.execute_reply": "2025-09-06T10:41:23.704194Z"
    }
   },
   "outputs": [
    {
     "name": "stdout",
     "output_type": "stream",
     "text": [
      "Calendar features saved to ../data/features/calendar_features.csv\n",
      "Shape: (1827, 19)\n",
      "\n",
      "Feature Statistics:\n",
      "--------------------------------------------------\n",
      "is_weekend           :  522 days (28.6%)\n",
      "is_holiday           :  635 days (34.8%)\n",
      "is_school_break      :  477 days (26.1%)\n",
      "is_tourist_season    :  460 days (25.2%)\n",
      "is_long_weekend      :  187 days (10.2%)\n"
     ]
    }
   ],
   "source": [
    "# Save calendar features for entire period\n",
    "full_date_range = pd.date_range('2020-01-01', '2024-12-31', freq='D')\n",
    "full_calendar_features = generate_calendar_features(full_date_range)\n",
    "\n",
    "# Save to CSV\n",
    "output_path = '../data/features/calendar_features.csv'\n",
    "full_calendar_features.to_csv(output_path, index=False)\n",
    "print(f'Calendar features saved to {output_path}')\n",
    "print(f'Shape: {full_calendar_features.shape}')\n",
    "\n",
    "# Display feature statistics\n",
    "print('\\nFeature Statistics:')\n",
    "print('-' * 50)\n",
    "binary_features = ['is_weekend', 'is_holiday', 'is_school_break', \n",
    "                  'is_tourist_season', 'is_long_weekend']\n",
    "for feature in binary_features:\n",
    "    if feature in full_calendar_features.columns:\n",
    "        pct = full_calendar_features[feature].mean() * 100\n",
    "        count = full_calendar_features[feature].sum()\n",
    "        print(f'{feature:20} : {count:4} days ({pct:.1f}%)')"
   ]
  },
  {
   "cell_type": "markdown",
   "metadata": {},
   "source": [
    "## 8. Create Helper Functions"
   ]
  },
  {
   "cell_type": "code",
   "execution_count": 9,
   "metadata": {
    "execution": {
     "iopub.execute_input": "2025-09-06T10:41:23.705293Z",
     "iopub.status.busy": "2025-09-06T10:41:23.705202Z",
     "iopub.status.idle": "2025-09-06T10:41:23.711232Z",
     "shell.execute_reply": "2025-09-06T10:41:23.711053Z"
    }
   },
   "outputs": [
    {
     "name": "stdout",
     "output_type": "stream",
     "text": [
      "Helper functions created!\n",
      "\n",
      "Example usage:\n",
      "df_with_calendar = add_calendar_features(df, 'timestamp')\n",
      "special_days_2024 = get_special_days(2024)\n",
      "\n",
      "2024 has 326 holidays and 5 school break periods\n"
     ]
    }
   ],
   "source": [
    "def add_calendar_features(df, date_column='timestamp'):\n",
    "    \"\"\"\n",
    "    Add calendar features to any dataframe with a date column\n",
    "    \n",
    "    Parameters:\n",
    "    -----------\n",
    "    df : pd.DataFrame\n",
    "        Input dataframe\n",
    "    date_column : str\n",
    "        Name of the date/timestamp column\n",
    "    \n",
    "    Returns:\n",
    "    --------\n",
    "    pd.DataFrame with calendar features added\n",
    "    \"\"\"\n",
    "    df = df.copy()\n",
    "    df[date_column] = pd.to_datetime(df[date_column])\n",
    "    df['date'] = df[date_column].dt.date\n",
    "    df['date'] = pd.to_datetime(df['date'])\n",
    "    \n",
    "    # Generate calendar features\n",
    "    unique_dates = df['date'].unique()\n",
    "    calendar_feats = generate_calendar_features(unique_dates)\n",
    "    \n",
    "    # Merge\n",
    "    df = df.merge(calendar_feats, on='date', how='left')\n",
    "    \n",
    "    return df\n",
    "\n",
    "def get_special_days(year=2024, country='SI'):\n",
    "    \"\"\"\n",
    "    Get list of special days (holidays, school breaks) for a given year\n",
    "    \n",
    "    Parameters:\n",
    "    -----------\n",
    "    year : int\n",
    "        Year to get special days for\n",
    "    country : str\n",
    "        Country code (default: SI for Slovenia)\n",
    "    \n",
    "    Returns:\n",
    "    --------\n",
    "    dict with holidays and school_breaks\n",
    "    \"\"\"\n",
    "    year_holidays = holidays_df[holidays_df['date'].dt.year == year] if 'date' in holidays_df.columns else pd.DataFrame()\n",
    "    year_breaks = school_breaks_df[school_breaks_df['year'] == year] if 'year' in school_breaks_df.columns else pd.DataFrame()\n",
    "    \n",
    "    holidays_list = []\n",
    "    if not year_holidays.empty and 'date' in year_holidays.columns:\n",
    "        cols = ['date', 'name'] if 'name' in year_holidays.columns else ['date']\n",
    "        holidays_list = year_holidays[cols].to_dict('records')\n",
    "    \n",
    "    breaks_list = []\n",
    "    if not year_breaks.empty:\n",
    "        cols = [c for c in ['name', 'start', 'end'] if c in year_breaks.columns]\n",
    "        if cols:\n",
    "            breaks_list = year_breaks[cols].to_dict('records')\n",
    "    \n",
    "    return {\n",
    "        'holidays': holidays_list,\n",
    "        'school_breaks': breaks_list\n",
    "    }\n",
    "\n",
    "# Test the functions\n",
    "print('Helper functions created!')\n",
    "print('\\nExample usage:')\n",
    "print(\"df_with_calendar = add_calendar_features(df, 'timestamp')\")\n",
    "print(\"special_days_2024 = get_special_days(2024)\")\n",
    "\n",
    "# Show example\n",
    "special_2024 = get_special_days(2024)\n",
    "print(f\"\\n2024 has {len(special_2024['holidays'])} holidays and {len(special_2024['school_breaks'])} school break periods\")"
   ]
  },
  {
   "cell_type": "markdown",
   "metadata": {},
   "source": [
    "## 9. Summary"
   ]
  },
  {
   "cell_type": "code",
   "execution_count": 10,
   "metadata": {
    "execution": {
     "iopub.execute_input": "2025-09-06T10:41:23.712158Z",
     "iopub.status.busy": "2025-09-06T10:41:23.712053Z",
     "iopub.status.idle": "2025-09-06T10:41:23.713894Z",
     "shell.execute_reply": "2025-09-06T10:41:23.713735Z"
    }
   },
   "outputs": [
    {
     "name": "stdout",
     "output_type": "stream",
     "text": [
      "==================================================\n",
      "CALENDAR FEATURES COMPLETE\n",
      "==================================================\n",
      "\n",
      "Accomplishments:\n",
      "✓ Loaded/created holiday data for Slovenia\n",
      "✓ Defined school break periods\n",
      "✓ Generated comprehensive calendar features\n",
      "✓ Created binary indicators for special days\n",
      "✓ Merged calendar features with traffic data\n",
      "✓ Analyzed traffic patterns by calendar features\n",
      "✓ Saved calendar features for 2020-2024\n",
      "\n",
      "Features Created:\n",
      "• Basic: year, month, day, dayofweek, quarter\n",
      "• Binary: is_weekend, is_holiday, is_school_break\n",
      "• Special: is_tourist_season, is_long_weekend\n",
      "• Adjacent: day_before_holiday, day_after_holiday\n",
      "\n",
      "Files Created:\n",
      "• ../data/features/calendar_features.csv\n"
     ]
    }
   ],
   "source": [
    "print('=' * 50)\n",
    "print('CALENDAR FEATURES COMPLETE')\n",
    "print('=' * 50)\n",
    "print('\\nAccomplishments:')\n",
    "print('✓ Loaded/created holiday data for Slovenia')\n",
    "print('✓ Defined school break periods')\n",
    "print('✓ Generated comprehensive calendar features')\n",
    "print('✓ Created binary indicators for special days')\n",
    "print('✓ Merged calendar features with traffic data')\n",
    "print('✓ Analyzed traffic patterns by calendar features')\n",
    "print('✓ Saved calendar features for 2020-2024')\n",
    "print('\\nFeatures Created:')\n",
    "print('• Basic: year, month, day, dayofweek, quarter')\n",
    "print('• Binary: is_weekend, is_holiday, is_school_break')\n",
    "print('• Special: is_tourist_season, is_long_weekend')\n",
    "print('• Adjacent: day_before_holiday, day_after_holiday')\n",
    "print('\\nFiles Created:')\n",
    "print('• ../data/features/calendar_features.csv')"
   ]
  }
 ],
 "metadata": {
  "kernelspec": {
   "display_name": "Python 3",
   "language": "python",
   "name": "python3"
  },
  "language_info": {
   "codemirror_mode": {
    "name": "ipython",
    "version": 3
   },
   "file_extension": ".py",
   "mimetype": "text/x-python",
   "name": "python",
   "nbconvert_exporter": "python",
   "pygments_lexer": "ipython3",
   "version": "3.11.5"
  }
 },
 "nbformat": 4,
 "nbformat_minor": 4
}
