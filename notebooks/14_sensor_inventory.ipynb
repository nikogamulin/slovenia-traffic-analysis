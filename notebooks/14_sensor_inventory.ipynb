{
 "cells": [
  {
   "cell_type": "markdown",
   "metadata": {},
   "source": [
    "# Task 1.1: Sensor Inventory\n",
    "\n",
    "**Description**: Document all traffic counters/sensors with metadata\n",
    "\n",
    "**Acceptance Criteria**: \n",
    "- Notebook with sensor locations, types, data availability periods\n",
    "- Extract sensor metadata from traffic data\n",
    "- Visualize sensor distribution\n",
    "- Save sensor inventory for downstream use\n",
    "\n",
    "**Output**: Sensor inventory DataFrame with metadata"
   ]
  },
  {
   "cell_type": "code",
   "execution_count": 1,
   "metadata": {
    "execution": {
     "iopub.execute_input": "2025-09-06T10:02:10.071479Z",
     "iopub.status.busy": "2025-09-06T10:02:10.071035Z",
     "iopub.status.idle": "2025-09-06T10:02:10.476082Z",
     "shell.execute_reply": "2025-09-06T10:02:10.475661Z"
    }
   },
   "outputs": [
    {
     "name": "stdout",
     "output_type": "stream",
     "text": [
      "Notebook initialized at 2025-09-06 12:02:10\n"
     ]
    }
   ],
   "source": [
    "# Import required libraries\n",
    "import pandas as pd\n",
    "import numpy as np\n",
    "import matplotlib.pyplot as plt\n",
    "import seaborn as sns\n",
    "from datetime import datetime, timedelta\n",
    "import warnings\n",
    "import json\n",
    "from pathlib import Path\n",
    "\n",
    "warnings.filterwarnings('ignore')\n",
    "\n",
    "# Set display options\n",
    "pd.set_option('display.max_columns', None)\n",
    "pd.set_option('display.max_rows', 100)\n",
    "pd.set_option('display.width', 120)\n",
    "\n",
    "# Set style\n",
    "plt.style.use('seaborn-v0_8-darkgrid')\n",
    "sns.set_palette('husl')\n",
    "\n",
    "print(f\"Notebook initialized at {datetime.now().strftime('%Y-%m-%d %H:%M:%S')}\")"
   ]
  },
  {
   "cell_type": "markdown",
   "metadata": {},
   "source": [
    "## 1. Load Traffic Data Sources"
   ]
  },
  {
   "cell_type": "code",
   "execution_count": 2,
   "metadata": {
    "execution": {
     "iopub.execute_input": "2025-09-06T10:02:10.490240Z",
     "iopub.status.busy": "2025-09-06T10:02:10.489815Z",
     "iopub.status.idle": "2025-09-06T10:02:12.085394Z",
     "shell.execute_reply": "2025-09-06T10:02:12.085120Z"
    }
   },
   "outputs": [
    {
     "name": "stdout",
     "output_type": "stream",
     "text": [
      "Loading speed data from: /home/niko/workspace/slovenia-traffic/data/production_merged_vehicle_speed.csv\n",
      "Speed data shape: (1183248, 14)\n",
      "Speed data columns: ['road_name', 'road_code', 'date', 'Time', 'direction_A_name', 'direction_B_name', 'Speed_Lane_1', 'Speed_Lane_2', 'Speed_Lane_3', 'Avg_Speed', 'Min_Speed', 'Max_Speed', 'StdDev_Speed', 'datetime']\n",
      "\n",
      "Loading count data from: /home/niko/workspace/slovenia-traffic/data/production_merged_vehicle_count.csv\n",
      "Count data shape: (876480, 19)\n",
      "Count data columns: ['road_name', 'road_code', 'date', 'Time', 'direction_A_name', 'direction_B_name', 'direction_A_count', 'direction_B_count', 'Lane_1', 'Lane_2', 'Lane_3', 'Total_All_Lanes', 'Vignette_1', 'Vignette_2', 'Toll_1', 'Toll_2', 'Toll_3', 'Trucks_7.5t', 'datetime']\n"
     ]
    }
   ],
   "source": [
    "# Define data paths\n",
    "DATA_DIR = Path('/home/niko/workspace/slovenia-traffic/data')\n",
    "\n",
    "# Load vehicle speed data\n",
    "speed_file = DATA_DIR / 'production_merged_vehicle_speed.csv'\n",
    "print(f\"Loading speed data from: {speed_file}\")\n",
    "df_speed = pd.read_csv(speed_file, parse_dates=['datetime'])\n",
    "print(f\"Speed data shape: {df_speed.shape}\")\n",
    "print(f\"Speed data columns: {list(df_speed.columns)}\\n\")\n",
    "\n",
    "# Load vehicle count data\n",
    "count_file = DATA_DIR / 'production_merged_vehicle_count.csv'\n",
    "print(f\"Loading count data from: {count_file}\")\n",
    "df_count = pd.read_csv(count_file, parse_dates=['datetime'])\n",
    "print(f\"Count data shape: {df_count.shape}\")\n",
    "print(f\"Count data columns: {list(df_count.columns)}\")"
   ]
  },
  {
   "cell_type": "markdown",
   "metadata": {},
   "source": [
    "## 2. Extract Unique Sensors"
   ]
  },
  {
   "cell_type": "code",
   "execution_count": 3,
   "metadata": {
    "execution": {
     "iopub.execute_input": "2025-09-06T10:02:12.086631Z",
     "iopub.status.busy": "2025-09-06T10:02:12.086554Z",
     "iopub.status.idle": "2025-09-06T10:02:12.227666Z",
     "shell.execute_reply": "2025-09-06T10:02:12.227420Z"
    }
   },
   "outputs": [
    {
     "name": "stdout",
     "output_type": "stream",
     "text": [
      "Unique speed sensors: 21\n",
      "\n",
      "Sample speed sensors:\n",
      "       sensor_id   location_name        direction_A        direction_B sensor_type\n",
      "0           0011      Bertoki HC    Bertoki → Koper    Koper → Bertoki       speed\n",
      "43824      0015a      Maribor HC   Center → Pesnica   Pesnica → Center       speed\n",
      "87648      0015b      Maribor HC  Center → Slivnica  Slivnica → Center       speed\n",
      "131472     0016a      Maliska HC   Maliska → Center   Center → Maliska       speed\n",
      "175296      0021  Ljubljana Ring          Clockwise  Counter-clockwise       speed\n"
     ]
    }
   ],
   "source": [
    "# Extract unique sensors from speed data\n",
    "# Each road_code represents a sensor location\n",
    "speed_sensors = df_speed[['road_code', 'road_name', 'direction_A_name', 'direction_B_name']].drop_duplicates()\n",
    "speed_sensors['sensor_type'] = 'speed'\n",
    "speed_sensors.columns = ['sensor_id', 'location_name', 'direction_A', 'direction_B', 'sensor_type']\n",
    "\n",
    "print(f\"Unique speed sensors: {len(speed_sensors)}\")\n",
    "print(\"\\nSample speed sensors:\")\n",
    "print(speed_sensors.head())"
   ]
  },
  {
   "cell_type": "code",
   "execution_count": 4,
   "metadata": {
    "execution": {
     "iopub.execute_input": "2025-09-06T10:02:12.228642Z",
     "iopub.status.busy": "2025-09-06T10:02:12.228575Z",
     "iopub.status.idle": "2025-09-06T10:02:12.328869Z",
     "shell.execute_reply": "2025-09-06T10:02:12.328660Z"
    }
   },
   "outputs": [
    {
     "name": "stdout",
     "output_type": "stream",
     "text": [
      "Unique count sensors: 22\n",
      "\n",
      "Sample count sensors:\n",
      "       sensor_id location_name        direction_A        direction_B sensor_type\n",
      "0             11    Bertoki HC    Bertoki → Koper    Koper → Bertoki       count\n",
      "32768       0011    Bertoki HC    Bertoki → Koper    Koper → Bertoki       count\n",
      "43824      0015a    Maribor HC   Center → Pesnica   Pesnica → Center       count\n",
      "87648      0015b    Maribor HC  Center → Slivnica  Slivnica → Center       count\n",
      "131472     0016a    Maliska HC   Maliska → Center   Center → Maliska       count\n"
     ]
    }
   ],
   "source": [
    "# Extract unique sensors from count data\n",
    "count_sensors = df_count[['road_code', 'road_name', 'direction_A_name', 'direction_B_name']].drop_duplicates()\n",
    "count_sensors['sensor_type'] = 'count'\n",
    "count_sensors.columns = ['sensor_id', 'location_name', 'direction_A', 'direction_B', 'sensor_type']\n",
    "\n",
    "print(f\"Unique count sensors: {len(count_sensors)}\")\n",
    "print(\"\\nSample count sensors:\")\n",
    "print(count_sensors.head())"
   ]
  },
  {
   "cell_type": "code",
   "execution_count": 5,
   "metadata": {
    "execution": {
     "iopub.execute_input": "2025-09-06T10:02:12.329925Z",
     "iopub.status.busy": "2025-09-06T10:02:12.329840Z",
     "iopub.status.idle": "2025-09-06T10:02:12.334579Z",
     "shell.execute_reply": "2025-09-06T10:02:12.334407Z"
    }
   },
   "outputs": [
    {
     "name": "stdout",
     "output_type": "stream",
     "text": [
      "Total unique sensors: 22\n",
      "\n",
      "Sensor capabilities distribution:\n",
      "capabilities\n",
      "count,speed    21\n",
      "count           1\n",
      "Name: count, dtype: int64\n"
     ]
    }
   ],
   "source": [
    "# Combine all sensors\n",
    "all_sensors = pd.concat([speed_sensors, count_sensors], ignore_index=True)\n",
    "\n",
    "# Check for sensors that measure both speed and count\n",
    "sensor_types = all_sensors.groupby('sensor_id')['sensor_type'].apply(lambda x: ','.join(sorted(x.unique()))).reset_index()\n",
    "sensor_types.columns = ['sensor_id', 'capabilities']\n",
    "\n",
    "# Merge back with sensor info\n",
    "sensors_unique = all_sensors.drop_duplicates(subset=['sensor_id'])[['sensor_id', 'location_name', 'direction_A', 'direction_B']]\n",
    "sensor_inventory = sensors_unique.merge(sensor_types, on='sensor_id')\n",
    "\n",
    "print(f\"Total unique sensors: {len(sensor_inventory)}\")\n",
    "print(f\"\\nSensor capabilities distribution:\")\n",
    "print(sensor_inventory['capabilities'].value_counts())"
   ]
  },
  {
   "cell_type": "markdown",
   "metadata": {},
   "source": [
    "## 3. Calculate Data Availability Periods"
   ]
  },
  {
   "cell_type": "code",
   "execution_count": 6,
   "metadata": {
    "execution": {
     "iopub.execute_input": "2025-09-06T10:02:12.335569Z",
     "iopub.status.busy": "2025-09-06T10:02:12.335457Z",
     "iopub.status.idle": "2025-09-06T10:02:12.369720Z",
     "shell.execute_reply": "2025-09-06T10:02:12.369522Z"
    }
   },
   "outputs": [
    {
     "name": "stdout",
     "output_type": "stream",
     "text": [
      "Speed sensor availability summary:\n",
      "                  speed_first_record    speed_last_record  speed_total_records\n",
      "count                             21                   21            21.000000\n",
      "mean   2020-10-11 06:51:25.714285824  2025-07-16 07:00:00         56345.142857\n",
      "min              2020-08-30 00:00:00  2023-02-03 23:00:00         21312.000000\n",
      "25%              2020-08-30 00:00:00  2025-08-29 23:00:00         43824.000000\n",
      "50%              2020-08-30 00:00:00  2025-08-29 23:00:00         43824.000000\n",
      "75%              2020-08-30 00:00:00  2025-08-29 23:00:00         43824.000000\n",
      "max              2023-02-04 00:00:00  2025-08-29 23:00:00        350592.000000\n",
      "std                              NaN                  NaN         67740.400768\n"
     ]
    }
   ],
   "source": [
    "# Calculate data availability for speed sensors\n",
    "speed_availability = df_speed.groupby('road_code')['datetime'].agg([\n",
    "    ('first_record', 'min'),\n",
    "    ('last_record', 'max'),\n",
    "    ('total_records', 'count')\n",
    "]).reset_index()\n",
    "speed_availability.columns = ['sensor_id', 'speed_first_record', 'speed_last_record', 'speed_total_records']\n",
    "\n",
    "print(\"Speed sensor availability summary:\")\n",
    "print(speed_availability.describe())"
   ]
  },
  {
   "cell_type": "code",
   "execution_count": 7,
   "metadata": {
    "execution": {
     "iopub.execute_input": "2025-09-06T10:02:12.370681Z",
     "iopub.status.busy": "2025-09-06T10:02:12.370530Z",
     "iopub.status.idle": "2025-09-06T10:02:12.396745Z",
     "shell.execute_reply": "2025-09-06T10:02:12.396552Z"
    }
   },
   "outputs": [
    {
     "name": "stdout",
     "output_type": "stream",
     "text": [
      "Count sensor availability summary:\n",
      "                  count_first_record              count_last_record  count_total_records\n",
      "count                             22                             22            22.000000\n",
      "mean   2020-12-10 10:10:54.545454592  2025-06-27 09:10:54.545454592         39840.000000\n",
      "min              2020-08-30 00:00:00            2023-02-03 23:00:00         11056.000000\n",
      "25%              2020-08-30 00:00:00            2025-08-29 23:00:00         43824.000000\n",
      "50%              2020-08-30 00:00:00            2025-08-29 23:00:00         43824.000000\n",
      "75%              2020-08-30 00:00:00            2025-08-29 23:00:00         43824.000000\n",
      "max              2024-05-26 08:00:00            2025-08-29 23:00:00         43824.000000\n",
      "std                              NaN                            NaN          9278.184387\n"
     ]
    }
   ],
   "source": [
    "# Calculate data availability for count sensors\n",
    "count_availability = df_count.groupby('road_code')['datetime'].agg([\n",
    "    ('first_record', 'min'),\n",
    "    ('last_record', 'max'),\n",
    "    ('total_records', 'count')\n",
    "]).reset_index()\n",
    "count_availability.columns = ['sensor_id', 'count_first_record', 'count_last_record', 'count_total_records']\n",
    "\n",
    "print(\"Count sensor availability summary:\")\n",
    "print(count_availability.describe())"
   ]
  },
  {
   "cell_type": "code",
   "execution_count": 8,
   "metadata": {
    "execution": {
     "iopub.execute_input": "2025-09-06T10:02:12.397955Z",
     "iopub.status.busy": "2025-09-06T10:02:12.397598Z",
     "iopub.status.idle": "2025-09-06T10:02:12.404580Z",
     "shell.execute_reply": "2025-09-06T10:02:12.404408Z"
    }
   },
   "outputs": [
    {
     "name": "stdout",
     "output_type": "stream",
     "text": [
      "Sensor inventory shape: (22, 15)\n",
      "\n",
      "Sample sensor inventory:\n",
      "  sensor_id   location_name        direction_A        direction_B capabilities speed_first_record   speed_last_record  \\\n",
      "0      0011      Bertoki HC    Bertoki → Koper    Koper → Bertoki  count,speed         2020-08-30 2025-08-29 23:00:00   \n",
      "1     0015a      Maribor HC   Center → Pesnica   Pesnica → Center  count,speed         2020-08-30 2025-08-29 23:00:00   \n",
      "2     0015b      Maribor HC  Center → Slivnica  Slivnica → Center  count,speed         2020-08-30 2025-08-29 23:00:00   \n",
      "3     0016a      Maliska HC   Maliska → Center   Center → Maliska  count,speed         2020-08-30 2025-08-29 23:00:00   \n",
      "4      0021  Ljubljana Ring          Clockwise  Counter-clockwise  count,speed         2020-08-30 2023-02-03 23:00:00   \n",
      "\n",
      "   speed_total_records  count_first_record   count_last_record  count_total_records first_record         last_record  \\\n",
      "0              43824.0 2024-05-26 08:00:00 2025-08-29 23:00:00                11056   2020-08-30 2025-08-29 23:00:00   \n",
      "1              43824.0 2020-08-30 00:00:00 2025-08-29 23:00:00                43824   2020-08-30 2025-08-29 23:00:00   \n",
      "2              43824.0 2020-08-30 00:00:00 2025-08-29 23:00:00                43824   2020-08-30 2025-08-29 23:00:00   \n",
      "3              43824.0 2020-08-30 00:00:00 2025-08-29 23:00:00                43824   2020-08-30 2025-08-29 23:00:00   \n",
      "4              21312.0 2020-08-30 00:00:00 2023-02-03 23:00:00                21312   2020-08-30 2023-02-03 23:00:00   \n",
      "\n",
      "   total_days  total_records  \n",
      "0        1825        54880.0  \n",
      "1        1825        87648.0  \n",
      "2        1825        87648.0  \n",
      "3        1825        87648.0  \n",
      "4         887        42624.0  \n"
     ]
    }
   ],
   "source": [
    "# Merge availability data with sensor inventory\n",
    "sensor_inventory = sensor_inventory.merge(speed_availability, on='sensor_id', how='left')\n",
    "sensor_inventory = sensor_inventory.merge(count_availability, on='sensor_id', how='left')\n",
    "\n",
    "# Calculate overall availability\n",
    "sensor_inventory['first_record'] = sensor_inventory[['speed_first_record', 'count_first_record']].min(axis=1)\n",
    "sensor_inventory['last_record'] = sensor_inventory[['speed_last_record', 'count_last_record']].max(axis=1)\n",
    "sensor_inventory['total_days'] = (sensor_inventory['last_record'] - sensor_inventory['first_record']).dt.days\n",
    "sensor_inventory['total_records'] = sensor_inventory[['speed_total_records', 'count_total_records']].sum(axis=1)\n",
    "\n",
    "print(f\"Sensor inventory shape: {sensor_inventory.shape}\")\n",
    "print(\"\\nSample sensor inventory:\")\n",
    "print(sensor_inventory.head())"
   ]
  },
  {
   "cell_type": "markdown",
   "metadata": {},
   "source": [
    "## 4. Analyze Sensor Characteristics"
   ]
  },
  {
   "cell_type": "code",
   "execution_count": 9,
   "metadata": {
    "execution": {
     "iopub.execute_input": "2025-09-06T10:02:12.405539Z",
     "iopub.status.busy": "2025-09-06T10:02:12.405422Z",
     "iopub.status.idle": "2025-09-06T10:02:12.409327Z",
     "shell.execute_reply": "2025-09-06T10:02:12.409133Z"
    }
   },
   "outputs": [
    {
     "name": "stdout",
     "output_type": "stream",
     "text": [
      "Sensor quality distribution:\n",
      "quality_category\n",
      "Excellent    22\n",
      "Name: count, dtype: int64\n",
      "\n",
      "Average coverage: 223.87%\n"
     ]
    }
   ],
   "source": [
    "# Add sensor characteristics\n",
    "sensor_inventory['has_speed'] = sensor_inventory['capabilities'].str.contains('speed')\n",
    "sensor_inventory['has_count'] = sensor_inventory['capabilities'].str.contains('count')\n",
    "sensor_inventory['is_dual'] = sensor_inventory['capabilities'] == 'count,speed'\n",
    "\n",
    "# Calculate data quality metrics (assuming hourly data)\n",
    "sensor_inventory['speed_coverage'] = sensor_inventory['speed_total_records'] / ((sensor_inventory['total_days'] + 1) * 24) * 100\n",
    "sensor_inventory['count_coverage'] = sensor_inventory['count_total_records'] / ((sensor_inventory['total_days'] + 1) * 24) * 100\n",
    "sensor_inventory['overall_coverage'] = sensor_inventory['total_records'] / ((sensor_inventory['total_days'] + 1) * 24) * 100\n",
    "\n",
    "# Classify sensor quality\n",
    "def classify_quality(coverage):\n",
    "    if pd.isna(coverage):\n",
    "        return 'No Data'\n",
    "    elif coverage >= 80:\n",
    "        return 'Excellent'\n",
    "    elif coverage >= 60:\n",
    "        return 'Good'\n",
    "    elif coverage >= 40:\n",
    "        return 'Fair'\n",
    "    else:\n",
    "        return 'Poor'\n",
    "\n",
    "sensor_inventory['quality_category'] = sensor_inventory['overall_coverage'].apply(classify_quality)\n",
    "\n",
    "print(\"Sensor quality distribution:\")\n",
    "print(sensor_inventory['quality_category'].value_counts())\n",
    "print(f\"\\nAverage coverage: {sensor_inventory['overall_coverage'].mean():.2f}%\")"
   ]
  },
  {
   "cell_type": "markdown",
   "metadata": {},
   "source": [
    "## 5. Visualize Sensor Distribution"
   ]
  },
  {
   "cell_type": "code",
   "execution_count": 10,
   "metadata": {
    "execution": {
     "iopub.execute_input": "2025-09-06T10:02:12.410164Z",
     "iopub.status.busy": "2025-09-06T10:02:12.410105Z",
     "iopub.status.idle": "2025-09-06T10:02:12.671781Z",
     "shell.execute_reply": "2025-09-06T10:02:12.671421Z"
    }
   },
   "outputs": [
    {
     "data": {
      "image/png": "[encoded data removed]",
      "text/plain": [
       "<Figure size 1500x1200 with 4 Axes>"
      ]
     },
     "metadata": {},
     "output_type": "display_data"
    },
    {
     "name": "stdout",
     "output_type": "stream",
     "text": [
      "Visualization complete.\n"
     ]
    }
   ],
   "source": [
    "# Create visualizations\n",
    "fig, axes = plt.subplots(2, 2, figsize=(15, 12))\n",
    "\n",
    "# 1. Sensor types distribution\n",
    "sensor_inventory['capabilities'].value_counts().plot(kind='bar', ax=axes[0, 0])\n",
    "axes[0, 0].set_title('Distribution of Sensor Capabilities')\n",
    "axes[0, 0].set_xlabel('Sensor Type')\n",
    "axes[0, 0].set_ylabel('Count')\n",
    "axes[0, 0].tick_params(axis='x', rotation=45)\n",
    "\n",
    "# 2. Data coverage distribution\n",
    "coverage_data = sensor_inventory['overall_coverage'].dropna()\n",
    "if len(coverage_data) > 0:\n",
    "    axes[0, 1].hist(coverage_data, bins=30, edgecolor='black')\n",
    "    axes[0, 1].set_title('Distribution of Data Coverage (%)')\n",
    "    axes[0, 1].set_xlabel('Coverage (%)')\n",
    "    axes[0, 1].set_ylabel('Number of Sensors')\n",
    "    axes[0, 1].axvline(x=80, color='r', linestyle='--', label='Excellent threshold')\n",
    "    axes[0, 1].legend()\n",
    "\n",
    "# 3. Quality category pie chart\n",
    "quality_counts = sensor_inventory['quality_category'].value_counts()\n",
    "axes[1, 0].pie(quality_counts.values, labels=quality_counts.index, autopct='%1.1f%%')\n",
    "axes[1, 0].set_title('Sensor Quality Distribution')\n",
    "\n",
    "# 4. Records over time\n",
    "sensor_inventory['year'] = pd.to_datetime(sensor_inventory['first_record']).dt.year\n",
    "yearly_sensors = sensor_inventory.groupby('year').size()\n",
    "if len(yearly_sensors) > 0:\n",
    "    axes[1, 1].bar(yearly_sensors.index, yearly_sensors.values)\n",
    "    axes[1, 1].set_title('Sensors by First Year of Operation')\n",
    "    axes[1, 1].set_xlabel('Year')\n",
    "    axes[1, 1].set_ylabel('Number of Sensors')\n",
    "\n",
    "plt.tight_layout()\n",
    "plt.show()\n",
    "\n",
    "print(\"Visualization complete.\")"
   ]
  },
  {
   "cell_type": "markdown",
   "metadata": {},
   "source": [
    "## 6. Analyze Road Segments"
   ]
  },
  {
   "cell_type": "code",
   "execution_count": 11,
   "metadata": {
    "execution": {
     "iopub.execute_input": "2025-09-06T10:02:12.673337Z",
     "iopub.status.busy": "2025-09-06T10:02:12.673249Z",
     "iopub.status.idle": "2025-09-06T10:02:12.676415Z",
     "shell.execute_reply": "2025-09-06T10:02:12.676236Z"
    }
   },
   "outputs": [
    {
     "name": "stdout",
     "output_type": "stream",
     "text": [
      "================================================================================\n",
      "ROAD SEGMENT ANALYSIS\n",
      "================================================================================\n",
      "\n",
      "Unique Direction A values: 20\n",
      "Unique Direction B values: 20\n",
      "\n",
      "Sample Direction Pairs:\n",
      "  location_name       direction_A       direction_B\n",
      "     Bertoki HC   Bertoki → Koper   Koper → Bertoki\n",
      "     Maribor HC  Center → Pesnica  Pesnica → Center\n",
      "     Maribor HC Center → Slivnica Slivnica → Center\n",
      "     Maliska HC  Maliska → Center  Center → Maliska\n",
      " Ljubljana Ring         Clockwise Counter-clockwise\n",
      "Koper-Ljubljana Koper → Ljubljana Ljubljana → Koper\n",
      "  Celje-Maribor   Celje → Maribor   Maribor → Celje\n",
      "Ljubljana-Celje Ljubljana → Celje Celje → Ljubljana\n",
      "   Maribor-Ptuj    Maribor → Ptuj    Ptuj → Maribor\n",
      "Ljubljana-Kranj Ljubljana → Kranj Kranj → Ljubljana\n"
     ]
    }
   ],
   "source": [
    "# Analyze road segments and directions\n",
    "print(\"=\" * 80)\n",
    "print(\"ROAD SEGMENT ANALYSIS\")\n",
    "print(\"=\" * 80)\n",
    "\n",
    "# Count unique directions\n",
    "unique_directions_A = sensor_inventory['direction_A'].nunique()\n",
    "unique_directions_B = sensor_inventory['direction_B'].nunique()\n",
    "\n",
    "print(f\"\\nUnique Direction A values: {unique_directions_A}\")\n",
    "print(f\"Unique Direction B values: {unique_directions_B}\")\n",
    "\n",
    "# Sample of direction pairs\n",
    "print(\"\\nSample Direction Pairs:\")\n",
    "direction_pairs = sensor_inventory[['location_name', 'direction_A', 'direction_B']].drop_duplicates().head(10)\n",
    "print(direction_pairs.to_string(index=False))"
   ]
  },
  {
   "cell_type": "markdown",
   "metadata": {},
   "source": [
    "## 7. Statistical Summary"
   ]
  },
  {
   "cell_type": "code",
   "execution_count": 12,
   "metadata": {
    "execution": {
     "iopub.execute_input": "2025-09-06T10:02:12.677692Z",
     "iopub.status.busy": "2025-09-06T10:02:12.677540Z",
     "iopub.status.idle": "2025-09-06T10:02:12.683164Z",
     "shell.execute_reply": "2025-09-06T10:02:12.682981Z"
    }
   },
   "outputs": [
    {
     "name": "stdout",
     "output_type": "stream",
     "text": [
      "================================================================================\n",
      "SENSOR INVENTORY SUMMARY\n",
      "================================================================================\n",
      "\n",
      "Total Sensors: 22\n",
      "Speed Sensors: 21\n",
      "Count Sensors: 22\n",
      "Dual Sensors: 21\n",
      "\n",
      "========================================\n",
      "DATA AVAILABILITY\n",
      "========================================\n",
      "\n",
      "Earliest Record: 2020-08-30 00:00:00\n",
      "Latest Record: 2025-08-29 23:00:00\n",
      "Average Days of Data: 1721\n",
      "Total Records: 2,059,728\n",
      "\n",
      "========================================\n",
      "DATA QUALITY\n",
      "========================================\n",
      "\n",
      "                   Count  Avg Coverage (%)\n",
      "quality_category                         \n",
      "Excellent            22            223.87\n",
      "\n",
      "========================================\n",
      "TOP 10 SENSORS BY COVERAGE\n",
      "========================================\n",
      "\n",
      " sensor_id   location_name capabilities  overall_coverage  total_records\n",
      "       31 Koper-Ljubljana  count,speed             900.0       394416.0\n",
      "    0015a      Maribor HC  count,speed             200.0        87648.0\n",
      "    0015b      Maribor HC  count,speed             200.0        87648.0\n",
      "    0016a      Maliska HC  count,speed             200.0        87648.0\n",
      "     0021  Ljubljana Ring  count,speed             200.0        42624.0\n",
      "       21  Ljubljana Ring  count,speed             200.0        45024.0\n",
      "       41   Celje-Maribor  count,speed             200.0        87648.0\n",
      "       51 Ljubljana-Celje  count,speed             200.0        87648.0\n",
      "       61    Maribor-Ptuj  count,speed             200.0        87648.0\n",
      "       71 Ljubljana-Kranj  count,speed             200.0        87648.0\n"
     ]
    }
   ],
   "source": [
    "# Generate comprehensive statistics\n",
    "print(\"=\" * 80)\n",
    "print(\"SENSOR INVENTORY SUMMARY\")\n",
    "print(\"=\" * 80)\n",
    "\n",
    "print(f\"\\nTotal Sensors: {len(sensor_inventory)}\")\n",
    "print(f\"Speed Sensors: {sensor_inventory['has_speed'].sum()}\")\n",
    "print(f\"Count Sensors: {sensor_inventory['has_count'].sum()}\")\n",
    "print(f\"Dual Sensors: {sensor_inventory['is_dual'].sum()}\")\n",
    "\n",
    "print(\"\\n\" + \"=\" * 40)\n",
    "print(\"DATA AVAILABILITY\")\n",
    "print(\"=\" * 40)\n",
    "\n",
    "print(f\"\\nEarliest Record: {sensor_inventory['first_record'].min()}\")\n",
    "print(f\"Latest Record: {sensor_inventory['last_record'].max()}\")\n",
    "print(f\"Average Days of Data: {sensor_inventory['total_days'].mean():.0f}\")\n",
    "print(f\"Total Records: {sensor_inventory['total_records'].sum():,.0f}\")\n",
    "\n",
    "print(\"\\n\" + \"=\" * 40)\n",
    "print(\"DATA QUALITY\")\n",
    "print(\"=\" * 40)\n",
    "\n",
    "quality_stats = sensor_inventory.groupby('quality_category').agg({\n",
    "    'sensor_id': 'count',\n",
    "    'overall_coverage': 'mean'\n",
    "}).round(2)\n",
    "quality_stats.columns = ['Count', 'Avg Coverage (%)']\n",
    "print(\"\\n\", quality_stats)\n",
    "\n",
    "print(\"\\n\" + \"=\" * 40)\n",
    "print(\"TOP 10 SENSORS BY COVERAGE\")\n",
    "print(\"=\" * 40)\n",
    "\n",
    "top_sensors = sensor_inventory.nlargest(10, 'overall_coverage')[[\n",
    "    'sensor_id', 'location_name', 'capabilities', 'overall_coverage', 'total_records'\n",
    "]]\n",
    "print(\"\\n\", top_sensors.to_string(index=False))"
   ]
  },
  {
   "cell_type": "markdown",
   "metadata": {},
   "source": [
    "## 8. Save Sensor Inventory"
   ]
  },
  {
   "cell_type": "code",
   "execution_count": 13,
   "metadata": {
    "execution": {
     "iopub.execute_input": "2025-09-06T10:02:12.684291Z",
     "iopub.status.busy": "2025-09-06T10:02:12.684213Z",
     "iopub.status.idle": "2025-09-06T10:02:12.688494Z",
     "shell.execute_reply": "2025-09-06T10:02:12.688298Z"
    }
   },
   "outputs": [
    {
     "name": "stdout",
     "output_type": "stream",
     "text": [
      "Saved CSV: /home/niko/workspace/slovenia-traffic/data/processed/sensor_inventory.csv\n",
      "Saved JSON summary: /home/niko/workspace/slovenia-traffic/data/processed/sensor_inventory_summary.json\n",
      "Sensor inventory successfully created and saved!\n"
     ]
    }
   ],
   "source": [
    "# Prepare final sensor inventory for export\n",
    "sensor_inventory_export = sensor_inventory[[\n",
    "    'sensor_id', 'location_name', 'direction_A', 'direction_B',\n",
    "    'capabilities', 'has_speed', 'has_count', 'is_dual',\n",
    "    'first_record', 'last_record', 'total_days', 'total_records',\n",
    "    'speed_total_records', 'count_total_records',\n",
    "    'overall_coverage', 'quality_category'\n",
    "]]\n",
    "\n",
    "# Save to multiple formats\n",
    "output_dir = DATA_DIR / 'processed'\n",
    "output_dir.mkdir(exist_ok=True)\n",
    "\n",
    "# Save as CSV\n",
    "csv_file = output_dir / 'sensor_inventory.csv'\n",
    "sensor_inventory_export.to_csv(csv_file, index=False)\n",
    "print(f\"Saved CSV: {csv_file}\")\n",
    "\n",
    "# Save summary statistics as JSON\n",
    "summary_stats = {\n",
    "    'total_sensors': len(sensor_inventory),\n",
    "    'speed_sensors': int(sensor_inventory['has_speed'].sum()),\n",
    "    'count_sensors': int(sensor_inventory['has_count'].sum()),\n",
    "    'dual_sensors': int(sensor_inventory['is_dual'].sum()),\n",
    "    'earliest_record': str(sensor_inventory['first_record'].min()),\n",
    "    'latest_record': str(sensor_inventory['last_record'].max()),\n",
    "    'average_days': float(sensor_inventory['total_days'].mean()) if not sensor_inventory['total_days'].isna().all() else 0,\n",
    "    'total_records': int(sensor_inventory['total_records'].sum()),\n",
    "    'quality_distribution': sensor_inventory['quality_category'].value_counts().to_dict(),\n",
    "    'average_coverage': float(sensor_inventory['overall_coverage'].mean()) if not sensor_inventory['overall_coverage'].isna().all() else 0\n",
    "}\n",
    "\n",
    "json_file = output_dir / 'sensor_inventory_summary.json'\n",
    "with open(json_file, 'w') as f:\n",
    "    json.dump(summary_stats, f, indent=2, default=str)\n",
    "print(f\"Saved JSON summary: {json_file}\")\n",
    "\n",
    "print(\"Sensor inventory successfully created and saved!\")"
   ]
  },
  {
   "cell_type": "markdown",
   "metadata": {},
   "source": [
    "## Summary\n",
    "\n",
    "This notebook successfully completed Task 1.1 by:\n",
    "\n",
    "1. **Loading** traffic data from speed and count sensors\n",
    "2. **Identifying** all unique sensors and their capabilities\n",
    "3. **Calculating** data availability periods and quality metrics\n",
    "4. **Visualizing** sensor distribution statistically\n",
    "5. **Saving** the sensor inventory in multiple formats for downstream use\n",
    "\n",
    "The sensor inventory is now available for the next tasks in the pipeline."
   ]
  }
 ],
 "metadata": {
  "kernelspec": {
   "display_name": "Python 3",
   "language": "python",
   "name": "python3"
  },
  "language_info": {
   "codemirror_mode": {
    "name": "ipython",
    "version": 3
   },
   "file_extension": ".py",
   "mimetype": "text/x-python",
   "name": "python",
   "nbconvert_exporter": "python",
   "pygments_lexer": "ipython3",
   "version": "3.11.5"
  }
 },
 "nbformat": 4,
 "nbformat_minor": 4
}
