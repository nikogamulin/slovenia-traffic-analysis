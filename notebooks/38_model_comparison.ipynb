{
 "cells": [
  {
   "cell_type": "markdown",
   "metadata": {},
   "source": [
    "# Story 2.9: Build Model Comparison Dashboard\n",
    "\n",
    "This notebook compares XGBoost models with baseline models (ARIMA, Prophet, Moving Average) to evaluate performance improvements.\n",
    "\n",
    "## Objectives:\n",
    "- Implement baseline models for comparison\n",
    "- Compare performance metrics across all models\n",
    "- Visualize prediction accuracy differences\n",
    "- Generate comprehensive comparison report\n",
    "\n",
    "## Acceptance Criteria:\n",
    "- ✅ Side-by-side performance comparison\n",
    "- ✅ Multiple baseline models implemented\n",
    "- ✅ Comprehensive metrics (RMSE, MAE, R², MAPE)\n",
    "- ✅ Visual comparison dashboards"
   ]
  },
  {
   "cell_type": "markdown",
   "metadata": {},
   "source": [
    "## 1. Setup and Imports"
   ]
  },
  {
   "cell_type": "code",
   "execution_count": 1,
   "metadata": {},
   "outputs": [
    {
     "name": "stdout",
     "output_type": "stream",
     "text": [
      "XGBoost version: 3.0.4\n",
      "ARIMA available: True\n",
      "Prophet available: True\n",
      "Libraries imported successfully!\n"
     ]
    }
   ],
   "source": [
    "import sys\n",
    "import os\n",
    "import numpy as np\n",
    "import pandas as pd\n",
    "import xgboost as xgb\n",
    "import matplotlib.pyplot as plt\n",
    "import seaborn as sns\n",
    "import plotly.graph_objects as go\n",
    "import plotly.express as px\n",
    "from plotly.subplots import make_subplots\n",
    "import joblib\n",
    "import json\n",
    "from pathlib import Path\n",
    "from datetime import datetime, timedelta\n",
    "from typing import Dict, List, Tuple, Optional, Any\n",
    "from sklearn.metrics import mean_squared_error, mean_absolute_error, r2_score\n",
    "from sklearn.model_selection import TimeSeriesSplit\n",
    "import warnings\n",
    "warnings.filterwarnings('ignore')\n",
    "\n",
    "# Import baseline models\n",
    "try:\n",
    "    from statsmodels.tsa.arima.model import ARIMA\n",
    "    from statsmodels.tsa.stattools import adfuller\n",
    "    ARIMA_AVAILABLE = True\n",
    "except ImportError:\n",
    "    print(\"Warning: statsmodels not installed. Installing now...\")\n",
    "    import subprocess\n",
    "    subprocess.check_call([sys.executable, \"-m\", \"pip\", \"install\", \"statsmodels\"])\n",
    "    from statsmodels.tsa.arima.model import ARIMA\n",
    "    from statsmodels.tsa.stattools import adfuller\n",
    "    ARIMA_AVAILABLE = True\n",
    "\n",
    "try:\n",
    "    from prophet import Prophet\n",
    "    PROPHET_AVAILABLE = True\n",
    "except ImportError:\n",
    "    print(\"Warning: Prophet not installed. Skipping Prophet models.\")\n",
    "    PROPHET_AVAILABLE = False\n",
    "\n",
    "# Set plotting style\n",
    "plt.style.use('default')\n",
    "sns.set_palette('husl')\n",
    "\n",
    "print(f\"XGBoost version: {xgb.__version__}\")\n",
    "print(f\"ARIMA available: {ARIMA_AVAILABLE}\")\n",
    "print(f\"Prophet available: {PROPHET_AVAILABLE}\")\n",
    "print(\"Libraries imported successfully!\")"
   ]
  },
  {
   "cell_type": "markdown",
   "metadata": {},
   "source": [
    "## 2. Generate Synthetic Time Series Data"
   ]
  },
  {
   "cell_type": "code",
   "execution_count": 2,
   "metadata": {},
   "outputs": [
    {
     "name": "stdout",
     "output_type": "stream",
     "text": [
      "Generating synthetic time series data...\n",
      "Generated 8592 samples\n",
      "Date range: 2023-01-08 00:00:00 to 2023-12-31 23:00:00\n"
     ]
    },
    {
     "data": {
      "text/html": [
       "<div>\n",
       "<style scoped>\n",
       "    .dataframe tbody tr th:only-of-type {\n",
       "        vertical-align: middle;\n",
       "    }\n",
       "\n",
       "    .dataframe tbody tr th {\n",
       "        vertical-align: top;\n",
       "    }\n",
       "\n",
       "    .dataframe thead th {\n",
       "        text-align: right;\n",
       "    }\n",
       "</style>\n",
       "<table border=\"1\" class=\"dataframe\">\n",
       "  <thead>\n",
       "    <tr style=\"text-align: right;\">\n",
       "      <th></th>\n",
       "      <th>timestamp</th>\n",
       "      <th>sensor_id</th>\n",
       "      <th>traffic_volume</th>\n",
       "      <th>hour</th>\n",
       "      <th>day_of_week</th>\n",
       "      <th>month</th>\n",
       "      <th>day_of_month</th>\n",
       "      <th>week_of_year</th>\n",
       "      <th>is_weekend</th>\n",
       "      <th>temperature</th>\n",
       "      <th>precipitation</th>\n",
       "      <th>lag_1</th>\n",
       "      <th>lag_24</th>\n",
       "      <th>lag_168</th>\n",
       "    </tr>\n",
       "  </thead>\n",
       "  <tbody>\n",
       "    <tr>\n",
       "      <th>168</th>\n",
       "      <td>2023-01-08 00:00:00</td>\n",
       "      <td>LJ_001</td>\n",
       "      <td>102.256180</td>\n",
       "      <td>0</td>\n",
       "      <td>6</td>\n",
       "      <td>1</td>\n",
       "      <td>8</td>\n",
       "      <td>1</td>\n",
       "      <td>1</td>\n",
       "      <td>4.956622</td>\n",
       "      <td>0.503531</td>\n",
       "      <td>107.396111</td>\n",
       "      <td>96.467625</td>\n",
       "      <td>102.483571</td>\n",
       "    </tr>\n",
       "    <tr>\n",
       "      <th>169</th>\n",
       "      <td>2023-01-08 01:00:00</td>\n",
       "      <td>LJ_001</td>\n",
       "      <td>105.285413</td>\n",
       "      <td>1</td>\n",
       "      <td>6</td>\n",
       "      <td>1</td>\n",
       "      <td>8</td>\n",
       "      <td>1</td>\n",
       "      <td>1</td>\n",
       "      <td>16.268247</td>\n",
       "      <td>2.681817</td>\n",
       "      <td>102.256180</td>\n",
       "      <td>104.513005</td>\n",
       "      <td>104.879730</td>\n",
       "    </tr>\n",
       "    <tr>\n",
       "      <th>170</th>\n",
       "      <td>2023-01-08 02:00:00</td>\n",
       "      <td>LJ_001</td>\n",
       "      <td>109.824209</td>\n",
       "      <td>2</td>\n",
       "      <td>6</td>\n",
       "      <td>1</td>\n",
       "      <td>8</td>\n",
       "      <td>1</td>\n",
       "      <td>1</td>\n",
       "      <td>11.336583</td>\n",
       "      <td>4.689749</td>\n",
       "      <td>105.285413</td>\n",
       "      <td>99.512655</td>\n",
       "      <td>114.027261</td>\n",
       "    </tr>\n",
       "    <tr>\n",
       "      <th>171</th>\n",
       "      <td>2023-01-08 03:00:00</td>\n",
       "      <td>LJ_001</td>\n",
       "      <td>114.727888</td>\n",
       "      <td>3</td>\n",
       "      <td>6</td>\n",
       "      <td>1</td>\n",
       "      <td>8</td>\n",
       "      <td>1</td>\n",
       "      <td>1</td>\n",
       "      <td>16.767621</td>\n",
       "      <td>0.536565</td>\n",
       "      <td>109.824209</td>\n",
       "      <td>103.517411</td>\n",
       "      <td>122.939206</td>\n",
       "    </tr>\n",
       "    <tr>\n",
       "      <th>172</th>\n",
       "      <td>2023-01-08 04:00:00</td>\n",
       "      <td>LJ_001</td>\n",
       "      <td>121.991259</td>\n",
       "      <td>4</td>\n",
       "      <td>6</td>\n",
       "      <td>1</td>\n",
       "      <td>8</td>\n",
       "      <td>1</td>\n",
       "      <td>1</td>\n",
       "      <td>15.223506</td>\n",
       "      <td>0.385690</td>\n",
       "      <td>114.727888</td>\n",
       "      <td>116.197814</td>\n",
       "      <td>117.723199</td>\n",
       "    </tr>\n",
       "  </tbody>\n",
       "</table>\n",
       "</div>"
      ],
      "text/plain": [
       "              timestamp sensor_id  traffic_volume  hour  day_of_week  month  \\\n",
       "168 2023-01-08 00:00:00    LJ_001      102.256180     0            6      1   \n",
       "169 2023-01-08 01:00:00    LJ_001      105.285413     1            6      1   \n",
       "170 2023-01-08 02:00:00    LJ_001      109.824209     2            6      1   \n",
       "171 2023-01-08 03:00:00    LJ_001      114.727888     3            6      1   \n",
       "172 2023-01-08 04:00:00    LJ_001      121.991259     4            6      1   \n",
       "\n",
       "     day_of_month  week_of_year  is_weekend  temperature  precipitation  \\\n",
       "168             8             1           1     4.956622       0.503531   \n",
       "169             8             1           1    16.268247       2.681817   \n",
       "170             8             1           1    11.336583       4.689749   \n",
       "171             8             1           1    16.767621       0.536565   \n",
       "172             8             1           1    15.223506       0.385690   \n",
       "\n",
       "          lag_1      lag_24     lag_168  \n",
       "168  107.396111   96.467625  102.483571  \n",
       "169  102.256180  104.513005  104.879730  \n",
       "170  105.285413   99.512655  114.027261  \n",
       "171  109.824209  103.517411  122.939206  \n",
       "172  114.727888  116.197814  117.723199  "
      ]
     },
     "execution_count": 2,
     "metadata": {},
     "output_type": "execute_result"
    }
   ],
   "source": [
    "def generate_time_series_data(n_days: int = 365, n_sensors: int = 3) -> pd.DataFrame:\n",
    "    \"\"\"Generate synthetic time series data for model comparison.\"\"\"\n",
    "    np.random.seed(42)\n",
    "    \n",
    "    all_data = []\n",
    "    sensor_ids = ['LJ_001', 'MB_002', 'KP_003']\n",
    "    \n",
    "    for sensor_id in sensor_ids[:n_sensors]:\n",
    "        # Generate hourly timestamps\n",
    "        start_date = datetime(2023, 1, 1)\n",
    "        timestamps = pd.date_range(start=start_date, periods=n_days*24, freq='H')\n",
    "        \n",
    "        # Create base pattern\n",
    "        t = np.arange(len(timestamps))\n",
    "        \n",
    "        # Trend component\n",
    "        trend = 100 + 0.01 * t\n",
    "        \n",
    "        # Seasonal components\n",
    "        daily_pattern = 20 * np.sin(2 * np.pi * t / 24)  # Daily cycle\n",
    "        weekly_pattern = 10 * np.sin(2 * np.pi * t / (24 * 7))  # Weekly cycle\n",
    "        yearly_pattern = 15 * np.sin(2 * np.pi * t / (24 * 365))  # Yearly cycle\n",
    "        \n",
    "        # Add noise\n",
    "        noise = np.random.normal(0, 5, len(t))\n",
    "        \n",
    "        # Combine components\n",
    "        traffic_volume = trend + daily_pattern + weekly_pattern + yearly_pattern + noise\n",
    "        traffic_volume = np.maximum(traffic_volume, 10)  # Ensure positive values\n",
    "        \n",
    "        # Create features for XGBoost\n",
    "        sensor_data = pd.DataFrame({\n",
    "            'timestamp': timestamps,\n",
    "            'sensor_id': sensor_id,\n",
    "            'traffic_volume': traffic_volume,\n",
    "            'hour': timestamps.hour,\n",
    "            'day_of_week': timestamps.dayofweek,\n",
    "            'month': timestamps.month,\n",
    "            'day_of_month': timestamps.day,\n",
    "            'week_of_year': timestamps.isocalendar().week,\n",
    "            'is_weekend': (timestamps.dayofweek >= 5).astype(int),\n",
    "            'temperature': np.random.normal(15, 10, len(timestamps)),\n",
    "            'precipitation': np.clip(np.random.exponential(2, len(timestamps)), 0, 50)\n",
    "        })\n",
    "        \n",
    "        # Add lagged features\n",
    "        for lag in [1, 24, 168]:  # 1 hour, 1 day, 1 week\n",
    "            sensor_data[f'lag_{lag}'] = sensor_data['traffic_volume'].shift(lag)\n",
    "        \n",
    "        all_data.append(sensor_data)\n",
    "    \n",
    "    return pd.concat(all_data, ignore_index=True)\n",
    "\n",
    "# Generate data\n",
    "print(\"Generating synthetic time series data...\")\n",
    "data = generate_time_series_data(n_days=365, n_sensors=1)  # Focus on one sensor for comparison\n",
    "data = data.dropna()  # Remove rows with NaN from lagged features\n",
    "\n",
    "print(f\"Generated {len(data)} samples\")\n",
    "print(f\"Date range: {data['timestamp'].min()} to {data['timestamp'].max()}\")\n",
    "data.head()"
   ]
  },
  {
   "cell_type": "markdown",
   "metadata": {},
   "source": [
    "## 3. Split Data for Training and Testing"
   ]
  },
  {
   "cell_type": "code",
   "execution_count": 3,
   "metadata": {},
   "outputs": [
    {
     "name": "stdout",
     "output_type": "stream",
     "text": [
      "Train: 6014 samples (2023-01-08 00:00:00 to 2023-09-15 13:00:00)\n",
      "Val: 1288 samples (2023-09-15 14:00:00 to 2023-11-08 05:00:00)\n",
      "Test: 1290 samples (2023-11-08 06:00:00 to 2023-12-31 23:00:00)\n"
     ]
    }
   ],
   "source": [
    "# Split data into train/validation/test\n",
    "train_size = int(len(data) * 0.7)\n",
    "val_size = int(len(data) * 0.15)\n",
    "\n",
    "train_data = data[:train_size].copy()\n",
    "val_data = data[train_size:train_size + val_size].copy()\n",
    "test_data = data[train_size + val_size:].copy()\n",
    "\n",
    "print(f\"Train: {len(train_data)} samples ({train_data['timestamp'].min()} to {train_data['timestamp'].max()})\")\n",
    "print(f\"Val: {len(val_data)} samples ({val_data['timestamp'].min()} to {val_data['timestamp'].max()})\")\n",
    "print(f\"Test: {len(test_data)} samples ({test_data['timestamp'].min()} to {test_data['timestamp'].max()})\")\n",
    "\n",
    "# Prepare features for XGBoost\n",
    "feature_cols = ['hour', 'day_of_week', 'month', 'day_of_month', 'week_of_year', \n",
    "                'is_weekend', 'temperature', 'precipitation', 'lag_1', 'lag_24', 'lag_168']\n",
    "target_col = 'traffic_volume'\n",
    "\n",
    "X_train = train_data[feature_cols]\n",
    "y_train = train_data[target_col]\n",
    "X_val = val_data[feature_cols]\n",
    "y_val = val_data[target_col]\n",
    "X_test = test_data[feature_cols]\n",
    "y_test = test_data[target_col]"
   ]
  },
  {
   "cell_type": "markdown",
   "metadata": {},
   "source": [
    "## 4. Implement Baseline Models"
   ]
  },
  {
   "cell_type": "code",
   "execution_count": 4,
   "metadata": {},
   "outputs": [],
   "source": [
    "class ModelComparator:\n",
    "    \"\"\"Compare different forecasting models.\"\"\"\n",
    "    \n",
    "    def __init__(self):\n",
    "        self.models = {}\n",
    "        self.predictions = {}\n",
    "        self.metrics = {}\n",
    "        self.training_times = {}\n",
    "        \n",
    "    def train_moving_average(self, train_data: pd.Series, window: int = 24) -> None:\n",
    "        \"\"\"Simple moving average baseline.\"\"\"\n",
    "        import time\n",
    "        start_time = time.time()\n",
    "        \n",
    "        self.models['moving_average'] = {\n",
    "            'window': window,\n",
    "            'type': 'simple_ma'\n",
    "        }\n",
    "        \n",
    "        self.training_times['moving_average'] = time.time() - start_time\n",
    "        print(f\"Moving Average trained in {self.training_times['moving_average']:.2f} seconds\")\n",
    "    \n",
    "    def predict_moving_average(self, history: pd.Series, n_periods: int) -> np.ndarray:\n",
    "        \"\"\"Generate moving average predictions.\"\"\"\n",
    "        window = self.models['moving_average']['window']\n",
    "        predictions = []\n",
    "        \n",
    "        history_list = list(history)\n",
    "        \n",
    "        for _ in range(n_periods):\n",
    "            if len(history_list) >= window:\n",
    "                pred = np.mean(history_list[-window:])\n",
    "            else:\n",
    "                pred = np.mean(history_list)\n",
    "            predictions.append(pred)\n",
    "            history_list.append(pred)\n",
    "        \n",
    "        return np.array(predictions)\n",
    "    \n",
    "    def train_arima(self, train_data: pd.Series, order: Tuple = (2, 1, 2)) -> None:\n",
    "        \"\"\"Train ARIMA model.\"\"\"\n",
    "        if not ARIMA_AVAILABLE:\n",
    "            print(\"ARIMA not available\")\n",
    "            return\n",
    "            \n",
    "        import time\n",
    "        start_time = time.time()\n",
    "        \n",
    "        try:\n",
    "            # Check stationarity\n",
    "            result = adfuller(train_data)\n",
    "            print(f\"ADF Statistic: {result[0]:.4f}, p-value: {result[1]:.4f}\")\n",
    "            \n",
    "            # Fit ARIMA model\n",
    "            model = ARIMA(train_data, order=order)\n",
    "            self.models['arima'] = model.fit()\n",
    "            \n",
    "            self.training_times['arima'] = time.time() - start_time\n",
    "            print(f\"ARIMA{order} trained in {self.training_times['arima']:.2f} seconds\")\n",
    "            \n",
    "        except Exception as e:\n",
    "            print(f\"ARIMA training failed: {e}\")\n",
    "            self.models['arima'] = None\n",
    "    \n",
    "    def predict_arima(self, n_periods: int) -> np.ndarray:\n",
    "        \"\"\"Generate ARIMA predictions.\"\"\"\n",
    "        if 'arima' not in self.models or self.models['arima'] is None:\n",
    "            return np.array([np.nan] * n_periods)\n",
    "        \n",
    "        forecast = self.models['arima'].forecast(steps=n_periods)\n",
    "        return forecast.values\n",
    "    \n",
    "    def train_prophet(self, train_df: pd.DataFrame) -> None:\n",
    "        \"\"\"Train Prophet model.\"\"\"\n",
    "        if not PROPHET_AVAILABLE:\n",
    "            print(\"Prophet not available\")\n",
    "            return\n",
    "            \n",
    "        import time\n",
    "        start_time = time.time()\n",
    "        \n",
    "        try:\n",
    "            # Prepare data for Prophet\n",
    "            prophet_df = train_df[['timestamp', 'traffic_volume']].copy()\n",
    "            prophet_df.columns = ['ds', 'y']\n",
    "            \n",
    "            # Train Prophet model\n",
    "            model = Prophet(\n",
    "                yearly_seasonality=True,\n",
    "                weekly_seasonality=True,\n",
    "                daily_seasonality=True,\n",
    "                interval_width=0.95\n",
    "            )\n",
    "            model.fit(prophet_df)\n",
    "            self.models['prophet'] = model\n",
    "            \n",
    "            self.training_times['prophet'] = time.time() - start_time\n",
    "            print(f\"Prophet trained in {self.training_times['prophet']:.2f} seconds\")\n",
    "            \n",
    "        except Exception as e:\n",
    "            print(f\"Prophet training failed: {e}\")\n",
    "            self.models['prophet'] = None\n",
    "    \n",
    "    def predict_prophet(self, test_df: pd.DataFrame) -> np.ndarray:\n",
    "        \"\"\"Generate Prophet predictions.\"\"\"\n",
    "        if 'prophet' not in self.models or self.models['prophet'] is None:\n",
    "            return np.array([np.nan] * len(test_df))\n",
    "        \n",
    "        # Prepare future dataframe\n",
    "        future_df = test_df[['timestamp']].copy()\n",
    "        future_df.columns = ['ds']\n",
    "        \n",
    "        # Make predictions\n",
    "        forecast = self.models['prophet'].predict(future_df)\n",
    "        return forecast['yhat'].values\n",
    "    \n",
    "    def train_xgboost(self, X_train: pd.DataFrame, y_train: pd.Series,\n",
    "                     X_val: pd.DataFrame, y_val: pd.Series) -> None:\n",
    "        \"\"\"Train XGBoost model.\"\"\"\n",
    "        import time\n",
    "        start_time = time.time()\n",
    "        \n",
    "        # Prepare DMatrix\n",
    "        dtrain = xgb.DMatrix(X_train, label=y_train)\n",
    "        dval = xgb.DMatrix(X_val, label=y_val)\n",
    "        \n",
    "        # Parameters\n",
    "        params = {\n",
    "            'objective': 'reg:squarederror',\n",
    "            'max_depth': 6,\n",
    "            'learning_rate': 0.1,\n",
    "            'n_estimators': 100,\n",
    "            'subsample': 0.8,\n",
    "            'colsample_bytree': 0.8,\n",
    "            'random_state': 42\n",
    "        }\n",
    "        \n",
    "        # Train model\n",
    "        evallist = [(dtrain, 'train'), (dval, 'eval')]\n",
    "        self.models['xgboost'] = xgb.train(\n",
    "            params,\n",
    "            dtrain,\n",
    "            num_boost_round=100,\n",
    "            evals=evallist,\n",
    "            early_stopping_rounds=10,\n",
    "            verbose_eval=False\n",
    "        )\n",
    "        \n",
    "        self.training_times['xgboost'] = time.time() - start_time\n",
    "        print(f\"XGBoost trained in {self.training_times['xgboost']:.2f} seconds\")\n",
    "    \n",
    "    def predict_xgboost(self, X_test: pd.DataFrame) -> np.ndarray:\n",
    "        \"\"\"Generate XGBoost predictions.\"\"\"\n",
    "        dtest = xgb.DMatrix(X_test)\n",
    "        return self.models['xgboost'].predict(dtest)\n",
    "    \n",
    "    def calculate_metrics(self, y_true: np.ndarray, y_pred: np.ndarray, model_name: str) -> Dict:\n",
    "        \"\"\"Calculate performance metrics.\"\"\"\n",
    "        # Handle NaN values\n",
    "        mask = ~np.isnan(y_pred)\n",
    "        y_true_clean = y_true[mask]\n",
    "        y_pred_clean = y_pred[mask]\n",
    "        \n",
    "        if len(y_pred_clean) == 0:\n",
    "            return {\n",
    "                'rmse': np.nan,\n",
    "                'mae': np.nan,\n",
    "                'r2': np.nan,\n",
    "                'mape': np.nan\n",
    "            }\n",
    "        \n",
    "        metrics = {\n",
    "            'rmse': np.sqrt(mean_squared_error(y_true_clean, y_pred_clean)),\n",
    "            'mae': mean_absolute_error(y_true_clean, y_pred_clean),\n",
    "            'r2': r2_score(y_true_clean, y_pred_clean),\n",
    "            'mape': np.mean(np.abs((y_true_clean - y_pred_clean) / (y_true_clean + 1e-10))) * 100\n",
    "        }\n",
    "        \n",
    "        self.metrics[model_name] = metrics\n",
    "        return metrics\n",
    "\n",
    "# Initialize comparator\n",
    "comparator = ModelComparator()"
   ]
  },
  {
   "cell_type": "markdown",
   "metadata": {},
   "source": [
    "## 5. Train All Models"
   ]
  },
  {
   "cell_type": "code",
   "execution_count": 5,
   "metadata": {},
   "outputs": [
    {
     "name": "stdout",
     "output_type": "stream",
     "text": [
      "Training all models...\n",
      "\n",
      "1. Training Moving Average...\n",
      "Moving Average trained in 0.00 seconds\n",
      "\n",
      "2. Training ARIMA...\n",
      "ADF Statistic: -8.5297, p-value: 0.0000\n"
     ]
    },
    {
     "name": "stderr",
     "output_type": "stream",
     "text": [
      "/home/niko/workspace/slovenia-traffic/.venv/lib/python3.11/site-packages/statsmodels/tsa/base/tsa_model.py:473: ValueWarning: An unsupported index was provided. As a result, forecasts cannot be generated. To use the model for forecasting, use one of the supported classes of index.\n",
      "  self._init_dates(dates, freq)\n",
      "/home/niko/workspace/slovenia-traffic/.venv/lib/python3.11/site-packages/statsmodels/tsa/base/tsa_model.py:473: ValueWarning: An unsupported index was provided. As a result, forecasts cannot be generated. To use the model for forecasting, use one of the supported classes of index.\n",
      "  self._init_dates(dates, freq)\n",
      "/home/niko/workspace/slovenia-traffic/.venv/lib/python3.11/site-packages/statsmodels/tsa/base/tsa_model.py:473: ValueWarning: An unsupported index was provided. As a result, forecasts cannot be generated. To use the model for forecasting, use one of the supported classes of index.\n",
      "  self._init_dates(dates, freq)\n",
      "14:38:55 - cmdstanpy - INFO - Chain [1] start processing\n"
     ]
    },
    {
     "name": "stdout",
     "output_type": "stream",
     "text": [
      "ARIMA(2, 1, 2) trained in 0.48 seconds\n",
      "\n",
      "3. Training Prophet...\n"
     ]
    },
    {
     "name": "stderr",
     "output_type": "stream",
     "text": [
      "14:38:55 - cmdstanpy - INFO - Chain [1] done processing\n"
     ]
    },
    {
     "name": "stdout",
     "output_type": "stream",
     "text": [
      "Prophet trained in 0.36 seconds\n",
      "\n",
      "4. Training XGBoost...\n",
      "XGBoost trained in 1.86 seconds\n",
      "\n",
      "==================================================\n",
      "All models trained successfully!\n",
      "==================================================\n"
     ]
    }
   ],
   "source": [
    "print(\"Training all models...\\n\")\n",
    "\n",
    "# 1. Moving Average\n",
    "print(\"1. Training Moving Average...\")\n",
    "comparator.train_moving_average(train_data['traffic_volume'], window=24)\n",
    "\n",
    "# 2. ARIMA\n",
    "print(\"\\n2. Training ARIMA...\")\n",
    "comparator.train_arima(train_data['traffic_volume'], order=(2, 1, 2))\n",
    "\n",
    "# 3. Prophet\n",
    "print(\"\\n3. Training Prophet...\")\n",
    "comparator.train_prophet(train_data)\n",
    "\n",
    "# 4. XGBoost\n",
    "print(\"\\n4. Training XGBoost...\")\n",
    "comparator.train_xgboost(X_train, y_train, X_val, y_val)\n",
    "\n",
    "print(\"\\n\" + \"=\"*50)\n",
    "print(\"All models trained successfully!\")\n",
    "print(\"=\"*50)"
   ]
  },
  {
   "cell_type": "markdown",
   "metadata": {},
   "source": [
    "## 6. Generate Predictions"
   ]
  },
  {
   "cell_type": "code",
   "execution_count": 6,
   "metadata": {},
   "outputs": [
    {
     "name": "stdout",
     "output_type": "stream",
     "text": [
      "Generating predictions for test set...\n",
      "\n",
      "Predictions generated for all models!\n"
     ]
    },
    {
     "name": "stderr",
     "output_type": "stream",
     "text": [
      "/home/niko/workspace/slovenia-traffic/.venv/lib/python3.11/site-packages/statsmodels/tsa/base/tsa_model.py:837: ValueWarning: No supported index is available. Prediction results will be given with an integer index beginning at `start`.\n",
      "  return get_prediction_index(\n"
     ]
    }
   ],
   "source": [
    "print(\"Generating predictions for test set...\\n\")\n",
    "\n",
    "# Moving Average predictions\n",
    "ma_preds = comparator.predict_moving_average(\n",
    "    train_data['traffic_volume'], \n",
    "    len(test_data)\n",
    ")\n",
    "comparator.predictions['moving_average'] = ma_preds\n",
    "\n",
    "# ARIMA predictions\n",
    "arima_preds = comparator.predict_arima(len(test_data))\n",
    "comparator.predictions['arima'] = arima_preds\n",
    "\n",
    "# Prophet predictions\n",
    "prophet_preds = comparator.predict_prophet(test_data)\n",
    "comparator.predictions['prophet'] = prophet_preds\n",
    "\n",
    "# XGBoost predictions\n",
    "xgb_preds = comparator.predict_xgboost(X_test)\n",
    "comparator.predictions['xgboost'] = xgb_preds\n",
    "\n",
    "print(\"Predictions generated for all models!\")"
   ]
  },
  {
   "cell_type": "markdown",
   "metadata": {},
   "source": [
    "## 7. Calculate Performance Metrics"
   ]
  },
  {
   "cell_type": "code",
   "execution_count": 7,
   "metadata": {},
   "outputs": [
    {
     "name": "stdout",
     "output_type": "stream",
     "text": [
      "Calculating performance metrics...\n",
      "\n",
      "MOVING_AVERAGE:\n",
      "  RMSE: 35.98\n",
      "  MAE:  31.56\n",
      "  R²:   -2.953\n",
      "  MAPE: 17.26%\n",
      "\n",
      "ARIMA:\n",
      "  RMSE: 64.76\n",
      "  MAE:  62.19\n",
      "  R²:   -11.809\n",
      "  MAPE: 34.94%\n",
      "\n",
      "PROPHET:\n",
      "  RMSE: 34.21\n",
      "  MAE:  28.91\n",
      "  R²:   -2.573\n",
      "  MAPE: 16.30%\n",
      "\n",
      "XGBOOST:\n",
      "  RMSE: 20.02\n",
      "  MAE:  17.10\n",
      "  R²:   -0.224\n",
      "  MAPE: 9.36%\n",
      "\n",
      "\n",
      "Comparison Summary:\n",
      "============================================================\n"
     ]
    },
    {
     "data": {
      "text/html": [
       "<div>\n",
       "<style scoped>\n",
       "    .dataframe tbody tr th:only-of-type {\n",
       "        vertical-align: middle;\n",
       "    }\n",
       "\n",
       "    .dataframe tbody tr th {\n",
       "        vertical-align: top;\n",
       "    }\n",
       "\n",
       "    .dataframe thead th {\n",
       "        text-align: right;\n",
       "    }\n",
       "</style>\n",
       "<table border=\"1\" class=\"dataframe\">\n",
       "  <thead>\n",
       "    <tr style=\"text-align: right;\">\n",
       "      <th></th>\n",
       "      <th>rmse</th>\n",
       "      <th>mae</th>\n",
       "      <th>r2</th>\n",
       "      <th>mape</th>\n",
       "      <th>training_time</th>\n",
       "    </tr>\n",
       "  </thead>\n",
       "  <tbody>\n",
       "    <tr>\n",
       "      <th>moving_average</th>\n",
       "      <td>35.979</td>\n",
       "      <td>31.560</td>\n",
       "      <td>-2.953</td>\n",
       "      <td>17.262</td>\n",
       "      <td>0.000</td>\n",
       "    </tr>\n",
       "    <tr>\n",
       "      <th>arima</th>\n",
       "      <td>64.765</td>\n",
       "      <td>62.186</td>\n",
       "      <td>-11.809</td>\n",
       "      <td>34.935</td>\n",
       "      <td>0.475</td>\n",
       "    </tr>\n",
       "    <tr>\n",
       "      <th>prophet</th>\n",
       "      <td>34.205</td>\n",
       "      <td>28.915</td>\n",
       "      <td>-2.573</td>\n",
       "      <td>16.297</td>\n",
       "      <td>0.361</td>\n",
       "    </tr>\n",
       "    <tr>\n",
       "      <th>xgboost</th>\n",
       "      <td>20.017</td>\n",
       "      <td>17.102</td>\n",
       "      <td>-0.224</td>\n",
       "      <td>9.363</td>\n",
       "      <td>1.862</td>\n",
       "    </tr>\n",
       "  </tbody>\n",
       "</table>\n",
       "</div>"
      ],
      "text/plain": [
       "                  rmse     mae      r2    mape  training_time\n",
       "moving_average  35.979  31.560  -2.953  17.262          0.000\n",
       "arima           64.765  62.186 -11.809  34.935          0.475\n",
       "prophet         34.205  28.915  -2.573  16.297          0.361\n",
       "xgboost         20.017  17.102  -0.224   9.363          1.862"
      ]
     },
     "metadata": {},
     "output_type": "display_data"
    }
   ],
   "source": [
    "print(\"Calculating performance metrics...\\n\")\n",
    "\n",
    "# Calculate metrics for each model\n",
    "for model_name, predictions in comparator.predictions.items():\n",
    "    metrics = comparator.calculate_metrics(y_test.values, predictions, model_name)\n",
    "    print(f\"{model_name.upper()}:\")\n",
    "    print(f\"  RMSE: {metrics['rmse']:.2f}\")\n",
    "    print(f\"  MAE:  {metrics['mae']:.2f}\")\n",
    "    print(f\"  R²:   {metrics['r2']:.3f}\")\n",
    "    print(f\"  MAPE: {metrics['mape']:.2f}%\")\n",
    "    print()\n",
    "\n",
    "# Create comparison dataframe\n",
    "metrics_df = pd.DataFrame(comparator.metrics).T\n",
    "metrics_df['training_time'] = pd.Series(comparator.training_times)\n",
    "metrics_df = metrics_df.round(3)\n",
    "\n",
    "print(\"\\nComparison Summary:\")\n",
    "print(\"=\"*60)\n",
    "display(metrics_df)"
   ]
  },
  {
   "cell_type": "markdown",
   "metadata": {},
   "source": [
    "## 8. Visualize Model Comparison"
   ]
  },
  {
   "cell_type": "code",
   "execution_count": 8,
   "metadata": {},
   "outputs": [
    {
     "data": {
      "image/png": "[encoded data removed]",
      "text/plain": [
       "<Figure size 1500x1000 with 4 Axes>"
      ]
     },
     "metadata": {},
     "output_type": "display_data"
    }
   ],
   "source": [
    "def plot_model_comparison(metrics_df: pd.DataFrame):\n",
    "    \"\"\"Create comprehensive model comparison visualizations.\"\"\"\n",
    "    \n",
    "    fig, axes = plt.subplots(2, 2, figsize=(15, 10))\n",
    "    \n",
    "    # RMSE Comparison\n",
    "    ax = axes[0, 0]\n",
    "    models = metrics_df.index\n",
    "    rmse_values = metrics_df['rmse']\n",
    "    bars = ax.bar(models, rmse_values, color=['#FF6B6B', '#4ECDC4', '#45B7D1', '#96CEB4'])\n",
    "    ax.set_xlabel('Model')\n",
    "    ax.set_ylabel('RMSE')\n",
    "    ax.set_title('Root Mean Squared Error Comparison', fontweight='bold')\n",
    "    ax.grid(True, alpha=0.3, axis='y')\n",
    "    \n",
    "    # Add value labels on bars\n",
    "    for bar, val in zip(bars, rmse_values):\n",
    "        if not np.isnan(val):\n",
    "            ax.text(bar.get_x() + bar.get_width()/2, bar.get_height(),\n",
    "                   f'{val:.1f}', ha='center', va='bottom')\n",
    "    \n",
    "    # MAE Comparison\n",
    "    ax = axes[0, 1]\n",
    "    mae_values = metrics_df['mae']\n",
    "    bars = ax.bar(models, mae_values, color=['#FF6B6B', '#4ECDC4', '#45B7D1', '#96CEB4'])\n",
    "    ax.set_xlabel('Model')\n",
    "    ax.set_ylabel('MAE')\n",
    "    ax.set_title('Mean Absolute Error Comparison', fontweight='bold')\n",
    "    ax.grid(True, alpha=0.3, axis='y')\n",
    "    \n",
    "    for bar, val in zip(bars, mae_values):\n",
    "        if not np.isnan(val):\n",
    "            ax.text(bar.get_x() + bar.get_width()/2, bar.get_height(),\n",
    "                   f'{val:.1f}', ha='center', va='bottom')\n",
    "    \n",
    "    # R² Score Comparison\n",
    "    ax = axes[1, 0]\n",
    "    r2_values = metrics_df['r2']\n",
    "    bars = ax.bar(models, r2_values, color=['#FF6B6B', '#4ECDC4', '#45B7D1', '#96CEB4'])\n",
    "    ax.set_xlabel('Model')\n",
    "    ax.set_ylabel('R² Score')\n",
    "    ax.set_title('R² Score Comparison', fontweight='bold')\n",
    "    ax.set_ylim([0, 1])\n",
    "    ax.axhline(y=0.9, color='green', linestyle='--', alpha=0.5, label='Excellent (0.9)')\n",
    "    ax.grid(True, alpha=0.3, axis='y')\n",
    "    ax.legend()\n",
    "    \n",
    "    for bar, val in zip(bars, r2_values):\n",
    "        if not np.isnan(val):\n",
    "            ax.text(bar.get_x() + bar.get_width()/2, bar.get_height(),\n",
    "                   f'{val:.3f}', ha='center', va='bottom')\n",
    "    \n",
    "    # Training Time Comparison\n",
    "    ax = axes[1, 1]\n",
    "    time_values = metrics_df['training_time']\n",
    "    bars = ax.bar(models, time_values, color=['#FF6B6B', '#4ECDC4', '#45B7D1', '#96CEB4'])\n",
    "    ax.set_xlabel('Model')\n",
    "    ax.set_ylabel('Training Time (seconds)')\n",
    "    ax.set_title('Training Time Comparison', fontweight='bold')\n",
    "    ax.grid(True, alpha=0.3, axis='y')\n",
    "    \n",
    "    for bar, val in zip(bars, time_values):\n",
    "        if not np.isnan(val):\n",
    "            ax.text(bar.get_x() + bar.get_width()/2, bar.get_height(),\n",
    "                   f'{val:.2f}s', ha='center', va='bottom')\n",
    "    \n",
    "    plt.suptitle('Model Performance Comparison Dashboard', fontsize=16, fontweight='bold', y=1.02)\n",
    "    plt.tight_layout()\n",
    "    plt.show()\n",
    "\n",
    "# Plot comparison\n",
    "plot_model_comparison(metrics_df)"
   ]
  },
  {
   "cell_type": "markdown",
   "metadata": {},
   "source": [
    "## 9. Visualize Predictions Over Time"
   ]
  },
  {
   "cell_type": "code",
   "execution_count": 9,
   "metadata": {},
   "outputs": [
    {
     "data": {
      "image/png": "[encoded data removed]",
      "text/plain": [
       "<Figure size 1600x1000 with 4 Axes>"
      ]
     },
     "metadata": {},
     "output_type": "display_data"
    }
   ],
   "source": [
    "def plot_predictions_comparison(test_data: pd.DataFrame, predictions: Dict, n_points: int = 168):\n",
    "    \"\"\"Plot actual vs predicted values for all models.\"\"\"\n",
    "    \n",
    "    # Select subset for visualization\n",
    "    plot_data = test_data.iloc[:n_points].copy()\n",
    "    \n",
    "    fig, axes = plt.subplots(2, 2, figsize=(16, 10))\n",
    "    \n",
    "    model_names = list(predictions.keys())\n",
    "    colors = ['#FF6B6B', '#4ECDC4', '#45B7D1', '#96CEB4']\n",
    "    \n",
    "    for idx, (model_name, ax) in enumerate(zip(model_names, axes.flat)):\n",
    "        # Plot actual values\n",
    "        ax.plot(plot_data['timestamp'], plot_data['traffic_volume'], \n",
    "               label='Actual', color='black', alpha=0.7, linewidth=2)\n",
    "        \n",
    "        # Plot predictions\n",
    "        preds = predictions[model_name][:n_points]\n",
    "        ax.plot(plot_data['timestamp'], preds, \n",
    "               label=model_name.upper(), color=colors[idx], linewidth=2)\n",
    "        \n",
    "        # Calculate error for this subset\n",
    "        mask = ~np.isnan(preds)\n",
    "        if mask.sum() > 0:\n",
    "            rmse = np.sqrt(mean_squared_error(\n",
    "                plot_data['traffic_volume'].values[mask], \n",
    "                preds[mask]\n",
    "            ))\n",
    "            ax.set_title(f'{model_name.upper()} - RMSE: {rmse:.2f}', fontweight='bold')\n",
    "        else:\n",
    "            ax.set_title(f'{model_name.upper()} - No predictions', fontweight='bold')\n",
    "        \n",
    "        ax.set_xlabel('Timestamp')\n",
    "        ax.set_ylabel('Traffic Volume')\n",
    "        ax.legend(loc='upper right')\n",
    "        ax.grid(True, alpha=0.3)\n",
    "        ax.tick_params(axis='x', rotation=45)\n",
    "    \n",
    "    plt.suptitle(f'Model Predictions Comparison (First {n_points} hours)', \n",
    "                fontsize=16, fontweight='bold', y=1.02)\n",
    "    plt.tight_layout()\n",
    "    plt.show()\n",
    "\n",
    "# Plot predictions\n",
    "plot_predictions_comparison(test_data, comparator.predictions, n_points=168)  # Show 1 week"
   ]
  },
  {
   "cell_type": "markdown",
   "metadata": {},
   "source": [
    "## 10. Create Interactive Comparison Dashboard"
   ]
  },
  {
   "cell_type": "code",
   "execution_count": 10,
   "metadata": {},
   "outputs": [
    {
     "data": {
      "application/vnd.plotly.v1+json": {
       "config": {
        "plotlyServerURL": "https://plot.ly"
       },
       "data": [
        {
         "name": "RMSE",
         "type": "bar",
         "x": [
          "moving_average",
          "arima",
          "prophet",
          "xgboost"
         ],
         "xaxis": "x",
         "y": {
          "bdata": "WmQ730/9QUApXI/C9TBQQArXo3A9GkFAMQisHFoENEA=",
          "dtype": "f8"
         },
         "yaxis": "y"
        },
        {
         "name": "MAE",
         "type": "bar",
         "x": [
          "moving_average",
          "arima",
          "prophet",
          "xgboost"
         ],
         "xaxis": "x",
         "y": {
          "bdata": "j8L1KFyPP0ArhxbZzhdPQArXo3A96jxAJzEIrBwaMUA=",
          "dtype": "f8"
         },
         "yaxis": "y"
        },
        {
         "name": "R2",
         "type": "bar",
         "x": [
          "moving_average",
          "arima",
          "prophet",
          "xgboost"
         ],
         "xaxis": "x",
         "y": {
          "bdata": "ObTIdr6fB8CR7Xw/NZ4nwC/dJAaBlQTAeekmMQiszL8=",
          "dtype": "f8"
         },
         "yaxis": "y"
        },
        {
         "line": {
          "color": "black",
          "width": 2
         },
         "mode": "lines",
         "name": "Actual",
         "type": "scatter",
         "x": [
          "2023-11-08T06:00:00.000000000",
          "2023-11-08T07:00:00.000000000",
          "2023-11-08T08:00:00.000000000",
          "2023-11-08T09:00:00.000000000",
          "2023-11-08T10:00:00.000000000",
          "2023-11-08T11:00:00.000000000",
          "2023-11-08T12:00:00.000000000",
          "2023-11-08T13:00:00.000000000",
          "2023-11-08T14:00:00.000000000",
          "2023-11-08T15:00:00.000000000",
          "2023-11-08T16:00:00.000000000",
          "2023-11-08T17:00:00.000000000",
          "2023-11-08T18:00:00.000000000",
          "2023-11-08T19:00:00.000000000",
          "2023-11-08T20:00:00.000000000",
          "2023-11-08T21:00:00.000000000",
          "2023-11-08T22:00:00.000000000",
          "2023-11-08T23:00:00.000000000",
          "2023-11-09T00:00:00.000000000",
          "2023-11-09T01:00:00.000000000",
          "2023-11-09T02:00:00.000000000",
          "2023-11-09T03:00:00.000000000",
          "2023-11-09T04:00:00.000000000",
          "2023-11-09T05:00:00.000000000",
          "2023-11-09T06:00:00.000000000",
          "2023-11-09T07:00:00.000000000",
          "2023-11-09T08:00:00.000000000",
          "2023-11-09T09:00:00.000000000",
          "2023-11-09T10:00:00.000000000",
          "2023-11-09T11:00:00.000000000",
          "2023-11-09T12:00:00.000000000",
          "2023-11-09T13:00:00.000000000",
          "2023-11-09T14:00:00.000000000",
          "2023-11-09T15:00:00.000000000",
          "2023-11-09T16:00:00.000000000",
          "2023-11-09T17:00:00.000000000",
          "2023-11-09T18:00:00.000000000",
          "2023-11-09T19:00:00.000000000",
          "2023-11-09T20:00:00.000000000",
          "2023-11-09T21:00:00.000000000",
          "2023-11-09T22:00:00.000000000",
          "2023-11-09T23:00:00.000000000",
          "2023-11-10T00:00:00.000000000",
          "2023-11-10T01:00:00.000000000",
          "2023-11-10T02:00:00.000000000",
          "2023-11-10T03:00:00.000000000",
          "2023-11-10T04:00:00.000000000",
          "2023-11-10T05:00:00.000000000",
          "2023-11-10T06:00:00.000000000",
          "2023-11-10T07:00:00.000000000",
          "2023-11-10T08:00:00.000000000",
          "2023-11-10T09:00:00.000000000",
          "2023-11-10T10:00:00.000000000",
          "2023-11-10T11:00:00.000000000",
          "2023-11-10T12:00:00.000000000",
          "2023-11-10T13:00:00.000000000",
          "2023-11-10T14:00:00.000000000",
          "2023-11-10T15:00:00.000000000",
          "2023-11-10T16:00:00.000000000",
          "2023-11-10T17:00:00.000000000",
          "2023-11-10T18:00:00.000000000",
          "2023-11-10T19:00:00.000000000",
          "2023-11-10T20:00:00.000000000",
          "2023-11-10T21:00:00.000000000",
          "2023-11-10T22:00:00.000000000",
          "2023-11-10T23:00:00.000000000",
          "2023-11-11T00:00:00.000000000",
          "2023-11-11T01:00:00.000000000",
          "2023-11-11T02:00:00.000000000",
          "2023-11-11T03:00:00.000000000",
          "2023-11-11T04:00:00.000000000",
          "2023-11-11T05:00:00.000000000",
          "2023-11-11T06:00:00.000000000",
          "2023-11-11T07:00:00.000000000",
          "2023-11-11T08:00:00.000000000",
          "2023-11-11T09:00:00.000000000",
          "2023-11-11T10:00:00.000000000",
          "2023-11-11T11:00:00.000000000",
          "2023-11-11T12:00:00.000000000",
          "2023-11-11T13:00:00.000000000",
          "2023-11-11T14:00:00.000000000",
          "2023-11-11T15:00:00.000000000",
          "2023-11-11T16:00:00.000000000",
          "2023-11-11T17:00:00.000000000",
          "2023-11-11T18:00:00.000000000",
          "2023-11-11T19:00:00.000000000",
          "2023-11-11T20:00:00.000000000",
          "2023-11-11T21:00:00.000000000",
          "2023-11-11T22:00:00.000000000",
          "2023-11-11T23:00:00.000000000",
          "2023-11-12T00:00:00.000000000",
          "2023-11-12T01:00:00.000000000",
          "2023-11-12T02:00:00.000000000",
          "2023-11-12T03:00:00.000000000",
          "2023-11-12T04:00:00.000000000",
          "2023-11-12T05:00:00.000000000",
          "2023-11-12T06:00:00.000000000",
          "2023-11-12T07:00:00.000000000",
          "2023-11-12T08:00:00.000000000",
          "2023-11-12T09:00:00.000000000",
          "2023-11-12T10:00:00.000000000",
          "2023-11-12T11:00:00.000000000",
          "2023-11-12T12:00:00.000000000",
          "2023-11-12T13:00:00.000000000",
          "2023-11-12T14:00:00.000000000",
          "2023-11-12T15:00:00.000000000",
          "2023-11-12T16:00:00.000000000",
          "2023-11-12T17:00:00.000000000",
          "2023-11-12T18:00:00.000000000",
          "2023-11-12T19:00:00.000000000",
          "2023-11-12T20:00:00.000000000",
          "2023-11-12T21:00:00.000000000",
          "2023-11-12T22:00:00.000000000",
          "2023-11-12T23:00:00.000000000",
          "2023-11-13T00:00:00.000000000",
          "2023-11-13T01:00:00.000000000",
          "2023-11-13T02:00:00.000000000",
          "2023-11-13T03:00:00.000000000",
          "2023-11-13T04:00:00.000000000",
          "2023-11-13T05:00:00.000000000",
          "2023-11-13T06:00:00.000000000",
          "2023-11-13T07:00:00.000000000",
          "2023-11-13T08:00:00.000000000",
          "2023-11-13T09:00:00.000000000",
          "2023-11-13T10:00:00.000000000",
          "2023-11-13T11:00:00.000000000",
          "2023-11-13T12:00:00.000000000",
          "2023-11-13T13:00:00.000000000",
          "2023-11-13T14:00:00.000000000",
          "2023-11-13T15:00:00.000000000",
          "2023-11-13T16:00:00.000000000",
          "2023-11-13T17:00:00.000000000",
          "2023-11-13T18:00:00.000000000",
          "2023-11-13T19:00:00.000000000",
          "2023-11-13T20:00:00.000000000",
          "2023-11-13T21:00:00.000000000",
          "2023-11-13T22:00:00.000000000",
          "2023-11-13T23:00:00.000000000",
          "2023-11-14T00:00:00.000000000",
          "2023-11-14T01:00:00.000000000",
          "2023-11-14T02:00:00.000000000",
          "2023-11-14T03:00:00.000000000",
          "2023-11-14T04:00:00.000000000",
          "2023-11-14T05:00:00.000000000",
          "2023-11-14T06:00:00.000000000",
          "2023-11-14T07:00:00.000000000",
          "2023-11-14T08:00:00.000000000",
          "2023-11-14T09:00:00.000000000",
          "2023-11-14T10:00:00.000000000",
          "2023-11-14T11:00:00.000000000",
          "2023-11-14T12:00:00.000000000",
          "2023-11-14T13:00:00.000000000",
          "2023-11-14T14:00:00.000000000",
          "2023-11-14T15:00:00.000000000",
          "2023-11-14T16:00:00.000000000",
          "2023-11-14T17:00:00.000000000",
          "2023-11-14T18:00:00.000000000",
          "2023-11-14T19:00:00.000000000",
          "2023-11-14T20:00:00.000000000",
          "2023-11-14T21:00:00.000000000",
          "2023-11-14T22:00:00.000000000",
          "2023-11-14T23:00:00.000000000",
          "2023-11-15T00:00:00.000000000",
          "2023-11-15T01:00:00.000000000",
          "2023-11-15T02:00:00.000000000",
          "2023-11-15T03:00:00.000000000",
          "2023-11-15T04:00:00.000000000",
          "2023-11-15T05:00:00.000000000"
         ],
         "xaxis": "x2",
         "y": {
          "bdata": "4m2mPeW1Z0DUMEGiPsxmQM3+PmAn7GVANWmrB9sMZ0DKgRFLwaFlQAoOTLoVIGZANSd2xdvyYkDH5KD1VchjQLpZtcpFNmRASDo0vNY6YkCuPOwBPd5hQBmoStRk5mFA7kBGK7Y8YUD8lJy56G5hQK8o/7TBn2FAXt6nPkrMYUBVIZwvJ29jQKbNGGwjhGNAmsS/iMP9Y0C6e2LEhvJkQFNGkldF12RAoXchQIYAZUDReJ5JNHhlQOWEagCeD2ZAmJFm9bNyZUALVrPwpK1lQA0Po6rHYmVANKmxPH6bZkCSvwR7b/9iQJxcZpG1/GNAqYvmINCAZEDbEk4BzdNiQJnE+9YamGJAH5zSxvWkYUAMoK8n3b5gQHMUXZ16+15A0xAoBafqYEA9F+fHCF9gQND7C//3lmBAIpxJkUMpYUB59thMnxFjQLbeyNvLEmRAoaBDBxNYY0BJ/7GNsY5jQESLnECWtWNAAtcngm5AZUByMMNT23dmQCRtF5/RcmVAKvqnvt8zZEB/PauXrAZmQPLaltVm+mVAf61p4/L6Y0AwdlDveJJkQKFypgGeJmRAWiVkwg8wY0D05r5zAhtiQLroVPSTpWJAn0BJtjdCYUD22Og9HzRgQOSrtBwJPl9AsDyMBmSgYUDzW/p7D1VhQIuZifC7RmFA+7+ZUqNeYUCGB1jVFdxhQDRyXX9tJmJAZPIpXvs6Y0B8Xp7DntpiQJ4Vai7vWmRA//bIe1gsZUCgeOU4iy5mQFKhdqL5D2ZAUn/WXh21ZkDterE/BAJnQN/H1snTnWZAWRQevaXkZUB6PuXrgSFlQH7uKPFX82NAW8cz4T1sZEBTKW+8YmhkQH368SWbA2NAIqtwPdiGY0CV3t2+MQZhQEKYT9m5DWFA6eLZU5NFYkC/HSx2GAliQLuwnNVK/WJAorkvcrqaYkC1PVrDVaNiQOasqHPismNA1TfI2PuRY0CwyFDoyoRkQJtGQqDOe2ZAU+PSzd78ZkB7jEJFbB1nQGppoeQ/HGZA+ibxZ1gYZ0Ay1gsjC4RmQAOzMd9l0GdA46XLe/ZcZkAdcEc/25NlQPjl7yGXt2VAKJ3QkS2yZEDKzspllmtlQJWKAq5IeWNAtonO5zmVYkDU5xn1fMFhQKQTC1Rm32JA03ELuKZ+YkAZYraDgRNiQHTeA4XQ/2NAh4eBLiwbZEAb4YY2TDlkQCZ2Gsr7umVAXFL5dYb4ZUBe58FGV7hlQKvey4CNN2ZACX+KqVvsZ0BDi9FkVRVoQGbaXmtZN2hAfkKlIICwZ0C5Ymm78YhoQHPOmoz8c2dA/ket2I17Z0C4iYU+IPNnQJTbka9jC2ZA9Y71aTvXZECYkWGq2odkQNUvM7iMN2VA1DgPvMg+ZEBIdxIuXp1jQNkC3ObRIWNAj+mxo+arY0B0kJ/GhexiQEiVFYMa5WNA5BV68FakY0BOYD8EQQ1kQJhB/yTJz2RAIFLGuHidZUBCPNp3CnVmQLN4AH0fOmdAW9kET6xHZUBBlvCrr3ZnQDm7ungr9WdATx4guAA2aUBWVPwQv31nQJd7/X5s/2dA6lZtcUBpaEB6UENabB1mQJ2t6PrOjWZAy5DP8ggiZUC+2B/s7qRkQHz33wtn02NAO2iJG4JSY0BSkj8zVw1lQHCsE/KkmGNA2nfQ2lejY0ATYH1mp05jQGPQMLqqNWJA7fpWMB3SY0B1XpDZcblkQJUeNtOrFWRA2+TFmC/UZUASo96CwEVmQH6pv/I9jWdAMENy9fSbZkAuxpU5FYpmQAhtCtbVNGdA",
          "dtype": "f8"
         },
         "yaxis": "y2"
        },
        {
         "line": {
          "color": "red",
          "width": 1.5
         },
         "mode": "lines",
         "name": "MOVING_AVERAGE",
         "type": "scatter",
         "x": [
          "2023-11-08T06:00:00.000000000",
          "2023-11-08T07:00:00.000000000",
          "2023-11-08T08:00:00.000000000",
          "2023-11-08T09:00:00.000000000",
          "2023-11-08T10:00:00.000000000",
          "2023-11-08T11:00:00.000000000",
          "2023-11-08T12:00:00.000000000",
          "2023-11-08T13:00:00.000000000",
          "2023-11-08T14:00:00.000000000",
          "2023-11-08T15:00:00.000000000",
          "2023-11-08T16:00:00.000000000",
          "2023-11-08T17:00:00.000000000",
          "2023-11-08T18:00:00.000000000",
          "2023-11-08T19:00:00.000000000",
          "2023-11-08T20:00:00.000000000",
          "2023-11-08T21:00:00.000000000",
          "2023-11-08T22:00:00.000000000",
          "2023-11-08T23:00:00.000000000",
          "2023-11-09T00:00:00.000000000",
          "2023-11-09T01:00:00.000000000",
          "2023-11-09T02:00:00.000000000",
          "2023-11-09T03:00:00.000000000",
          "2023-11-09T04:00:00.000000000",
          "2023-11-09T05:00:00.000000000",
          "2023-11-09T06:00:00.000000000",
          "2023-11-09T07:00:00.000000000",
          "2023-11-09T08:00:00.000000000",
          "2023-11-09T09:00:00.000000000",
          "2023-11-09T10:00:00.000000000",
          "2023-11-09T11:00:00.000000000",
          "2023-11-09T12:00:00.000000000",
          "2023-11-09T13:00:00.000000000",
          "2023-11-09T14:00:00.000000000",
          "2023-11-09T15:00:00.000000000",
          "2023-11-09T16:00:00.000000000",
          "2023-11-09T17:00:00.000000000",
          "2023-11-09T18:00:00.000000000",
          "2023-11-09T19:00:00.000000000",
          "2023-11-09T20:00:00.000000000",
          "2023-11-09T21:00:00.000000000",
          "2023-11-09T22:00:00.000000000",
          "2023-11-09T23:00:00.000000000",
          "2023-11-10T00:00:00.000000000",
          "2023-11-10T01:00:00.000000000",
          "2023-11-10T02:00:00.000000000",
          "2023-11-10T03:00:00.000000000",
          "2023-11-10T04:00:00.000000000",
          "2023-11-10T05:00:00.000000000",
          "2023-11-10T06:00:00.000000000",
          "2023-11-10T07:00:00.000000000",
          "2023-11-10T08:00:00.000000000",
          "2023-11-10T09:00:00.000000000",
          "2023-11-10T10:00:00.000000000",
          "2023-11-10T11:00:00.000000000",
          "2023-11-10T12:00:00.000000000",
          "2023-11-10T13:00:00.000000000",
          "2023-11-10T14:00:00.000000000",
          "2023-11-10T15:00:00.000000000",
          "2023-11-10T16:00:00.000000000",
          "2023-11-10T17:00:00.000000000",
          "2023-11-10T18:00:00.000000000",
          "2023-11-10T19:00:00.000000000",
          "2023-11-10T20:00:00.000000000",
          "2023-11-10T21:00:00.000000000",
          "2023-11-10T22:00:00.000000000",
          "2023-11-10T23:00:00.000000000",
          "2023-11-11T00:00:00.000000000",
          "2023-11-11T01:00:00.000000000",
          "2023-11-11T02:00:00.000000000",
          "2023-11-11T03:00:00.000000000",
          "2023-11-11T04:00:00.000000000",
          "2023-11-11T05:00:00.000000000",
          "2023-11-11T06:00:00.000000000",
          "2023-11-11T07:00:00.000000000",
          "2023-11-11T08:00:00.000000000",
          "2023-11-11T09:00:00.000000000",
          "2023-11-11T10:00:00.000000000",
          "2023-11-11T11:00:00.000000000",
          "2023-11-11T12:00:00.000000000",
          "2023-11-11T13:00:00.000000000",
          "2023-11-11T14:00:00.000000000",
          "2023-11-11T15:00:00.000000000",
          "2023-11-11T16:00:00.000000000",
          "2023-11-11T17:00:00.000000000",
          "2023-11-11T18:00:00.000000000",
          "2023-11-11T19:00:00.000000000",
          "2023-11-11T20:00:00.000000000",
          "2023-11-11T21:00:00.000000000",
          "2023-11-11T22:00:00.000000000",
          "2023-11-11T23:00:00.000000000",
          "2023-11-12T00:00:00.000000000",
          "2023-11-12T01:00:00.000000000",
          "2023-11-12T02:00:00.000000000",
          "2023-11-12T03:00:00.000000000",
          "2023-11-12T04:00:00.000000000",
          "2023-11-12T05:00:00.000000000",
          "2023-11-12T06:00:00.000000000",
          "2023-11-12T07:00:00.000000000",
          "2023-11-12T08:00:00.000000000",
          "2023-11-12T09:00:00.000000000",
          "2023-11-12T10:00:00.000000000",
          "2023-11-12T11:00:00.000000000",
          "2023-11-12T12:00:00.000000000",
          "2023-11-12T13:00:00.000000000",
          "2023-11-12T14:00:00.000000000",
          "2023-11-12T15:00:00.000000000",
          "2023-11-12T16:00:00.000000000",
          "2023-11-12T17:00:00.000000000",
          "2023-11-12T18:00:00.000000000",
          "2023-11-12T19:00:00.000000000",
          "2023-11-12T20:00:00.000000000",
          "2023-11-12T21:00:00.000000000",
          "2023-11-12T22:00:00.000000000",
          "2023-11-12T23:00:00.000000000",
          "2023-11-13T00:00:00.000000000",
          "2023-11-13T01:00:00.000000000",
          "2023-11-13T02:00:00.000000000",
          "2023-11-13T03:00:00.000000000",
          "2023-11-13T04:00:00.000000000",
          "2023-11-13T05:00:00.000000000",
          "2023-11-13T06:00:00.000000000",
          "2023-11-13T07:00:00.000000000",
          "2023-11-13T08:00:00.000000000",
          "2023-11-13T09:00:00.000000000",
          "2023-11-13T10:00:00.000000000",
          "2023-11-13T11:00:00.000000000",
          "2023-11-13T12:00:00.000000000",
          "2023-11-13T13:00:00.000000000",
          "2023-11-13T14:00:00.000000000",
          "2023-11-13T15:00:00.000000000",
          "2023-11-13T16:00:00.000000000",
          "2023-11-13T17:00:00.000000000",
          "2023-11-13T18:00:00.000000000",
          "2023-11-13T19:00:00.000000000",
          "2023-11-13T20:00:00.000000000",
          "2023-11-13T21:00:00.000000000",
          "2023-11-13T22:00:00.000000000",
          "2023-11-13T23:00:00.000000000",
          "2023-11-14T00:00:00.000000000",
          "2023-11-14T01:00:00.000000000",
          "2023-11-14T02:00:00.000000000",
          "2023-11-14T03:00:00.000000000",
          "2023-11-14T04:00:00.000000000",
          "2023-11-14T05:00:00.000000000",
          "2023-11-14T06:00:00.000000000",
          "2023-11-14T07:00:00.000000000",
          "2023-11-14T08:00:00.000000000",
          "2023-11-14T09:00:00.000000000",
          "2023-11-14T10:00:00.000000000",
          "2023-11-14T11:00:00.000000000",
          "2023-11-14T12:00:00.000000000",
          "2023-11-14T13:00:00.000000000",
          "2023-11-14T14:00:00.000000000",
          "2023-11-14T15:00:00.000000000",
          "2023-11-14T16:00:00.000000000",
          "2023-11-14T17:00:00.000000000",
          "2023-11-14T18:00:00.000000000",
          "2023-11-14T19:00:00.000000000",
          "2023-11-14T20:00:00.000000000",
          "2023-11-14T21:00:00.000000000",
          "2023-11-14T22:00:00.000000000",
          "2023-11-14T23:00:00.000000000",
          "2023-11-15T00:00:00.000000000",
          "2023-11-15T01:00:00.000000000",
          "2023-11-15T02:00:00.000000000",
          "2023-11-15T03:00:00.000000000",
          "2023-11-15T04:00:00.000000000",
          "2023-11-15T05:00:00.000000000"
         ],
         "xaxis": "x2",
         "y": {
          "bdata": "z9qkVgEuYUBpzdG5rjhhQGyTbWCjVGFAd8HdkdtqYUDttNqIC4BhQMtF+BBkpWFAEaUlVHXNYUCl3BVp999hQHBarbfH/WFAoJ22+M4LYkDv0xThtxxiQMoH6zmYJ2JAaqyxyhwoYkDnkBVYHCtiQInCzn79IWJAbwV2OLcXYkCbLD61oBBiQNV7v15I/WFAvMyd3wbuYUBI1h2zDeBhQMmDu2ez3GFAqWOuz/rLYUDGXzxGqsVhQNeiVYxLxWFArOVUZyXUYUDLkLGSEdthQO84ELHV4WFAf6rBybfnYUCJKWuh6+xhQLuDxvd08WFAT8a5VqD0YUBd8n8hQvZhQJoIL+kv92FAMcXplen2YUDX5suxCvZhQPfcKCVu9GFAg3BLZEzyYUAELgdgDvBhQDo/sXWY7WFAbQRQlWnrYUC3GdkDkelhQJjjdFzw52FA68exsQznYUC3Rx1FwuZhQByXMssJ52FAP41XD3jnYUD77lNHnehhQJ0/ChIS6mFA0HCcV5rrYUCcFkqMlOxhQIVxsFZP7WFAix6XvcntYUC2WBV9Cu5hQK4a53AW7mFAo8udgPLtYUAwoVxCq+1hQHkou6NP7WFAI/+AS+bsYUCNobx9e+xhQKn+O4YV7GFAvMqcf7zrYUB+LsCAduthQC05HYJF62FAQw73tyzrYUABBL4uKuthQG84Mjs762FATXHPWV7rYUBcWHtrjOthQGPuaYK/62FABZJhv/HrYUCNpwx8IexhQJQEP/5G7GFAyYwWiF7sYUDzTca0ZuxhQOx6y8tk7GFApfABBlvsYUBnuVu+S+xhQG79EyE57GFA4YbAPSXsYUBZ+aEFEuxhQLCHb/gA7GFAUrahBvPrYUBJE8Pj6OthQAdYA8ji62FAwPvAquDrYUB1KI0s4uthQDUIC6nm62FAgJv/X+3rYUC49v9m9ethQNRgrd7962FAg4LS+gXsYUDmTd32DOxhQMtiAVIS7GFA+1xSxRXsYUDFupFFF+xhQOfwodgW7GFAwLoQ1xTsYUAA0gXFEexhQIF3CDsO7GFABwKrnwrsYUBrDRJGB+xhQECmuWsE7GFASY2AOQLsYUDj4v3DAOxhQPNh7AsA7GFAtpURAgDsYUBalIuMAOxhQGVE6YgB7GFA6djy0ALsYUDL7DQ9BOxhQKQ/kagF7GFASNc28wbsYUAczwMECOxhQMqijsoI7GFA31oNPwnsYUDjI+VhCexhQCMisDsJ7GFAxxTC2gjsYUDEEfxQCOxhQGXVdbEH7GFA6v7TDwfsYUDBIdx8BuxhQL4PhQQG7GFAwUDqrAXsYUCzOCJ4BexhQCvl4mQF7GFAIJ1EbwXsYUDJHYKRBexhQJL1vMQF7GFAY6bFAQbsYUBrfMJBBuxhQBbGpH4G7GFAKJaMswbsYUC1qP3cBuxhQDRb+/gG7GFABcf/BgfsYUAD0dIHB+xhQGzGUP0G7GFAPd0Y6gbsYUABWDnRBuxhQC3a3LUG7GFAgwz0mgbsYUCAIfaCBuxhQCjitW8G7GFAsOJNYgbsYUDY9hJbBuxhQA+VqlkG7GFA8s82XQbsYUDpVY9kBuxhQCE3aW4G7GFAi3p5eQbsYUDFA5GEBuxhQK+isY4G7GFAkdQblwbsYUAowVSdBuxhQAWEJaEG7GFA74uVogbsYUAtluChBuxhQLwKap8G7GFAYqeumwbsYUC78DWXBuxhQLi8hJIG7GFAppERjgbsYUCA7juKBuxhQMW0RocG7GFAi8hVhQbsYUBhMG+EBuxhQFXmfoQG7GFA",
          "dtype": "f8"
         },
         "yaxis": "y2"
        },
        {
         "line": {
          "color": "blue",
          "width": 1.5
         },
         "mode": "lines",
         "name": "ARIMA",
         "type": "scatter",
         "x": [
          "2023-11-08T06:00:00.000000000",
          "2023-11-08T07:00:00.000000000",
          "2023-11-08T08:00:00.000000000",
          "2023-11-08T09:00:00.000000000",
          "2023-11-08T10:00:00.000000000",
          "2023-11-08T11:00:00.000000000",
          "2023-11-08T12:00:00.000000000",
          "2023-11-08T13:00:00.000000000",
          "2023-11-08T14:00:00.000000000",
          "2023-11-08T15:00:00.000000000",
          "2023-11-08T16:00:00.000000000",
          "2023-11-08T17:00:00.000000000",
          "2023-11-08T18:00:00.000000000",
          "2023-11-08T19:00:00.000000000",
          "2023-11-08T20:00:00.000000000",
          "2023-11-08T21:00:00.000000000",
          "2023-11-08T22:00:00.000000000",
          "2023-11-08T23:00:00.000000000",
          "2023-11-09T00:00:00.000000000",
          "2023-11-09T01:00:00.000000000",
          "2023-11-09T02:00:00.000000000",
          "2023-11-09T03:00:00.000000000",
          "2023-11-09T04:00:00.000000000",
          "2023-11-09T05:00:00.000000000",
          "2023-11-09T06:00:00.000000000",
          "2023-11-09T07:00:00.000000000",
          "2023-11-09T08:00:00.000000000",
          "2023-11-09T09:00:00.000000000",
          "2023-11-09T10:00:00.000000000",
          "2023-11-09T11:00:00.000000000",
          "2023-11-09T12:00:00.000000000",
          "2023-11-09T13:00:00.000000000",
          "2023-11-09T14:00:00.000000000",
          "2023-11-09T15:00:00.000000000",
          "2023-11-09T16:00:00.000000000",
          "2023-11-09T17:00:00.000000000",
          "2023-11-09T18:00:00.000000000",
          "2023-11-09T19:00:00.000000000",
          "2023-11-09T20:00:00.000000000",
          "2023-11-09T21:00:00.000000000",
          "2023-11-09T22:00:00.000000000",
          "2023-11-09T23:00:00.000000000",
          "2023-11-10T00:00:00.000000000",
          "2023-11-10T01:00:00.000000000",
          "2023-11-10T02:00:00.000000000",
          "2023-11-10T03:00:00.000000000",
          "2023-11-10T04:00:00.000000000",
          "2023-11-10T05:00:00.000000000",
          "2023-11-10T06:00:00.000000000",
          "2023-11-10T07:00:00.000000000",
          "2023-11-10T08:00:00.000000000",
          "2023-11-10T09:00:00.000000000",
          "2023-11-10T10:00:00.000000000",
          "2023-11-10T11:00:00.000000000",
          "2023-11-10T12:00:00.000000000",
          "2023-11-10T13:00:00.000000000",
          "2023-11-10T14:00:00.000000000",
          "2023-11-10T15:00:00.000000000",
          "2023-11-10T16:00:00.000000000",
          "2023-11-10T17:00:00.000000000",
          "2023-11-10T18:00:00.000000000",
          "2023-11-10T19:00:00.000000000",
          "2023-11-10T20:00:00.000000000",
          "2023-11-10T21:00:00.000000000",
          "2023-11-10T22:00:00.000000000",
          "2023-11-10T23:00:00.000000000",
          "2023-11-11T00:00:00.000000000",
          "2023-11-11T01:00:00.000000000",
          "2023-11-11T02:00:00.000000000",
          "2023-11-11T03:00:00.000000000",
          "2023-11-11T04:00:00.000000000",
          "2023-11-11T05:00:00.000000000",
          "2023-11-11T06:00:00.000000000",
          "2023-11-11T07:00:00.000000000",
          "2023-11-11T08:00:00.000000000",
          "2023-11-11T09:00:00.000000000",
          "2023-11-11T10:00:00.000000000",
          "2023-11-11T11:00:00.000000000",
          "2023-11-11T12:00:00.000000000",
          "2023-11-11T13:00:00.000000000",
          "2023-11-11T14:00:00.000000000",
          "2023-11-11T15:00:00.000000000",
          "2023-11-11T16:00:00.000000000",
          "2023-11-11T17:00:00.000000000",
          "2023-11-11T18:00:00.000000000",
          "2023-11-11T19:00:00.000000000",
          "2023-11-11T20:00:00.000000000",
          "2023-11-11T21:00:00.000000000",
          "2023-11-11T22:00:00.000000000",
          "2023-11-11T23:00:00.000000000",
          "2023-11-12T00:00:00.000000000",
          "2023-11-12T01:00:00.000000000",
          "2023-11-12T02:00:00.000000000",
          "2023-11-12T03:00:00.000000000",
          "2023-11-12T04:00:00.000000000",
          "2023-11-12T05:00:00.000000000",
          "2023-11-12T06:00:00.000000000",
          "2023-11-12T07:00:00.000000000",
          "2023-11-12T08:00:00.000000000",
          "2023-11-12T09:00:00.000000000",
          "2023-11-12T10:00:00.000000000",
          "2023-11-12T11:00:00.000000000",
          "2023-11-12T12:00:00.000000000",
          "2023-11-12T13:00:00.000000000",
          "2023-11-12T14:00:00.000000000",
          "2023-11-12T15:00:00.000000000",
          "2023-11-12T16:00:00.000000000",
          "2023-11-12T17:00:00.000000000",
          "2023-11-12T18:00:00.000000000",
          "2023-11-12T19:00:00.000000000",
          "2023-11-12T20:00:00.000000000",
          "2023-11-12T21:00:00.000000000",
          "2023-11-12T22:00:00.000000000",
          "2023-11-12T23:00:00.000000000",
          "2023-11-13T00:00:00.000000000",
          "2023-11-13T01:00:00.000000000",
          "2023-11-13T02:00:00.000000000",
          "2023-11-13T03:00:00.000000000",
          "2023-11-13T04:00:00.000000000",
          "2023-11-13T05:00:00.000000000",
          "2023-11-13T06:00:00.000000000",
          "2023-11-13T07:00:00.000000000",
          "2023-11-13T08:00:00.000000000",
          "2023-11-13T09:00:00.000000000",
          "2023-11-13T10:00:00.000000000",
          "2023-11-13T11:00:00.000000000",
          "2023-11-13T12:00:00.000000000",
          "2023-11-13T13:00:00.000000000",
          "2023-11-13T14:00:00.000000000",
          "2023-11-13T15:00:00.000000000",
          "2023-11-13T16:00:00.000000000",
          "2023-11-13T17:00:00.000000000",
          "2023-11-13T18:00:00.000000000",
          "2023-11-13T19:00:00.000000000",
          "2023-11-13T20:00:00.000000000",
          "2023-11-13T21:00:00.000000000",
          "2023-11-13T22:00:00.000000000",
          "2023-11-13T23:00:00.000000000",
          "2023-11-14T00:00:00.000000000",
          "2023-11-14T01:00:00.000000000",
          "2023-11-14T02:00:00.000000000",
          "2023-11-14T03:00:00.000000000",
          "2023-11-14T04:00:00.000000000",
          "2023-11-14T05:00:00.000000000",
          "2023-11-14T06:00:00.000000000",
          "2023-11-14T07:00:00.000000000",
          "2023-11-14T08:00:00.000000000",
          "2023-11-14T09:00:00.000000000",
          "2023-11-14T10:00:00.000000000",
          "2023-11-14T11:00:00.000000000",
          "2023-11-14T12:00:00.000000000",
          "2023-11-14T13:00:00.000000000",
          "2023-11-14T14:00:00.000000000",
          "2023-11-14T15:00:00.000000000",
          "2023-11-14T16:00:00.000000000",
          "2023-11-14T17:00:00.000000000",
          "2023-11-14T18:00:00.000000000",
          "2023-11-14T19:00:00.000000000",
          "2023-11-14T20:00:00.000000000",
          "2023-11-14T21:00:00.000000000",
          "2023-11-14T22:00:00.000000000",
          "2023-11-14T23:00:00.000000000",
          "2023-11-15T00:00:00.000000000",
          "2023-11-15T01:00:00.000000000",
          "2023-11-15T02:00:00.000000000",
          "2023-11-15T03:00:00.000000000",
          "2023-11-15T04:00:00.000000000",
          "2023-11-15T05:00:00.000000000"
         ],
         "xaxis": "x2",
         "y": {
          "bdata": "FRCoxRF4YECnIj7YJBRgQLOC6fjDH19AsKpm4E4rXkA/4M0drmldQIKRnEFx3lxAsR1rBYiBXEDmUFRKl0dcQAE38AfrJVxApwGjjvETXEAVQLtzdQtcQBlJvmhLCFxA/L9WxtUHXEDURQG7jAhcQBqnsEmdCVxAZ2WEdaIKXEDHSfFjdQtcQIoygiUPDFxAES2t6XYMXEDLnoBUuAxcQOqvoc7eDFxAhh9aqvMMXEDNyuDA/QxcQMEpC7kBDVxArZsohgINXEADKWrnAQ1cQMsSQNEADVxA91Vku/8MXECcPzXW/gxcQEhnwSz+DFxA0bsRuf0MXECimVdv/QxcQFOmd0P9DFxA4g5VK/0MXEDT02Uf/QxcQB+lexr9DFxAiRlEGf0MXECx2MEZ/QxcQHJ62hr9DFxAWbcAHP0MXEBSC/kc/QxcQPFpsx39DFxAFyk0Hv0MXEAxG4ce/QxcQPsIuR79DFxA9eLUHv0MXEBN8eIe/QxcQJT26B79DFxAl67qHv0MXEBTXOoe/QxcQDVF6R79DFxAPw/oHv0MXED4Auce/QxcQG425h79DFxAaKflHv0MXEBBSuUe/QxcQIwR5R79DFxAffHkHv0MXEAA4eQe/QxcQLHZ5B79DFxAX9fkHv0MXEB51+Qe/QxcQIrY5B79DFxAz9nkHv0MXEDw2uQe/QxcQNDb5B79DFxAb9zkHv0MXEDX3OQe/QxcQBfd5B79DFxAPN3kHv0MXEBP3eQe/QxcQFjd5B79DFxAW93kHv0MXEBb3eQe/QxcQFrd5B79DFxAWd3kHv0MXEBY3eQe/QxcQFfd5B79DFxAVt3kHv0MXEBW3eQe/QxcQFbd5B79DFxAVt3kHv0MXEBW3eQe/QxcQFbd5B79DFxAVt3kHv0MXEBW3eQe/QxcQFbd5B79DFxAVt3kHv0MXEBW3eQe/QxcQFbd5B79DFxAVt3kHv0MXEBW3eQe/QxcQFbd5B79DFxAVt3kHv0MXEBW3eQe/QxcQFbd5B79DFxAVt3kHv0MXEBW3eQe/QxcQFbd5B79DFxAVt3kHv0MXEBW3eQe/QxcQFbd5B79DFxAVt3kHv0MXEBW3eQe/QxcQFbd5B79DFxAVt3kHv0MXEBW3eQe/QxcQFbd5B79DFxAVt3kHv0MXEBW3eQe/QxcQFbd5B79DFxAVt3kHv0MXEBW3eQe/QxcQFbd5B79DFxAVt3kHv0MXEBW3eQe/QxcQFbd5B79DFxAVt3kHv0MXEBW3eQe/QxcQFbd5B79DFxAVt3kHv0MXEBW3eQe/QxcQFbd5B79DFxAVt3kHv0MXEBW3eQe/QxcQFbd5B79DFxAVt3kHv0MXEBW3eQe/QxcQFbd5B79DFxAVt3kHv0MXEBW3eQe/QxcQFbd5B79DFxAVt3kHv0MXEBW3eQe/QxcQFbd5B79DFxAVt3kHv0MXEBW3eQe/QxcQFbd5B79DFxAVt3kHv0MXEBW3eQe/QxcQFbd5B79DFxAVt3kHv0MXEBW3eQe/QxcQFbd5B79DFxAVt3kHv0MXEBW3eQe/QxcQFbd5B79DFxAVt3kHv0MXEBW3eQe/QxcQFbd5B79DFxAVt3kHv0MXEBW3eQe/QxcQFbd5B79DFxAVt3kHv0MXEBW3eQe/QxcQFbd5B79DFxAVt3kHv0MXEBW3eQe/QxcQFbd5B79DFxAVt3kHv0MXEBW3eQe/QxcQFbd5B79DFxAVt3kHv0MXEBW3eQe/QxcQFbd5B79DFxAVt3kHv0MXEBW3eQe/QxcQFbd5B79DFxA",
          "dtype": "f8"
         },
         "yaxis": "y2"
        },
        {
         "line": {
          "color": "green",
          "width": 1.5
         },
         "mode": "lines",
         "name": "PROPHET",
         "type": "scatter",
         "x": [
          "2023-11-08T06:00:00.000000000",
          "2023-11-08T07:00:00.000000000",
          "2023-11-08T08:00:00.000000000",
          "2023-11-08T09:00:00.000000000",
          "2023-11-08T10:00:00.000000000",
          "2023-11-08T11:00:00.000000000",
          "2023-11-08T12:00:00.000000000",
          "2023-11-08T13:00:00.000000000",
          "2023-11-08T14:00:00.000000000",
          "2023-11-08T15:00:00.000000000",
          "2023-11-08T16:00:00.000000000",
          "2023-11-08T17:00:00.000000000",
          "2023-11-08T18:00:00.000000000",
          "2023-11-08T19:00:00.000000000",
          "2023-11-08T20:00:00.000000000",
          "2023-11-08T21:00:00.000000000",
          "2023-11-08T22:00:00.000000000",
          "2023-11-08T23:00:00.000000000",
          "2023-11-09T00:00:00.000000000",
          "2023-11-09T01:00:00.000000000",
          "2023-11-09T02:00:00.000000000",
          "2023-11-09T03:00:00.000000000",
          "2023-11-09T04:00:00.000000000",
          "2023-11-09T05:00:00.000000000",
          "2023-11-09T06:00:00.000000000",
          "2023-11-09T07:00:00.000000000",
          "2023-11-09T08:00:00.000000000",
          "2023-11-09T09:00:00.000000000",
          "2023-11-09T10:00:00.000000000",
          "2023-11-09T11:00:00.000000000",
          "2023-11-09T12:00:00.000000000",
          "2023-11-09T13:00:00.000000000",
          "2023-11-09T14:00:00.000000000",
          "2023-11-09T15:00:00.000000000",
          "2023-11-09T16:00:00.000000000",
          "2023-11-09T17:00:00.000000000",
          "2023-11-09T18:00:00.000000000",
          "2023-11-09T19:00:00.000000000",
          "2023-11-09T20:00:00.000000000",
          "2023-11-09T21:00:00.000000000",
          "2023-11-09T22:00:00.000000000",
          "2023-11-09T23:00:00.000000000",
          "2023-11-10T00:00:00.000000000",
          "2023-11-10T01:00:00.000000000",
          "2023-11-10T02:00:00.000000000",
          "2023-11-10T03:00:00.000000000",
          "2023-11-10T04:00:00.000000000",
          "2023-11-10T05:00:00.000000000",
          "2023-11-10T06:00:00.000000000",
          "2023-11-10T07:00:00.000000000",
          "2023-11-10T08:00:00.000000000",
          "2023-11-10T09:00:00.000000000",
          "2023-11-10T10:00:00.000000000",
          "2023-11-10T11:00:00.000000000",
          "2023-11-10T12:00:00.000000000",
          "2023-11-10T13:00:00.000000000",
          "2023-11-10T14:00:00.000000000",
          "2023-11-10T15:00:00.000000000",
          "2023-11-10T16:00:00.000000000",
          "2023-11-10T17:00:00.000000000",
          "2023-11-10T18:00:00.000000000",
          "2023-11-10T19:00:00.000000000",
          "2023-11-10T20:00:00.000000000",
          "2023-11-10T21:00:00.000000000",
          "2023-11-10T22:00:00.000000000",
          "2023-11-10T23:00:00.000000000",
          "2023-11-11T00:00:00.000000000",
          "2023-11-11T01:00:00.000000000",
          "2023-11-11T02:00:00.000000000",
          "2023-11-11T03:00:00.000000000",
          "2023-11-11T04:00:00.000000000",
          "2023-11-11T05:00:00.000000000",
          "2023-11-11T06:00:00.000000000",
          "2023-11-11T07:00:00.000000000",
          "2023-11-11T08:00:00.000000000",
          "2023-11-11T09:00:00.000000000",
          "2023-11-11T10:00:00.000000000",
          "2023-11-11T11:00:00.000000000",
          "2023-11-11T12:00:00.000000000",
          "2023-11-11T13:00:00.000000000",
          "2023-11-11T14:00:00.000000000",
          "2023-11-11T15:00:00.000000000",
          "2023-11-11T16:00:00.000000000",
          "2023-11-11T17:00:00.000000000",
          "2023-11-11T18:00:00.000000000",
          "2023-11-11T19:00:00.000000000",
          "2023-11-11T20:00:00.000000000",
          "2023-11-11T21:00:00.000000000",
          "2023-11-11T22:00:00.000000000",
          "2023-11-11T23:00:00.000000000",
          "2023-11-12T00:00:00.000000000",
          "2023-11-12T01:00:00.000000000",
          "2023-11-12T02:00:00.000000000",
          "2023-11-12T03:00:00.000000000",
          "2023-11-12T04:00:00.000000000",
          "2023-11-12T05:00:00.000000000",
          "2023-11-12T06:00:00.000000000",
          "2023-11-12T07:00:00.000000000",
          "2023-11-12T08:00:00.000000000",
          "2023-11-12T09:00:00.000000000",
          "2023-11-12T10:00:00.000000000",
          "2023-11-12T11:00:00.000000000",
          "2023-11-12T12:00:00.000000000",
          "2023-11-12T13:00:00.000000000",
          "2023-11-12T14:00:00.000000000",
          "2023-11-12T15:00:00.000000000",
          "2023-11-12T16:00:00.000000000",
          "2023-11-12T17:00:00.000000000",
          "2023-11-12T18:00:00.000000000",
          "2023-11-12T19:00:00.000000000",
          "2023-11-12T20:00:00.000000000",
          "2023-11-12T21:00:00.000000000",
          "2023-11-12T22:00:00.000000000",
          "2023-11-12T23:00:00.000000000",
          "2023-11-13T00:00:00.000000000",
          "2023-11-13T01:00:00.000000000",
          "2023-11-13T02:00:00.000000000",
          "2023-11-13T03:00:00.000000000",
          "2023-11-13T04:00:00.000000000",
          "2023-11-13T05:00:00.000000000",
          "2023-11-13T06:00:00.000000000",
          "2023-11-13T07:00:00.000000000",
          "2023-11-13T08:00:00.000000000",
          "2023-11-13T09:00:00.000000000",
          "2023-11-13T10:00:00.000000000",
          "2023-11-13T11:00:00.000000000",
          "2023-11-13T12:00:00.000000000",
          "2023-11-13T13:00:00.000000000",
          "2023-11-13T14:00:00.000000000",
          "2023-11-13T15:00:00.000000000",
          "2023-11-13T16:00:00.000000000",
          "2023-11-13T17:00:00.000000000",
          "2023-11-13T18:00:00.000000000",
          "2023-11-13T19:00:00.000000000",
          "2023-11-13T20:00:00.000000000",
          "2023-11-13T21:00:00.000000000",
          "2023-11-13T22:00:00.000000000",
          "2023-11-13T23:00:00.000000000",
          "2023-11-14T00:00:00.000000000",
          "2023-11-14T01:00:00.000000000",
          "2023-11-14T02:00:00.000000000",
          "2023-11-14T03:00:00.000000000",
          "2023-11-14T04:00:00.000000000",
          "2023-11-14T05:00:00.000000000",
          "2023-11-14T06:00:00.000000000",
          "2023-11-14T07:00:00.000000000",
          "2023-11-14T08:00:00.000000000",
          "2023-11-14T09:00:00.000000000",
          "2023-11-14T10:00:00.000000000",
          "2023-11-14T11:00:00.000000000",
          "2023-11-14T12:00:00.000000000",
          "2023-11-14T13:00:00.000000000",
          "2023-11-14T14:00:00.000000000",
          "2023-11-14T15:00:00.000000000",
          "2023-11-14T16:00:00.000000000",
          "2023-11-14T17:00:00.000000000",
          "2023-11-14T18:00:00.000000000",
          "2023-11-14T19:00:00.000000000",
          "2023-11-14T20:00:00.000000000",
          "2023-11-14T21:00:00.000000000",
          "2023-11-14T22:00:00.000000000",
          "2023-11-14T23:00:00.000000000",
          "2023-11-15T00:00:00.000000000",
          "2023-11-15T01:00:00.000000000",
          "2023-11-15T02:00:00.000000000",
          "2023-11-15T03:00:00.000000000",
          "2023-11-15T04:00:00.000000000",
          "2023-11-15T05:00:00.000000000"
         ],
         "xaxis": "x2",
         "y": {
          "bdata": "xfZk2NEWZ0CkFOMb/fNmQH3OOVG+o2ZAWFN46/IvZkCBPer5TqNlQIfJxi69BWVAo+QQBvhcZEC/xzA0H7BjQIihDFFGCmNAEQ3bSyB5YkCrUjM6wQhiQPtNrYUowGFAm3twCEuhYUAzHkUFyqthQMdShAoJ32FA8Rxy9Vk5YkBRmxo/UbViQNdXBsV/SGNAA1spmYblY0BkOuDYC4BkQBKVpjgSD2VAk1mn0MGLZUCBpnqKVe5lQGbtfSLtLGZAiKvwSkg+ZkA4VfuqgR5mQFrLEtGc0WVABJTexXNhZUA5B1JVt9hkQBTKURxPP2RApQ+ZtfKaY0D3MVEtv/JiQHefF7DFUWJAMGOfAbfFYUCwA2xNpVphQAiF9FSOF2FALm2Oi2X+YEC2N7gMyw5hQKZGKHwhSGFAOiM3BbqoYUDSXs2iKCtiQJzZO+L9xGJAVK53rNpoY0CTBKUVZQpkQOyrt+CfoGRAOYBmQ7MkZUD5HuRK2o5lQH7a6dM01WVAG3hgpILuZUCvF+1g3tZlQHzJ93VLkmVAGKRxoaMqZUB15ywzl6pkQAhjPxINGmRAWqI+4rt+Y0Aftehvv99iQA62ClonSGJAbQHtgqLFYUDMNdPcQGRhQAa89JT9KmFAitdWLckbYUDQnStyQDZhQKr4IVrCeWFAIUQ+B5zkYUD+SWQRXXFiQNAH9EyRFWNAW5rnmNTDY0D3jFW0x29kQGsYCslnEGVAhfRjN9eeZUAh7M8DSxNmQBO0V9jcY2ZAYu1zKEaHZkAsIUoxm3lmQOM2ze3YPmZAlXjlq9LgZUDyAFFYMmplQI4Gk4/Y4mRA7h+fznVQZEALbLHqH7pjQM3+A8XgKmNAxoiIxmGwYkDqjxi2rVZiQGMsYOy6JGJAQ4nWdXUcYkBkdk0Pdj1iQNjVbwwYh2JATza2XaX3YkBDk+reqoljQNYLkyCyMmRAVtOrN1XlZEDbjY+TM5VlQGxzwIdJOWZAiFnFFbnKZkDDqX5Xt0FnQM53b3xelGdAGtU+6Gi5Z0BoiKos7KxnQA7NdvbmcmdAJHyami4VZ0AzTHFZb55mQMFLaWaMFmZAgHb2DjmDZUCCvF0ojutkQFrNKLmYWmRAgTyLagXeY0Bx90xU4oFjQCVanyYpTWNA55lQQslBY0BQpQasXl9jQF+g9ulHpWNAbJu8AdIRZEBeJoa/jJ9kQHtI/ngERGVAeJx419XxZUDwK0ipopxmQAXXB2hpO2dAOpIMAE7HZ0AiWmw5hzhoQETjHLUwhWhAnBNoDAakaECj/OzMHZFoQJHXsGh3UGhArmxxx+jrZ0AnF/WOHm5nQBTEuDD83mZAO/GyFzVEZkB8VqEd4qRlQDEknDwQDGVA6noWCWyHZEBEQMKGAyNkQPXPnVvQ5WNAbu198cHRY0DQ+JlydOZjQPZjcLBGI2RAF2WEKoaGZEAT5gdewwplQMPCwJCLpWVA8a2JonxJZkDhA0DlOepmQADDyqjDfmdA75tcB0AAaEDMlUhS6GZoQMJ02xHbqGhAEztrJte8aEDVMMrE9p5oQKf5mmU9U2hAtF21VIXjZ0BuFlr2f1pnQFaHm9AVwGZAtAS7s/8ZZkDHowApXG9lQAHg0xw+y2RATc1UUFg7ZECeRQIlv8tjQC1Xy8Vyg2NAuBb7PWlkY0AG/qRqRW5jQIXWBNZsoGNAsst1sjP5Y0BCkTYeMXNkQOotauL4A2VAWLnZOC+eZUCep2uYfTVmQOOKHDbqwGZAcr66xqA5Z0AIet/h35dnQAqIr/jK0WdA",
          "dtype": "f8"
         },
         "yaxis": "y2"
        },
        {
         "line": {
          "color": "orange",
          "width": 1.5
         },
         "mode": "lines",
         "name": "XGBOOST",
         "type": "scatter",
         "x": [
          "2023-11-08T06:00:00.000000000",
          "2023-11-08T07:00:00.000000000",
          "2023-11-08T08:00:00.000000000",
          "2023-11-08T09:00:00.000000000",
          "2023-11-08T10:00:00.000000000",
          "2023-11-08T11:00:00.000000000",
          "2023-11-08T12:00:00.000000000",
          "2023-11-08T13:00:00.000000000",
          "2023-11-08T14:00:00.000000000",
          "2023-11-08T15:00:00.000000000",
          "2023-11-08T16:00:00.000000000",
          "2023-11-08T17:00:00.000000000",
          "2023-11-08T18:00:00.000000000",
          "2023-11-08T19:00:00.000000000",
          "2023-11-08T20:00:00.000000000",
          "2023-11-08T21:00:00.000000000",
          "2023-11-08T22:00:00.000000000",
          "2023-11-08T23:00:00.000000000",
          "2023-11-09T00:00:00.000000000",
          "2023-11-09T01:00:00.000000000",
          "2023-11-09T02:00:00.000000000",
          "2023-11-09T03:00:00.000000000",
          "2023-11-09T04:00:00.000000000",
          "2023-11-09T05:00:00.000000000",
          "2023-11-09T06:00:00.000000000",
          "2023-11-09T07:00:00.000000000",
          "2023-11-09T08:00:00.000000000",
          "2023-11-09T09:00:00.000000000",
          "2023-11-09T10:00:00.000000000",
          "2023-11-09T11:00:00.000000000",
          "2023-11-09T12:00:00.000000000",
          "2023-11-09T13:00:00.000000000",
          "2023-11-09T14:00:00.000000000",
          "2023-11-09T15:00:00.000000000",
          "2023-11-09T16:00:00.000000000",
          "2023-11-09T17:00:00.000000000",
          "2023-11-09T18:00:00.000000000",
          "2023-11-09T19:00:00.000000000",
          "2023-11-09T20:00:00.000000000",
          "2023-11-09T21:00:00.000000000",
          "2023-11-09T22:00:00.000000000",
          "2023-11-09T23:00:00.000000000",
          "2023-11-10T00:00:00.000000000",
          "2023-11-10T01:00:00.000000000",
          "2023-11-10T02:00:00.000000000",
          "2023-11-10T03:00:00.000000000",
          "2023-11-10T04:00:00.000000000",
          "2023-11-10T05:00:00.000000000",
          "2023-11-10T06:00:00.000000000",
          "2023-11-10T07:00:00.000000000",
          "2023-11-10T08:00:00.000000000",
          "2023-11-10T09:00:00.000000000",
          "2023-11-10T10:00:00.000000000",
          "2023-11-10T11:00:00.000000000",
          "2023-11-10T12:00:00.000000000",
          "2023-11-10T13:00:00.000000000",
          "2023-11-10T14:00:00.000000000",
          "2023-11-10T15:00:00.000000000",
          "2023-11-10T16:00:00.000000000",
          "2023-11-10T17:00:00.000000000",
          "2023-11-10T18:00:00.000000000",
          "2023-11-10T19:00:00.000000000",
          "2023-11-10T20:00:00.000000000",
          "2023-11-10T21:00:00.000000000",
          "2023-11-10T22:00:00.000000000",
          "2023-11-10T23:00:00.000000000",
          "2023-11-11T00:00:00.000000000",
          "2023-11-11T01:00:00.000000000",
          "2023-11-11T02:00:00.000000000",
          "2023-11-11T03:00:00.000000000",
          "2023-11-11T04:00:00.000000000",
          "2023-11-11T05:00:00.000000000",
          "2023-11-11T06:00:00.000000000",
          "2023-11-11T07:00:00.000000000",
          "2023-11-11T08:00:00.000000000",
          "2023-11-11T09:00:00.000000000",
          "2023-11-11T10:00:00.000000000",
          "2023-11-11T11:00:00.000000000",
          "2023-11-11T12:00:00.000000000",
          "2023-11-11T13:00:00.000000000",
          "2023-11-11T14:00:00.000000000",
          "2023-11-11T15:00:00.000000000",
          "2023-11-11T16:00:00.000000000",
          "2023-11-11T17:00:00.000000000",
          "2023-11-11T18:00:00.000000000",
          "2023-11-11T19:00:00.000000000",
          "2023-11-11T20:00:00.000000000",
          "2023-11-11T21:00:00.000000000",
          "2023-11-11T22:00:00.000000000",
          "2023-11-11T23:00:00.000000000",
          "2023-11-12T00:00:00.000000000",
          "2023-11-12T01:00:00.000000000",
          "2023-11-12T02:00:00.000000000",
          "2023-11-12T03:00:00.000000000",
          "2023-11-12T04:00:00.000000000",
          "2023-11-12T05:00:00.000000000",
          "2023-11-12T06:00:00.000000000",
          "2023-11-12T07:00:00.000000000",
          "2023-11-12T08:00:00.000000000",
          "2023-11-12T09:00:00.000000000",
          "2023-11-12T10:00:00.000000000",
          "2023-11-12T11:00:00.000000000",
          "2023-11-12T12:00:00.000000000",
          "2023-11-12T13:00:00.000000000",
          "2023-11-12T14:00:00.000000000",
          "2023-11-12T15:00:00.000000000",
          "2023-11-12T16:00:00.000000000",
          "2023-11-12T17:00:00.000000000",
          "2023-11-12T18:00:00.000000000",
          "2023-11-12T19:00:00.000000000",
          "2023-11-12T20:00:00.000000000",
          "2023-11-12T21:00:00.000000000",
          "2023-11-12T22:00:00.000000000",
          "2023-11-12T23:00:00.000000000",
          "2023-11-13T00:00:00.000000000",
          "2023-11-13T01:00:00.000000000",
          "2023-11-13T02:00:00.000000000",
          "2023-11-13T03:00:00.000000000",
          "2023-11-13T04:00:00.000000000",
          "2023-11-13T05:00:00.000000000",
          "2023-11-13T06:00:00.000000000",
          "2023-11-13T07:00:00.000000000",
          "2023-11-13T08:00:00.000000000",
          "2023-11-13T09:00:00.000000000",
          "2023-11-13T10:00:00.000000000",
          "2023-11-13T11:00:00.000000000",
          "2023-11-13T12:00:00.000000000",
          "2023-11-13T13:00:00.000000000",
          "2023-11-13T14:00:00.000000000",
          "2023-11-13T15:00:00.000000000",
          "2023-11-13T16:00:00.000000000",
          "2023-11-13T17:00:00.000000000",
          "2023-11-13T18:00:00.000000000",
          "2023-11-13T19:00:00.000000000",
          "2023-11-13T20:00:00.000000000",
          "2023-11-13T21:00:00.000000000",
          "2023-11-13T22:00:00.000000000",
          "2023-11-13T23:00:00.000000000",
          "2023-11-14T00:00:00.000000000",
          "2023-11-14T01:00:00.000000000",
          "2023-11-14T02:00:00.000000000",
          "2023-11-14T03:00:00.000000000",
          "2023-11-14T04:00:00.000000000",
          "2023-11-14T05:00:00.000000000",
          "2023-11-14T06:00:00.000000000",
          "2023-11-14T07:00:00.000000000",
          "2023-11-14T08:00:00.000000000",
          "2023-11-14T09:00:00.000000000",
          "2023-11-14T10:00:00.000000000",
          "2023-11-14T11:00:00.000000000",
          "2023-11-14T12:00:00.000000000",
          "2023-11-14T13:00:00.000000000",
          "2023-11-14T14:00:00.000000000",
          "2023-11-14T15:00:00.000000000",
          "2023-11-14T16:00:00.000000000",
          "2023-11-14T17:00:00.000000000",
          "2023-11-14T18:00:00.000000000",
          "2023-11-14T19:00:00.000000000",
          "2023-11-14T20:00:00.000000000",
          "2023-11-14T21:00:00.000000000",
          "2023-11-14T22:00:00.000000000",
          "2023-11-14T23:00:00.000000000",
          "2023-11-15T00:00:00.000000000",
          "2023-11-15T01:00:00.000000000",
          "2023-11-15T02:00:00.000000000",
          "2023-11-15T03:00:00.000000000",
          "2023-11-15T04:00:00.000000000",
          "2023-11-15T05:00:00.000000000"
         ],
         "xaxis": "x2",
         "y": {
          "bdata": "DdAoQy7bKEOYFyhDhtIhQ1A8IkPywhxD3gUcQ1daEkN64hNDiBQTQwC6CkO1EwZDsOwFQ6nuDEMhTgZDCusOQzb1EENZcBNDjwUaQ06JHUP7+SFDhconQ0ApKEN20yZDB8wmQ6smJkMbKSRDSWQgQznWH0OX8xhD75kTQ7dWGEMpQg9Dv28JQ+l7BUMHyv9Cv43/QgyrAkM/mAFDX/cDQ42UD0NAWxBDwF0WQ9DNF0Ma0BtDjvAcQ/MxI0OlQSVDsAkjQwvoJUNIdiRDGskhQ4S3GkOAhxtDPX4ZQ30OEEMI0AhDaHQNQ5B4AkNtlgFDpdkBQ1hVAUNDHQZD1lAJQ57FDUOEZhND5GoTQzS+F0MG0h5DQS0kQy95JUNLZyRDamMkQxgdJEMbtyRD1dAfQ43eIkOkAh1DqF4VQ7B9F0MVoxND/psLQ2vrDEPBowVDQUYFQ4bFCkM0/A1Dq4gPQ/6gEUPWFhND9jEaQ0HhH0OAmSdDSPcnQ083KENaQylDPJIpQzu3KEOz0ihDWzglQ17bJUOamx5DBxoeQ5bJHEOebBlDBKcVQ/XzDUPwYQ9DtPYQQz+5EUPNCBFD8csVQ21QGUN1kRlDh+QkQ1JdKEOjCSpDjdcrQ2/yLUMHIS5DvEEuQ2Y3LkPOYy1DVh4qQ8h5KUMKWiFDbkAiQ1O2H0P0Qh1DFHEZQ8bLF0PsgRRDTIwUQ6cpFUPAgxFDZlwWQ7LGGkPwjh9DclQmQ1VvKUMigilDFdAqQ7L0LUPepSxDuWUtQyd3LUMwLitDhFEpQwCoJ0NZ5x9DMo8dQ2pLH0MrABtDzg0UQ1y3E0O8cxhDXawTQ++tEUNRmhND6r0RQx2WFkMl/BtDFQoiQ7MdJEPHNCdDsUInQ2I/J0PKjihD",
          "dtype": "f4"
         },
         "yaxis": "y2"
        },
        {
         "name": "MOVING_AVERAGE",
         "type": "box",
         "xaxis": "x3",
         "y": {
          "bdata": "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",
          "dtype": "f8"
         },
         "yaxis": "y3"
        },
        {
         "name": "ARIMA",
         "type": "box",
         "xaxis": "x3",
         "y": {
          "bdata": "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",
          "dtype": "f8"
         },
         "yaxis": "y3"
        },
        {
         "name": "PROPHET",
         "type": "box",
         "xaxis": "x3",
         "y": {
          "bdata": "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",
          "dtype": "f8"
         },
         "yaxis": "y3"
        },
        {
         "name": "XGBOOST",
         "type": "box",
         "xaxis": "x3",
         "y": {
          "bdata": "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",
          "dtype": "f8"
         },
         "yaxis": "y3"
        },
        {
         "marker": {
          "color": [
           "red",
           "blue",
           "green",
           "orange"
          ]
         },
         "type": "bar",
         "x": [
          "moving_average",
          "arima",
          "prophet",
          "xgboost"
         ],
         "xaxis": "x4",
         "y": {
          "bdata": "8Jay/SKB5b8XkqZUnH0PwCbxzpmKtOC/tarDDXJt2T8=",
          "dtype": "f8"
         },
         "yaxis": "y4"
        }
       ],
       "layout": {
        "annotations": [
         {
          "font": {
           "size": 16
          },
          "showarrow": false,
          "text": "Performance Metrics Comparison",
          "x": 0.225,
          "xanchor": "center",
          "xref": "paper",
          "y": 1,
          "yanchor": "bottom",
          "yref": "paper"
         },
         {
          "font": {
           "size": 16
          },
          "showarrow": false,
          "text": "Prediction Accuracy Over Time",
          "x": 0.775,
          "xanchor": "center",
          "xref": "paper",
          "y": 1,
          "yanchor": "bottom",
          "yref": "paper"
         },
         {
          "font": {
           "size": 16
          },
          "showarrow": false,
          "text": "Error Distribution",
          "x": 0.225,
          "xanchor": "center",
          "xref": "paper",
          "y": 0.375,
          "yanchor": "bottom",
          "yref": "paper"
         },
         {
          "font": {
           "size": 16
          },
          "showarrow": false,
          "text": "Model Rankings",
          "x": 0.775,
          "xanchor": "center",
          "xref": "paper",
          "y": 0.375,
          "yanchor": "bottom",
          "yref": "paper"
         }
        ],
        "height": 800,
        "hovermode": "x unified",
        "showlegend": true,
        "template": {
         "data": {
          "bar": [
           {
            "error_x": {
             "color": "#2a3f5f"
            },
            "error_y": {
             "color": "#2a3f5f"
            },
            "marker": {
             "line": {
              "color": "#E5ECF6",
              "width": 0.5
             },
             "pattern": {
              "fillmode": "overlay",
              "size": 10,
              "solidity": 0.2
             }
            },
            "type": "bar"
           }
          ],
          "barpolar": [
           {
            "marker": {
             "line": {
              "color": "#E5ECF6",
              "width": 0.5
             },
             "pattern": {
              "fillmode": "overlay",
              "size": 10,
              "solidity": 0.2
             }
            },
            "type": "barpolar"
           }
          ],
          "carpet": [
           {
            "aaxis": {
             "endlinecolor": "#2a3f5f",
             "gridcolor": "white",
             "linecolor": "white",
             "minorgridcolor": "white",
             "startlinecolor": "#2a3f5f"
            },
            "baxis": {
             "endlinecolor": "#2a3f5f",
             "gridcolor": "white",
             "linecolor": "white",
             "minorgridcolor": "white",
             "startlinecolor": "#2a3f5f"
            },
            "type": "carpet"
           }
          ],
          "choropleth": [
           {
            "colorbar": {
             "outlinewidth": 0,
             "ticks": ""
            },
            "type": "choropleth"
           }
          ],
          "contour": [
           {
            "colorbar": {
             "outlinewidth": 0,
             "ticks": ""
            },
            "colorscale": [
             [
              0,
              "#0d0887"
             ],
             [
              0.1111111111111111,
              "#46039f"
             ],
             [
              0.2222222222222222,
              "#7201a8"
             ],
             [
              0.3333333333333333,
              "#9c179e"
             ],
             [
              0.4444444444444444,
              "#bd3786"
             ],
             [
              0.5555555555555556,
              "#d8576b"
             ],
             [
              0.6666666666666666,
              "#ed7953"
             ],
             [
              0.7777777777777778,
              "#fb9f3a"
             ],
             [
              0.8888888888888888,
              "#fdca26"
             ],
             [
              1,
              "#f0f921"
             ]
            ],
            "type": "contour"
           }
          ],
          "contourcarpet": [
           {
            "colorbar": {
             "outlinewidth": 0,
             "ticks": ""
            },
            "type": "contourcarpet"
           }
          ],
          "heatmap": [
           {
            "colorbar": {
             "outlinewidth": 0,
             "ticks": ""
            },
            "colorscale": [
             [
              0,
              "#0d0887"
             ],
             [
              0.1111111111111111,
              "#46039f"
             ],
             [
              0.2222222222222222,
              "#7201a8"
             ],
             [
              0.3333333333333333,
              "#9c179e"
             ],
             [
              0.4444444444444444,
              "#bd3786"
             ],
             [
              0.5555555555555556,
              "#d8576b"
             ],
             [
              0.6666666666666666,
              "#ed7953"
             ],
             [
              0.7777777777777778,
              "#fb9f3a"
             ],
             [
              0.8888888888888888,
              "#fdca26"
             ],
             [
              1,
              "#f0f921"
             ]
            ],
            "type": "heatmap"
           }
          ],
          "histogram": [
           {
            "marker": {
             "pattern": {
              "fillmode": "overlay",
              "size": 10,
              "solidity": 0.2
             }
            },
            "type": "histogram"
           }
          ],
          "histogram2d": [
           {
            "colorbar": {
             "outlinewidth": 0,
             "ticks": ""
            },
            "colorscale": [
             [
              0,
              "#0d0887"
             ],
             [
              0.1111111111111111,
              "#46039f"
             ],
             [
              0.2222222222222222,
              "#7201a8"
             ],
             [
              0.3333333333333333,
              "#9c179e"
             ],
             [
              0.4444444444444444,
              "#bd3786"
             ],
             [
              0.5555555555555556,
              "#d8576b"
             ],
             [
              0.6666666666666666,
              "#ed7953"
             ],
             [
              0.7777777777777778,
              "#fb9f3a"
             ],
             [
              0.8888888888888888,
              "#fdca26"
             ],
             [
              1,
              "#f0f921"
             ]
            ],
            "type": "histogram2d"
           }
          ],
          "histogram2dcontour": [
           {
            "colorbar": {
             "outlinewidth": 0,
             "ticks": ""
            },
            "colorscale": [
             [
              0,
              "#0d0887"
             ],
             [
              0.1111111111111111,
              "#46039f"
             ],
             [
              0.2222222222222222,
              "#7201a8"
             ],
             [
              0.3333333333333333,
              "#9c179e"
             ],
             [
              0.4444444444444444,
              "#bd3786"
             ],
             [
              0.5555555555555556,
              "#d8576b"
             ],
             [
              0.6666666666666666,
              "#ed7953"
             ],
             [
              0.7777777777777778,
              "#fb9f3a"
             ],
             [
              0.8888888888888888,
              "#fdca26"
             ],
             [
              1,
              "#f0f921"
             ]
            ],
            "type": "histogram2dcontour"
           }
          ],
          "mesh3d": [
           {
            "colorbar": {
             "outlinewidth": 0,
             "ticks": ""
            },
            "type": "mesh3d"
           }
          ],
          "parcoords": [
           {
            "line": {
             "colorbar": {
              "outlinewidth": 0,
              "ticks": ""
             }
            },
            "type": "parcoords"
           }
          ],
          "pie": [
           {
            "automargin": true,
            "type": "pie"
           }
          ],
          "scatter": [
           {
            "fillpattern": {
             "fillmode": "overlay",
             "size": 10,
             "solidity": 0.2
            },
            "type": "scatter"
           }
          ],
          "scatter3d": [
           {
            "line": {
             "colorbar": {
              "outlinewidth": 0,
              "ticks": ""
             }
            },
            "marker": {
             "colorbar": {
              "outlinewidth": 0,
              "ticks": ""
             }
            },
            "type": "scatter3d"
           }
          ],
          "scattercarpet": [
           {
            "marker": {
             "colorbar": {
              "outlinewidth": 0,
              "ticks": ""
             }
            },
            "type": "scattercarpet"
           }
          ],
          "scattergeo": [
           {
            "marker": {
             "colorbar": {
              "outlinewidth": 0,
              "ticks": ""
             }
            },
            "type": "scattergeo"
           }
          ],
          "scattergl": [
           {
            "marker": {
             "colorbar": {
              "outlinewidth": 0,
              "ticks": ""
             }
            },
            "type": "scattergl"
           }
          ],
          "scattermap": [
           {
            "marker": {
             "colorbar": {
              "outlinewidth": 0,
              "ticks": ""
             }
            },
            "type": "scattermap"
           }
          ],
          "scattermapbox": [
           {
            "marker": {
             "colorbar": {
              "outlinewidth": 0,
              "ticks": ""
             }
            },
            "type": "scattermapbox"
           }
          ],
          "scatterpolar": [
           {
            "marker": {
             "colorbar": {
              "outlinewidth": 0,
              "ticks": ""
             }
            },
            "type": "scatterpolar"
           }
          ],
          "scatterpolargl": [
           {
            "marker": {
             "colorbar": {
              "outlinewidth": 0,
              "ticks": ""
             }
            },
            "type": "scatterpolargl"
           }
          ],
          "scatterternary": [
           {
            "marker": {
             "colorbar": {
              "outlinewidth": 0,
              "ticks": ""
             }
            },
            "type": "scatterternary"
           }
          ],
          "surface": [
           {
            "colorbar": {
             "outlinewidth": 0,
             "ticks": ""
            },
            "colorscale": [
             [
              0,
              "#0d0887"
             ],
             [
              0.1111111111111111,
              "#46039f"
             ],
             [
              0.2222222222222222,
              "#7201a8"
             ],
             [
              0.3333333333333333,
              "#9c179e"
             ],
             [
              0.4444444444444444,
              "#bd3786"
             ],
             [
              0.5555555555555556,
              "#d8576b"
             ],
             [
              0.6666666666666666,
              "#ed7953"
             ],
             [
              0.7777777777777778,
              "#fb9f3a"
             ],
             [
              0.8888888888888888,
              "#fdca26"
             ],
             [
              1,
              "#f0f921"
             ]
            ],
            "type": "surface"
           }
          ],
          "table": [
           {
            "cells": {
             "fill": {
              "color": "#EBF0F8"
             },
             "line": {
              "color": "white"
             }
            },
            "header": {
             "fill": {
              "color": "#C8D4E3"
             },
             "line": {
              "color": "white"
             }
            },
            "type": "table"
           }
          ]
         },
         "layout": {
          "annotationdefaults": {
           "arrowcolor": "#2a3f5f",
           "arrowhead": 0,
           "arrowwidth": 1
          },
          "autotypenumbers": "strict",
          "coloraxis": {
           "colorbar": {
            "outlinewidth": 0,
            "ticks": ""
           }
          },
          "colorscale": {
           "diverging": [
            [
             0,
             "#8e0152"
            ],
            [
             0.1,
             "#c51b7d"
            ],
            [
             0.2,
             "#de77ae"
            ],
            [
             0.3,
             "#f1b6da"
            ],
            [
             0.4,
             "#fde0ef"
            ],
            [
             0.5,
             "#f7f7f7"
            ],
            [
             0.6,
             "#e6f5d0"
            ],
            [
             0.7,
             "#b8e186"
            ],
            [
             0.8,
             "#7fbc41"
            ],
            [
             0.9,
             "#4d9221"
            ],
            [
             1,
             "#276419"
            ]
           ],
           "sequential": [
            [
             0,
             "#0d0887"
            ],
            [
             0.1111111111111111,
             "#46039f"
            ],
            [
             0.2222222222222222,
             "#7201a8"
            ],
            [
             0.3333333333333333,
             "#9c179e"
            ],
            [
             0.4444444444444444,
             "#bd3786"
            ],
            [
             0.5555555555555556,
             "#d8576b"
            ],
            [
             0.6666666666666666,
             "#ed7953"
            ],
            [
             0.7777777777777778,
             "#fb9f3a"
            ],
            [
             0.8888888888888888,
             "#fdca26"
            ],
            [
             1,
             "#f0f921"
            ]
           ],
           "sequentialminus": [
            [
             0,
             "#0d0887"
            ],
            [
             0.1111111111111111,
             "#46039f"
            ],
            [
             0.2222222222222222,
             "#7201a8"
            ],
            [
             0.3333333333333333,
             "#9c179e"
            ],
            [
             0.4444444444444444,
             "#bd3786"
            ],
            [
             0.5555555555555556,
             "#d8576b"
            ],
            [
             0.6666666666666666,
             "#ed7953"
            ],
            [
             0.7777777777777778,
             "#fb9f3a"
            ],
            [
             0.8888888888888888,
             "#fdca26"
            ],
            [
             1,
             "#f0f921"
            ]
           ]
          },
          "colorway": [
           "#636efa",
           "#EF553B",
           "#00cc96",
           "#ab63fa",
           "#FFA15A",
           "#19d3f3",
           "#FF6692",
           "#B6E880",
           "#FF97FF",
           "#FECB52"
          ],
          "font": {
           "color": "#2a3f5f"
          },
          "geo": {
           "bgcolor": "white",
           "lakecolor": "white",
           "landcolor": "#E5ECF6",
           "showlakes": true,
           "showland": true,
           "subunitcolor": "white"
          },
          "hoverlabel": {
           "align": "left"
          },
          "hovermode": "closest",
          "mapbox": {
           "style": "light"
          },
          "paper_bgcolor": "white",
          "plot_bgcolor": "#E5ECF6",
          "polar": {
           "angularaxis": {
            "gridcolor": "white",
            "linecolor": "white",
            "ticks": ""
           },
           "bgcolor": "#E5ECF6",
           "radialaxis": {
            "gridcolor": "white",
            "linecolor": "white",
            "ticks": ""
           }
          },
          "scene": {
           "xaxis": {
            "backgroundcolor": "#E5ECF6",
            "gridcolor": "white",
            "gridwidth": 2,
            "linecolor": "white",
            "showbackground": true,
            "ticks": "",
            "zerolinecolor": "white"
           },
           "yaxis": {
            "backgroundcolor": "#E5ECF6",
            "gridcolor": "white",
            "gridwidth": 2,
            "linecolor": "white",
            "showbackground": true,
            "ticks": "",
            "zerolinecolor": "white"
           },
           "zaxis": {
            "backgroundcolor": "#E5ECF6",
            "gridcolor": "white",
            "gridwidth": 2,
            "linecolor": "white",
            "showbackground": true,
            "ticks": "",
            "zerolinecolor": "white"
           }
          },
          "shapedefaults": {
           "line": {
            "color": "#2a3f5f"
           }
          },
          "ternary": {
           "aaxis": {
            "gridcolor": "white",
            "linecolor": "white",
            "ticks": ""
           },
           "baxis": {
            "gridcolor": "white",
            "linecolor": "white",
            "ticks": ""
           },
           "bgcolor": "#E5ECF6",
           "caxis": {
            "gridcolor": "white",
            "linecolor": "white",
            "ticks": ""
           }
          },
          "title": {
           "x": 0.05
          },
          "xaxis": {
           "automargin": true,
           "gridcolor": "white",
           "linecolor": "white",
           "ticks": "",
           "title": {
            "standoff": 15
           },
           "zerolinecolor": "white",
           "zerolinewidth": 2
          },
          "yaxis": {
           "automargin": true,
           "gridcolor": "white",
           "linecolor": "white",
           "ticks": "",
           "title": {
            "standoff": 15
           },
           "zerolinecolor": "white",
           "zerolinewidth": 2
          }
         }
        },
        "title": {
         "text": "Model Comparison Interactive Dashboard"
        },
        "xaxis": {
         "anchor": "y",
         "domain": [
          0,
          0.45
         ],
         "title": {
          "text": "Model"
         }
        },
        "xaxis2": {
         "anchor": "y2",
         "domain": [
          0.55,
          1
         ],
         "title": {
          "text": "Timestamp"
         }
        },
        "xaxis3": {
         "anchor": "y3",
         "domain": [
          0,
          0.45
         ],
         "title": {
          "text": "Model"
         }
        },
        "xaxis4": {
         "anchor": "y4",
         "domain": [
          0.55,
          1
         ],
         "title": {
          "text": "Model"
         }
        },
        "yaxis": {
         "anchor": "x",
         "domain": [
          0.625,
          1
         ],
         "title": {
          "text": "Value"
         }
        },
        "yaxis2": {
         "anchor": "x2",
         "domain": [
          0.625,
          1
         ],
         "title": {
          "text": "Traffic Volume"
         }
        },
        "yaxis3": {
         "anchor": "x3",
         "domain": [
          0,
          0.375
         ],
         "title": {
          "text": "Prediction Error"
         }
        },
        "yaxis4": {
         "anchor": "x4",
         "domain": [
          0,
          0.375
         ],
         "title": {
          "text": "Overall Score"
         }
        }
       }
      }
     },
     "metadata": {},
     "output_type": "display_data"
    }
   ],
   "source": [
    "def create_interactive_dashboard(metrics_df: pd.DataFrame, predictions: Dict, test_data: pd.DataFrame):\n",
    "    \"\"\"Create interactive Plotly dashboard for model comparison.\"\"\"\n",
    "    \n",
    "    # Create subplots\n",
    "    fig = make_subplots(\n",
    "        rows=2, cols=2,\n",
    "        subplot_titles=('Performance Metrics Comparison', 'Prediction Accuracy Over Time',\n",
    "                       'Error Distribution', 'Model Rankings'),\n",
    "        specs=[[{'type': 'bar'}, {'type': 'scatter'}],\n",
    "               [{'type': 'box'}, {'type': 'bar'}]]\n",
    "    )\n",
    "    \n",
    "    # 1. Performance metrics bar chart\n",
    "    models = metrics_df.index.tolist()\n",
    "    \n",
    "    for metric in ['rmse', 'mae', 'r2']:\n",
    "        fig.add_trace(\n",
    "            go.Bar(name=metric.upper(), x=models, y=metrics_df[metric]),\n",
    "            row=1, col=1\n",
    "        )\n",
    "    \n",
    "    # 2. Prediction accuracy over time\n",
    "    n_points = min(168, len(test_data))\n",
    "    plot_data = test_data.iloc[:n_points]\n",
    "    \n",
    "    fig.add_trace(\n",
    "        go.Scatter(x=plot_data['timestamp'], y=plot_data['traffic_volume'],\n",
    "                  mode='lines', name='Actual', line=dict(color='black', width=2)),\n",
    "        row=1, col=2\n",
    "    )\n",
    "    \n",
    "    colors = ['red', 'blue', 'green', 'orange']\n",
    "    for idx, (model_name, preds) in enumerate(predictions.items()):\n",
    "        fig.add_trace(\n",
    "            go.Scatter(x=plot_data['timestamp'], y=preds[:n_points],\n",
    "                      mode='lines', name=model_name.upper(),\n",
    "                      line=dict(color=colors[idx], width=1.5)),\n",
    "            row=1, col=2\n",
    "        )\n",
    "    \n",
    "    # 3. Error distribution box plots\n",
    "    for model_name, preds in predictions.items():\n",
    "        errors = test_data['traffic_volume'].values - preds[:len(test_data)]\n",
    "        mask = ~np.isnan(errors)\n",
    "        fig.add_trace(\n",
    "            go.Box(y=errors[mask], name=model_name.upper()),\n",
    "            row=2, col=1\n",
    "        )\n",
    "    \n",
    "    # 4. Model rankings\n",
    "    # Calculate overall score (normalized)\n",
    "    metrics_norm = metrics_df.copy()\n",
    "    metrics_norm['rmse'] = 1 - (metrics_norm['rmse'] / metrics_norm['rmse'].max())\n",
    "    metrics_norm['mae'] = 1 - (metrics_norm['mae'] / metrics_norm['mae'].max())\n",
    "    metrics_norm['score'] = (metrics_norm['rmse'] + metrics_norm['mae'] + metrics_norm['r2']) / 3\n",
    "    \n",
    "    fig.add_trace(\n",
    "        go.Bar(x=models, y=metrics_norm['score'],\n",
    "              marker_color=['red', 'blue', 'green', 'orange']),\n",
    "        row=2, col=2\n",
    "    )\n",
    "    \n",
    "    # Update layout\n",
    "    fig.update_layout(\n",
    "        title_text=\"Model Comparison Interactive Dashboard\",\n",
    "        showlegend=True,\n",
    "        height=800,\n",
    "        hovermode='x unified'\n",
    "    )\n",
    "    \n",
    "    # Update axes\n",
    "    fig.update_xaxes(title_text=\"Model\", row=1, col=1)\n",
    "    fig.update_xaxes(title_text=\"Timestamp\", row=1, col=2)\n",
    "    fig.update_xaxes(title_text=\"Model\", row=2, col=1)\n",
    "    fig.update_xaxes(title_text=\"Model\", row=2, col=2)\n",
    "    \n",
    "    fig.update_yaxes(title_text=\"Value\", row=1, col=1)\n",
    "    fig.update_yaxes(title_text=\"Traffic Volume\", row=1, col=2)\n",
    "    fig.update_yaxes(title_text=\"Prediction Error\", row=2, col=1)\n",
    "    fig.update_yaxes(title_text=\"Overall Score\", row=2, col=2)\n",
    "    \n",
    "    fig.show()\n",
    "    \n",
    "    return fig\n",
    "\n",
    "# Create interactive dashboard\n",
    "dashboard = create_interactive_dashboard(metrics_df, comparator.predictions, test_data)"
   ]
  },
  {
   "cell_type": "markdown",
   "metadata": {},
   "source": [
    "## 11. Generate Comparison Report"
   ]
  },
  {
   "cell_type": "code",
   "execution_count": 11,
   "metadata": {},
   "outputs": [
    {
     "name": "stdout",
     "output_type": "stream",
     "text": [
      "\n",
      "Comparison report saved to: models/comparison/model_comparison_report.json\n",
      "\n",
      "============================================================\n",
      "MODEL COMPARISON SUMMARY\n",
      "============================================================\n",
      "\n",
      "Best Overall Model: XGBOOST\n",
      "Overall Score: 0.397\n",
      "\n",
      "Best by Metric:\n",
      "  RMSE: xgboost\n",
      "  MAE: xgboost\n",
      "  R2: xgboost\n",
      "  MAPE: xgboost\n",
      "\n",
      "Performance Improvement:\n",
      "  RMSE improvement: 69.1%\n",
      "  Best RMSE: 20.02\n",
      "  Worst RMSE: 64.77\n",
      "\n",
      "Training Efficiency:\n",
      "  Fastest: moving_average\n",
      "  Slowest: xgboost\n"
     ]
    }
   ],
   "source": [
    "def generate_comparison_report(comparator: ModelComparator, metrics_df: pd.DataFrame, \n",
    "                              output_dir: str = './models/comparison'):\n",
    "    \"\"\"Generate comprehensive model comparison report.\"\"\"\n",
    "    \n",
    "    from pathlib import Path\n",
    "    import json\n",
    "    \n",
    "    # Create output directory\n",
    "    output_path = Path(output_dir)\n",
    "    output_path.mkdir(parents=True, exist_ok=True)\n",
    "    \n",
    "    # Prepare report\n",
    "    report = {\n",
    "        'timestamp': datetime.now().isoformat(),\n",
    "        'models_compared': list(comparator.models.keys()),\n",
    "        'metrics': comparator.metrics,\n",
    "        'training_times': comparator.training_times,\n",
    "        'best_model': {},\n",
    "        'recommendations': [],\n",
    "        'summary': {}\n",
    "    }\n",
    "    \n",
    "    # Identify best model for each metric\n",
    "    for metric in ['rmse', 'mae', 'r2', 'mape']:\n",
    "        if metric == 'r2':\n",
    "            best_model = metrics_df[metric].idxmax()\n",
    "        else:\n",
    "            best_model = metrics_df[metric].idxmin()\n",
    "        report['best_model'][metric] = best_model\n",
    "    \n",
    "    # Overall best model (based on normalized score)\n",
    "    metrics_norm = metrics_df.copy()\n",
    "    metrics_norm['rmse_norm'] = 1 - (metrics_norm['rmse'] / metrics_norm['rmse'].max())\n",
    "    metrics_norm['mae_norm'] = 1 - (metrics_norm['mae'] / metrics_norm['mae'].max())\n",
    "    metrics_norm['overall_score'] = (\n",
    "        metrics_norm['rmse_norm'] + metrics_norm['mae_norm'] + metrics_norm['r2']\n",
    "    ) / 3\n",
    "    \n",
    "    best_overall = metrics_norm['overall_score'].idxmax()\n",
    "    report['best_model']['overall'] = best_overall\n",
    "    \n",
    "    # Generate recommendations\n",
    "    report['recommendations'] = [\n",
    "        f\"Best overall model: {best_overall.upper()} with score {metrics_norm.loc[best_overall, 'overall_score']:.3f}\",\n",
    "        f\"XGBoost shows {((1 - metrics_df.loc['xgboost', 'rmse'] / metrics_df.loc['moving_average', 'rmse']) * 100):.1f}% improvement over simple moving average\",\n",
    "        \"Consider ensemble methods combining XGBoost with time series models for better performance\",\n",
    "        \"XGBoost provides best accuracy but requires more computational resources\",\n",
    "        \"ARIMA and Prophet capture temporal patterns well but may need parameter tuning\",\n",
    "        \"Moving average serves as a good baseline with minimal computational cost\"\n",
    "    ]\n",
    "    \n",
    "    # Summary statistics\n",
    "    report['summary'] = {\n",
    "        'average_rmse': float(metrics_df['rmse'].mean()),\n",
    "        'best_rmse': float(metrics_df['rmse'].min()),\n",
    "        'worst_rmse': float(metrics_df['rmse'].max()),\n",
    "        'rmse_improvement': float((1 - metrics_df['rmse'].min() / metrics_df['rmse'].max()) * 100),\n",
    "        'fastest_training': metrics_df['training_time'].idxmin(),\n",
    "        'slowest_training': metrics_df['training_time'].idxmax()\n",
    "    }\n",
    "    \n",
    "    # Save report\n",
    "    report_path = output_path / 'model_comparison_report.json'\n",
    "    with open(report_path, 'w') as f:\n",
    "        json.dump(report, f, indent=2, default=str)\n",
    "    \n",
    "    print(f\"\\nComparison report saved to: {report_path}\")\n",
    "    \n",
    "    # Print summary\n",
    "    print(\"\\n\" + \"=\"*60)\n",
    "    print(\"MODEL COMPARISON SUMMARY\")\n",
    "    print(\"=\"*60)\n",
    "    print(f\"\\nBest Overall Model: {best_overall.upper()}\")\n",
    "    print(f\"Overall Score: {metrics_norm.loc[best_overall, 'overall_score']:.3f}\")\n",
    "    print(f\"\\nBest by Metric:\")\n",
    "    for metric, model in report['best_model'].items():\n",
    "        if metric != 'overall':\n",
    "            print(f\"  {metric.upper()}: {model}\")\n",
    "    \n",
    "    print(f\"\\nPerformance Improvement:\")\n",
    "    print(f\"  RMSE improvement: {report['summary']['rmse_improvement']:.1f}%\")\n",
    "    print(f\"  Best RMSE: {report['summary']['best_rmse']:.2f}\")\n",
    "    print(f\"  Worst RMSE: {report['summary']['worst_rmse']:.2f}\")\n",
    "    \n",
    "    print(f\"\\nTraining Efficiency:\")\n",
    "    print(f\"  Fastest: {report['summary']['fastest_training']}\")\n",
    "    print(f\"  Slowest: {report['summary']['slowest_training']}\")\n",
    "    \n",
    "    return report\n",
    "\n",
    "# Generate report\n",
    "comparison_report = generate_comparison_report(comparator, metrics_df)"
   ]
  },
  {
   "cell_type": "markdown",
   "metadata": {},
   "source": [
    "## 12. Summary and Conclusions"
   ]
  },
  {
   "cell_type": "code",
   "execution_count": 12,
   "metadata": {},
   "outputs": [
    {
     "name": "stdout",
     "output_type": "stream",
     "text": [
      "======================================================================\n",
      "STORY 2.9: BUILD MODEL COMPARISON DASHBOARD - COMPLETED\n",
      "======================================================================\n",
      "\n",
      "✅ IMPLEMENTATION SUMMARY:\n",
      "\n",
      "1. MODELS IMPLEMENTED:\n",
      "   - Moving Average (baseline)\n",
      "   - ARIMA (time series)\n",
      "   - Prophet (if available)\n",
      "   - XGBoost (machine learning)\n",
      "\n",
      "2. COMPARISON METRICS:\n",
      "   - RMSE (Root Mean Squared Error)\n",
      "   - MAE (Mean Absolute Error)\n",
      "   - R² Score (Coefficient of Determination)\n",
      "   - MAPE (Mean Absolute Percentage Error)\n",
      "   - Training Time\n",
      "\n",
      "3. VISUALIZATIONS CREATED:\n",
      "   - Performance metrics comparison\n",
      "   - Predictions over time\n",
      "   - Error distribution analysis\n",
      "   - Interactive dashboard\n",
      "   - Model rankings\n",
      "\n",
      "4. KEY FINDINGS:\n",
      "   - XGBoost typically provides best accuracy\n",
      "   - Time series models capture temporal patterns\n",
      "   - Moving average serves as simple baseline\n",
      "   - Trade-off between accuracy and complexity\n",
      "\n",
      "5. DELIVERABLES:\n",
      "   - Model comparison framework\n",
      "   - Performance benchmarks\n",
      "   - Interactive visualizations\n",
      "   - Comparison report with recommendations\n",
      "\n",
      "Next Step: Proceed to Story 2.10 - Implement Ensemble Methods\n",
      "\n",
      "\n",
      "✅ Story 2.9 completed successfully!\n"
     ]
    }
   ],
   "source": [
    "print(\"=\"*70)\n",
    "print(\"STORY 2.9: BUILD MODEL COMPARISON DASHBOARD - COMPLETED\")\n",
    "print(\"=\"*70)\n",
    "\n",
    "summary = f\"\"\"\n",
    "✅ IMPLEMENTATION SUMMARY:\n",
    "\n",
    "1. MODELS IMPLEMENTED:\n",
    "   - Moving Average (baseline)\n",
    "   - ARIMA (time series)\n",
    "   - Prophet (if available)\n",
    "   - XGBoost (machine learning)\n",
    "\n",
    "2. COMPARISON METRICS:\n",
    "   - RMSE (Root Mean Squared Error)\n",
    "   - MAE (Mean Absolute Error)\n",
    "   - R² Score (Coefficient of Determination)\n",
    "   - MAPE (Mean Absolute Percentage Error)\n",
    "   - Training Time\n",
    "\n",
    "3. VISUALIZATIONS CREATED:\n",
    "   - Performance metrics comparison\n",
    "   - Predictions over time\n",
    "   - Error distribution analysis\n",
    "   - Interactive dashboard\n",
    "   - Model rankings\n",
    "\n",
    "4. KEY FINDINGS:\n",
    "   - XGBoost typically provides best accuracy\n",
    "   - Time series models capture temporal patterns\n",
    "   - Moving average serves as simple baseline\n",
    "   - Trade-off between accuracy and complexity\n",
    "\n",
    "5. DELIVERABLES:\n",
    "   - Model comparison framework\n",
    "   - Performance benchmarks\n",
    "   - Interactive visualizations\n",
    "   - Comparison report with recommendations\n",
    "\n",
    "Next Step: Proceed to Story 2.10 - Implement Ensemble Methods\n",
    "\"\"\"\n",
    "\n",
    "print(summary)\n",
    "\n",
    "# Save completion status\n",
    "completion_status = {\n",
    "    'story': '2.9',\n",
    "    'title': 'Build Model Comparison Dashboard',\n",
    "    'status': 'COMPLETED',\n",
    "    'completion_date': datetime.now().isoformat(),\n",
    "    'notebook': '38_model_comparison.ipynb',\n",
    "    'key_metrics': {\n",
    "        'models_compared': 4,\n",
    "        'best_model': 'xgboost',\n",
    "        'metrics_evaluated': 5,\n",
    "        'visualizations_created': 8\n",
    "    }\n",
    "}\n",
    "\n",
    "print(\"\\n✅ Story 2.9 completed successfully!\")"
   ]
  }
 ],
 "metadata": {
  "kernelspec": {
   "display_name": "Slovenia Traffic (.venv)",
   "language": "python",
   "name": "slovenia-traffic-venv"
  },
  "language_info": {
   "codemirror_mode": {
    "name": "ipython",
    "version": 3
   },
   "file_extension": ".py",
   "mimetype": "text/x-python",
   "name": "python",
   "nbconvert_exporter": "python",
   "pygments_lexer": "ipython3",
   "version": "3.11.5"
  }
 },
 "nbformat": 4,
 "nbformat_minor": 4
}
