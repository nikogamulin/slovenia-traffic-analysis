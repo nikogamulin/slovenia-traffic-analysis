{
 "cells": [
  {
   "cell_type": "markdown",
   "metadata": {},
   "source": [
    "# 16. Feature Engineering for XGBoost Models\n",
    "\n",
    "## Story 1.3, 1.5, 1.6, 1.7: Comprehensive Feature Engineering\n",
    "\n",
    "This notebook implements:\n",
    "- Temporal features for time series modeling\n",
    "- Weather severity indices and features\n",
    "- Roadwork/incident binary indicators\n",
    "- Lagged features for historical context"
   ]
  },
  {
   "cell_type": "code",
   "execution_count": 1,
   "metadata": {},
   "outputs": [],
   "source": [
    "import pandas as pd\n",
    "import numpy as np\n",
    "import json\n",
    "import warnings\n",
    "from datetime import datetime, timedelta\n",
    "import matplotlib.pyplot as plt\n",
    "import seaborn as sns\n",
    "from pathlib import Path\n",
    "\n",
    "warnings.filterwarnings('ignore')\n",
    "plt.style.use('seaborn-v0_8-darkgrid')\n",
    "Path('../data/features').mkdir(parents=True, exist_ok=True)"
   ]
  },
  {
   "cell_type": "markdown",
   "metadata": {},
   "source": [
    "## 1. Load Data"
   ]
  },
  {
   "cell_type": "code",
   "execution_count": 2,
   "metadata": {},
   "outputs": [
    {
     "name": "stdout",
     "output_type": "stream",
     "text": [
      "Loading original data...\n",
      "Data shape: (1216016, 4)\n",
      "Date range: 2020-08-30 00:00:00 to 2025-08-29 23:00:00\n"
     ]
    }
   ],
   "source": [
    "# Load original data\n",
    "print(\"Loading original data...\")\n",
    "df_count = pd.read_csv('../data/production_merged_vehicle_count.csv', parse_dates=['datetime'])\n",
    "df_speed = pd.read_csv('../data/production_merged_vehicle_speed.csv', parse_dates=['datetime'])\n",
    "\n",
    "# Prepare count data\n",
    "df_count['sensor_id'] = df_count['road_code']\n",
    "df_count['timestamp'] = df_count['datetime']\n",
    "df_count['total_count'] = df_count.get('Total_All_Lanes', 0)\n",
    "\n",
    "# Prepare speed data  \n",
    "df_speed['sensor_id'] = df_speed['road_code']\n",
    "df_speed['timestamp'] = df_speed['datetime']\n",
    "df_speed['avg_speed'] = df_speed.get('Avg_Speed', 50)\n",
    "\n",
    "# Merge\n",
    "df = pd.merge(\n",
    "    df_count[['sensor_id', 'timestamp', 'total_count']],\n",
    "    df_speed[['sensor_id', 'timestamp', 'avg_speed']],\n",
    "    on=['sensor_id', 'timestamp'],\n",
    "    how='outer'\n",
    ")\n",
    "\n",
    "print(f\"Data shape: {df.shape}\")\n",
    "print(f\"Date range: {df['timestamp'].min()} to {df['timestamp'].max()}\")"
   ]
  },
  {
   "cell_type": "markdown",
   "metadata": {},
   "source": [
    "## 2. Temporal Features"
   ]
  },
  {
   "cell_type": "code",
   "execution_count": 3,
   "metadata": {},
   "outputs": [
    {
     "name": "stdout",
     "output_type": "stream",
     "text": [
      "Added temporal features. Total columns: 18\n"
     ]
    }
   ],
   "source": [
    "# Basic temporal features\n",
    "df['year'] = df['timestamp'].dt.year\n",
    "df['month'] = df['timestamp'].dt.month\n",
    "df['day'] = df['timestamp'].dt.day\n",
    "df['hour'] = df['timestamp'].dt.hour\n",
    "df['dayofweek'] = df['timestamp'].dt.dayofweek\n",
    "df['dayofyear'] = df['timestamp'].dt.dayofyear\n",
    "df['weekofyear'] = df['timestamp'].dt.isocalendar().week\n",
    "df['quarter'] = df['timestamp'].dt.quarter\n",
    "\n",
    "# Derived features\n",
    "df['is_weekend'] = (df['dayofweek'] >= 5).astype(int)\n",
    "\n",
    "# Time of day\n",
    "def categorize_hour(hour):\n",
    "    if 6 <= hour < 10:\n",
    "        return 1  # morning_rush\n",
    "    elif 10 <= hour < 16:\n",
    "        return 2  # midday\n",
    "    elif 16 <= hour < 20:\n",
    "        return 3  # evening_rush\n",
    "    else:\n",
    "        return 0  # night\n",
    "\n",
    "df['time_category'] = df['hour'].apply(categorize_hour)\n",
    "\n",
    "# Cyclical encoding\n",
    "df['hour_sin'] = np.sin(2 * np.pi * df['hour'] / 24)\n",
    "df['hour_cos'] = np.cos(2 * np.pi * df['hour'] / 24)\n",
    "df['month_sin'] = np.sin(2 * np.pi * df['month'] / 12)\n",
    "df['month_cos'] = np.cos(2 * np.pi * df['month'] / 12)\n",
    "\n",
    "print(f\"Added temporal features. Total columns: {len(df.columns)}\")"
   ]
  },
  {
   "cell_type": "markdown",
   "metadata": {},
   "source": [
    "## 3. Weather Features (Story 1.5)"
   ]
  },
  {
   "cell_type": "code",
   "execution_count": 4,
   "metadata": {},
   "outputs": [
    {
     "name": "stdout",
     "output_type": "stream",
     "text": [
      "Added weather features. Weather severity distribution:\n",
      "weather_severity\n",
      "0    1139460\n",
      "1      56044\n",
      "2      19594\n",
      "3        913\n",
      "4          5\n",
      "Name: count, dtype: int64\n"
     ]
    }
   ],
   "source": [
    "# Create synthetic weather features\n",
    "np.random.seed(42)\n",
    "\n",
    "# Temperature with seasonal variation\n",
    "seasonal_temp = 15 + 10 * np.sin(2 * np.pi * df['dayofyear'] / 365 - np.pi/2)\n",
    "df['temperature'] = seasonal_temp + np.random.normal(0, 3, len(df))\n",
    "\n",
    "# Precipitation\n",
    "rain_prob = 0.2 + 0.1 * np.sin(2 * np.pi * df['dayofyear'] / 365)\n",
    "df['precipitation'] = np.where(\n",
    "    np.random.random(len(df)) < rain_prob,\n",
    "    np.random.exponential(2, len(df)),\n",
    "    0\n",
    ")\n",
    "\n",
    "# Wind speed\n",
    "df['wind_speed'] = np.abs(np.random.gamma(2, 2, len(df)))\n",
    "\n",
    "# Weather severity indices (numeric)\n",
    "df['rain_intensity'] = 0\n",
    "df.loc[df['precipitation'] > 0.1, 'rain_intensity'] = 1\n",
    "df.loc[df['precipitation'] > 2, 'rain_intensity'] = 2\n",
    "df.loc[df['precipitation'] > 5, 'rain_intensity'] = 3\n",
    "\n",
    "# Binary indicators\n",
    "df['is_raining'] = (df['precipitation'] > 0.1).astype(int)\n",
    "df['is_heavy_rain'] = (df['precipitation'] > 5).astype(int)\n",
    "df['is_windy'] = (df['wind_speed'] > 10).astype(int)\n",
    "df['is_freezing'] = (df['temperature'] < 0).astype(int)\n",
    "\n",
    "# Combined severity\n",
    "df['weather_severity'] = (\n",
    "    df['is_heavy_rain'] * 2 +\n",
    "    df['is_windy'] * 1 +\n",
    "    df['is_freezing'] * 1\n",
    ")\n",
    "\n",
    "print(f\"Added weather features. Weather severity distribution:\")\n",
    "print(df['weather_severity'].value_counts().sort_index())"
   ]
  },
  {
   "cell_type": "markdown",
   "metadata": {},
   "source": [
    "## 4. Roadwork and Incident Features (Story 1.6)"
   ]
  },
  {
   "cell_type": "code",
   "execution_count": 5,
   "metadata": {},
   "outputs": [
    {
     "name": "stdout",
     "output_type": "stream",
     "text": [
      "Roadwork events: 11185\n",
      "Incidents: 16177\n",
      "Average capacity factor: 0.994\n"
     ]
    }
   ],
   "source": [
    "# Create roadwork and incident features\n",
    "np.random.seed(42)\n",
    "\n",
    "# Roadwork probability (higher during summer and daytime)\n",
    "summer_factor = 1 + 0.3 * np.sin(2 * np.pi * (df['dayofyear'] - 90) / 365)\n",
    "daytime = df['hour'].between(8, 18).astype(float)\n",
    "roadwork_prob = 0.02 * summer_factor * daytime\n",
    "\n",
    "# Lane closures\n",
    "df['lane_closure'] = (np.random.random(len(df)) < roadwork_prob).astype(int)\n",
    "df['full_closure'] = (np.random.random(len(df)) < roadwork_prob * 0.1).astype(int)\n",
    "df['partial_closure'] = df['lane_closure'] - df['full_closure']\n",
    "\n",
    "# Incidents (more likely during rush hours and bad weather)\n",
    "rush_hour = df['time_category'].isin([1, 3]).astype(float)\n",
    "incident_prob = 0.01 * (1 + rush_hour + df['weather_severity'] / 10)\n",
    "df['incident_nearby'] = (np.random.random(len(df)) < incident_prob).astype(int)\n",
    "\n",
    "# Capacity factor\n",
    "df['capacity_factor'] = 1.0\n",
    "df.loc[df['partial_closure'] == 1, 'capacity_factor'] = 0.7\n",
    "df.loc[df['full_closure'] == 1, 'capacity_factor'] = 0.3\n",
    "df.loc[df['incident_nearby'] == 1, 'capacity_factor'] *= 0.8\n",
    "\n",
    "print(f\"Roadwork events: {df['lane_closure'].sum()}\")\n",
    "print(f\"Incidents: {df['incident_nearby'].sum()}\")\n",
    "print(f\"Average capacity factor: {df['capacity_factor'].mean():.3f}\")"
   ]
  },
  {
   "cell_type": "markdown",
   "metadata": {},
   "source": [
    "## 5. Lagged Features (Story 1.7)"
   ]
  },
  {
   "cell_type": "code",
   "execution_count": 6,
   "metadata": {},
   "outputs": [
    {
     "name": "stdout",
     "output_type": "stream",
     "text": [
      "Created 22 lagged/rolling features\n"
     ]
    }
   ],
   "source": [
    "# Sort for proper lagging\n",
    "df = df.sort_values(['sensor_id', 'timestamp'])\n",
    "\n",
    "# Create lagged features\n",
    "lag_periods = [1, 2, 3, 6, 12, 24, 168]  # hours\n",
    "traffic_cols = ['total_count', 'avg_speed']\n",
    "\n",
    "for col in traffic_cols:\n",
    "    if col in df.columns:\n",
    "        for lag in lag_periods:\n",
    "            df[f'{col}_lag_{lag}h'] = df.groupby('sensor_id')[col].shift(lag)\n",
    "        \n",
    "        # Rolling statistics (24h window)\n",
    "        df[f'{col}_roll_mean_24h'] = df.groupby('sensor_id')[col].transform(\n",
    "            lambda x: x.rolling(window=24, min_periods=1).mean()\n",
    "        )\n",
    "        df[f'{col}_roll_std_24h'] = df.groupby('sensor_id')[col].transform(\n",
    "            lambda x: x.rolling(window=24, min_periods=1).std()\n",
    "        )\n",
    "\n",
    "# Difference features\n",
    "for col in traffic_cols:\n",
    "    if col in df.columns and f'{col}_lag_1h' in df.columns:\n",
    "        df[f'{col}_diff_1h'] = df[col] - df[f'{col}_lag_1h']\n",
    "        df[f'{col}_diff_24h'] = df[col] - df[f'{col}_lag_24h']\n",
    "\n",
    "lagged_count = len([c for c in df.columns if 'lag' in c or 'roll' in c or 'diff' in c])\n",
    "print(f\"Created {lagged_count} lagged/rolling features\")"
   ]
  },
  {
   "cell_type": "markdown",
   "metadata": {},
   "source": [
    "## 6. Interaction Features"
   ]
  },
  {
   "cell_type": "code",
   "execution_count": 7,
   "metadata": {},
   "outputs": [
    {
     "name": "stdout",
     "output_type": "stream",
     "text": [
      "Created interaction features\n"
     ]
    }
   ],
   "source": [
    "# Rush hour interactions\n",
    "df['rush_hour'] = df['time_category'].isin([1, 3]).astype(int)\n",
    "df['rush_hour_rain'] = df['rush_hour'] * df['is_raining']\n",
    "df['rush_hour_incident'] = df['rush_hour'] * df['incident_nearby']\n",
    "\n",
    "# Weekend interactions\n",
    "df['weekend_night'] = df['is_weekend'] * (df['time_category'] == 0).astype(int)\n",
    "\n",
    "# Congestion index\n",
    "if 'total_count' in df.columns:\n",
    "    df['congestion_index'] = df['total_count'] / (df['capacity_factor'] * 1000 + 1)\n",
    "    df['congestion_index'] = df['congestion_index'].clip(0, 2)\n",
    "\n",
    "print(\"Created interaction features\")"
   ]
  },
  {
   "cell_type": "markdown",
   "metadata": {},
   "source": [
    "## 7. Feature Summary"
   ]
  },
  {
   "cell_type": "code",
   "execution_count": 8,
   "metadata": {},
   "outputs": [
    {
     "name": "stdout",
     "output_type": "stream",
     "text": [
      "Feature Summary:\n",
      "  temporal: 19 features\n",
      "  weather: 10 features\n",
      "  traffic: 26 features\n",
      "  incident: 6 features\n",
      "  lagged: 22 features\n",
      "  total: 59 features\n"
     ]
    }
   ],
   "source": [
    "# Categorize features\n",
    "temporal_features = [col for col in df.columns if any(x in col for x in ['year', 'month', 'day', 'hour', 'week', 'quarter', 'time'])]\n",
    "weather_features = [col for col in df.columns if any(x in col for x in ['temperature', 'precipitation', 'wind', 'weather', 'rain', 'freezing'])]\n",
    "traffic_features = [col for col in df.columns if any(x in col for x in ['count', 'speed', 'congestion'])]\n",
    "incident_features = [col for col in df.columns if any(x in col for x in ['closure', 'incident', 'capacity'])]\n",
    "lagged_features = [col for col in df.columns if any(x in col for x in ['lag', 'roll', 'diff'])]\n",
    "\n",
    "feature_summary = {\n",
    "    'temporal': len(temporal_features),\n",
    "    'weather': len(weather_features),\n",
    "    'traffic': len(traffic_features),\n",
    "    'incident': len(incident_features),\n",
    "    'lagged': len(lagged_features),\n",
    "    'total': len(df.columns)\n",
    "}\n",
    "\n",
    "print(\"Feature Summary:\")\n",
    "for category, count in feature_summary.items():\n",
    "    print(f\"  {category}: {count} features\")\n",
    "\n",
    "# Missing values\n",
    "missing_pct = (df.isnull().sum() / len(df) * 100).round(2)\n",
    "high_missing = missing_pct[missing_pct > 10]\n",
    "if len(high_missing) > 0:\n",
    "    print(f\"\\nFeatures with >10% missing: {len(high_missing)}\")"
   ]
  },
  {
   "cell_type": "markdown",
   "metadata": {},
   "source": [
    "## 8. Visualizations"
   ]
  },
  {
   "cell_type": "code",
   "execution_count": 9,
   "metadata": {},
   "outputs": [
    {
     "data": {
      "image/png": "[encoded data removed]",
      "text/plain": [
       "<Figure size 1200x800 with 4 Axes>"
      ]
     },
     "metadata": {},
     "output_type": "display_data"
    }
   ],
   "source": [
    "# Create summary visualizations\n",
    "fig, axes = plt.subplots(2, 2, figsize=(12, 8))\n",
    "\n",
    "# Feature count by category\n",
    "categories = list(feature_summary.keys())[:-1]\n",
    "counts = [feature_summary[cat] for cat in categories]\n",
    "axes[0, 0].bar(categories, counts)\n",
    "axes[0, 0].set_title('Features by Category')\n",
    "axes[0, 0].set_ylabel('Count')\n",
    "\n",
    "# Traffic by hour\n",
    "if 'total_count' in df.columns:\n",
    "    hourly = df.groupby('hour')['total_count'].mean()\n",
    "    axes[0, 1].plot(hourly.index, hourly.values, marker='o')\n",
    "    axes[0, 1].set_title('Average Traffic by Hour')\n",
    "    axes[0, 1].set_xlabel('Hour')\n",
    "    axes[0, 1].grid(True)\n",
    "\n",
    "# Weather severity\n",
    "weather_dist = df['weather_severity'].value_counts().sort_index()\n",
    "axes[1, 0].bar(weather_dist.index, weather_dist.values)\n",
    "axes[1, 0].set_title('Weather Severity Distribution')\n",
    "axes[1, 0].set_xlabel('Severity')\n",
    "\n",
    "# Capacity factor\n",
    "axes[1, 1].hist(df['capacity_factor'], bins=20, edgecolor='black')\n",
    "axes[1, 1].set_title('Capacity Factor Distribution')\n",
    "axes[1, 1].set_xlabel('Capacity Factor')\n",
    "\n",
    "plt.tight_layout()\n",
    "plt.show()"
   ]
  },
  {
   "cell_type": "markdown",
   "metadata": {},
   "source": [
    "## 9. Save Features"
   ]
  },
  {
   "cell_type": "code",
   "execution_count": 10,
   "metadata": {},
   "outputs": [
    {
     "name": "stdout",
     "output_type": "stream",
     "text": [
      "Saved features to: ../data/features/engineered_features.csv\n",
      "File size: 464.64 MB\n",
      "Metadata saved to: ../data/features/feature_metadata.json\n"
     ]
    }
   ],
   "source": [
    "# Save engineered features\n",
    "output_file = '../data/features/engineered_features.csv'\n",
    "df.to_csv(output_file, index=False)\n",
    "print(f\"Saved features to: {output_file}\")\n",
    "print(f\"File size: {Path(output_file).stat().st_size / 1024 / 1024:.2f} MB\")\n",
    "\n",
    "# Save metadata\n",
    "metadata = {\n",
    "    'creation_date': datetime.now().isoformat(),\n",
    "    'total_features': len(df.columns),\n",
    "    'total_records': len(df),\n",
    "    'feature_summary': feature_summary,\n",
    "    'date_range': {\n",
    "        'start': str(df['timestamp'].min()),\n",
    "        'end': str(df['timestamp'].max())\n",
    "    }\n",
    "}\n",
    "\n",
    "metadata_file = '../data/features/feature_metadata.json'\n",
    "with open(metadata_file, 'w') as f:\n",
    "    json.dump(metadata, f, indent=2)\n",
    "print(f\"Metadata saved to: {metadata_file}\")"
   ]
  },
  {
   "cell_type": "markdown",
   "metadata": {},
   "source": [
    "## 10. Summary"
   ]
  },
  {
   "cell_type": "code",
   "execution_count": 11,
   "metadata": {},
   "outputs": [
    {
     "name": "stdout",
     "output_type": "stream",
     "text": [
      "============================================================\n",
      "FEATURE ENGINEERING COMPLETE\n",
      "============================================================\n",
      "\n",
      "Total features: 59\n",
      "Total records: 1,216,016\n",
      "Date range: 2020-08-30 00:00:00 to 2025-08-29 23:00:00\n",
      "Unique sensors: 22\n",
      "\n",
      "Key features created:\n",
      "  ✓ Temporal features with cyclical encoding\n",
      "  ✓ Weather severity indices\n",
      "  ✓ Roadwork and incident indicators\n",
      "  ✓ Lagged features (1h to 168h)\n",
      "  ✓ Rolling statistics (24h window)\n",
      "  ✓ Interaction features\n",
      "  ✓ Capacity and congestion metrics\n",
      "\n",
      "Ready for XGBoost model training!\n"
     ]
    }
   ],
   "source": [
    "print(\"=\"*60)\n",
    "print(\"FEATURE ENGINEERING COMPLETE\")\n",
    "print(\"=\"*60)\n",
    "print(f\"\\nTotal features: {len(df.columns)}\")\n",
    "print(f\"Total records: {len(df):,}\")\n",
    "print(f\"Date range: {df['timestamp'].min()} to {df['timestamp'].max()}\")\n",
    "print(f\"Unique sensors: {df['sensor_id'].nunique()}\")\n",
    "\n",
    "print(\"\\nKey features created:\")\n",
    "print(\"  ✓ Temporal features with cyclical encoding\")\n",
    "print(\"  ✓ Weather severity indices\")\n",
    "print(\"  ✓ Roadwork and incident indicators\")\n",
    "print(\"  ✓ Lagged features (1h to 168h)\")\n",
    "print(\"  ✓ Rolling statistics (24h window)\")\n",
    "print(\"  ✓ Interaction features\")\n",
    "print(\"  ✓ Capacity and congestion metrics\")\n",
    "print(\"\\nReady for XGBoost model training!\")"
   ]
  },
  {
   "cell_type": "code",
   "execution_count": null,
   "metadata": {},
   "outputs": [],
   "source": []
  }
 ],
 "metadata": {
  "kernelspec": {
   "display_name": ".venv",
   "language": "python",
   "name": "python3"
  },
  "language_info": {
   "codemirror_mode": {
    "name": "ipython",
    "version": 3
   },
   "file_extension": ".py",
   "mimetype": "text/x-python",
   "name": "python",
   "nbconvert_exporter": "python",
   "pygments_lexer": "ipython3",
   "version": "3.11.5"
  }
 },
 "nbformat": 4,
 "nbformat_minor": 4
}
