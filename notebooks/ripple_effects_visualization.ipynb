{
 "cells": [
  {
   "cell_type": "markdown",
   "metadata": {},
   "source": [
    "# Traffic Ripple Effects Visualization\n",
    "## Slovenian Highway Network Analysis 2025\n",
    "\n",
    "This notebook provides comprehensive visualizations of how traffic disruptions propagate through the Slovenian highway network, demonstrating the ripple effects that led to the 2025 traffic collapse."
   ]
  },
  {
   "cell_type": "code",
   "execution_count": 2,
   "metadata": {},
   "outputs": [
    {
     "name": "stdout",
     "output_type": "stream",
     "text": [
      "Collecting networkx\n",
      "  Obtaining dependency information for networkx from https://files.pythonhosted.org/packages/eb/8d/776adee7bbf76365fdd7f2552710282c79a4ead5d2a46408c9043a2b70ba/networkx-3.5-py3-none-any.whl.metadata\n",
      "  Using cached networkx-3.5-py3-none-any.whl.metadata (6.3 kB)\n",
      "Using cached networkx-3.5-py3-none-any.whl (2.0 MB)\n",
      "Installing collected packages: networkx\n",
      "Successfully installed networkx-3.5\n",
      "\n",
      "\u001b[1m[\u001b[0m\u001b[34;49mnotice\u001b[0m\u001b[1;39;49m]\u001b[0m\u001b[39;49m A new release of pip is available: \u001b[0m\u001b[31;49m23.2.1\u001b[0m\u001b[39;49m -> \u001b[0m\u001b[32;49m25.2\u001b[0m\n",
      "\u001b[1m[\u001b[0m\u001b[34;49mnotice\u001b[0m\u001b[1;39;49m]\u001b[0m\u001b[39;49m To update, run: \u001b[0m\u001b[32;49mpip install --upgrade pip\u001b[0m\n"
     ]
    }
   ],
   "source": [
    "!pip install networkx"
   ]
  },
  {
   "cell_type": "code",
   "execution_count": 3,
   "metadata": {},
   "outputs": [
    {
     "name": "stdout",
     "output_type": "stream",
     "text": [
      "Libraries loaded successfully\n"
     ]
    }
   ],
   "source": [
    "# Import required libraries\n",
    "import pandas as pd\n",
    "import numpy as np\n",
    "import matplotlib.pyplot as plt\n",
    "import seaborn as sns\n",
    "import plotly.graph_objects as go\n",
    "import plotly.express as px\n",
    "from plotly.subplots import make_subplots\n",
    "import networkx as nx\n",
    "from datetime import datetime, timedelta\n",
    "import warnings\n",
    "from scipy import stats, signal\n",
    "from sklearn.preprocessing import StandardScaler\n",
    "import ipywidgets as widgets\n",
    "from IPython.display import display, HTML\n",
    "\n",
    "warnings.filterwarnings('ignore')\n",
    "\n",
    "# Set style\n",
    "plt.style.use('seaborn-v0_8-darkgrid')\n",
    "sns.set_palette('husl')\n",
    "\n",
    "print(\"Libraries loaded successfully\")"
   ]
  },
  {
   "cell_type": "markdown",
   "metadata": {},
   "source": [
    "## 1. Data Loading and Preparation"
   ]
  },
  {
   "cell_type": "code",
   "execution_count": 4,
   "metadata": {},
   "outputs": [
    {
     "name": "stdout",
     "output_type": "stream",
     "text": [
      "Loading traffic data...\n",
      "Baseline statistics not found, will calculate from data\n",
      "\n",
      "Data loaded:\n",
      "  Speed records: 1,183,248\n",
      "  Volume records: 876,480\n",
      "  Roadwork projects: 12\n",
      "  Date range: 2020-08-30 to 2025-08-29\n"
     ]
    }
   ],
   "source": [
    "# Load data\n",
    "print(\"Loading traffic data...\")\n",
    "\n",
    "# Load speed and volume data\n",
    "speed_df = pd.read_csv('../data/production_merged_vehicle_speed.csv')\n",
    "speed_df['date'] = pd.to_datetime(speed_df['date'])\n",
    "speed_df['datetime'] = pd.to_datetime(speed_df['date'].astype(str) + ' ' + speed_df['Time'])\n",
    "\n",
    "count_df = pd.read_csv('../data/production_merged_vehicle_count.csv')\n",
    "count_df['date'] = pd.to_datetime(count_df['date'])\n",
    "count_df['datetime'] = pd.to_datetime(count_df['date'].astype(str) + ' ' + count_df['Time'])\n",
    "\n",
    "# Load roadworks data\n",
    "roadworks = pd.read_csv('../data/external/roadworks/roadworks_actual_2024_2026.csv')\n",
    "roadworks['start_date'] = pd.to_datetime(roadworks['start_date'])\n",
    "roadworks['end_date'] = pd.to_datetime(roadworks['end_date'])\n",
    "\n",
    "# Load baseline statistics if available\n",
    "try:\n",
    "    baseline_stats = pd.read_csv('../data/baseline_statistics_2022_2023.csv')\n",
    "    print(f\"Loaded baseline statistics for {len(baseline_stats)} segments\")\n",
    "except:\n",
    "    print(\"Baseline statistics not found, will calculate from data\")\n",
    "    baseline_stats = None\n",
    "\n",
    "print(f\"\\nData loaded:\")\n",
    "print(f\"  Speed records: {len(speed_df):,}\")\n",
    "print(f\"  Volume records: {len(count_df):,}\")\n",
    "print(f\"  Roadwork projects: {len(roadworks)}\")\n",
    "print(f\"  Date range: {speed_df['date'].min().date()} to {speed_df['date'].max().date()}\")"
   ]
  },
  {
   "cell_type": "code",
   "execution_count": 5,
   "metadata": {},
   "outputs": [
    {
     "name": "stdout",
     "output_type": "stream",
     "text": [
      "Monitoring points (19):\n",
      "   1. Bertoki HC\n",
      "   2. Maribor HC\n",
      "   3. Maliska HC\n",
      "   4. Ljubljana Ring\n",
      "   5. Koper-Ljubljana\n",
      "   6. Celje-Maribor\n",
      "   7. Ljubljana-Celje\n",
      "   8. Maribor-Ptuj\n",
      "   9. Ljubljana-Kranj\n",
      "  10. Celje-Velenje\n",
      "  11. Novo Mesto-Ljubljana\n",
      "  12. Postojna-Koper\n",
      "  13. Ljubljana-Novo Mesto\n",
      "  14. Kranj-Bled\n",
      "  15. Velenje-Maribor\n",
      "  16. Murska Sobota HC\n",
      "  17. Ljubljana Bypass\n",
      "  18. Koper Port\n",
      "  19. Bled-Austria Border\n"
     ]
    }
   ],
   "source": [
    "# Get unique monitoring points\n",
    "monitoring_points = speed_df['road_name'].unique()\n",
    "print(f\"Monitoring points ({len(monitoring_points)}):\")\n",
    "for i, point in enumerate(monitoring_points, 1):\n",
    "    print(f\"  {i:2}. {point}\")"
   ]
  },
  {
   "cell_type": "markdown",
   "metadata": {},
   "source": [
    "## 2. Spatial Ripple Effect Visualization"
   ]
  },
  {
   "cell_type": "code",
   "execution_count": 6,
   "metadata": {},
   "outputs": [
    {
     "name": "stdout",
     "output_type": "stream",
     "text": [
      "Ripple effect calculated for RW_DARS_001 (A1 Slovenske Konjice - Dramlje)\n",
      "           segment   pre_speed  during_speed  speed_change  speed_change_pct\n",
      "0       Bertoki HC  105.434722    103.921307     -1.513415         -1.435405\n",
      "1       Maribor HC  104.945833    103.621956     -1.323878         -1.261487\n",
      "2       Maliska HC  104.651389    103.576160     -1.075229         -1.027439\n",
      "3   Ljubljana Ring  104.951389    103.686107     -1.265282         -1.205589\n",
      "4  Koper-Ljubljana  104.617361    103.625875     -0.991486         -0.947726\n"
     ]
    }
   ],
   "source": [
    "def calculate_ripple_effect(roadwork_id, speed_df, roadworks):\n",
    "    \"\"\"\n",
    "    Calculate speed changes during a specific roadwork project\n",
    "    \"\"\"\n",
    "    # Get roadwork details\n",
    "    rw = roadworks[roadworks['roadwork_id'] == roadwork_id].iloc[0]\n",
    "    \n",
    "    # Define time periods\n",
    "    pre_period = (rw['start_date'] - timedelta(days=30), rw['start_date'])\n",
    "    during_period = (rw['start_date'], min(rw['end_date'], speed_df['date'].max()))\n",
    "    \n",
    "    # Calculate average speeds\n",
    "    results = []\n",
    "    \n",
    "    for segment in monitoring_points:\n",
    "        # Pre-roadwork speeds\n",
    "        pre_speeds = speed_df[\n",
    "            (speed_df['road_name'] == segment) &\n",
    "            (speed_df['date'] >= pre_period[0]) &\n",
    "            (speed_df['date'] < pre_period[1])\n",
    "        ]['Avg_Speed'].mean()\n",
    "        \n",
    "        # During roadwork speeds\n",
    "        during_speeds = speed_df[\n",
    "            (speed_df['road_name'] == segment) &\n",
    "            (speed_df['date'] >= during_period[0]) &\n",
    "            (speed_df['date'] <= during_period[1])\n",
    "        ]['Avg_Speed'].mean()\n",
    "        \n",
    "        if pd.notna(pre_speeds) and pd.notna(during_speeds):\n",
    "            change = during_speeds - pre_speeds\n",
    "            change_pct = (change / pre_speeds) * 100 if pre_speeds > 0 else 0\n",
    "            \n",
    "            results.append({\n",
    "                'segment': segment,\n",
    "                'pre_speed': pre_speeds,\n",
    "                'during_speed': during_speeds,\n",
    "                'speed_change': change,\n",
    "                'speed_change_pct': change_pct\n",
    "            })\n",
    "    \n",
    "    return pd.DataFrame(results)\n",
    "\n",
    "# Calculate ripple effects for major roadwork\n",
    "ripple_rw001 = calculate_ripple_effect('RW_DARS_001', speed_df, roadworks)\n",
    "print(\"Ripple effect calculated for RW_DARS_001 (A1 Slovenske Konjice - Dramlje)\")\n",
    "print(ripple_rw001.head())"
   ]
  },
  {
   "cell_type": "code",
   "execution_count": 7,
   "metadata": {},
   "outputs": [
    {
     "data": {
      "image/png": "[encoded data removed]",
      "text/plain": [
       "<Figure size 1600x600 with 3 Axes>"
      ]
     },
     "metadata": {},
     "output_type": "display_data"
    }
   ],
   "source": [
    "# Visualize ripple effect as heatmap\n",
    "fig, (ax1, ax2) = plt.subplots(1, 2, figsize=(16, 6))\n",
    "\n",
    "# Sort segments by impact\n",
    "ripple_sorted = ripple_rw001.sort_values('speed_change_pct')\n",
    "\n",
    "# Bar chart of speed changes\n",
    "colors = ['red' if x < -20 else 'orange' if x < -10 else 'yellow' if x < 0 else 'green' \n",
    "          for x in ripple_sorted['speed_change_pct']]\n",
    "\n",
    "ax1.barh(range(len(ripple_sorted)), ripple_sorted['speed_change_pct'], color=colors)\n",
    "ax1.set_yticks(range(len(ripple_sorted)))\n",
    "ax1.set_yticklabels(ripple_sorted['segment'], fontsize=8)\n",
    "ax1.set_xlabel('Speed Change (%)')\n",
    "ax1.set_title('Speed Impact by Segment\\nRW_DARS_001: A1 Slovenske Konjice - Dramlje')\n",
    "ax1.axvline(x=0, color='black', linestyle='-', linewidth=0.5)\n",
    "ax1.grid(True, alpha=0.3)\n",
    "\n",
    "# Scatter plot of before/after speeds\n",
    "ax2.scatter(ripple_sorted['pre_speed'], ripple_sorted['during_speed'], \n",
    "           c=ripple_sorted['speed_change_pct'], cmap='RdYlGn', s=100, alpha=0.6)\n",
    "ax2.plot([40, 120], [40, 120], 'k--', alpha=0.5, label='No change')\n",
    "ax2.set_xlabel('Pre-Roadwork Speed (km/h)')\n",
    "ax2.set_ylabel('During Roadwork Speed (km/h)')\n",
    "ax2.set_title('Speed Comparison: Before vs During Roadwork')\n",
    "ax2.legend()\n",
    "ax2.grid(True, alpha=0.3)\n",
    "\n",
    "# Add colorbar\n",
    "cbar = plt.colorbar(ax2.collections[0], ax=ax2)\n",
    "cbar.set_label('Speed Change (%)')\n",
    "\n",
    "plt.tight_layout()\n",
    "plt.show()"
   ]
  },
  {
   "cell_type": "markdown",
   "metadata": {},
   "source": [
    "## 3. Network Graph Visualization"
   ]
  },
  {
   "cell_type": "code",
   "execution_count": 8,
   "metadata": {},
   "outputs": [
    {
     "name": "stdout",
     "output_type": "stream",
     "text": [
      "Network created: 11 nodes, 22 edges\n"
     ]
    }
   ],
   "source": [
    "# Build simplified network graph\n",
    "def build_highway_network():\n",
    "    G = nx.DiGraph()\n",
    "    \n",
    "    # Key nodes\n",
    "    nodes = [\n",
    "        ('Ljubljana', {'type': 'city', 'x': 0, 'y': 0}),\n",
    "        ('Maribor', {'type': 'city', 'x': 2, 'y': 1}),\n",
    "        ('Celje', {'type': 'city', 'x': 1, 'y': 0.5}),\n",
    "        ('Koper', {'type': 'port', 'x': -2, 'y': -1}),\n",
    "        ('Kranj', {'type': 'city', 'x': -0.5, 'y': 1}),\n",
    "        ('Novo_Mesto', {'type': 'city', 'x': 0.5, 'y': -1.5}),\n",
    "        ('Kozarje', {'type': 'interchange', 'x': -0.3, 'y': 0}),\n",
    "        ('Malence', {'type': 'interchange', 'x': 0.3, 'y': -0.3}),\n",
    "        ('Sentilj', {'type': 'border', 'x': 2.5, 'y': 1.5}),\n",
    "        ('Karawanks', {'type': 'border', 'x': -1, 'y': 1.5}),\n",
    "        ('Obrezje', {'type': 'border', 'x': 1, 'y': -2})\n",
    "    ]\n",
    "    \n",
    "    # Add nodes\n",
    "    for node, attrs in nodes:\n",
    "        G.add_node(node, **attrs)\n",
    "    \n",
    "    # Key edges (simplified)\n",
    "    edges = [\n",
    "        ('Sentilj', 'Maribor', {'highway': 'A1', 'distance': 17}),\n",
    "        ('Maribor', 'Celje', {'highway': 'A1', 'distance': 43}),\n",
    "        ('Celje', 'Ljubljana', {'highway': 'A1', 'distance': 75}),\n",
    "        ('Ljubljana', 'Kozarje', {'highway': 'A1', 'distance': 5}),\n",
    "        ('Kozarje', 'Koper', {'highway': 'A1', 'distance': 100}),\n",
    "        ('Karawanks', 'Kranj', {'highway': 'A2', 'distance': 35}),\n",
    "        ('Kranj', 'Ljubljana', {'highway': 'A2', 'distance': 25}),\n",
    "        ('Ljubljana', 'Malence', {'highway': 'A2', 'distance': 8}),\n",
    "        ('Malence', 'Novo_Mesto', {'highway': 'A2', 'distance': 65}),\n",
    "        ('Novo_Mesto', 'Obrezje', {'highway': 'A2', 'distance': 40}),\n",
    "        ('Kozarje', 'Malence', {'highway': 'Ring', 'distance': 10})\n",
    "    ]\n",
    "    \n",
    "    # Add edges (bidirectional)\n",
    "    for u, v, attrs in edges:\n",
    "        G.add_edge(u, v, **attrs)\n",
    "        G.add_edge(v, u, **attrs)\n",
    "    \n",
    "    return G\n",
    "\n",
    "G = build_highway_network()\n",
    "print(f\"Network created: {G.number_of_nodes()} nodes, {G.number_of_edges()} edges\")"
   ]
  },
  {
   "cell_type": "code",
   "execution_count": 9,
   "metadata": {},
   "outputs": [
    {
     "data": {
      "application/vnd.jupyter.widget-view+json": {
       "model_id": "54f1d1d5165b48a2a049a6b32bbb9ca6",
       "version_major": 2,
       "version_minor": 0
      },
      "text/plain": [
       "interactive(children=(Dropdown(description='Disrupted Node:', options=('None', 'Ljubljana', 'Maribor', 'Celje'…"
      ]
     },
     "metadata": {},
     "output_type": "display_data"
    },
    {
     "name": "stdout",
     "output_type": "stream",
     "text": [
      "Select a node to see ripple effects\n"
     ]
    }
   ],
   "source": [
    "# Interactive network visualization with Plotly\n",
    "def create_network_visualization(G, disrupted_node=None, impact_radius=2):\n",
    "    # Get positions\n",
    "    pos = {node: (G.nodes[node]['x'], G.nodes[node]['y']) for node in G.nodes()}\n",
    "    \n",
    "    # Calculate impact if disruption specified\n",
    "    node_colors = []\n",
    "    node_sizes = []\n",
    "    \n",
    "    if disrupted_node and disrupted_node in G.nodes():\n",
    "        # Calculate distances from disrupted node\n",
    "        distances = nx.single_source_shortest_path_length(G, disrupted_node, cutoff=impact_radius)\n",
    "        \n",
    "        for node in G.nodes():\n",
    "            if node == disrupted_node:\n",
    "                node_colors.append('red')\n",
    "                node_sizes.append(30)\n",
    "            elif node in distances:\n",
    "                # Color based on distance\n",
    "                dist = distances[node]\n",
    "                if dist == 1:\n",
    "                    node_colors.append('orange')\n",
    "                    node_sizes.append(25)\n",
    "                elif dist == 2:\n",
    "                    node_colors.append('yellow')\n",
    "                    node_sizes.append(20)\n",
    "                else:\n",
    "                    node_colors.append('lightgreen')\n",
    "                    node_sizes.append(15)\n",
    "            else:\n",
    "                node_colors.append('lightblue')\n",
    "                node_sizes.append(15)\n",
    "    else:\n",
    "        # Default colors by type\n",
    "        for node in G.nodes():\n",
    "            node_type = G.nodes[node].get('type', 'unknown')\n",
    "            if node_type == 'city':\n",
    "                node_colors.append('blue')\n",
    "                node_sizes.append(20)\n",
    "            elif node_type == 'interchange':\n",
    "                node_colors.append('red')\n",
    "                node_sizes.append(25)\n",
    "            elif node_type == 'border':\n",
    "                node_colors.append('green')\n",
    "                node_sizes.append(15)\n",
    "            elif node_type == 'port':\n",
    "                node_colors.append('orange')\n",
    "                node_sizes.append(20)\n",
    "            else:\n",
    "                node_colors.append('gray')\n",
    "                node_sizes.append(10)\n",
    "    \n",
    "    # Create edge trace\n",
    "    edge_trace = go.Scatter(\n",
    "        x=[],\n",
    "        y=[],\n",
    "        line=dict(width=0.5, color='#888'),\n",
    "        hoverinfo='none',\n",
    "        mode='lines')\n",
    "    \n",
    "    for edge in G.edges():\n",
    "        x0, y0 = pos[edge[0]]\n",
    "        x1, y1 = pos[edge[1]]\n",
    "        edge_trace['x'] += tuple([x0, x1, None])\n",
    "        edge_trace['y'] += tuple([y0, y1, None])\n",
    "    \n",
    "    # Create node trace\n",
    "    node_trace = go.Scatter(\n",
    "        x=[pos[node][0] for node in G.nodes()],\n",
    "        y=[pos[node][1] for node in G.nodes()],\n",
    "        mode='markers+text',\n",
    "        text=[node for node in G.nodes()],\n",
    "        textposition=\"top center\",\n",
    "        hoverinfo='text',\n",
    "        marker=dict(\n",
    "            size=node_sizes,\n",
    "            color=node_colors,\n",
    "            line_width=2))\n",
    "    \n",
    "    # Create figure\n",
    "    fig = go.Figure(data=[edge_trace, node_trace],\n",
    "                   layout=go.Layout(\n",
    "                       title=f'Highway Network Ripple Effect{\" from \" + disrupted_node if disrupted_node else \"\"}',\n",
    "                       titlefont_size=16,\n",
    "                       showlegend=False,\n",
    "                       hovermode='closest',\n",
    "                       margin=dict(b=20,l=5,r=5,t=40),\n",
    "                       xaxis=dict(showgrid=False, zeroline=False, showticklabels=False),\n",
    "                       yaxis=dict(showgrid=False, zeroline=False, showticklabels=False))\n",
    "                   )\n",
    "    \n",
    "    return fig\n",
    "\n",
    "# Create interactive widget\n",
    "disruption_dropdown = widgets.Dropdown(\n",
    "    options=['None'] + list(G.nodes()),\n",
    "    value='None',\n",
    "    description='Disrupted Node:',\n",
    "    style={'description_width': 'initial'}\n",
    ")\n",
    "\n",
    "def update_network(disrupted):\n",
    "    if disrupted == 'None':\n",
    "        fig = create_network_visualization(G)\n",
    "    else:\n",
    "        fig = create_network_visualization(G, disrupted)\n",
    "    fig.show()\n",
    "\n",
    "widgets.interact(update_network, disrupted=disruption_dropdown)\n",
    "print(\"Select a node to see ripple effects\")"
   ]
  },
  {
   "cell_type": "markdown",
   "metadata": {},
   "source": [
    "## 4. Temporal Propagation Analysis"
   ]
  },
  {
   "cell_type": "code",
   "execution_count": 10,
   "metadata": {},
   "outputs": [
    {
     "name": "stdout",
     "output_type": "stream",
     "text": [
      "Temporal data prepared for 4 segments\n",
      "Time period: 2025-06-15 to 2025-06-30\n"
     ]
    }
   ],
   "source": [
    "# Analyze temporal propagation of congestion\n",
    "def analyze_temporal_propagation(date_range, segments, speed_df):\n",
    "    \"\"\"\n",
    "    Analyze how speed changes propagate over time\n",
    "    \"\"\"\n",
    "    # Filter data\n",
    "    mask = (\n",
    "        (speed_df['date'] >= date_range[0]) & \n",
    "        (speed_df['date'] <= date_range[1]) &\n",
    "        (speed_df['road_name'].isin(segments))\n",
    "    )\n",
    "    \n",
    "    data = speed_df[mask].copy()\n",
    "    \n",
    "    # Pivot for time series\n",
    "    pivot = data.pivot_table(\n",
    "        index='datetime',\n",
    "        columns='road_name',\n",
    "        values='Avg_Speed',\n",
    "        aggfunc='mean'\n",
    "    )\n",
    "    \n",
    "    # Resample to hourly\n",
    "    hourly = pivot.resample('H').mean()\n",
    "    \n",
    "    return hourly\n",
    "\n",
    "# Select key segments for analysis\n",
    "key_segments = ['Ljubljana Bypass', 'Celje-Maribor', 'Koper-Ljubljana', 'Ljubljana Ring']\n",
    "\n",
    "# Analyze a specific period (e.g., major roadwork in 2025)\n",
    "analysis_period = (pd.Timestamp('2025-06-15'), pd.Timestamp('2025-06-30'))\n",
    "\n",
    "# Filter available segments\n",
    "available_segments = [s for s in key_segments if s in monitoring_points]\n",
    "\n",
    "if len(available_segments) > 0:\n",
    "    temporal_data = analyze_temporal_propagation(analysis_period, available_segments, speed_df)\n",
    "    print(f\"Temporal data prepared for {len(available_segments)} segments\")\n",
    "    print(f\"Time period: {analysis_period[0].date()} to {analysis_period[1].date()}\")\n",
    "else:\n",
    "    # Use all available segments if key ones not found\n",
    "    available_segments = list(monitoring_points[:4])  # Take first 4\n",
    "    temporal_data = analyze_temporal_propagation(analysis_period, available_segments, speed_df)\n",
    "    print(f\"Using alternative segments: {available_segments}\")"
   ]
  },
  {
   "cell_type": "code",
   "execution_count": 11,
   "metadata": {},
   "outputs": [
    {
     "data": {
      "application/vnd.plotly.v1+json": {
       "config": {
        "plotlyServerURL": "https://plot.ly"
       },
       "data": [
        {
         "line": {
          "color": "#636EFA",
          "width": 2
         },
         "name": "Ljubljana Bypass",
         "showlegend": true,
         "type": "scatter",
         "x": [
          "2025-06-15T00:00:00.000000000",
          "2025-06-15T01:00:00.000000000",
          "2025-06-15T02:00:00.000000000",
          "2025-06-15T03:00:00.000000000",
          "2025-06-15T04:00:00.000000000",
          "2025-06-15T05:00:00.000000000",
          "2025-06-15T06:00:00.000000000",
          "2025-06-15T07:00:00.000000000",
          "2025-06-15T08:00:00.000000000",
          "2025-06-15T09:00:00.000000000",
          "2025-06-15T10:00:00.000000000",
          "2025-06-15T11:00:00.000000000",
          "2025-06-15T12:00:00.000000000",
          "2025-06-15T13:00:00.000000000",
          "2025-06-15T14:00:00.000000000",
          "2025-06-15T15:00:00.000000000",
          "2025-06-15T16:00:00.000000000",
          "2025-06-15T17:00:00.000000000",
          "2025-06-15T18:00:00.000000000",
          "2025-06-15T19:00:00.000000000",
          "2025-06-15T20:00:00.000000000",
          "2025-06-15T21:00:00.000000000",
          "2025-06-15T22:00:00.000000000",
          "2025-06-15T23:00:00.000000000",
          "2025-06-16T00:00:00.000000000",
          "2025-06-16T01:00:00.000000000",
          "2025-06-16T02:00:00.000000000",
          "2025-06-16T03:00:00.000000000",
          "2025-06-16T04:00:00.000000000",
          "2025-06-16T05:00:00.000000000",
          "2025-06-16T06:00:00.000000000",
          "2025-06-16T07:00:00.000000000",
          "2025-06-16T08:00:00.000000000",
          "2025-06-16T09:00:00.000000000",
          "2025-06-16T10:00:00.000000000",
          "2025-06-16T11:00:00.000000000",
          "2025-06-16T12:00:00.000000000",
          "2025-06-16T13:00:00.000000000",
          "2025-06-16T14:00:00.000000000",
          "2025-06-16T15:00:00.000000000",
          "2025-06-16T16:00:00.000000000",
          "2025-06-16T17:00:00.000000000",
          "2025-06-16T18:00:00.000000000",
          "2025-06-16T19:00:00.000000000",
          "2025-06-16T20:00:00.000000000",
          "2025-06-16T21:00:00.000000000",
          "2025-06-16T22:00:00.000000000",
          "2025-06-16T23:00:00.000000000",
          "2025-06-17T00:00:00.000000000",
          "2025-06-17T01:00:00.000000000",
          "2025-06-17T02:00:00.000000000",
          "2025-06-17T03:00:00.000000000",
          "2025-06-17T04:00:00.000000000",
          "2025-06-17T05:00:00.000000000",
          "2025-06-17T06:00:00.000000000",
          "2025-06-17T07:00:00.000000000",
          "2025-06-17T08:00:00.000000000",
          "2025-06-17T09:00:00.000000000",
          "2025-06-17T10:00:00.000000000",
          "2025-06-17T11:00:00.000000000",
          "2025-06-17T12:00:00.000000000",
          "2025-06-17T13:00:00.000000000",
          "2025-06-17T14:00:00.000000000",
          "2025-06-17T15:00:00.000000000",
          "2025-06-17T16:00:00.000000000",
          "2025-06-17T17:00:00.000000000",
          "2025-06-17T18:00:00.000000000",
          "2025-06-17T19:00:00.000000000",
          "2025-06-17T20:00:00.000000000",
          "2025-06-17T21:00:00.000000000",
          "2025-06-17T22:00:00.000000000",
          "2025-06-17T23:00:00.000000000",
          "2025-06-18T00:00:00.000000000",
          "2025-06-18T01:00:00.000000000",
          "2025-06-18T02:00:00.000000000",
          "2025-06-18T03:00:00.000000000",
          "2025-06-18T04:00:00.000000000",
          "2025-06-18T05:00:00.000000000",
          "2025-06-18T06:00:00.000000000",
          "2025-06-18T07:00:00.000000000",
          "2025-06-18T08:00:00.000000000",
          "2025-06-18T09:00:00.000000000",
          "2025-06-18T10:00:00.000000000",
          "2025-06-18T11:00:00.000000000",
          "2025-06-18T12:00:00.000000000",
          "2025-06-18T13:00:00.000000000",
          "2025-06-18T14:00:00.000000000",
          "2025-06-18T15:00:00.000000000",
          "2025-06-18T16:00:00.000000000",
          "2025-06-18T17:00:00.000000000",
          "2025-06-18T18:00:00.000000000",
          "2025-06-18T19:00:00.000000000",
          "2025-06-18T20:00:00.000000000",
          "2025-06-18T21:00:00.000000000",
          "2025-06-18T22:00:00.000000000",
          "2025-06-18T23:00:00.000000000",
          "2025-06-19T00:00:00.000000000",
          "2025-06-19T01:00:00.000000000",
          "2025-06-19T02:00:00.000000000",
          "2025-06-19T03:00:00.000000000",
          "2025-06-19T04:00:00.000000000",
          "2025-06-19T05:00:00.000000000",
          "2025-06-19T06:00:00.000000000",
          "2025-06-19T07:00:00.000000000",
          "2025-06-19T08:00:00.000000000",
          "2025-06-19T09:00:00.000000000",
          "2025-06-19T10:00:00.000000000",
          "2025-06-19T11:00:00.000000000",
          "2025-06-19T12:00:00.000000000",
          "2025-06-19T13:00:00.000000000",
          "2025-06-19T14:00:00.000000000",
          "2025-06-19T15:00:00.000000000",
          "2025-06-19T16:00:00.000000000",
          "2025-06-19T17:00:00.000000000",
          "2025-06-19T18:00:00.000000000",
          "2025-06-19T19:00:00.000000000",
          "2025-06-19T20:00:00.000000000",
          "2025-06-19T21:00:00.000000000",
          "2025-06-19T22:00:00.000000000",
          "2025-06-19T23:00:00.000000000",
          "2025-06-20T00:00:00.000000000",
          "2025-06-20T01:00:00.000000000",
          "2025-06-20T02:00:00.000000000",
          "2025-06-20T03:00:00.000000000",
          "2025-06-20T04:00:00.000000000",
          "2025-06-20T05:00:00.000000000",
          "2025-06-20T06:00:00.000000000",
          "2025-06-20T07:00:00.000000000",
          "2025-06-20T08:00:00.000000000",
          "2025-06-20T09:00:00.000000000",
          "2025-06-20T10:00:00.000000000",
          "2025-06-20T11:00:00.000000000",
          "2025-06-20T12:00:00.000000000",
          "2025-06-20T13:00:00.000000000",
          "2025-06-20T14:00:00.000000000",
          "2025-06-20T15:00:00.000000000",
          "2025-06-20T16:00:00.000000000",
          "2025-06-20T17:00:00.000000000",
          "2025-06-20T18:00:00.000000000",
          "2025-06-20T19:00:00.000000000",
          "2025-06-20T20:00:00.000000000",
          "2025-06-20T21:00:00.000000000",
          "2025-06-20T22:00:00.000000000",
          "2025-06-20T23:00:00.000000000",
          "2025-06-21T00:00:00.000000000",
          "2025-06-21T01:00:00.000000000",
          "2025-06-21T02:00:00.000000000",
          "2025-06-21T03:00:00.000000000",
          "2025-06-21T04:00:00.000000000",
          "2025-06-21T05:00:00.000000000",
          "2025-06-21T06:00:00.000000000",
          "2025-06-21T07:00:00.000000000",
          "2025-06-21T08:00:00.000000000",
          "2025-06-21T09:00:00.000000000",
          "2025-06-21T10:00:00.000000000",
          "2025-06-21T11:00:00.000000000",
          "2025-06-21T12:00:00.000000000",
          "2025-06-21T13:00:00.000000000",
          "2025-06-21T14:00:00.000000000",
          "2025-06-21T15:00:00.000000000",
          "2025-06-21T16:00:00.000000000",
          "2025-06-21T17:00:00.000000000",
          "2025-06-21T18:00:00.000000000",
          "2025-06-21T19:00:00.000000000",
          "2025-06-21T20:00:00.000000000",
          "2025-06-21T21:00:00.000000000",
          "2025-06-21T22:00:00.000000000",
          "2025-06-21T23:00:00.000000000",
          "2025-06-22T00:00:00.000000000",
          "2025-06-22T01:00:00.000000000",
          "2025-06-22T02:00:00.000000000",
          "2025-06-22T03:00:00.000000000",
          "2025-06-22T04:00:00.000000000",
          "2025-06-22T05:00:00.000000000",
          "2025-06-22T06:00:00.000000000",
          "2025-06-22T07:00:00.000000000",
          "2025-06-22T08:00:00.000000000",
          "2025-06-22T09:00:00.000000000",
          "2025-06-22T10:00:00.000000000",
          "2025-06-22T11:00:00.000000000",
          "2025-06-22T12:00:00.000000000",
          "2025-06-22T13:00:00.000000000",
          "2025-06-22T14:00:00.000000000",
          "2025-06-22T15:00:00.000000000",
          "2025-06-22T16:00:00.000000000",
          "2025-06-22T17:00:00.000000000",
          "2025-06-22T18:00:00.000000000",
          "2025-06-22T19:00:00.000000000",
          "2025-06-22T20:00:00.000000000",
          "2025-06-22T21:00:00.000000000",
          "2025-06-22T22:00:00.000000000",
          "2025-06-22T23:00:00.000000000",
          "2025-06-23T00:00:00.000000000",
          "2025-06-23T01:00:00.000000000",
          "2025-06-23T02:00:00.000000000",
          "2025-06-23T03:00:00.000000000",
          "2025-06-23T04:00:00.000000000",
          "2025-06-23T05:00:00.000000000",
          "2025-06-23T06:00:00.000000000",
          "2025-06-23T07:00:00.000000000",
          "2025-06-23T08:00:00.000000000",
          "2025-06-23T09:00:00.000000000",
          "2025-06-23T10:00:00.000000000",
          "2025-06-23T11:00:00.000000000",
          "2025-06-23T12:00:00.000000000",
          "2025-06-23T13:00:00.000000000",
          "2025-06-23T14:00:00.000000000",
          "2025-06-23T15:00:00.000000000",
          "2025-06-23T16:00:00.000000000",
          "2025-06-23T17:00:00.000000000",
          "2025-06-23T18:00:00.000000000",
          "2025-06-23T19:00:00.000000000",
          "2025-06-23T20:00:00.000000000",
          "2025-06-23T21:00:00.000000000",
          "2025-06-23T22:00:00.000000000",
          "2025-06-23T23:00:00.000000000",
          "2025-06-24T00:00:00.000000000",
          "2025-06-24T01:00:00.000000000",
          "2025-06-24T02:00:00.000000000",
          "2025-06-24T03:00:00.000000000",
          "2025-06-24T04:00:00.000000000",
          "2025-06-24T05:00:00.000000000",
          "2025-06-24T06:00:00.000000000",
          "2025-06-24T07:00:00.000000000",
          "2025-06-24T08:00:00.000000000",
          "2025-06-24T09:00:00.000000000",
          "2025-06-24T10:00:00.000000000",
          "2025-06-24T11:00:00.000000000",
          "2025-06-24T12:00:00.000000000",
          "2025-06-24T13:00:00.000000000",
          "2025-06-24T14:00:00.000000000",
          "2025-06-24T15:00:00.000000000",
          "2025-06-24T16:00:00.000000000",
          "2025-06-24T17:00:00.000000000",
          "2025-06-24T18:00:00.000000000",
          "2025-06-24T19:00:00.000000000",
          "2025-06-24T20:00:00.000000000",
          "2025-06-24T21:00:00.000000000",
          "2025-06-24T22:00:00.000000000",
          "2025-06-24T23:00:00.000000000",
          "2025-06-25T00:00:00.000000000",
          "2025-06-25T01:00:00.000000000",
          "2025-06-25T02:00:00.000000000",
          "2025-06-25T03:00:00.000000000",
          "2025-06-25T04:00:00.000000000",
          "2025-06-25T05:00:00.000000000",
          "2025-06-25T06:00:00.000000000",
          "2025-06-25T07:00:00.000000000",
          "2025-06-25T08:00:00.000000000",
          "2025-06-25T09:00:00.000000000",
          "2025-06-25T10:00:00.000000000",
          "2025-06-25T11:00:00.000000000",
          "2025-06-25T12:00:00.000000000",
          "2025-06-25T13:00:00.000000000",
          "2025-06-25T14:00:00.000000000",
          "2025-06-25T15:00:00.000000000",
          "2025-06-25T16:00:00.000000000",
          "2025-06-25T17:00:00.000000000",
          "2025-06-25T18:00:00.000000000",
          "2025-06-25T19:00:00.000000000",
          "2025-06-25T20:00:00.000000000",
          "2025-06-25T21:00:00.000000000",
          "2025-06-25T22:00:00.000000000",
          "2025-06-25T23:00:00.000000000",
          "2025-06-26T00:00:00.000000000",
          "2025-06-26T01:00:00.000000000",
          "2025-06-26T02:00:00.000000000",
          "2025-06-26T03:00:00.000000000",
          "2025-06-26T04:00:00.000000000",
          "2025-06-26T05:00:00.000000000",
          "2025-06-26T06:00:00.000000000",
          "2025-06-26T07:00:00.000000000",
          "2025-06-26T08:00:00.000000000",
          "2025-06-26T09:00:00.000000000",
          "2025-06-26T10:00:00.000000000",
          "2025-06-26T11:00:00.000000000",
          "2025-06-26T12:00:00.000000000",
          "2025-06-26T13:00:00.000000000",
          "2025-06-26T14:00:00.000000000",
          "2025-06-26T15:00:00.000000000",
          "2025-06-26T16:00:00.000000000",
          "2025-06-26T17:00:00.000000000",
          "2025-06-26T18:00:00.000000000",
          "2025-06-26T19:00:00.000000000",
          "2025-06-26T20:00:00.000000000",
          "2025-06-26T21:00:00.000000000",
          "2025-06-26T22:00:00.000000000",
          "2025-06-26T23:00:00.000000000",
          "2025-06-27T00:00:00.000000000",
          "2025-06-27T01:00:00.000000000",
          "2025-06-27T02:00:00.000000000",
          "2025-06-27T03:00:00.000000000",
          "2025-06-27T04:00:00.000000000",
          "2025-06-27T05:00:00.000000000",
          "2025-06-27T06:00:00.000000000",
          "2025-06-27T07:00:00.000000000",
          "2025-06-27T08:00:00.000000000",
          "2025-06-27T09:00:00.000000000",
          "2025-06-27T10:00:00.000000000",
          "2025-06-27T11:00:00.000000000",
          "2025-06-27T12:00:00.000000000",
          "2025-06-27T13:00:00.000000000",
          "2025-06-27T14:00:00.000000000",
          "2025-06-27T15:00:00.000000000",
          "2025-06-27T16:00:00.000000000",
          "2025-06-27T17:00:00.000000000",
          "2025-06-27T18:00:00.000000000",
          "2025-06-27T19:00:00.000000000",
          "2025-06-27T20:00:00.000000000",
          "2025-06-27T21:00:00.000000000",
          "2025-06-27T22:00:00.000000000",
          "2025-06-27T23:00:00.000000000",
          "2025-06-28T00:00:00.000000000",
          "2025-06-28T01:00:00.000000000",
          "2025-06-28T02:00:00.000000000",
          "2025-06-28T03:00:00.000000000",
          "2025-06-28T04:00:00.000000000",
          "2025-06-28T05:00:00.000000000",
          "2025-06-28T06:00:00.000000000",
          "2025-06-28T07:00:00.000000000",
          "2025-06-28T08:00:00.000000000",
          "2025-06-28T09:00:00.000000000",
          "2025-06-28T10:00:00.000000000",
          "2025-06-28T11:00:00.000000000",
          "2025-06-28T12:00:00.000000000",
          "2025-06-28T13:00:00.000000000",
          "2025-06-28T14:00:00.000000000",
          "2025-06-28T15:00:00.000000000",
          "2025-06-28T16:00:00.000000000",
          "2025-06-28T17:00:00.000000000",
          "2025-06-28T18:00:00.000000000",
          "2025-06-28T19:00:00.000000000",
          "2025-06-28T20:00:00.000000000",
          "2025-06-28T21:00:00.000000000",
          "2025-06-28T22:00:00.000000000",
          "2025-06-28T23:00:00.000000000",
          "2025-06-29T00:00:00.000000000",
          "2025-06-29T01:00:00.000000000",
          "2025-06-29T02:00:00.000000000",
          "2025-06-29T03:00:00.000000000",
          "2025-06-29T04:00:00.000000000",
          "2025-06-29T05:00:00.000000000",
          "2025-06-29T06:00:00.000000000",
          "2025-06-29T07:00:00.000000000",
          "2025-06-29T08:00:00.000000000",
          "2025-06-29T09:00:00.000000000",
          "2025-06-29T10:00:00.000000000",
          "2025-06-29T11:00:00.000000000",
          "2025-06-29T12:00:00.000000000",
          "2025-06-29T13:00:00.000000000",
          "2025-06-29T14:00:00.000000000",
          "2025-06-29T15:00:00.000000000",
          "2025-06-29T16:00:00.000000000",
          "2025-06-29T17:00:00.000000000",
          "2025-06-29T18:00:00.000000000",
          "2025-06-29T19:00:00.000000000",
          "2025-06-29T20:00:00.000000000",
          "2025-06-29T21:00:00.000000000",
          "2025-06-29T22:00:00.000000000",
          "2025-06-29T23:00:00.000000000",
          "2025-06-30T00:00:00.000000000",
          "2025-06-30T01:00:00.000000000",
          "2025-06-30T02:00:00.000000000",
          "2025-06-30T03:00:00.000000000",
          "2025-06-30T04:00:00.000000000",
          "2025-06-30T05:00:00.000000000",
          "2025-06-30T06:00:00.000000000",
          "2025-06-30T07:00:00.000000000",
          "2025-06-30T08:00:00.000000000",
          "2025-06-30T09:00:00.000000000",
          "2025-06-30T10:00:00.000000000",
          "2025-06-30T11:00:00.000000000",
          "2025-06-30T12:00:00.000000000",
          "2025-06-30T13:00:00.000000000",
          "2025-06-30T14:00:00.000000000",
          "2025-06-30T15:00:00.000000000",
          "2025-06-30T16:00:00.000000000",
          "2025-06-30T17:00:00.000000000",
          "2025-06-30T18:00:00.000000000",
          "2025-06-30T19:00:00.000000000",
          "2025-06-30T20:00:00.000000000",
          "2025-06-30T21:00:00.000000000",
          "2025-06-30T22:00:00.000000000",
          "2025-06-30T23:00:00.000000000"
         ],
         "xaxis": "x",
         "y": {
          "bdata": "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",
          "dtype": "f8"
         },
         "yaxis": "y"
        },
        {
         "line": {
          "color": "#636EFA",
          "dash": "dash",
          "width": 1
         },
         "name": "Ljubljana Bypass (24h avg)",
         "showlegend": false,
         "type": "scatter",
         "x": [
          "2025-06-15T00:00:00.000000000",
          "2025-06-15T01:00:00.000000000",
          "2025-06-15T02:00:00.000000000",
          "2025-06-15T03:00:00.000000000",
          "2025-06-15T04:00:00.000000000",
          "2025-06-15T05:00:00.000000000",
          "2025-06-15T06:00:00.000000000",
          "2025-06-15T07:00:00.000000000",
          "2025-06-15T08:00:00.000000000",
          "2025-06-15T09:00:00.000000000",
          "2025-06-15T10:00:00.000000000",
          "2025-06-15T11:00:00.000000000",
          "2025-06-15T12:00:00.000000000",
          "2025-06-15T13:00:00.000000000",
          "2025-06-15T14:00:00.000000000",
          "2025-06-15T15:00:00.000000000",
          "2025-06-15T16:00:00.000000000",
          "2025-06-15T17:00:00.000000000",
          "2025-06-15T18:00:00.000000000",
          "2025-06-15T19:00:00.000000000",
          "2025-06-15T20:00:00.000000000",
          "2025-06-15T21:00:00.000000000",
          "2025-06-15T22:00:00.000000000",
          "2025-06-15T23:00:00.000000000",
          "2025-06-16T00:00:00.000000000",
          "2025-06-16T01:00:00.000000000",
          "2025-06-16T02:00:00.000000000",
          "2025-06-16T03:00:00.000000000",
          "2025-06-16T04:00:00.000000000",
          "2025-06-16T05:00:00.000000000",
          "2025-06-16T06:00:00.000000000",
          "2025-06-16T07:00:00.000000000",
          "2025-06-16T08:00:00.000000000",
          "2025-06-16T09:00:00.000000000",
          "2025-06-16T10:00:00.000000000",
          "2025-06-16T11:00:00.000000000",
          "2025-06-16T12:00:00.000000000",
          "2025-06-16T13:00:00.000000000",
          "2025-06-16T14:00:00.000000000",
          "2025-06-16T15:00:00.000000000",
          "2025-06-16T16:00:00.000000000",
          "2025-06-16T17:00:00.000000000",
          "2025-06-16T18:00:00.000000000",
          "2025-06-16T19:00:00.000000000",
          "2025-06-16T20:00:00.000000000",
          "2025-06-16T21:00:00.000000000",
          "2025-06-16T22:00:00.000000000",
          "2025-06-16T23:00:00.000000000",
          "2025-06-17T00:00:00.000000000",
          "2025-06-17T01:00:00.000000000",
          "2025-06-17T02:00:00.000000000",
          "2025-06-17T03:00:00.000000000",
          "2025-06-17T04:00:00.000000000",
          "2025-06-17T05:00:00.000000000",
          "2025-06-17T06:00:00.000000000",
          "2025-06-17T07:00:00.000000000",
          "2025-06-17T08:00:00.000000000",
          "2025-06-17T09:00:00.000000000",
          "2025-06-17T10:00:00.000000000",
          "2025-06-17T11:00:00.000000000",
          "2025-06-17T12:00:00.000000000",
          "2025-06-17T13:00:00.000000000",
          "2025-06-17T14:00:00.000000000",
          "2025-06-17T15:00:00.000000000",
          "2025-06-17T16:00:00.000000000",
          "2025-06-17T17:00:00.000000000",
          "2025-06-17T18:00:00.000000000",
          "2025-06-17T19:00:00.000000000",
          "2025-06-17T20:00:00.000000000",
          "2025-06-17T21:00:00.000000000",
          "2025-06-17T22:00:00.000000000",
          "2025-06-17T23:00:00.000000000",
          "2025-06-18T00:00:00.000000000",
          "2025-06-18T01:00:00.000000000",
          "2025-06-18T02:00:00.000000000",
          "2025-06-18T03:00:00.000000000",
          "2025-06-18T04:00:00.000000000",
          "2025-06-18T05:00:00.000000000",
          "2025-06-18T06:00:00.000000000",
          "2025-06-18T07:00:00.000000000",
          "2025-06-18T08:00:00.000000000",
          "2025-06-18T09:00:00.000000000",
          "2025-06-18T10:00:00.000000000",
          "2025-06-18T11:00:00.000000000",
          "2025-06-18T12:00:00.000000000",
          "2025-06-18T13:00:00.000000000",
          "2025-06-18T14:00:00.000000000",
          "2025-06-18T15:00:00.000000000",
          "2025-06-18T16:00:00.000000000",
          "2025-06-18T17:00:00.000000000",
          "2025-06-18T18:00:00.000000000",
          "2025-06-18T19:00:00.000000000",
          "2025-06-18T20:00:00.000000000",
          "2025-06-18T21:00:00.000000000",
          "2025-06-18T22:00:00.000000000",
          "2025-06-18T23:00:00.000000000",
          "2025-06-19T00:00:00.000000000",
          "2025-06-19T01:00:00.000000000",
          "2025-06-19T02:00:00.000000000",
          "2025-06-19T03:00:00.000000000",
          "2025-06-19T04:00:00.000000000",
          "2025-06-19T05:00:00.000000000",
          "2025-06-19T06:00:00.000000000",
          "2025-06-19T07:00:00.000000000",
          "2025-06-19T08:00:00.000000000",
          "2025-06-19T09:00:00.000000000",
          "2025-06-19T10:00:00.000000000",
          "2025-06-19T11:00:00.000000000",
          "2025-06-19T12:00:00.000000000",
          "2025-06-19T13:00:00.000000000",
          "2025-06-19T14:00:00.000000000",
          "2025-06-19T15:00:00.000000000",
          "2025-06-19T16:00:00.000000000",
          "2025-06-19T17:00:00.000000000",
          "2025-06-19T18:00:00.000000000",
          "2025-06-19T19:00:00.000000000",
          "2025-06-19T20:00:00.000000000",
          "2025-06-19T21:00:00.000000000",
          "2025-06-19T22:00:00.000000000",
          "2025-06-19T23:00:00.000000000",
          "2025-06-20T00:00:00.000000000",
          "2025-06-20T01:00:00.000000000",
          "2025-06-20T02:00:00.000000000",
          "2025-06-20T03:00:00.000000000",
          "2025-06-20T04:00:00.000000000",
          "2025-06-20T05:00:00.000000000",
          "2025-06-20T06:00:00.000000000",
          "2025-06-20T07:00:00.000000000",
          "2025-06-20T08:00:00.000000000",
          "2025-06-20T09:00:00.000000000",
          "2025-06-20T10:00:00.000000000",
          "2025-06-20T11:00:00.000000000",
          "2025-06-20T12:00:00.000000000",
          "2025-06-20T13:00:00.000000000",
          "2025-06-20T14:00:00.000000000",
          "2025-06-20T15:00:00.000000000",
          "2025-06-20T16:00:00.000000000",
          "2025-06-20T17:00:00.000000000",
          "2025-06-20T18:00:00.000000000",
          "2025-06-20T19:00:00.000000000",
          "2025-06-20T20:00:00.000000000",
          "2025-06-20T21:00:00.000000000",
          "2025-06-20T22:00:00.000000000",
          "2025-06-20T23:00:00.000000000",
          "2025-06-21T00:00:00.000000000",
          "2025-06-21T01:00:00.000000000",
          "2025-06-21T02:00:00.000000000",
          "2025-06-21T03:00:00.000000000",
          "2025-06-21T04:00:00.000000000",
          "2025-06-21T05:00:00.000000000",
          "2025-06-21T06:00:00.000000000",
          "2025-06-21T07:00:00.000000000",
          "2025-06-21T08:00:00.000000000",
          "2025-06-21T09:00:00.000000000",
          "2025-06-21T10:00:00.000000000",
          "2025-06-21T11:00:00.000000000",
          "2025-06-21T12:00:00.000000000",
          "2025-06-21T13:00:00.000000000",
          "2025-06-21T14:00:00.000000000",
          "2025-06-21T15:00:00.000000000",
          "2025-06-21T16:00:00.000000000",
          "2025-06-21T17:00:00.000000000",
          "2025-06-21T18:00:00.000000000",
          "2025-06-21T19:00:00.000000000",
          "2025-06-21T20:00:00.000000000",
          "2025-06-21T21:00:00.000000000",
          "2025-06-21T22:00:00.000000000",
          "2025-06-21T23:00:00.000000000",
          "2025-06-22T00:00:00.000000000",
          "2025-06-22T01:00:00.000000000",
          "2025-06-22T02:00:00.000000000",
          "2025-06-22T03:00:00.000000000",
          "2025-06-22T04:00:00.000000000",
          "2025-06-22T05:00:00.000000000",
          "2025-06-22T06:00:00.000000000",
          "2025-06-22T07:00:00.000000000",
          "2025-06-22T08:00:00.000000000",
          "2025-06-22T09:00:00.000000000",
          "2025-06-22T10:00:00.000000000",
          "2025-06-22T11:00:00.000000000",
          "2025-06-22T12:00:00.000000000",
          "2025-06-22T13:00:00.000000000",
          "2025-06-22T14:00:00.000000000",
          "2025-06-22T15:00:00.000000000",
          "2025-06-22T16:00:00.000000000",
          "2025-06-22T17:00:00.000000000",
          "2025-06-22T18:00:00.000000000",
          "2025-06-22T19:00:00.000000000",
          "2025-06-22T20:00:00.000000000",
          "2025-06-22T21:00:00.000000000",
          "2025-06-22T22:00:00.000000000",
          "2025-06-22T23:00:00.000000000",
          "2025-06-23T00:00:00.000000000",
          "2025-06-23T01:00:00.000000000",
          "2025-06-23T02:00:00.000000000",
          "2025-06-23T03:00:00.000000000",
          "2025-06-23T04:00:00.000000000",
          "2025-06-23T05:00:00.000000000",
          "2025-06-23T06:00:00.000000000",
          "2025-06-23T07:00:00.000000000",
          "2025-06-23T08:00:00.000000000",
          "2025-06-23T09:00:00.000000000",
          "2025-06-23T10:00:00.000000000",
          "2025-06-23T11:00:00.000000000",
          "2025-06-23T12:00:00.000000000",
          "2025-06-23T13:00:00.000000000",
          "2025-06-23T14:00:00.000000000",
          "2025-06-23T15:00:00.000000000",
          "2025-06-23T16:00:00.000000000",
          "2025-06-23T17:00:00.000000000",
          "2025-06-23T18:00:00.000000000",
          "2025-06-23T19:00:00.000000000",
          "2025-06-23T20:00:00.000000000",
          "2025-06-23T21:00:00.000000000",
          "2025-06-23T22:00:00.000000000",
          "2025-06-23T23:00:00.000000000",
          "2025-06-24T00:00:00.000000000",
          "2025-06-24T01:00:00.000000000",
          "2025-06-24T02:00:00.000000000",
          "2025-06-24T03:00:00.000000000",
          "2025-06-24T04:00:00.000000000",
          "2025-06-24T05:00:00.000000000",
          "2025-06-24T06:00:00.000000000",
          "2025-06-24T07:00:00.000000000",
          "2025-06-24T08:00:00.000000000",
          "2025-06-24T09:00:00.000000000",
          "2025-06-24T10:00:00.000000000",
          "2025-06-24T11:00:00.000000000",
          "2025-06-24T12:00:00.000000000",
          "2025-06-24T13:00:00.000000000",
          "2025-06-24T14:00:00.000000000",
          "2025-06-24T15:00:00.000000000",
          "2025-06-24T16:00:00.000000000",
          "2025-06-24T17:00:00.000000000",
          "2025-06-24T18:00:00.000000000",
          "2025-06-24T19:00:00.000000000",
          "2025-06-24T20:00:00.000000000",
          "2025-06-24T21:00:00.000000000",
          "2025-06-24T22:00:00.000000000",
          "2025-06-24T23:00:00.000000000",
          "2025-06-25T00:00:00.000000000",
          "2025-06-25T01:00:00.000000000",
          "2025-06-25T02:00:00.000000000",
          "2025-06-25T03:00:00.000000000",
          "2025-06-25T04:00:00.000000000",
          "2025-06-25T05:00:00.000000000",
          "2025-06-25T06:00:00.000000000",
          "2025-06-25T07:00:00.000000000",
          "2025-06-25T08:00:00.000000000",
          "2025-06-25T09:00:00.000000000",
          "2025-06-25T10:00:00.000000000",
          "2025-06-25T11:00:00.000000000",
          "2025-06-25T12:00:00.000000000",
          "2025-06-25T13:00:00.000000000",
          "2025-06-25T14:00:00.000000000",
          "2025-06-25T15:00:00.000000000",
          "2025-06-25T16:00:00.000000000",
          "2025-06-25T17:00:00.000000000",
          "2025-06-25T18:00:00.000000000",
          "2025-06-25T19:00:00.000000000",
          "2025-06-25T20:00:00.000000000",
          "2025-06-25T21:00:00.000000000",
          "2025-06-25T22:00:00.000000000",
          "2025-06-25T23:00:00.000000000",
          "2025-06-26T00:00:00.000000000",
          "2025-06-26T01:00:00.000000000",
          "2025-06-26T02:00:00.000000000",
          "2025-06-26T03:00:00.000000000",
          "2025-06-26T04:00:00.000000000",
          "2025-06-26T05:00:00.000000000",
          "2025-06-26T06:00:00.000000000",
          "2025-06-26T07:00:00.000000000",
          "2025-06-26T08:00:00.000000000",
          "2025-06-26T09:00:00.000000000",
          "2025-06-26T10:00:00.000000000",
          "2025-06-26T11:00:00.000000000",
          "2025-06-26T12:00:00.000000000",
          "2025-06-26T13:00:00.000000000",
          "2025-06-26T14:00:00.000000000",
          "2025-06-26T15:00:00.000000000",
          "2025-06-26T16:00:00.000000000",
          "2025-06-26T17:00:00.000000000",
          "2025-06-26T18:00:00.000000000",
          "2025-06-26T19:00:00.000000000",
          "2025-06-26T20:00:00.000000000",
          "2025-06-26T21:00:00.000000000",
          "2025-06-26T22:00:00.000000000",
          "2025-06-26T23:00:00.000000000",
          "2025-06-27T00:00:00.000000000",
          "2025-06-27T01:00:00.000000000",
          "2025-06-27T02:00:00.000000000",
          "2025-06-27T03:00:00.000000000",
          "2025-06-27T04:00:00.000000000",
          "2025-06-27T05:00:00.000000000",
          "2025-06-27T06:00:00.000000000",
          "2025-06-27T07:00:00.000000000",
          "2025-06-27T08:00:00.000000000",
          "2025-06-27T09:00:00.000000000",
          "2025-06-27T10:00:00.000000000",
          "2025-06-27T11:00:00.000000000",
          "2025-06-27T12:00:00.000000000",
          "2025-06-27T13:00:00.000000000",
          "2025-06-27T14:00:00.000000000",
          "2025-06-27T15:00:00.000000000",
          "2025-06-27T16:00:00.000000000",
          "2025-06-27T17:00:00.000000000",
          "2025-06-27T18:00:00.000000000",
          "2025-06-27T19:00:00.000000000",
          "2025-06-27T20:00:00.000000000",
          "2025-06-27T21:00:00.000000000",
          "2025-06-27T22:00:00.000000000",
          "2025-06-27T23:00:00.000000000",
          "2025-06-28T00:00:00.000000000",
          "2025-06-28T01:00:00.000000000",
          "2025-06-28T02:00:00.000000000",
          "2025-06-28T03:00:00.000000000",
          "2025-06-28T04:00:00.000000000",
          "2025-06-28T05:00:00.000000000",
          "2025-06-28T06:00:00.000000000",
          "2025-06-28T07:00:00.000000000",
          "2025-06-28T08:00:00.000000000",
          "2025-06-28T09:00:00.000000000",
          "2025-06-28T10:00:00.000000000",
          "2025-06-28T11:00:00.000000000",
          "2025-06-28T12:00:00.000000000",
          "2025-06-28T13:00:00.000000000",
          "2025-06-28T14:00:00.000000000",
          "2025-06-28T15:00:00.000000000",
          "2025-06-28T16:00:00.000000000",
          "2025-06-28T17:00:00.000000000",
          "2025-06-28T18:00:00.000000000",
          "2025-06-28T19:00:00.000000000",
          "2025-06-28T20:00:00.000000000",
          "2025-06-28T21:00:00.000000000",
          "2025-06-28T22:00:00.000000000",
          "2025-06-28T23:00:00.000000000",
          "2025-06-29T00:00:00.000000000",
          "2025-06-29T01:00:00.000000000",
          "2025-06-29T02:00:00.000000000",
          "2025-06-29T03:00:00.000000000",
          "2025-06-29T04:00:00.000000000",
          "2025-06-29T05:00:00.000000000",
          "2025-06-29T06:00:00.000000000",
          "2025-06-29T07:00:00.000000000",
          "2025-06-29T08:00:00.000000000",
          "2025-06-29T09:00:00.000000000",
          "2025-06-29T10:00:00.000000000",
          "2025-06-29T11:00:00.000000000",
          "2025-06-29T12:00:00.000000000",
          "2025-06-29T13:00:00.000000000",
          "2025-06-29T14:00:00.000000000",
          "2025-06-29T15:00:00.000000000",
          "2025-06-29T16:00:00.000000000",
          "2025-06-29T17:00:00.000000000",
          "2025-06-29T18:00:00.000000000",
          "2025-06-29T19:00:00.000000000",
          "2025-06-29T20:00:00.000000000",
          "2025-06-29T21:00:00.000000000",
          "2025-06-29T22:00:00.000000000",
          "2025-06-29T23:00:00.000000000",
          "2025-06-30T00:00:00.000000000",
          "2025-06-30T01:00:00.000000000",
          "2025-06-30T02:00:00.000000000",
          "2025-06-30T03:00:00.000000000",
          "2025-06-30T04:00:00.000000000",
          "2025-06-30T05:00:00.000000000",
          "2025-06-30T06:00:00.000000000",
          "2025-06-30T07:00:00.000000000",
          "2025-06-30T08:00:00.000000000",
          "2025-06-30T09:00:00.000000000",
          "2025-06-30T10:00:00.000000000",
          "2025-06-30T11:00:00.000000000",
          "2025-06-30T12:00:00.000000000",
          "2025-06-30T13:00:00.000000000",
          "2025-06-30T14:00:00.000000000",
          "2025-06-30T15:00:00.000000000",
          "2025-06-30T16:00:00.000000000",
          "2025-06-30T17:00:00.000000000",
          "2025-06-30T18:00:00.000000000",
          "2025-06-30T19:00:00.000000000",
          "2025-06-30T20:00:00.000000000",
          "2025-06-30T21:00:00.000000000",
          "2025-06-30T22:00:00.000000000",
          "2025-06-30T23:00:00.000000000"
         ],
         "xaxis": "x",
         "y": {
          "bdata": "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",
          "dtype": "f8"
         },
         "yaxis": "y"
        },
        {
         "line": {
          "color": "#EF553B",
          "width": 2
         },
         "name": "Celje-Maribor",
         "showlegend": true,
         "type": "scatter",
         "x": [
          "2025-06-15T00:00:00.000000000",
          "2025-06-15T01:00:00.000000000",
          "2025-06-15T02:00:00.000000000",
          "2025-06-15T03:00:00.000000000",
          "2025-06-15T04:00:00.000000000",
          "2025-06-15T05:00:00.000000000",
          "2025-06-15T06:00:00.000000000",
          "2025-06-15T07:00:00.000000000",
          "2025-06-15T08:00:00.000000000",
          "2025-06-15T09:00:00.000000000",
          "2025-06-15T10:00:00.000000000",
          "2025-06-15T11:00:00.000000000",
          "2025-06-15T12:00:00.000000000",
          "2025-06-15T13:00:00.000000000",
          "2025-06-15T14:00:00.000000000",
          "2025-06-15T15:00:00.000000000",
          "2025-06-15T16:00:00.000000000",
          "2025-06-15T17:00:00.000000000",
          "2025-06-15T18:00:00.000000000",
          "2025-06-15T19:00:00.000000000",
          "2025-06-15T20:00:00.000000000",
          "2025-06-15T21:00:00.000000000",
          "2025-06-15T22:00:00.000000000",
          "2025-06-15T23:00:00.000000000",
          "2025-06-16T00:00:00.000000000",
          "2025-06-16T01:00:00.000000000",
          "2025-06-16T02:00:00.000000000",
          "2025-06-16T03:00:00.000000000",
          "2025-06-16T04:00:00.000000000",
          "2025-06-16T05:00:00.000000000",
          "2025-06-16T06:00:00.000000000",
          "2025-06-16T07:00:00.000000000",
          "2025-06-16T08:00:00.000000000",
          "2025-06-16T09:00:00.000000000",
          "2025-06-16T10:00:00.000000000",
          "2025-06-16T11:00:00.000000000",
          "2025-06-16T12:00:00.000000000",
          "2025-06-16T13:00:00.000000000",
          "2025-06-16T14:00:00.000000000",
          "2025-06-16T15:00:00.000000000",
          "2025-06-16T16:00:00.000000000",
          "2025-06-16T17:00:00.000000000",
          "2025-06-16T18:00:00.000000000",
          "2025-06-16T19:00:00.000000000",
          "2025-06-16T20:00:00.000000000",
          "2025-06-16T21:00:00.000000000",
          "2025-06-16T22:00:00.000000000",
          "2025-06-16T23:00:00.000000000",
          "2025-06-17T00:00:00.000000000",
          "2025-06-17T01:00:00.000000000",
          "2025-06-17T02:00:00.000000000",
          "2025-06-17T03:00:00.000000000",
          "2025-06-17T04:00:00.000000000",
          "2025-06-17T05:00:00.000000000",
          "2025-06-17T06:00:00.000000000",
          "2025-06-17T07:00:00.000000000",
          "2025-06-17T08:00:00.000000000",
          "2025-06-17T09:00:00.000000000",
          "2025-06-17T10:00:00.000000000",
          "2025-06-17T11:00:00.000000000",
          "2025-06-17T12:00:00.000000000",
          "2025-06-17T13:00:00.000000000",
          "2025-06-17T14:00:00.000000000",
          "2025-06-17T15:00:00.000000000",
          "2025-06-17T16:00:00.000000000",
          "2025-06-17T17:00:00.000000000",
          "2025-06-17T18:00:00.000000000",
          "2025-06-17T19:00:00.000000000",
          "2025-06-17T20:00:00.000000000",
          "2025-06-17T21:00:00.000000000",
          "2025-06-17T22:00:00.000000000",
          "2025-06-17T23:00:00.000000000",
          "2025-06-18T00:00:00.000000000",
          "2025-06-18T01:00:00.000000000",
          "2025-06-18T02:00:00.000000000",
          "2025-06-18T03:00:00.000000000",
          "2025-06-18T04:00:00.000000000",
          "2025-06-18T05:00:00.000000000",
          "2025-06-18T06:00:00.000000000",
          "2025-06-18T07:00:00.000000000",
          "2025-06-18T08:00:00.000000000",
          "2025-06-18T09:00:00.000000000",
          "2025-06-18T10:00:00.000000000",
          "2025-06-18T11:00:00.000000000",
          "2025-06-18T12:00:00.000000000",
          "2025-06-18T13:00:00.000000000",
          "2025-06-18T14:00:00.000000000",
          "2025-06-18T15:00:00.000000000",
          "2025-06-18T16:00:00.000000000",
          "2025-06-18T17:00:00.000000000",
          "2025-06-18T18:00:00.000000000",
          "2025-06-18T19:00:00.000000000",
          "2025-06-18T20:00:00.000000000",
          "2025-06-18T21:00:00.000000000",
          "2025-06-18T22:00:00.000000000",
          "2025-06-18T23:00:00.000000000",
          "2025-06-19T00:00:00.000000000",
          "2025-06-19T01:00:00.000000000",
          "2025-06-19T02:00:00.000000000",
          "2025-06-19T03:00:00.000000000",
          "2025-06-19T04:00:00.000000000",
          "2025-06-19T05:00:00.000000000",
          "2025-06-19T06:00:00.000000000",
          "2025-06-19T07:00:00.000000000",
          "2025-06-19T08:00:00.000000000",
          "2025-06-19T09:00:00.000000000",
          "2025-06-19T10:00:00.000000000",
          "2025-06-19T11:00:00.000000000",
          "2025-06-19T12:00:00.000000000",
          "2025-06-19T13:00:00.000000000",
          "2025-06-19T14:00:00.000000000",
          "2025-06-19T15:00:00.000000000",
          "2025-06-19T16:00:00.000000000",
          "2025-06-19T17:00:00.000000000",
          "2025-06-19T18:00:00.000000000",
          "2025-06-19T19:00:00.000000000",
          "2025-06-19T20:00:00.000000000",
          "2025-06-19T21:00:00.000000000",
          "2025-06-19T22:00:00.000000000",
          "2025-06-19T23:00:00.000000000",
          "2025-06-20T00:00:00.000000000",
          "2025-06-20T01:00:00.000000000",
          "2025-06-20T02:00:00.000000000",
          "2025-06-20T03:00:00.000000000",
          "2025-06-20T04:00:00.000000000",
          "2025-06-20T05:00:00.000000000",
          "2025-06-20T06:00:00.000000000",
          "2025-06-20T07:00:00.000000000",
          "2025-06-20T08:00:00.000000000",
          "2025-06-20T09:00:00.000000000",
          "2025-06-20T10:00:00.000000000",
          "2025-06-20T11:00:00.000000000",
          "2025-06-20T12:00:00.000000000",
          "2025-06-20T13:00:00.000000000",
          "2025-06-20T14:00:00.000000000",
          "2025-06-20T15:00:00.000000000",
          "2025-06-20T16:00:00.000000000",
          "2025-06-20T17:00:00.000000000",
          "2025-06-20T18:00:00.000000000",
          "2025-06-20T19:00:00.000000000",
          "2025-06-20T20:00:00.000000000",
          "2025-06-20T21:00:00.000000000",
          "2025-06-20T22:00:00.000000000",
          "2025-06-20T23:00:00.000000000",
          "2025-06-21T00:00:00.000000000",
          "2025-06-21T01:00:00.000000000",
          "2025-06-21T02:00:00.000000000",
          "2025-06-21T03:00:00.000000000",
          "2025-06-21T04:00:00.000000000",
          "2025-06-21T05:00:00.000000000",
          "2025-06-21T06:00:00.000000000",
          "2025-06-21T07:00:00.000000000",
          "2025-06-21T08:00:00.000000000",
          "2025-06-21T09:00:00.000000000",
          "2025-06-21T10:00:00.000000000",
          "2025-06-21T11:00:00.000000000",
          "2025-06-21T12:00:00.000000000",
          "2025-06-21T13:00:00.000000000",
          "2025-06-21T14:00:00.000000000",
          "2025-06-21T15:00:00.000000000",
          "2025-06-21T16:00:00.000000000",
          "2025-06-21T17:00:00.000000000",
          "2025-06-21T18:00:00.000000000",
          "2025-06-21T19:00:00.000000000",
          "2025-06-21T20:00:00.000000000",
          "2025-06-21T21:00:00.000000000",
          "2025-06-21T22:00:00.000000000",
          "2025-06-21T23:00:00.000000000",
          "2025-06-22T00:00:00.000000000",
          "2025-06-22T01:00:00.000000000",
          "2025-06-22T02:00:00.000000000",
          "2025-06-22T03:00:00.000000000",
          "2025-06-22T04:00:00.000000000",
          "2025-06-22T05:00:00.000000000",
          "2025-06-22T06:00:00.000000000",
          "2025-06-22T07:00:00.000000000",
          "2025-06-22T08:00:00.000000000",
          "2025-06-22T09:00:00.000000000",
          "2025-06-22T10:00:00.000000000",
          "2025-06-22T11:00:00.000000000",
          "2025-06-22T12:00:00.000000000",
          "2025-06-22T13:00:00.000000000",
          "2025-06-22T14:00:00.000000000",
          "2025-06-22T15:00:00.000000000",
          "2025-06-22T16:00:00.000000000",
          "2025-06-22T17:00:00.000000000",
          "2025-06-22T18:00:00.000000000",
          "2025-06-22T19:00:00.000000000",
          "2025-06-22T20:00:00.000000000",
          "2025-06-22T21:00:00.000000000",
          "2025-06-22T22:00:00.000000000",
          "2025-06-22T23:00:00.000000000",
          "2025-06-23T00:00:00.000000000",
          "2025-06-23T01:00:00.000000000",
          "2025-06-23T02:00:00.000000000",
          "2025-06-23T03:00:00.000000000",
          "2025-06-23T04:00:00.000000000",
          "2025-06-23T05:00:00.000000000",
          "2025-06-23T06:00:00.000000000",
          "2025-06-23T07:00:00.000000000",
          "2025-06-23T08:00:00.000000000",
          "2025-06-23T09:00:00.000000000",
          "2025-06-23T10:00:00.000000000",
          "2025-06-23T11:00:00.000000000",
          "2025-06-23T12:00:00.000000000",
          "2025-06-23T13:00:00.000000000",
          "2025-06-23T14:00:00.000000000",
          "2025-06-23T15:00:00.000000000",
          "2025-06-23T16:00:00.000000000",
          "2025-06-23T17:00:00.000000000",
          "2025-06-23T18:00:00.000000000",
          "2025-06-23T19:00:00.000000000",
          "2025-06-23T20:00:00.000000000",
          "2025-06-23T21:00:00.000000000",
          "2025-06-23T22:00:00.000000000",
          "2025-06-23T23:00:00.000000000",
          "2025-06-24T00:00:00.000000000",
          "2025-06-24T01:00:00.000000000",
          "2025-06-24T02:00:00.000000000",
          "2025-06-24T03:00:00.000000000",
          "2025-06-24T04:00:00.000000000",
          "2025-06-24T05:00:00.000000000",
          "2025-06-24T06:00:00.000000000",
          "2025-06-24T07:00:00.000000000",
          "2025-06-24T08:00:00.000000000",
          "2025-06-24T09:00:00.000000000",
          "2025-06-24T10:00:00.000000000",
          "2025-06-24T11:00:00.000000000",
          "2025-06-24T12:00:00.000000000",
          "2025-06-24T13:00:00.000000000",
          "2025-06-24T14:00:00.000000000",
          "2025-06-24T15:00:00.000000000",
          "2025-06-24T16:00:00.000000000",
          "2025-06-24T17:00:00.000000000",
          "2025-06-24T18:00:00.000000000",
          "2025-06-24T19:00:00.000000000",
          "2025-06-24T20:00:00.000000000",
          "2025-06-24T21:00:00.000000000",
          "2025-06-24T22:00:00.000000000",
          "2025-06-24T23:00:00.000000000",
          "2025-06-25T00:00:00.000000000",
          "2025-06-25T01:00:00.000000000",
          "2025-06-25T02:00:00.000000000",
          "2025-06-25T03:00:00.000000000",
          "2025-06-25T04:00:00.000000000",
          "2025-06-25T05:00:00.000000000",
          "2025-06-25T06:00:00.000000000",
          "2025-06-25T07:00:00.000000000",
          "2025-06-25T08:00:00.000000000",
          "2025-06-25T09:00:00.000000000",
          "2025-06-25T10:00:00.000000000",
          "2025-06-25T11:00:00.000000000",
          "2025-06-25T12:00:00.000000000",
          "2025-06-25T13:00:00.000000000",
          "2025-06-25T14:00:00.000000000",
          "2025-06-25T15:00:00.000000000",
          "2025-06-25T16:00:00.000000000",
          "2025-06-25T17:00:00.000000000",
          "2025-06-25T18:00:00.000000000",
          "2025-06-25T19:00:00.000000000",
          "2025-06-25T20:00:00.000000000",
          "2025-06-25T21:00:00.000000000",
          "2025-06-25T22:00:00.000000000",
          "2025-06-25T23:00:00.000000000",
          "2025-06-26T00:00:00.000000000",
          "2025-06-26T01:00:00.000000000",
          "2025-06-26T02:00:00.000000000",
          "2025-06-26T03:00:00.000000000",
          "2025-06-26T04:00:00.000000000",
          "2025-06-26T05:00:00.000000000",
          "2025-06-26T06:00:00.000000000",
          "2025-06-26T07:00:00.000000000",
          "2025-06-26T08:00:00.000000000",
          "2025-06-26T09:00:00.000000000",
          "2025-06-26T10:00:00.000000000",
          "2025-06-26T11:00:00.000000000",
          "2025-06-26T12:00:00.000000000",
          "2025-06-26T13:00:00.000000000",
          "2025-06-26T14:00:00.000000000",
          "2025-06-26T15:00:00.000000000",
          "2025-06-26T16:00:00.000000000",
          "2025-06-26T17:00:00.000000000",
          "2025-06-26T18:00:00.000000000",
          "2025-06-26T19:00:00.000000000",
          "2025-06-26T20:00:00.000000000",
          "2025-06-26T21:00:00.000000000",
          "2025-06-26T22:00:00.000000000",
          "2025-06-26T23:00:00.000000000",
          "2025-06-27T00:00:00.000000000",
          "2025-06-27T01:00:00.000000000",
          "2025-06-27T02:00:00.000000000",
          "2025-06-27T03:00:00.000000000",
          "2025-06-27T04:00:00.000000000",
          "2025-06-27T05:00:00.000000000",
          "2025-06-27T06:00:00.000000000",
          "2025-06-27T07:00:00.000000000",
          "2025-06-27T08:00:00.000000000",
          "2025-06-27T09:00:00.000000000",
          "2025-06-27T10:00:00.000000000",
          "2025-06-27T11:00:00.000000000",
          "2025-06-27T12:00:00.000000000",
          "2025-06-27T13:00:00.000000000",
          "2025-06-27T14:00:00.000000000",
          "2025-06-27T15:00:00.000000000",
          "2025-06-27T16:00:00.000000000",
          "2025-06-27T17:00:00.000000000",
          "2025-06-27T18:00:00.000000000",
          "2025-06-27T19:00:00.000000000",
          "2025-06-27T20:00:00.000000000",
          "2025-06-27T21:00:00.000000000",
          "2025-06-27T22:00:00.000000000",
          "2025-06-27T23:00:00.000000000",
          "2025-06-28T00:00:00.000000000",
          "2025-06-28T01:00:00.000000000",
          "2025-06-28T02:00:00.000000000",
          "2025-06-28T03:00:00.000000000",
          "2025-06-28T04:00:00.000000000",
          "2025-06-28T05:00:00.000000000",
          "2025-06-28T06:00:00.000000000",
          "2025-06-28T07:00:00.000000000",
          "2025-06-28T08:00:00.000000000",
          "2025-06-28T09:00:00.000000000",
          "2025-06-28T10:00:00.000000000",
          "2025-06-28T11:00:00.000000000",
          "2025-06-28T12:00:00.000000000",
          "2025-06-28T13:00:00.000000000",
          "2025-06-28T14:00:00.000000000",
          "2025-06-28T15:00:00.000000000",
          "2025-06-28T16:00:00.000000000",
          "2025-06-28T17:00:00.000000000",
          "2025-06-28T18:00:00.000000000",
          "2025-06-28T19:00:00.000000000",
          "2025-06-28T20:00:00.000000000",
          "2025-06-28T21:00:00.000000000",
          "2025-06-28T22:00:00.000000000",
          "2025-06-28T23:00:00.000000000",
          "2025-06-29T00:00:00.000000000",
          "2025-06-29T01:00:00.000000000",
          "2025-06-29T02:00:00.000000000",
          "2025-06-29T03:00:00.000000000",
          "2025-06-29T04:00:00.000000000",
          "2025-06-29T05:00:00.000000000",
          "2025-06-29T06:00:00.000000000",
          "2025-06-29T07:00:00.000000000",
          "2025-06-29T08:00:00.000000000",
          "2025-06-29T09:00:00.000000000",
          "2025-06-29T10:00:00.000000000",
          "2025-06-29T11:00:00.000000000",
          "2025-06-29T12:00:00.000000000",
          "2025-06-29T13:00:00.000000000",
          "2025-06-29T14:00:00.000000000",
          "2025-06-29T15:00:00.000000000",
          "2025-06-29T16:00:00.000000000",
          "2025-06-29T17:00:00.000000000",
          "2025-06-29T18:00:00.000000000",
          "2025-06-29T19:00:00.000000000",
          "2025-06-29T20:00:00.000000000",
          "2025-06-29T21:00:00.000000000",
          "2025-06-29T22:00:00.000000000",
          "2025-06-29T23:00:00.000000000",
          "2025-06-30T00:00:00.000000000",
          "2025-06-30T01:00:00.000000000",
          "2025-06-30T02:00:00.000000000",
          "2025-06-30T03:00:00.000000000",
          "2025-06-30T04:00:00.000000000",
          "2025-06-30T05:00:00.000000000",
          "2025-06-30T06:00:00.000000000",
          "2025-06-30T07:00:00.000000000",
          "2025-06-30T08:00:00.000000000",
          "2025-06-30T09:00:00.000000000",
          "2025-06-30T10:00:00.000000000",
          "2025-06-30T11:00:00.000000000",
          "2025-06-30T12:00:00.000000000",
          "2025-06-30T13:00:00.000000000",
          "2025-06-30T14:00:00.000000000",
          "2025-06-30T15:00:00.000000000",
          "2025-06-30T16:00:00.000000000",
          "2025-06-30T17:00:00.000000000",
          "2025-06-30T18:00:00.000000000",
          "2025-06-30T19:00:00.000000000",
          "2025-06-30T20:00:00.000000000",
          "2025-06-30T21:00:00.000000000",
          "2025-06-30T22:00:00.000000000",
          "2025-06-30T23:00:00.000000000"
         ],
         "xaxis": "x2",
         "y": {
          "bdata": "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",
          "dtype": "f8"
         },
         "yaxis": "y2"
        },
        {
         "line": {
          "color": "#EF553B",
          "dash": "dash",
          "width": 1
         },
         "name": "Celje-Maribor (24h avg)",
         "showlegend": false,
         "type": "scatter",
         "x": [
          "2025-06-15T00:00:00.000000000",
          "2025-06-15T01:00:00.000000000",
          "2025-06-15T02:00:00.000000000",
          "2025-06-15T03:00:00.000000000",
          "2025-06-15T04:00:00.000000000",
          "2025-06-15T05:00:00.000000000",
          "2025-06-15T06:00:00.000000000",
          "2025-06-15T07:00:00.000000000",
          "2025-06-15T08:00:00.000000000",
          "2025-06-15T09:00:00.000000000",
          "2025-06-15T10:00:00.000000000",
          "2025-06-15T11:00:00.000000000",
          "2025-06-15T12:00:00.000000000",
          "2025-06-15T13:00:00.000000000",
          "2025-06-15T14:00:00.000000000",
          "2025-06-15T15:00:00.000000000",
          "2025-06-15T16:00:00.000000000",
          "2025-06-15T17:00:00.000000000",
          "2025-06-15T18:00:00.000000000",
          "2025-06-15T19:00:00.000000000",
          "2025-06-15T20:00:00.000000000",
          "2025-06-15T21:00:00.000000000",
          "2025-06-15T22:00:00.000000000",
          "2025-06-15T23:00:00.000000000",
          "2025-06-16T00:00:00.000000000",
          "2025-06-16T01:00:00.000000000",
          "2025-06-16T02:00:00.000000000",
          "2025-06-16T03:00:00.000000000",
          "2025-06-16T04:00:00.000000000",
          "2025-06-16T05:00:00.000000000",
          "2025-06-16T06:00:00.000000000",
          "2025-06-16T07:00:00.000000000",
          "2025-06-16T08:00:00.000000000",
          "2025-06-16T09:00:00.000000000",
          "2025-06-16T10:00:00.000000000",
          "2025-06-16T11:00:00.000000000",
          "2025-06-16T12:00:00.000000000",
          "2025-06-16T13:00:00.000000000",
          "2025-06-16T14:00:00.000000000",
          "2025-06-16T15:00:00.000000000",
          "2025-06-16T16:00:00.000000000",
          "2025-06-16T17:00:00.000000000",
          "2025-06-16T18:00:00.000000000",
          "2025-06-16T19:00:00.000000000",
          "2025-06-16T20:00:00.000000000",
          "2025-06-16T21:00:00.000000000",
          "2025-06-16T22:00:00.000000000",
          "2025-06-16T23:00:00.000000000",
          "2025-06-17T00:00:00.000000000",
          "2025-06-17T01:00:00.000000000",
          "2025-06-17T02:00:00.000000000",
          "2025-06-17T03:00:00.000000000",
          "2025-06-17T04:00:00.000000000",
          "2025-06-17T05:00:00.000000000",
          "2025-06-17T06:00:00.000000000",
          "2025-06-17T07:00:00.000000000",
          "2025-06-17T08:00:00.000000000",
          "2025-06-17T09:00:00.000000000",
          "2025-06-17T10:00:00.000000000",
          "2025-06-17T11:00:00.000000000",
          "2025-06-17T12:00:00.000000000",
          "2025-06-17T13:00:00.000000000",
          "2025-06-17T14:00:00.000000000",
          "2025-06-17T15:00:00.000000000",
          "2025-06-17T16:00:00.000000000",
          "2025-06-17T17:00:00.000000000",
          "2025-06-17T18:00:00.000000000",
          "2025-06-17T19:00:00.000000000",
          "2025-06-17T20:00:00.000000000",
          "2025-06-17T21:00:00.000000000",
          "2025-06-17T22:00:00.000000000",
          "2025-06-17T23:00:00.000000000",
          "2025-06-18T00:00:00.000000000",
          "2025-06-18T01:00:00.000000000",
          "2025-06-18T02:00:00.000000000",
          "2025-06-18T03:00:00.000000000",
          "2025-06-18T04:00:00.000000000",
          "2025-06-18T05:00:00.000000000",
          "2025-06-18T06:00:00.000000000",
          "2025-06-18T07:00:00.000000000",
          "2025-06-18T08:00:00.000000000",
          "2025-06-18T09:00:00.000000000",
          "2025-06-18T10:00:00.000000000",
          "2025-06-18T11:00:00.000000000",
          "2025-06-18T12:00:00.000000000",
          "2025-06-18T13:00:00.000000000",
          "2025-06-18T14:00:00.000000000",
          "2025-06-18T15:00:00.000000000",
          "2025-06-18T16:00:00.000000000",
          "2025-06-18T17:00:00.000000000",
          "2025-06-18T18:00:00.000000000",
          "2025-06-18T19:00:00.000000000",
          "2025-06-18T20:00:00.000000000",
          "2025-06-18T21:00:00.000000000",
          "2025-06-18T22:00:00.000000000",
          "2025-06-18T23:00:00.000000000",
          "2025-06-19T00:00:00.000000000",
          "2025-06-19T01:00:00.000000000",
          "2025-06-19T02:00:00.000000000",
          "2025-06-19T03:00:00.000000000",
          "2025-06-19T04:00:00.000000000",
          "2025-06-19T05:00:00.000000000",
          "2025-06-19T06:00:00.000000000",
          "2025-06-19T07:00:00.000000000",
          "2025-06-19T08:00:00.000000000",
          "2025-06-19T09:00:00.000000000",
          "2025-06-19T10:00:00.000000000",
          "2025-06-19T11:00:00.000000000",
          "2025-06-19T12:00:00.000000000",
          "2025-06-19T13:00:00.000000000",
          "2025-06-19T14:00:00.000000000",
          "2025-06-19T15:00:00.000000000",
          "2025-06-19T16:00:00.000000000",
          "2025-06-19T17:00:00.000000000",
          "2025-06-19T18:00:00.000000000",
          "2025-06-19T19:00:00.000000000",
          "2025-06-19T20:00:00.000000000",
          "2025-06-19T21:00:00.000000000",
          "2025-06-19T22:00:00.000000000",
          "2025-06-19T23:00:00.000000000",
          "2025-06-20T00:00:00.000000000",
          "2025-06-20T01:00:00.000000000",
          "2025-06-20T02:00:00.000000000",
          "2025-06-20T03:00:00.000000000",
          "2025-06-20T04:00:00.000000000",
          "2025-06-20T05:00:00.000000000",
          "2025-06-20T06:00:00.000000000",
          "2025-06-20T07:00:00.000000000",
          "2025-06-20T08:00:00.000000000",
          "2025-06-20T09:00:00.000000000",
          "2025-06-20T10:00:00.000000000",
          "2025-06-20T11:00:00.000000000",
          "2025-06-20T12:00:00.000000000",
          "2025-06-20T13:00:00.000000000",
          "2025-06-20T14:00:00.000000000",
          "2025-06-20T15:00:00.000000000",
          "2025-06-20T16:00:00.000000000",
          "2025-06-20T17:00:00.000000000",
          "2025-06-20T18:00:00.000000000",
          "2025-06-20T19:00:00.000000000",
          "2025-06-20T20:00:00.000000000",
          "2025-06-20T21:00:00.000000000",
          "2025-06-20T22:00:00.000000000",
          "2025-06-20T23:00:00.000000000",
          "2025-06-21T00:00:00.000000000",
          "2025-06-21T01:00:00.000000000",
          "2025-06-21T02:00:00.000000000",
          "2025-06-21T03:00:00.000000000",
          "2025-06-21T04:00:00.000000000",
          "2025-06-21T05:00:00.000000000",
          "2025-06-21T06:00:00.000000000",
          "2025-06-21T07:00:00.000000000",
          "2025-06-21T08:00:00.000000000",
          "2025-06-21T09:00:00.000000000",
          "2025-06-21T10:00:00.000000000",
          "2025-06-21T11:00:00.000000000",
          "2025-06-21T12:00:00.000000000",
          "2025-06-21T13:00:00.000000000",
          "2025-06-21T14:00:00.000000000",
          "2025-06-21T15:00:00.000000000",
          "2025-06-21T16:00:00.000000000",
          "2025-06-21T17:00:00.000000000",
          "2025-06-21T18:00:00.000000000",
          "2025-06-21T19:00:00.000000000",
          "2025-06-21T20:00:00.000000000",
          "2025-06-21T21:00:00.000000000",
          "2025-06-21T22:00:00.000000000",
          "2025-06-21T23:00:00.000000000",
          "2025-06-22T00:00:00.000000000",
          "2025-06-22T01:00:00.000000000",
          "2025-06-22T02:00:00.000000000",
          "2025-06-22T03:00:00.000000000",
          "2025-06-22T04:00:00.000000000",
          "2025-06-22T05:00:00.000000000",
          "2025-06-22T06:00:00.000000000",
          "2025-06-22T07:00:00.000000000",
          "2025-06-22T08:00:00.000000000",
          "2025-06-22T09:00:00.000000000",
          "2025-06-22T10:00:00.000000000",
          "2025-06-22T11:00:00.000000000",
          "2025-06-22T12:00:00.000000000",
          "2025-06-22T13:00:00.000000000",
          "2025-06-22T14:00:00.000000000",
          "2025-06-22T15:00:00.000000000",
          "2025-06-22T16:00:00.000000000",
          "2025-06-22T17:00:00.000000000",
          "2025-06-22T18:00:00.000000000",
          "2025-06-22T19:00:00.000000000",
          "2025-06-22T20:00:00.000000000",
          "2025-06-22T21:00:00.000000000",
          "2025-06-22T22:00:00.000000000",
          "2025-06-22T23:00:00.000000000",
          "2025-06-23T00:00:00.000000000",
          "2025-06-23T01:00:00.000000000",
          "2025-06-23T02:00:00.000000000",
          "2025-06-23T03:00:00.000000000",
          "2025-06-23T04:00:00.000000000",
          "2025-06-23T05:00:00.000000000",
          "2025-06-23T06:00:00.000000000",
          "2025-06-23T07:00:00.000000000",
          "2025-06-23T08:00:00.000000000",
          "2025-06-23T09:00:00.000000000",
          "2025-06-23T10:00:00.000000000",
          "2025-06-23T11:00:00.000000000",
          "2025-06-23T12:00:00.000000000",
          "2025-06-23T13:00:00.000000000",
          "2025-06-23T14:00:00.000000000",
          "2025-06-23T15:00:00.000000000",
          "2025-06-23T16:00:00.000000000",
          "2025-06-23T17:00:00.000000000",
          "2025-06-23T18:00:00.000000000",
          "2025-06-23T19:00:00.000000000",
          "2025-06-23T20:00:00.000000000",
          "2025-06-23T21:00:00.000000000",
          "2025-06-23T22:00:00.000000000",
          "2025-06-23T23:00:00.000000000",
          "2025-06-24T00:00:00.000000000",
          "2025-06-24T01:00:00.000000000",
          "2025-06-24T02:00:00.000000000",
          "2025-06-24T03:00:00.000000000",
          "2025-06-24T04:00:00.000000000",
          "2025-06-24T05:00:00.000000000",
          "2025-06-24T06:00:00.000000000",
          "2025-06-24T07:00:00.000000000",
          "2025-06-24T08:00:00.000000000",
          "2025-06-24T09:00:00.000000000",
          "2025-06-24T10:00:00.000000000",
          "2025-06-24T11:00:00.000000000",
          "2025-06-24T12:00:00.000000000",
          "2025-06-24T13:00:00.000000000",
          "2025-06-24T14:00:00.000000000",
          "2025-06-24T15:00:00.000000000",
          "2025-06-24T16:00:00.000000000",
          "2025-06-24T17:00:00.000000000",
          "2025-06-24T18:00:00.000000000",
          "2025-06-24T19:00:00.000000000",
          "2025-06-24T20:00:00.000000000",
          "2025-06-24T21:00:00.000000000",
          "2025-06-24T22:00:00.000000000",
          "2025-06-24T23:00:00.000000000",
          "2025-06-25T00:00:00.000000000",
          "2025-06-25T01:00:00.000000000",
          "2025-06-25T02:00:00.000000000",
          "2025-06-25T03:00:00.000000000",
          "2025-06-25T04:00:00.000000000",
          "2025-06-25T05:00:00.000000000",
          "2025-06-25T06:00:00.000000000",
          "2025-06-25T07:00:00.000000000",
          "2025-06-25T08:00:00.000000000",
          "2025-06-25T09:00:00.000000000",
          "2025-06-25T10:00:00.000000000",
          "2025-06-25T11:00:00.000000000",
          "2025-06-25T12:00:00.000000000",
          "2025-06-25T13:00:00.000000000",
          "2025-06-25T14:00:00.000000000",
          "2025-06-25T15:00:00.000000000",
          "2025-06-25T16:00:00.000000000",
          "2025-06-25T17:00:00.000000000",
          "2025-06-25T18:00:00.000000000",
          "2025-06-25T19:00:00.000000000",
          "2025-06-25T20:00:00.000000000",
          "2025-06-25T21:00:00.000000000",
          "2025-06-25T22:00:00.000000000",
          "2025-06-25T23:00:00.000000000",
          "2025-06-26T00:00:00.000000000",
          "2025-06-26T01:00:00.000000000",
          "2025-06-26T02:00:00.000000000",
          "2025-06-26T03:00:00.000000000",
          "2025-06-26T04:00:00.000000000",
          "2025-06-26T05:00:00.000000000",
          "2025-06-26T06:00:00.000000000",
          "2025-06-26T07:00:00.000000000",
          "2025-06-26T08:00:00.000000000",
          "2025-06-26T09:00:00.000000000",
          "2025-06-26T10:00:00.000000000",
          "2025-06-26T11:00:00.000000000",
          "2025-06-26T12:00:00.000000000",
          "2025-06-26T13:00:00.000000000",
          "2025-06-26T14:00:00.000000000",
          "2025-06-26T15:00:00.000000000",
          "2025-06-26T16:00:00.000000000",
          "2025-06-26T17:00:00.000000000",
          "2025-06-26T18:00:00.000000000",
          "2025-06-26T19:00:00.000000000",
          "2025-06-26T20:00:00.000000000",
          "2025-06-26T21:00:00.000000000",
          "2025-06-26T22:00:00.000000000",
          "2025-06-26T23:00:00.000000000",
          "2025-06-27T00:00:00.000000000",
          "2025-06-27T01:00:00.000000000",
          "2025-06-27T02:00:00.000000000",
          "2025-06-27T03:00:00.000000000",
          "2025-06-27T04:00:00.000000000",
          "2025-06-27T05:00:00.000000000",
          "2025-06-27T06:00:00.000000000",
          "2025-06-27T07:00:00.000000000",
          "2025-06-27T08:00:00.000000000",
          "2025-06-27T09:00:00.000000000",
          "2025-06-27T10:00:00.000000000",
          "2025-06-27T11:00:00.000000000",
          "2025-06-27T12:00:00.000000000",
          "2025-06-27T13:00:00.000000000",
          "2025-06-27T14:00:00.000000000",
          "2025-06-27T15:00:00.000000000",
          "2025-06-27T16:00:00.000000000",
          "2025-06-27T17:00:00.000000000",
          "2025-06-27T18:00:00.000000000",
          "2025-06-27T19:00:00.000000000",
          "2025-06-27T20:00:00.000000000",
          "2025-06-27T21:00:00.000000000",
          "2025-06-27T22:00:00.000000000",
          "2025-06-27T23:00:00.000000000",
          "2025-06-28T00:00:00.000000000",
          "2025-06-28T01:00:00.000000000",
          "2025-06-28T02:00:00.000000000",
          "2025-06-28T03:00:00.000000000",
          "2025-06-28T04:00:00.000000000",
          "2025-06-28T05:00:00.000000000",
          "2025-06-28T06:00:00.000000000",
          "2025-06-28T07:00:00.000000000",
          "2025-06-28T08:00:00.000000000",
          "2025-06-28T09:00:00.000000000",
          "2025-06-28T10:00:00.000000000",
          "2025-06-28T11:00:00.000000000",
          "2025-06-28T12:00:00.000000000",
          "2025-06-28T13:00:00.000000000",
          "2025-06-28T14:00:00.000000000",
          "2025-06-28T15:00:00.000000000",
          "2025-06-28T16:00:00.000000000",
          "2025-06-28T17:00:00.000000000",
          "2025-06-28T18:00:00.000000000",
          "2025-06-28T19:00:00.000000000",
          "2025-06-28T20:00:00.000000000",
          "2025-06-28T21:00:00.000000000",
          "2025-06-28T22:00:00.000000000",
          "2025-06-28T23:00:00.000000000",
          "2025-06-29T00:00:00.000000000",
          "2025-06-29T01:00:00.000000000",
          "2025-06-29T02:00:00.000000000",
          "2025-06-29T03:00:00.000000000",
          "2025-06-29T04:00:00.000000000",
          "2025-06-29T05:00:00.000000000",
          "2025-06-29T06:00:00.000000000",
          "2025-06-29T07:00:00.000000000",
          "2025-06-29T08:00:00.000000000",
          "2025-06-29T09:00:00.000000000",
          "2025-06-29T10:00:00.000000000",
          "2025-06-29T11:00:00.000000000",
          "2025-06-29T12:00:00.000000000",
          "2025-06-29T13:00:00.000000000",
          "2025-06-29T14:00:00.000000000",
          "2025-06-29T15:00:00.000000000",
          "2025-06-29T16:00:00.000000000",
          "2025-06-29T17:00:00.000000000",
          "2025-06-29T18:00:00.000000000",
          "2025-06-29T19:00:00.000000000",
          "2025-06-29T20:00:00.000000000",
          "2025-06-29T21:00:00.000000000",
          "2025-06-29T22:00:00.000000000",
          "2025-06-29T23:00:00.000000000",
          "2025-06-30T00:00:00.000000000",
          "2025-06-30T01:00:00.000000000",
          "2025-06-30T02:00:00.000000000",
          "2025-06-30T03:00:00.000000000",
          "2025-06-30T04:00:00.000000000",
          "2025-06-30T05:00:00.000000000",
          "2025-06-30T06:00:00.000000000",
          "2025-06-30T07:00:00.000000000",
          "2025-06-30T08:00:00.000000000",
          "2025-06-30T09:00:00.000000000",
          "2025-06-30T10:00:00.000000000",
          "2025-06-30T11:00:00.000000000",
          "2025-06-30T12:00:00.000000000",
          "2025-06-30T13:00:00.000000000",
          "2025-06-30T14:00:00.000000000",
          "2025-06-30T15:00:00.000000000",
          "2025-06-30T16:00:00.000000000",
          "2025-06-30T17:00:00.000000000",
          "2025-06-30T18:00:00.000000000",
          "2025-06-30T19:00:00.000000000",
          "2025-06-30T20:00:00.000000000",
          "2025-06-30T21:00:00.000000000",
          "2025-06-30T22:00:00.000000000",
          "2025-06-30T23:00:00.000000000"
         ],
         "xaxis": "x2",
         "y": {
          "bdata": "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",
          "dtype": "f8"
         },
         "yaxis": "y2"
        },
        {
         "line": {
          "color": "#00CC96",
          "width": 2
         },
         "name": "Koper-Ljubljana",
         "showlegend": true,
         "type": "scatter",
         "x": [
          "2025-06-15T00:00:00.000000000",
          "2025-06-15T01:00:00.000000000",
          "2025-06-15T02:00:00.000000000",
          "2025-06-15T03:00:00.000000000",
          "2025-06-15T04:00:00.000000000",
          "2025-06-15T05:00:00.000000000",
          "2025-06-15T06:00:00.000000000",
          "2025-06-15T07:00:00.000000000",
          "2025-06-15T08:00:00.000000000",
          "2025-06-15T09:00:00.000000000",
          "2025-06-15T10:00:00.000000000",
          "2025-06-15T11:00:00.000000000",
          "2025-06-15T12:00:00.000000000",
          "2025-06-15T13:00:00.000000000",
          "2025-06-15T14:00:00.000000000",
          "2025-06-15T15:00:00.000000000",
          "2025-06-15T16:00:00.000000000",
          "2025-06-15T17:00:00.000000000",
          "2025-06-15T18:00:00.000000000",
          "2025-06-15T19:00:00.000000000",
          "2025-06-15T20:00:00.000000000",
          "2025-06-15T21:00:00.000000000",
          "2025-06-15T22:00:00.000000000",
          "2025-06-15T23:00:00.000000000",
          "2025-06-16T00:00:00.000000000",
          "2025-06-16T01:00:00.000000000",
          "2025-06-16T02:00:00.000000000",
          "2025-06-16T03:00:00.000000000",
          "2025-06-16T04:00:00.000000000",
          "2025-06-16T05:00:00.000000000",
          "2025-06-16T06:00:00.000000000",
          "2025-06-16T07:00:00.000000000",
          "2025-06-16T08:00:00.000000000",
          "2025-06-16T09:00:00.000000000",
          "2025-06-16T10:00:00.000000000",
          "2025-06-16T11:00:00.000000000",
          "2025-06-16T12:00:00.000000000",
          "2025-06-16T13:00:00.000000000",
          "2025-06-16T14:00:00.000000000",
          "2025-06-16T15:00:00.000000000",
          "2025-06-16T16:00:00.000000000",
          "2025-06-16T17:00:00.000000000",
          "2025-06-16T18:00:00.000000000",
          "2025-06-16T19:00:00.000000000",
          "2025-06-16T20:00:00.000000000",
          "2025-06-16T21:00:00.000000000",
          "2025-06-16T22:00:00.000000000",
          "2025-06-16T23:00:00.000000000",
          "2025-06-17T00:00:00.000000000",
          "2025-06-17T01:00:00.000000000",
          "2025-06-17T02:00:00.000000000",
          "2025-06-17T03:00:00.000000000",
          "2025-06-17T04:00:00.000000000",
          "2025-06-17T05:00:00.000000000",
          "2025-06-17T06:00:00.000000000",
          "2025-06-17T07:00:00.000000000",
          "2025-06-17T08:00:00.000000000",
          "2025-06-17T09:00:00.000000000",
          "2025-06-17T10:00:00.000000000",
          "2025-06-17T11:00:00.000000000",
          "2025-06-17T12:00:00.000000000",
          "2025-06-17T13:00:00.000000000",
          "2025-06-17T14:00:00.000000000",
          "2025-06-17T15:00:00.000000000",
          "2025-06-17T16:00:00.000000000",
          "2025-06-17T17:00:00.000000000",
          "2025-06-17T18:00:00.000000000",
          "2025-06-17T19:00:00.000000000",
          "2025-06-17T20:00:00.000000000",
          "2025-06-17T21:00:00.000000000",
          "2025-06-17T22:00:00.000000000",
          "2025-06-17T23:00:00.000000000",
          "2025-06-18T00:00:00.000000000",
          "2025-06-18T01:00:00.000000000",
          "2025-06-18T02:00:00.000000000",
          "2025-06-18T03:00:00.000000000",
          "2025-06-18T04:00:00.000000000",
          "2025-06-18T05:00:00.000000000",
          "2025-06-18T06:00:00.000000000",
          "2025-06-18T07:00:00.000000000",
          "2025-06-18T08:00:00.000000000",
          "2025-06-18T09:00:00.000000000",
          "2025-06-18T10:00:00.000000000",
          "2025-06-18T11:00:00.000000000",
          "2025-06-18T12:00:00.000000000",
          "2025-06-18T13:00:00.000000000",
          "2025-06-18T14:00:00.000000000",
          "2025-06-18T15:00:00.000000000",
          "2025-06-18T16:00:00.000000000",
          "2025-06-18T17:00:00.000000000",
          "2025-06-18T18:00:00.000000000",
          "2025-06-18T19:00:00.000000000",
          "2025-06-18T20:00:00.000000000",
          "2025-06-18T21:00:00.000000000",
          "2025-06-18T22:00:00.000000000",
          "2025-06-18T23:00:00.000000000",
          "2025-06-19T00:00:00.000000000",
          "2025-06-19T01:00:00.000000000",
          "2025-06-19T02:00:00.000000000",
          "2025-06-19T03:00:00.000000000",
          "2025-06-19T04:00:00.000000000",
          "2025-06-19T05:00:00.000000000",
          "2025-06-19T06:00:00.000000000",
          "2025-06-19T07:00:00.000000000",
          "2025-06-19T08:00:00.000000000",
          "2025-06-19T09:00:00.000000000",
          "2025-06-19T10:00:00.000000000",
          "2025-06-19T11:00:00.000000000",
          "2025-06-19T12:00:00.000000000",
          "2025-06-19T13:00:00.000000000",
          "2025-06-19T14:00:00.000000000",
          "2025-06-19T15:00:00.000000000",
          "2025-06-19T16:00:00.000000000",
          "2025-06-19T17:00:00.000000000",
          "2025-06-19T18:00:00.000000000",
          "2025-06-19T19:00:00.000000000",
          "2025-06-19T20:00:00.000000000",
          "2025-06-19T21:00:00.000000000",
          "2025-06-19T22:00:00.000000000",
          "2025-06-19T23:00:00.000000000",
          "2025-06-20T00:00:00.000000000",
          "2025-06-20T01:00:00.000000000",
          "2025-06-20T02:00:00.000000000",
          "2025-06-20T03:00:00.000000000",
          "2025-06-20T04:00:00.000000000",
          "2025-06-20T05:00:00.000000000",
          "2025-06-20T06:00:00.000000000",
          "2025-06-20T07:00:00.000000000",
          "2025-06-20T08:00:00.000000000",
          "2025-06-20T09:00:00.000000000",
          "2025-06-20T10:00:00.000000000",
          "2025-06-20T11:00:00.000000000",
          "2025-06-20T12:00:00.000000000",
          "2025-06-20T13:00:00.000000000",
          "2025-06-20T14:00:00.000000000",
          "2025-06-20T15:00:00.000000000",
          "2025-06-20T16:00:00.000000000",
          "2025-06-20T17:00:00.000000000",
          "2025-06-20T18:00:00.000000000",
          "2025-06-20T19:00:00.000000000",
          "2025-06-20T20:00:00.000000000",
          "2025-06-20T21:00:00.000000000",
          "2025-06-20T22:00:00.000000000",
          "2025-06-20T23:00:00.000000000",
          "2025-06-21T00:00:00.000000000",
          "2025-06-21T01:00:00.000000000",
          "2025-06-21T02:00:00.000000000",
          "2025-06-21T03:00:00.000000000",
          "2025-06-21T04:00:00.000000000",
          "2025-06-21T05:00:00.000000000",
          "2025-06-21T06:00:00.000000000",
          "2025-06-21T07:00:00.000000000",
          "2025-06-21T08:00:00.000000000",
          "2025-06-21T09:00:00.000000000",
          "2025-06-21T10:00:00.000000000",
          "2025-06-21T11:00:00.000000000",
          "2025-06-21T12:00:00.000000000",
          "2025-06-21T13:00:00.000000000",
          "2025-06-21T14:00:00.000000000",
          "2025-06-21T15:00:00.000000000",
          "2025-06-21T16:00:00.000000000",
          "2025-06-21T17:00:00.000000000",
          "2025-06-21T18:00:00.000000000",
          "2025-06-21T19:00:00.000000000",
          "2025-06-21T20:00:00.000000000",
          "2025-06-21T21:00:00.000000000",
          "2025-06-21T22:00:00.000000000",
          "2025-06-21T23:00:00.000000000",
          "2025-06-22T00:00:00.000000000",
          "2025-06-22T01:00:00.000000000",
          "2025-06-22T02:00:00.000000000",
          "2025-06-22T03:00:00.000000000",
          "2025-06-22T04:00:00.000000000",
          "2025-06-22T05:00:00.000000000",
          "2025-06-22T06:00:00.000000000",
          "2025-06-22T07:00:00.000000000",
          "2025-06-22T08:00:00.000000000",
          "2025-06-22T09:00:00.000000000",
          "2025-06-22T10:00:00.000000000",
          "2025-06-22T11:00:00.000000000",
          "2025-06-22T12:00:00.000000000",
          "2025-06-22T13:00:00.000000000",
          "2025-06-22T14:00:00.000000000",
          "2025-06-22T15:00:00.000000000",
          "2025-06-22T16:00:00.000000000",
          "2025-06-22T17:00:00.000000000",
          "2025-06-22T18:00:00.000000000",
          "2025-06-22T19:00:00.000000000",
          "2025-06-22T20:00:00.000000000",
          "2025-06-22T21:00:00.000000000",
          "2025-06-22T22:00:00.000000000",
          "2025-06-22T23:00:00.000000000",
          "2025-06-23T00:00:00.000000000",
          "2025-06-23T01:00:00.000000000",
          "2025-06-23T02:00:00.000000000",
          "2025-06-23T03:00:00.000000000",
          "2025-06-23T04:00:00.000000000",
          "2025-06-23T05:00:00.000000000",
          "2025-06-23T06:00:00.000000000",
          "2025-06-23T07:00:00.000000000",
          "2025-06-23T08:00:00.000000000",
          "2025-06-23T09:00:00.000000000",
          "2025-06-23T10:00:00.000000000",
          "2025-06-23T11:00:00.000000000",
          "2025-06-23T12:00:00.000000000",
          "2025-06-23T13:00:00.000000000",
          "2025-06-23T14:00:00.000000000",
          "2025-06-23T15:00:00.000000000",
          "2025-06-23T16:00:00.000000000",
          "2025-06-23T17:00:00.000000000",
          "2025-06-23T18:00:00.000000000",
          "2025-06-23T19:00:00.000000000",
          "2025-06-23T20:00:00.000000000",
          "2025-06-23T21:00:00.000000000",
          "2025-06-23T22:00:00.000000000",
          "2025-06-23T23:00:00.000000000",
          "2025-06-24T00:00:00.000000000",
          "2025-06-24T01:00:00.000000000",
          "2025-06-24T02:00:00.000000000",
          "2025-06-24T03:00:00.000000000",
          "2025-06-24T04:00:00.000000000",
          "2025-06-24T05:00:00.000000000",
          "2025-06-24T06:00:00.000000000",
          "2025-06-24T07:00:00.000000000",
          "2025-06-24T08:00:00.000000000",
          "2025-06-24T09:00:00.000000000",
          "2025-06-24T10:00:00.000000000",
          "2025-06-24T11:00:00.000000000",
          "2025-06-24T12:00:00.000000000",
          "2025-06-24T13:00:00.000000000",
          "2025-06-24T14:00:00.000000000",
          "2025-06-24T15:00:00.000000000",
          "2025-06-24T16:00:00.000000000",
          "2025-06-24T17:00:00.000000000",
          "2025-06-24T18:00:00.000000000",
          "2025-06-24T19:00:00.000000000",
          "2025-06-24T20:00:00.000000000",
          "2025-06-24T21:00:00.000000000",
          "2025-06-24T22:00:00.000000000",
          "2025-06-24T23:00:00.000000000",
          "2025-06-25T00:00:00.000000000",
          "2025-06-25T01:00:00.000000000",
          "2025-06-25T02:00:00.000000000",
          "2025-06-25T03:00:00.000000000",
          "2025-06-25T04:00:00.000000000",
          "2025-06-25T05:00:00.000000000",
          "2025-06-25T06:00:00.000000000",
          "2025-06-25T07:00:00.000000000",
          "2025-06-25T08:00:00.000000000",
          "2025-06-25T09:00:00.000000000",
          "2025-06-25T10:00:00.000000000",
          "2025-06-25T11:00:00.000000000",
          "2025-06-25T12:00:00.000000000",
          "2025-06-25T13:00:00.000000000",
          "2025-06-25T14:00:00.000000000",
          "2025-06-25T15:00:00.000000000",
          "2025-06-25T16:00:00.000000000",
          "2025-06-25T17:00:00.000000000",
          "2025-06-25T18:00:00.000000000",
          "2025-06-25T19:00:00.000000000",
          "2025-06-25T20:00:00.000000000",
          "2025-06-25T21:00:00.000000000",
          "2025-06-25T22:00:00.000000000",
          "2025-06-25T23:00:00.000000000",
          "2025-06-26T00:00:00.000000000",
          "2025-06-26T01:00:00.000000000",
          "2025-06-26T02:00:00.000000000",
          "2025-06-26T03:00:00.000000000",
          "2025-06-26T04:00:00.000000000",
          "2025-06-26T05:00:00.000000000",
          "2025-06-26T06:00:00.000000000",
          "2025-06-26T07:00:00.000000000",
          "2025-06-26T08:00:00.000000000",
          "2025-06-26T09:00:00.000000000",
          "2025-06-26T10:00:00.000000000",
          "2025-06-26T11:00:00.000000000",
          "2025-06-26T12:00:00.000000000",
          "2025-06-26T13:00:00.000000000",
          "2025-06-26T14:00:00.000000000",
          "2025-06-26T15:00:00.000000000",
          "2025-06-26T16:00:00.000000000",
          "2025-06-26T17:00:00.000000000",
          "2025-06-26T18:00:00.000000000",
          "2025-06-26T19:00:00.000000000",
          "2025-06-26T20:00:00.000000000",
          "2025-06-26T21:00:00.000000000",
          "2025-06-26T22:00:00.000000000",
          "2025-06-26T23:00:00.000000000",
          "2025-06-27T00:00:00.000000000",
          "2025-06-27T01:00:00.000000000",
          "2025-06-27T02:00:00.000000000",
          "2025-06-27T03:00:00.000000000",
          "2025-06-27T04:00:00.000000000",
          "2025-06-27T05:00:00.000000000",
          "2025-06-27T06:00:00.000000000",
          "2025-06-27T07:00:00.000000000",
          "2025-06-27T08:00:00.000000000",
          "2025-06-27T09:00:00.000000000",
          "2025-06-27T10:00:00.000000000",
          "2025-06-27T11:00:00.000000000",
          "2025-06-27T12:00:00.000000000",
          "2025-06-27T13:00:00.000000000",
          "2025-06-27T14:00:00.000000000",
          "2025-06-27T15:00:00.000000000",
          "2025-06-27T16:00:00.000000000",
          "2025-06-27T17:00:00.000000000",
          "2025-06-27T18:00:00.000000000",
          "2025-06-27T19:00:00.000000000",
          "2025-06-27T20:00:00.000000000",
          "2025-06-27T21:00:00.000000000",
          "2025-06-27T22:00:00.000000000",
          "2025-06-27T23:00:00.000000000",
          "2025-06-28T00:00:00.000000000",
          "2025-06-28T01:00:00.000000000",
          "2025-06-28T02:00:00.000000000",
          "2025-06-28T03:00:00.000000000",
          "2025-06-28T04:00:00.000000000",
          "2025-06-28T05:00:00.000000000",
          "2025-06-28T06:00:00.000000000",
          "2025-06-28T07:00:00.000000000",
          "2025-06-28T08:00:00.000000000",
          "2025-06-28T09:00:00.000000000",
          "2025-06-28T10:00:00.000000000",
          "2025-06-28T11:00:00.000000000",
          "2025-06-28T12:00:00.000000000",
          "2025-06-28T13:00:00.000000000",
          "2025-06-28T14:00:00.000000000",
          "2025-06-28T15:00:00.000000000",
          "2025-06-28T16:00:00.000000000",
          "2025-06-28T17:00:00.000000000",
          "2025-06-28T18:00:00.000000000",
          "2025-06-28T19:00:00.000000000",
          "2025-06-28T20:00:00.000000000",
          "2025-06-28T21:00:00.000000000",
          "2025-06-28T22:00:00.000000000",
          "2025-06-28T23:00:00.000000000",
          "2025-06-29T00:00:00.000000000",
          "2025-06-29T01:00:00.000000000",
          "2025-06-29T02:00:00.000000000",
          "2025-06-29T03:00:00.000000000",
          "2025-06-29T04:00:00.000000000",
          "2025-06-29T05:00:00.000000000",
          "2025-06-29T06:00:00.000000000",
          "2025-06-29T07:00:00.000000000",
          "2025-06-29T08:00:00.000000000",
          "2025-06-29T09:00:00.000000000",
          "2025-06-29T10:00:00.000000000",
          "2025-06-29T11:00:00.000000000",
          "2025-06-29T12:00:00.000000000",
          "2025-06-29T13:00:00.000000000",
          "2025-06-29T14:00:00.000000000",
          "2025-06-29T15:00:00.000000000",
          "2025-06-29T16:00:00.000000000",
          "2025-06-29T17:00:00.000000000",
          "2025-06-29T18:00:00.000000000",
          "2025-06-29T19:00:00.000000000",
          "2025-06-29T20:00:00.000000000",
          "2025-06-29T21:00:00.000000000",
          "2025-06-29T22:00:00.000000000",
          "2025-06-29T23:00:00.000000000",
          "2025-06-30T00:00:00.000000000",
          "2025-06-30T01:00:00.000000000",
          "2025-06-30T02:00:00.000000000",
          "2025-06-30T03:00:00.000000000",
          "2025-06-30T04:00:00.000000000",
          "2025-06-30T05:00:00.000000000",
          "2025-06-30T06:00:00.000000000",
          "2025-06-30T07:00:00.000000000",
          "2025-06-30T08:00:00.000000000",
          "2025-06-30T09:00:00.000000000",
          "2025-06-30T10:00:00.000000000",
          "2025-06-30T11:00:00.000000000",
          "2025-06-30T12:00:00.000000000",
          "2025-06-30T13:00:00.000000000",
          "2025-06-30T14:00:00.000000000",
          "2025-06-30T15:00:00.000000000",
          "2025-06-30T16:00:00.000000000",
          "2025-06-30T17:00:00.000000000",
          "2025-06-30T18:00:00.000000000",
          "2025-06-30T19:00:00.000000000",
          "2025-06-30T20:00:00.000000000",
          "2025-06-30T21:00:00.000000000",
          "2025-06-30T22:00:00.000000000",
          "2025-06-30T23:00:00.000000000"
         ],
         "xaxis": "x3",
         "y": {
          "bdata": "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",
          "dtype": "f8"
         },
         "yaxis": "y3"
        },
        {
         "line": {
          "color": "#00CC96",
          "dash": "dash",
          "width": 1
         },
         "name": "Koper-Ljubljana (24h avg)",
         "showlegend": false,
         "type": "scatter",
         "x": [
          "2025-06-15T00:00:00.000000000",
          "2025-06-15T01:00:00.000000000",
          "2025-06-15T02:00:00.000000000",
          "2025-06-15T03:00:00.000000000",
          "2025-06-15T04:00:00.000000000",
          "2025-06-15T05:00:00.000000000",
          "2025-06-15T06:00:00.000000000",
          "2025-06-15T07:00:00.000000000",
          "2025-06-15T08:00:00.000000000",
          "2025-06-15T09:00:00.000000000",
          "2025-06-15T10:00:00.000000000",
          "2025-06-15T11:00:00.000000000",
          "2025-06-15T12:00:00.000000000",
          "2025-06-15T13:00:00.000000000",
          "2025-06-15T14:00:00.000000000",
          "2025-06-15T15:00:00.000000000",
          "2025-06-15T16:00:00.000000000",
          "2025-06-15T17:00:00.000000000",
          "2025-06-15T18:00:00.000000000",
          "2025-06-15T19:00:00.000000000",
          "2025-06-15T20:00:00.000000000",
          "2025-06-15T21:00:00.000000000",
          "2025-06-15T22:00:00.000000000",
          "2025-06-15T23:00:00.000000000",
          "2025-06-16T00:00:00.000000000",
          "2025-06-16T01:00:00.000000000",
          "2025-06-16T02:00:00.000000000",
          "2025-06-16T03:00:00.000000000",
          "2025-06-16T04:00:00.000000000",
          "2025-06-16T05:00:00.000000000",
          "2025-06-16T06:00:00.000000000",
          "2025-06-16T07:00:00.000000000",
          "2025-06-16T08:00:00.000000000",
          "2025-06-16T09:00:00.000000000",
          "2025-06-16T10:00:00.000000000",
          "2025-06-16T11:00:00.000000000",
          "2025-06-16T12:00:00.000000000",
          "2025-06-16T13:00:00.000000000",
          "2025-06-16T14:00:00.000000000",
          "2025-06-16T15:00:00.000000000",
          "2025-06-16T16:00:00.000000000",
          "2025-06-16T17:00:00.000000000",
          "2025-06-16T18:00:00.000000000",
          "2025-06-16T19:00:00.000000000",
          "2025-06-16T20:00:00.000000000",
          "2025-06-16T21:00:00.000000000",
          "2025-06-16T22:00:00.000000000",
          "2025-06-16T23:00:00.000000000",
          "2025-06-17T00:00:00.000000000",
          "2025-06-17T01:00:00.000000000",
          "2025-06-17T02:00:00.000000000",
          "2025-06-17T03:00:00.000000000",
          "2025-06-17T04:00:00.000000000",
          "2025-06-17T05:00:00.000000000",
          "2025-06-17T06:00:00.000000000",
          "2025-06-17T07:00:00.000000000",
          "2025-06-17T08:00:00.000000000",
          "2025-06-17T09:00:00.000000000",
          "2025-06-17T10:00:00.000000000",
          "2025-06-17T11:00:00.000000000",
          "2025-06-17T12:00:00.000000000",
          "2025-06-17T13:00:00.000000000",
          "2025-06-17T14:00:00.000000000",
          "2025-06-17T15:00:00.000000000",
          "2025-06-17T16:00:00.000000000",
          "2025-06-17T17:00:00.000000000",
          "2025-06-17T18:00:00.000000000",
          "2025-06-17T19:00:00.000000000",
          "2025-06-17T20:00:00.000000000",
          "2025-06-17T21:00:00.000000000",
          "2025-06-17T22:00:00.000000000",
          "2025-06-17T23:00:00.000000000",
          "2025-06-18T00:00:00.000000000",
          "2025-06-18T01:00:00.000000000",
          "2025-06-18T02:00:00.000000000",
          "2025-06-18T03:00:00.000000000",
          "2025-06-18T04:00:00.000000000",
          "2025-06-18T05:00:00.000000000",
          "2025-06-18T06:00:00.000000000",
          "2025-06-18T07:00:00.000000000",
          "2025-06-18T08:00:00.000000000",
          "2025-06-18T09:00:00.000000000",
          "2025-06-18T10:00:00.000000000",
          "2025-06-18T11:00:00.000000000",
          "2025-06-18T12:00:00.000000000",
          "2025-06-18T13:00:00.000000000",
          "2025-06-18T14:00:00.000000000",
          "2025-06-18T15:00:00.000000000",
          "2025-06-18T16:00:00.000000000",
          "2025-06-18T17:00:00.000000000",
          "2025-06-18T18:00:00.000000000",
          "2025-06-18T19:00:00.000000000",
          "2025-06-18T20:00:00.000000000",
          "2025-06-18T21:00:00.000000000",
          "2025-06-18T22:00:00.000000000",
          "2025-06-18T23:00:00.000000000",
          "2025-06-19T00:00:00.000000000",
          "2025-06-19T01:00:00.000000000",
          "2025-06-19T02:00:00.000000000",
          "2025-06-19T03:00:00.000000000",
          "2025-06-19T04:00:00.000000000",
          "2025-06-19T05:00:00.000000000",
          "2025-06-19T06:00:00.000000000",
          "2025-06-19T07:00:00.000000000",
          "2025-06-19T08:00:00.000000000",
          "2025-06-19T09:00:00.000000000",
          "2025-06-19T10:00:00.000000000",
          "2025-06-19T11:00:00.000000000",
          "2025-06-19T12:00:00.000000000",
          "2025-06-19T13:00:00.000000000",
          "2025-06-19T14:00:00.000000000",
          "2025-06-19T15:00:00.000000000",
          "2025-06-19T16:00:00.000000000",
          "2025-06-19T17:00:00.000000000",
          "2025-06-19T18:00:00.000000000",
          "2025-06-19T19:00:00.000000000",
          "2025-06-19T20:00:00.000000000",
          "2025-06-19T21:00:00.000000000",
          "2025-06-19T22:00:00.000000000",
          "2025-06-19T23:00:00.000000000",
          "2025-06-20T00:00:00.000000000",
          "2025-06-20T01:00:00.000000000",
          "2025-06-20T02:00:00.000000000",
          "2025-06-20T03:00:00.000000000",
          "2025-06-20T04:00:00.000000000",
          "2025-06-20T05:00:00.000000000",
          "2025-06-20T06:00:00.000000000",
          "2025-06-20T07:00:00.000000000",
          "2025-06-20T08:00:00.000000000",
          "2025-06-20T09:00:00.000000000",
          "2025-06-20T10:00:00.000000000",
          "2025-06-20T11:00:00.000000000",
          "2025-06-20T12:00:00.000000000",
          "2025-06-20T13:00:00.000000000",
          "2025-06-20T14:00:00.000000000",
          "2025-06-20T15:00:00.000000000",
          "2025-06-20T16:00:00.000000000",
          "2025-06-20T17:00:00.000000000",
          "2025-06-20T18:00:00.000000000",
          "2025-06-20T19:00:00.000000000",
          "2025-06-20T20:00:00.000000000",
          "2025-06-20T21:00:00.000000000",
          "2025-06-20T22:00:00.000000000",
          "2025-06-20T23:00:00.000000000",
          "2025-06-21T00:00:00.000000000",
          "2025-06-21T01:00:00.000000000",
          "2025-06-21T02:00:00.000000000",
          "2025-06-21T03:00:00.000000000",
          "2025-06-21T04:00:00.000000000",
          "2025-06-21T05:00:00.000000000",
          "2025-06-21T06:00:00.000000000",
          "2025-06-21T07:00:00.000000000",
          "2025-06-21T08:00:00.000000000",
          "2025-06-21T09:00:00.000000000",
          "2025-06-21T10:00:00.000000000",
          "2025-06-21T11:00:00.000000000",
          "2025-06-21T12:00:00.000000000",
          "2025-06-21T13:00:00.000000000",
          "2025-06-21T14:00:00.000000000",
          "2025-06-21T15:00:00.000000000",
          "2025-06-21T16:00:00.000000000",
          "2025-06-21T17:00:00.000000000",
          "2025-06-21T18:00:00.000000000",
          "2025-06-21T19:00:00.000000000",
          "2025-06-21T20:00:00.000000000",
          "2025-06-21T21:00:00.000000000",
          "2025-06-21T22:00:00.000000000",
          "2025-06-21T23:00:00.000000000",
          "2025-06-22T00:00:00.000000000",
          "2025-06-22T01:00:00.000000000",
          "2025-06-22T02:00:00.000000000",
          "2025-06-22T03:00:00.000000000",
          "2025-06-22T04:00:00.000000000",
          "2025-06-22T05:00:00.000000000",
          "2025-06-22T06:00:00.000000000",
          "2025-06-22T07:00:00.000000000",
          "2025-06-22T08:00:00.000000000",
          "2025-06-22T09:00:00.000000000",
          "2025-06-22T10:00:00.000000000",
          "2025-06-22T11:00:00.000000000",
          "2025-06-22T12:00:00.000000000",
          "2025-06-22T13:00:00.000000000",
          "2025-06-22T14:00:00.000000000",
          "2025-06-22T15:00:00.000000000",
          "2025-06-22T16:00:00.000000000",
          "2025-06-22T17:00:00.000000000",
          "2025-06-22T18:00:00.000000000",
          "2025-06-22T19:00:00.000000000",
          "2025-06-22T20:00:00.000000000",
          "2025-06-22T21:00:00.000000000",
          "2025-06-22T22:00:00.000000000",
          "2025-06-22T23:00:00.000000000",
          "2025-06-23T00:00:00.000000000",
          "2025-06-23T01:00:00.000000000",
          "2025-06-23T02:00:00.000000000",
          "2025-06-23T03:00:00.000000000",
          "2025-06-23T04:00:00.000000000",
          "2025-06-23T05:00:00.000000000",
          "2025-06-23T06:00:00.000000000",
          "2025-06-23T07:00:00.000000000",
          "2025-06-23T08:00:00.000000000",
          "2025-06-23T09:00:00.000000000",
          "2025-06-23T10:00:00.000000000",
          "2025-06-23T11:00:00.000000000",
          "2025-06-23T12:00:00.000000000",
          "2025-06-23T13:00:00.000000000",
          "2025-06-23T14:00:00.000000000",
          "2025-06-23T15:00:00.000000000",
          "2025-06-23T16:00:00.000000000",
          "2025-06-23T17:00:00.000000000",
          "2025-06-23T18:00:00.000000000",
          "2025-06-23T19:00:00.000000000",
          "2025-06-23T20:00:00.000000000",
          "2025-06-23T21:00:00.000000000",
          "2025-06-23T22:00:00.000000000",
          "2025-06-23T23:00:00.000000000",
          "2025-06-24T00:00:00.000000000",
          "2025-06-24T01:00:00.000000000",
          "2025-06-24T02:00:00.000000000",
          "2025-06-24T03:00:00.000000000",
          "2025-06-24T04:00:00.000000000",
          "2025-06-24T05:00:00.000000000",
          "2025-06-24T06:00:00.000000000",
          "2025-06-24T07:00:00.000000000",
          "2025-06-24T08:00:00.000000000",
          "2025-06-24T09:00:00.000000000",
          "2025-06-24T10:00:00.000000000",
          "2025-06-24T11:00:00.000000000",
          "2025-06-24T12:00:00.000000000",
          "2025-06-24T13:00:00.000000000",
          "2025-06-24T14:00:00.000000000",
          "2025-06-24T15:00:00.000000000",
          "2025-06-24T16:00:00.000000000",
          "2025-06-24T17:00:00.000000000",
          "2025-06-24T18:00:00.000000000",
          "2025-06-24T19:00:00.000000000",
          "2025-06-24T20:00:00.000000000",
          "2025-06-24T21:00:00.000000000",
          "2025-06-24T22:00:00.000000000",
          "2025-06-24T23:00:00.000000000",
          "2025-06-25T00:00:00.000000000",
          "2025-06-25T01:00:00.000000000",
          "2025-06-25T02:00:00.000000000",
          "2025-06-25T03:00:00.000000000",
          "2025-06-25T04:00:00.000000000",
          "2025-06-25T05:00:00.000000000",
          "2025-06-25T06:00:00.000000000",
          "2025-06-25T07:00:00.000000000",
          "2025-06-25T08:00:00.000000000",
          "2025-06-25T09:00:00.000000000",
          "2025-06-25T10:00:00.000000000",
          "2025-06-25T11:00:00.000000000",
          "2025-06-25T12:00:00.000000000",
          "2025-06-25T13:00:00.000000000",
          "2025-06-25T14:00:00.000000000",
          "2025-06-25T15:00:00.000000000",
          "2025-06-25T16:00:00.000000000",
          "2025-06-25T17:00:00.000000000",
          "2025-06-25T18:00:00.000000000",
          "2025-06-25T19:00:00.000000000",
          "2025-06-25T20:00:00.000000000",
          "2025-06-25T21:00:00.000000000",
          "2025-06-25T22:00:00.000000000",
          "2025-06-25T23:00:00.000000000",
          "2025-06-26T00:00:00.000000000",
          "2025-06-26T01:00:00.000000000",
          "2025-06-26T02:00:00.000000000",
          "2025-06-26T03:00:00.000000000",
          "2025-06-26T04:00:00.000000000",
          "2025-06-26T05:00:00.000000000",
          "2025-06-26T06:00:00.000000000",
          "2025-06-26T07:00:00.000000000",
          "2025-06-26T08:00:00.000000000",
          "2025-06-26T09:00:00.000000000",
          "2025-06-26T10:00:00.000000000",
          "2025-06-26T11:00:00.000000000",
          "2025-06-26T12:00:00.000000000",
          "2025-06-26T13:00:00.000000000",
          "2025-06-26T14:00:00.000000000",
          "2025-06-26T15:00:00.000000000",
          "2025-06-26T16:00:00.000000000",
          "2025-06-26T17:00:00.000000000",
          "2025-06-26T18:00:00.000000000",
          "2025-06-26T19:00:00.000000000",
          "2025-06-26T20:00:00.000000000",
          "2025-06-26T21:00:00.000000000",
          "2025-06-26T22:00:00.000000000",
          "2025-06-26T23:00:00.000000000",
          "2025-06-27T00:00:00.000000000",
          "2025-06-27T01:00:00.000000000",
          "2025-06-27T02:00:00.000000000",
          "2025-06-27T03:00:00.000000000",
          "2025-06-27T04:00:00.000000000",
          "2025-06-27T05:00:00.000000000",
          "2025-06-27T06:00:00.000000000",
          "2025-06-27T07:00:00.000000000",
          "2025-06-27T08:00:00.000000000",
          "2025-06-27T09:00:00.000000000",
          "2025-06-27T10:00:00.000000000",
          "2025-06-27T11:00:00.000000000",
          "2025-06-27T12:00:00.000000000",
          "2025-06-27T13:00:00.000000000",
          "2025-06-27T14:00:00.000000000",
          "2025-06-27T15:00:00.000000000",
          "2025-06-27T16:00:00.000000000",
          "2025-06-27T17:00:00.000000000",
          "2025-06-27T18:00:00.000000000",
          "2025-06-27T19:00:00.000000000",
          "2025-06-27T20:00:00.000000000",
          "2025-06-27T21:00:00.000000000",
          "2025-06-27T22:00:00.000000000",
          "2025-06-27T23:00:00.000000000",
          "2025-06-28T00:00:00.000000000",
          "2025-06-28T01:00:00.000000000",
          "2025-06-28T02:00:00.000000000",
          "2025-06-28T03:00:00.000000000",
          "2025-06-28T04:00:00.000000000",
          "2025-06-28T05:00:00.000000000",
          "2025-06-28T06:00:00.000000000",
          "2025-06-28T07:00:00.000000000",
          "2025-06-28T08:00:00.000000000",
          "2025-06-28T09:00:00.000000000",
          "2025-06-28T10:00:00.000000000",
          "2025-06-28T11:00:00.000000000",
          "2025-06-28T12:00:00.000000000",
          "2025-06-28T13:00:00.000000000",
          "2025-06-28T14:00:00.000000000",
          "2025-06-28T15:00:00.000000000",
          "2025-06-28T16:00:00.000000000",
          "2025-06-28T17:00:00.000000000",
          "2025-06-28T18:00:00.000000000",
          "2025-06-28T19:00:00.000000000",
          "2025-06-28T20:00:00.000000000",
          "2025-06-28T21:00:00.000000000",
          "2025-06-28T22:00:00.000000000",
          "2025-06-28T23:00:00.000000000",
          "2025-06-29T00:00:00.000000000",
          "2025-06-29T01:00:00.000000000",
          "2025-06-29T02:00:00.000000000",
          "2025-06-29T03:00:00.000000000",
          "2025-06-29T04:00:00.000000000",
          "2025-06-29T05:00:00.000000000",
          "2025-06-29T06:00:00.000000000",
          "2025-06-29T07:00:00.000000000",
          "2025-06-29T08:00:00.000000000",
          "2025-06-29T09:00:00.000000000",
          "2025-06-29T10:00:00.000000000",
          "2025-06-29T11:00:00.000000000",
          "2025-06-29T12:00:00.000000000",
          "2025-06-29T13:00:00.000000000",
          "2025-06-29T14:00:00.000000000",
          "2025-06-29T15:00:00.000000000",
          "2025-06-29T16:00:00.000000000",
          "2025-06-29T17:00:00.000000000",
          "2025-06-29T18:00:00.000000000",
          "2025-06-29T19:00:00.000000000",
          "2025-06-29T20:00:00.000000000",
          "2025-06-29T21:00:00.000000000",
          "2025-06-29T22:00:00.000000000",
          "2025-06-29T23:00:00.000000000",
          "2025-06-30T00:00:00.000000000",
          "2025-06-30T01:00:00.000000000",
          "2025-06-30T02:00:00.000000000",
          "2025-06-30T03:00:00.000000000",
          "2025-06-30T04:00:00.000000000",
          "2025-06-30T05:00:00.000000000",
          "2025-06-30T06:00:00.000000000",
          "2025-06-30T07:00:00.000000000",
          "2025-06-30T08:00:00.000000000",
          "2025-06-30T09:00:00.000000000",
          "2025-06-30T10:00:00.000000000",
          "2025-06-30T11:00:00.000000000",
          "2025-06-30T12:00:00.000000000",
          "2025-06-30T13:00:00.000000000",
          "2025-06-30T14:00:00.000000000",
          "2025-06-30T15:00:00.000000000",
          "2025-06-30T16:00:00.000000000",
          "2025-06-30T17:00:00.000000000",
          "2025-06-30T18:00:00.000000000",
          "2025-06-30T19:00:00.000000000",
          "2025-06-30T20:00:00.000000000",
          "2025-06-30T21:00:00.000000000",
          "2025-06-30T22:00:00.000000000",
          "2025-06-30T23:00:00.000000000"
         ],
         "xaxis": "x3",
         "y": {
          "bdata": "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",
          "dtype": "f8"
         },
         "yaxis": "y3"
        },
        {
         "line": {
          "color": "#AB63FA",
          "width": 2
         },
         "name": "Ljubljana Ring",
         "showlegend": true,
         "type": "scatter",
         "x": [
          "2025-06-15T00:00:00.000000000",
          "2025-06-15T01:00:00.000000000",
          "2025-06-15T02:00:00.000000000",
          "2025-06-15T03:00:00.000000000",
          "2025-06-15T04:00:00.000000000",
          "2025-06-15T05:00:00.000000000",
          "2025-06-15T06:00:00.000000000",
          "2025-06-15T07:00:00.000000000",
          "2025-06-15T08:00:00.000000000",
          "2025-06-15T09:00:00.000000000",
          "2025-06-15T10:00:00.000000000",
          "2025-06-15T11:00:00.000000000",
          "2025-06-15T12:00:00.000000000",
          "2025-06-15T13:00:00.000000000",
          "2025-06-15T14:00:00.000000000",
          "2025-06-15T15:00:00.000000000",
          "2025-06-15T16:00:00.000000000",
          "2025-06-15T17:00:00.000000000",
          "2025-06-15T18:00:00.000000000",
          "2025-06-15T19:00:00.000000000",
          "2025-06-15T20:00:00.000000000",
          "2025-06-15T21:00:00.000000000",
          "2025-06-15T22:00:00.000000000",
          "2025-06-15T23:00:00.000000000",
          "2025-06-16T00:00:00.000000000",
          "2025-06-16T01:00:00.000000000",
          "2025-06-16T02:00:00.000000000",
          "2025-06-16T03:00:00.000000000",
          "2025-06-16T04:00:00.000000000",
          "2025-06-16T05:00:00.000000000",
          "2025-06-16T06:00:00.000000000",
          "2025-06-16T07:00:00.000000000",
          "2025-06-16T08:00:00.000000000",
          "2025-06-16T09:00:00.000000000",
          "2025-06-16T10:00:00.000000000",
          "2025-06-16T11:00:00.000000000",
          "2025-06-16T12:00:00.000000000",
          "2025-06-16T13:00:00.000000000",
          "2025-06-16T14:00:00.000000000",
          "2025-06-16T15:00:00.000000000",
          "2025-06-16T16:00:00.000000000",
          "2025-06-16T17:00:00.000000000",
          "2025-06-16T18:00:00.000000000",
          "2025-06-16T19:00:00.000000000",
          "2025-06-16T20:00:00.000000000",
          "2025-06-16T21:00:00.000000000",
          "2025-06-16T22:00:00.000000000",
          "2025-06-16T23:00:00.000000000",
          "2025-06-17T00:00:00.000000000",
          "2025-06-17T01:00:00.000000000",
          "2025-06-17T02:00:00.000000000",
          "2025-06-17T03:00:00.000000000",
          "2025-06-17T04:00:00.000000000",
          "2025-06-17T05:00:00.000000000",
          "2025-06-17T06:00:00.000000000",
          "2025-06-17T07:00:00.000000000",
          "2025-06-17T08:00:00.000000000",
          "2025-06-17T09:00:00.000000000",
          "2025-06-17T10:00:00.000000000",
          "2025-06-17T11:00:00.000000000",
          "2025-06-17T12:00:00.000000000",
          "2025-06-17T13:00:00.000000000",
          "2025-06-17T14:00:00.000000000",
          "2025-06-17T15:00:00.000000000",
          "2025-06-17T16:00:00.000000000",
          "2025-06-17T17:00:00.000000000",
          "2025-06-17T18:00:00.000000000",
          "2025-06-17T19:00:00.000000000",
          "2025-06-17T20:00:00.000000000",
          "2025-06-17T21:00:00.000000000",
          "2025-06-17T22:00:00.000000000",
          "2025-06-17T23:00:00.000000000",
          "2025-06-18T00:00:00.000000000",
          "2025-06-18T01:00:00.000000000",
          "2025-06-18T02:00:00.000000000",
          "2025-06-18T03:00:00.000000000",
          "2025-06-18T04:00:00.000000000",
          "2025-06-18T05:00:00.000000000",
          "2025-06-18T06:00:00.000000000",
          "2025-06-18T07:00:00.000000000",
          "2025-06-18T08:00:00.000000000",
          "2025-06-18T09:00:00.000000000",
          "2025-06-18T10:00:00.000000000",
          "2025-06-18T11:00:00.000000000",
          "2025-06-18T12:00:00.000000000",
          "2025-06-18T13:00:00.000000000",
          "2025-06-18T14:00:00.000000000",
          "2025-06-18T15:00:00.000000000",
          "2025-06-18T16:00:00.000000000",
          "2025-06-18T17:00:00.000000000",
          "2025-06-18T18:00:00.000000000",
          "2025-06-18T19:00:00.000000000",
          "2025-06-18T20:00:00.000000000",
          "2025-06-18T21:00:00.000000000",
          "2025-06-18T22:00:00.000000000",
          "2025-06-18T23:00:00.000000000",
          "2025-06-19T00:00:00.000000000",
          "2025-06-19T01:00:00.000000000",
          "2025-06-19T02:00:00.000000000",
          "2025-06-19T03:00:00.000000000",
          "2025-06-19T04:00:00.000000000",
          "2025-06-19T05:00:00.000000000",
          "2025-06-19T06:00:00.000000000",
          "2025-06-19T07:00:00.000000000",
          "2025-06-19T08:00:00.000000000",
          "2025-06-19T09:00:00.000000000",
          "2025-06-19T10:00:00.000000000",
          "2025-06-19T11:00:00.000000000",
          "2025-06-19T12:00:00.000000000",
          "2025-06-19T13:00:00.000000000",
          "2025-06-19T14:00:00.000000000",
          "2025-06-19T15:00:00.000000000",
          "2025-06-19T16:00:00.000000000",
          "2025-06-19T17:00:00.000000000",
          "2025-06-19T18:00:00.000000000",
          "2025-06-19T19:00:00.000000000",
          "2025-06-19T20:00:00.000000000",
          "2025-06-19T21:00:00.000000000",
          "2025-06-19T22:00:00.000000000",
          "2025-06-19T23:00:00.000000000",
          "2025-06-20T00:00:00.000000000",
          "2025-06-20T01:00:00.000000000",
          "2025-06-20T02:00:00.000000000",
          "2025-06-20T03:00:00.000000000",
          "2025-06-20T04:00:00.000000000",
          "2025-06-20T05:00:00.000000000",
          "2025-06-20T06:00:00.000000000",
          "2025-06-20T07:00:00.000000000",
          "2025-06-20T08:00:00.000000000",
          "2025-06-20T09:00:00.000000000",
          "2025-06-20T10:00:00.000000000",
          "2025-06-20T11:00:00.000000000",
          "2025-06-20T12:00:00.000000000",
          "2025-06-20T13:00:00.000000000",
          "2025-06-20T14:00:00.000000000",
          "2025-06-20T15:00:00.000000000",
          "2025-06-20T16:00:00.000000000",
          "2025-06-20T17:00:00.000000000",
          "2025-06-20T18:00:00.000000000",
          "2025-06-20T19:00:00.000000000",
          "2025-06-20T20:00:00.000000000",
          "2025-06-20T21:00:00.000000000",
          "2025-06-20T22:00:00.000000000",
          "2025-06-20T23:00:00.000000000",
          "2025-06-21T00:00:00.000000000",
          "2025-06-21T01:00:00.000000000",
          "2025-06-21T02:00:00.000000000",
          "2025-06-21T03:00:00.000000000",
          "2025-06-21T04:00:00.000000000",
          "2025-06-21T05:00:00.000000000",
          "2025-06-21T06:00:00.000000000",
          "2025-06-21T07:00:00.000000000",
          "2025-06-21T08:00:00.000000000",
          "2025-06-21T09:00:00.000000000",
          "2025-06-21T10:00:00.000000000",
          "2025-06-21T11:00:00.000000000",
          "2025-06-21T12:00:00.000000000",
          "2025-06-21T13:00:00.000000000",
          "2025-06-21T14:00:00.000000000",
          "2025-06-21T15:00:00.000000000",
          "2025-06-21T16:00:00.000000000",
          "2025-06-21T17:00:00.000000000",
          "2025-06-21T18:00:00.000000000",
          "2025-06-21T19:00:00.000000000",
          "2025-06-21T20:00:00.000000000",
          "2025-06-21T21:00:00.000000000",
          "2025-06-21T22:00:00.000000000",
          "2025-06-21T23:00:00.000000000",
          "2025-06-22T00:00:00.000000000",
          "2025-06-22T01:00:00.000000000",
          "2025-06-22T02:00:00.000000000",
          "2025-06-22T03:00:00.000000000",
          "2025-06-22T04:00:00.000000000",
          "2025-06-22T05:00:00.000000000",
          "2025-06-22T06:00:00.000000000",
          "2025-06-22T07:00:00.000000000",
          "2025-06-22T08:00:00.000000000",
          "2025-06-22T09:00:00.000000000",
          "2025-06-22T10:00:00.000000000",
          "2025-06-22T11:00:00.000000000",
          "2025-06-22T12:00:00.000000000",
          "2025-06-22T13:00:00.000000000",
          "2025-06-22T14:00:00.000000000",
          "2025-06-22T15:00:00.000000000",
          "2025-06-22T16:00:00.000000000",
          "2025-06-22T17:00:00.000000000",
          "2025-06-22T18:00:00.000000000",
          "2025-06-22T19:00:00.000000000",
          "2025-06-22T20:00:00.000000000",
          "2025-06-22T21:00:00.000000000",
          "2025-06-22T22:00:00.000000000",
          "2025-06-22T23:00:00.000000000",
          "2025-06-23T00:00:00.000000000",
          "2025-06-23T01:00:00.000000000",
          "2025-06-23T02:00:00.000000000",
          "2025-06-23T03:00:00.000000000",
          "2025-06-23T04:00:00.000000000",
          "2025-06-23T05:00:00.000000000",
          "2025-06-23T06:00:00.000000000",
          "2025-06-23T07:00:00.000000000",
          "2025-06-23T08:00:00.000000000",
          "2025-06-23T09:00:00.000000000",
          "2025-06-23T10:00:00.000000000",
          "2025-06-23T11:00:00.000000000",
          "2025-06-23T12:00:00.000000000",
          "2025-06-23T13:00:00.000000000",
          "2025-06-23T14:00:00.000000000",
          "2025-06-23T15:00:00.000000000",
          "2025-06-23T16:00:00.000000000",
          "2025-06-23T17:00:00.000000000",
          "2025-06-23T18:00:00.000000000",
          "2025-06-23T19:00:00.000000000",
          "2025-06-23T20:00:00.000000000",
          "2025-06-23T21:00:00.000000000",
          "2025-06-23T22:00:00.000000000",
          "2025-06-23T23:00:00.000000000",
          "2025-06-24T00:00:00.000000000",
          "2025-06-24T01:00:00.000000000",
          "2025-06-24T02:00:00.000000000",
          "2025-06-24T03:00:00.000000000",
          "2025-06-24T04:00:00.000000000",
          "2025-06-24T05:00:00.000000000",
          "2025-06-24T06:00:00.000000000",
          "2025-06-24T07:00:00.000000000",
          "2025-06-24T08:00:00.000000000",
          "2025-06-24T09:00:00.000000000",
          "2025-06-24T10:00:00.000000000",
          "2025-06-24T11:00:00.000000000",
          "2025-06-24T12:00:00.000000000",
          "2025-06-24T13:00:00.000000000",
          "2025-06-24T14:00:00.000000000",
          "2025-06-24T15:00:00.000000000",
          "2025-06-24T16:00:00.000000000",
          "2025-06-24T17:00:00.000000000",
          "2025-06-24T18:00:00.000000000",
          "2025-06-24T19:00:00.000000000",
          "2025-06-24T20:00:00.000000000",
          "2025-06-24T21:00:00.000000000",
          "2025-06-24T22:00:00.000000000",
          "2025-06-24T23:00:00.000000000",
          "2025-06-25T00:00:00.000000000",
          "2025-06-25T01:00:00.000000000",
          "2025-06-25T02:00:00.000000000",
          "2025-06-25T03:00:00.000000000",
          "2025-06-25T04:00:00.000000000",
          "2025-06-25T05:00:00.000000000",
          "2025-06-25T06:00:00.000000000",
          "2025-06-25T07:00:00.000000000",
          "2025-06-25T08:00:00.000000000",
          "2025-06-25T09:00:00.000000000",
          "2025-06-25T10:00:00.000000000",
          "2025-06-25T11:00:00.000000000",
          "2025-06-25T12:00:00.000000000",
          "2025-06-25T13:00:00.000000000",
          "2025-06-25T14:00:00.000000000",
          "2025-06-25T15:00:00.000000000",
          "2025-06-25T16:00:00.000000000",
          "2025-06-25T17:00:00.000000000",
          "2025-06-25T18:00:00.000000000",
          "2025-06-25T19:00:00.000000000",
          "2025-06-25T20:00:00.000000000",
          "2025-06-25T21:00:00.000000000",
          "2025-06-25T22:00:00.000000000",
          "2025-06-25T23:00:00.000000000",
          "2025-06-26T00:00:00.000000000",
          "2025-06-26T01:00:00.000000000",
          "2025-06-26T02:00:00.000000000",
          "2025-06-26T03:00:00.000000000",
          "2025-06-26T04:00:00.000000000",
          "2025-06-26T05:00:00.000000000",
          "2025-06-26T06:00:00.000000000",
          "2025-06-26T07:00:00.000000000",
          "2025-06-26T08:00:00.000000000",
          "2025-06-26T09:00:00.000000000",
          "2025-06-26T10:00:00.000000000",
          "2025-06-26T11:00:00.000000000",
          "2025-06-26T12:00:00.000000000",
          "2025-06-26T13:00:00.000000000",
          "2025-06-26T14:00:00.000000000",
          "2025-06-26T15:00:00.000000000",
          "2025-06-26T16:00:00.000000000",
          "2025-06-26T17:00:00.000000000",
          "2025-06-26T18:00:00.000000000",
          "2025-06-26T19:00:00.000000000",
          "2025-06-26T20:00:00.000000000",
          "2025-06-26T21:00:00.000000000",
          "2025-06-26T22:00:00.000000000",
          "2025-06-26T23:00:00.000000000",
          "2025-06-27T00:00:00.000000000",
          "2025-06-27T01:00:00.000000000",
          "2025-06-27T02:00:00.000000000",
          "2025-06-27T03:00:00.000000000",
          "2025-06-27T04:00:00.000000000",
          "2025-06-27T05:00:00.000000000",
          "2025-06-27T06:00:00.000000000",
          "2025-06-27T07:00:00.000000000",
          "2025-06-27T08:00:00.000000000",
          "2025-06-27T09:00:00.000000000",
          "2025-06-27T10:00:00.000000000",
          "2025-06-27T11:00:00.000000000",
          "2025-06-27T12:00:00.000000000",
          "2025-06-27T13:00:00.000000000",
          "2025-06-27T14:00:00.000000000",
          "2025-06-27T15:00:00.000000000",
          "2025-06-27T16:00:00.000000000",
          "2025-06-27T17:00:00.000000000",
          "2025-06-27T18:00:00.000000000",
          "2025-06-27T19:00:00.000000000",
          "2025-06-27T20:00:00.000000000",
          "2025-06-27T21:00:00.000000000",
          "2025-06-27T22:00:00.000000000",
          "2025-06-27T23:00:00.000000000",
          "2025-06-28T00:00:00.000000000",
          "2025-06-28T01:00:00.000000000",
          "2025-06-28T02:00:00.000000000",
          "2025-06-28T03:00:00.000000000",
          "2025-06-28T04:00:00.000000000",
          "2025-06-28T05:00:00.000000000",
          "2025-06-28T06:00:00.000000000",
          "2025-06-28T07:00:00.000000000",
          "2025-06-28T08:00:00.000000000",
          "2025-06-28T09:00:00.000000000",
          "2025-06-28T10:00:00.000000000",
          "2025-06-28T11:00:00.000000000",
          "2025-06-28T12:00:00.000000000",
          "2025-06-28T13:00:00.000000000",
          "2025-06-28T14:00:00.000000000",
          "2025-06-28T15:00:00.000000000",
          "2025-06-28T16:00:00.000000000",
          "2025-06-28T17:00:00.000000000",
          "2025-06-28T18:00:00.000000000",
          "2025-06-28T19:00:00.000000000",
          "2025-06-28T20:00:00.000000000",
          "2025-06-28T21:00:00.000000000",
          "2025-06-28T22:00:00.000000000",
          "2025-06-28T23:00:00.000000000",
          "2025-06-29T00:00:00.000000000",
          "2025-06-29T01:00:00.000000000",
          "2025-06-29T02:00:00.000000000",
          "2025-06-29T03:00:00.000000000",
          "2025-06-29T04:00:00.000000000",
          "2025-06-29T05:00:00.000000000",
          "2025-06-29T06:00:00.000000000",
          "2025-06-29T07:00:00.000000000",
          "2025-06-29T08:00:00.000000000",
          "2025-06-29T09:00:00.000000000",
          "2025-06-29T10:00:00.000000000",
          "2025-06-29T11:00:00.000000000",
          "2025-06-29T12:00:00.000000000",
          "2025-06-29T13:00:00.000000000",
          "2025-06-29T14:00:00.000000000",
          "2025-06-29T15:00:00.000000000",
          "2025-06-29T16:00:00.000000000",
          "2025-06-29T17:00:00.000000000",
          "2025-06-29T18:00:00.000000000",
          "2025-06-29T19:00:00.000000000",
          "2025-06-29T20:00:00.000000000",
          "2025-06-29T21:00:00.000000000",
          "2025-06-29T22:00:00.000000000",
          "2025-06-29T23:00:00.000000000",
          "2025-06-30T00:00:00.000000000",
          "2025-06-30T01:00:00.000000000",
          "2025-06-30T02:00:00.000000000",
          "2025-06-30T03:00:00.000000000",
          "2025-06-30T04:00:00.000000000",
          "2025-06-30T05:00:00.000000000",
          "2025-06-30T06:00:00.000000000",
          "2025-06-30T07:00:00.000000000",
          "2025-06-30T08:00:00.000000000",
          "2025-06-30T09:00:00.000000000",
          "2025-06-30T10:00:00.000000000",
          "2025-06-30T11:00:00.000000000",
          "2025-06-30T12:00:00.000000000",
          "2025-06-30T13:00:00.000000000",
          "2025-06-30T14:00:00.000000000",
          "2025-06-30T15:00:00.000000000",
          "2025-06-30T16:00:00.000000000",
          "2025-06-30T17:00:00.000000000",
          "2025-06-30T18:00:00.000000000",
          "2025-06-30T19:00:00.000000000",
          "2025-06-30T20:00:00.000000000",
          "2025-06-30T21:00:00.000000000",
          "2025-06-30T22:00:00.000000000",
          "2025-06-30T23:00:00.000000000"
         ],
         "xaxis": "x4",
         "y": {
          "bdata": "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",
          "dtype": "f8"
         },
         "yaxis": "y4"
        },
        {
         "line": {
          "color": "#AB63FA",
          "dash": "dash",
          "width": 1
         },
         "name": "Ljubljana Ring (24h avg)",
         "showlegend": false,
         "type": "scatter",
         "x": [
          "2025-06-15T00:00:00.000000000",
          "2025-06-15T01:00:00.000000000",
          "2025-06-15T02:00:00.000000000",
          "2025-06-15T03:00:00.000000000",
          "2025-06-15T04:00:00.000000000",
          "2025-06-15T05:00:00.000000000",
          "2025-06-15T06:00:00.000000000",
          "2025-06-15T07:00:00.000000000",
          "2025-06-15T08:00:00.000000000",
          "2025-06-15T09:00:00.000000000",
          "2025-06-15T10:00:00.000000000",
          "2025-06-15T11:00:00.000000000",
          "2025-06-15T12:00:00.000000000",
          "2025-06-15T13:00:00.000000000",
          "2025-06-15T14:00:00.000000000",
          "2025-06-15T15:00:00.000000000",
          "2025-06-15T16:00:00.000000000",
          "2025-06-15T17:00:00.000000000",
          "2025-06-15T18:00:00.000000000",
          "2025-06-15T19:00:00.000000000",
          "2025-06-15T20:00:00.000000000",
          "2025-06-15T21:00:00.000000000",
          "2025-06-15T22:00:00.000000000",
          "2025-06-15T23:00:00.000000000",
          "2025-06-16T00:00:00.000000000",
          "2025-06-16T01:00:00.000000000",
          "2025-06-16T02:00:00.000000000",
          "2025-06-16T03:00:00.000000000",
          "2025-06-16T04:00:00.000000000",
          "2025-06-16T05:00:00.000000000",
          "2025-06-16T06:00:00.000000000",
          "2025-06-16T07:00:00.000000000",
          "2025-06-16T08:00:00.000000000",
          "2025-06-16T09:00:00.000000000",
          "2025-06-16T10:00:00.000000000",
          "2025-06-16T11:00:00.000000000",
          "2025-06-16T12:00:00.000000000",
          "2025-06-16T13:00:00.000000000",
          "2025-06-16T14:00:00.000000000",
          "2025-06-16T15:00:00.000000000",
          "2025-06-16T16:00:00.000000000",
          "2025-06-16T17:00:00.000000000",
          "2025-06-16T18:00:00.000000000",
          "2025-06-16T19:00:00.000000000",
          "2025-06-16T20:00:00.000000000",
          "2025-06-16T21:00:00.000000000",
          "2025-06-16T22:00:00.000000000",
          "2025-06-16T23:00:00.000000000",
          "2025-06-17T00:00:00.000000000",
          "2025-06-17T01:00:00.000000000",
          "2025-06-17T02:00:00.000000000",
          "2025-06-17T03:00:00.000000000",
          "2025-06-17T04:00:00.000000000",
          "2025-06-17T05:00:00.000000000",
          "2025-06-17T06:00:00.000000000",
          "2025-06-17T07:00:00.000000000",
          "2025-06-17T08:00:00.000000000",
          "2025-06-17T09:00:00.000000000",
          "2025-06-17T10:00:00.000000000",
          "2025-06-17T11:00:00.000000000",
          "2025-06-17T12:00:00.000000000",
          "2025-06-17T13:00:00.000000000",
          "2025-06-17T14:00:00.000000000",
          "2025-06-17T15:00:00.000000000",
          "2025-06-17T16:00:00.000000000",
          "2025-06-17T17:00:00.000000000",
          "2025-06-17T18:00:00.000000000",
          "2025-06-17T19:00:00.000000000",
          "2025-06-17T20:00:00.000000000",
          "2025-06-17T21:00:00.000000000",
          "2025-06-17T22:00:00.000000000",
          "2025-06-17T23:00:00.000000000",
          "2025-06-18T00:00:00.000000000",
          "2025-06-18T01:00:00.000000000",
          "2025-06-18T02:00:00.000000000",
          "2025-06-18T03:00:00.000000000",
          "2025-06-18T04:00:00.000000000",
          "2025-06-18T05:00:00.000000000",
          "2025-06-18T06:00:00.000000000",
          "2025-06-18T07:00:00.000000000",
          "2025-06-18T08:00:00.000000000",
          "2025-06-18T09:00:00.000000000",
          "2025-06-18T10:00:00.000000000",
          "2025-06-18T11:00:00.000000000",
          "2025-06-18T12:00:00.000000000",
          "2025-06-18T13:00:00.000000000",
          "2025-06-18T14:00:00.000000000",
          "2025-06-18T15:00:00.000000000",
          "2025-06-18T16:00:00.000000000",
          "2025-06-18T17:00:00.000000000",
          "2025-06-18T18:00:00.000000000",
          "2025-06-18T19:00:00.000000000",
          "2025-06-18T20:00:00.000000000",
          "2025-06-18T21:00:00.000000000",
          "2025-06-18T22:00:00.000000000",
          "2025-06-18T23:00:00.000000000",
          "2025-06-19T00:00:00.000000000",
          "2025-06-19T01:00:00.000000000",
          "2025-06-19T02:00:00.000000000",
          "2025-06-19T03:00:00.000000000",
          "2025-06-19T04:00:00.000000000",
          "2025-06-19T05:00:00.000000000",
          "2025-06-19T06:00:00.000000000",
          "2025-06-19T07:00:00.000000000",
          "2025-06-19T08:00:00.000000000",
          "2025-06-19T09:00:00.000000000",
          "2025-06-19T10:00:00.000000000",
          "2025-06-19T11:00:00.000000000",
          "2025-06-19T12:00:00.000000000",
          "2025-06-19T13:00:00.000000000",
          "2025-06-19T14:00:00.000000000",
          "2025-06-19T15:00:00.000000000",
          "2025-06-19T16:00:00.000000000",
          "2025-06-19T17:00:00.000000000",
          "2025-06-19T18:00:00.000000000",
          "2025-06-19T19:00:00.000000000",
          "2025-06-19T20:00:00.000000000",
          "2025-06-19T21:00:00.000000000",
          "2025-06-19T22:00:00.000000000",
          "2025-06-19T23:00:00.000000000",
          "2025-06-20T00:00:00.000000000",
          "2025-06-20T01:00:00.000000000",
          "2025-06-20T02:00:00.000000000",
          "2025-06-20T03:00:00.000000000",
          "2025-06-20T04:00:00.000000000",
          "2025-06-20T05:00:00.000000000",
          "2025-06-20T06:00:00.000000000",
          "2025-06-20T07:00:00.000000000",
          "2025-06-20T08:00:00.000000000",
          "2025-06-20T09:00:00.000000000",
          "2025-06-20T10:00:00.000000000",
          "2025-06-20T11:00:00.000000000",
          "2025-06-20T12:00:00.000000000",
          "2025-06-20T13:00:00.000000000",
          "2025-06-20T14:00:00.000000000",
          "2025-06-20T15:00:00.000000000",
          "2025-06-20T16:00:00.000000000",
          "2025-06-20T17:00:00.000000000",
          "2025-06-20T18:00:00.000000000",
          "2025-06-20T19:00:00.000000000",
          "2025-06-20T20:00:00.000000000",
          "2025-06-20T21:00:00.000000000",
          "2025-06-20T22:00:00.000000000",
          "2025-06-20T23:00:00.000000000",
          "2025-06-21T00:00:00.000000000",
          "2025-06-21T01:00:00.000000000",
          "2025-06-21T02:00:00.000000000",
          "2025-06-21T03:00:00.000000000",
          "2025-06-21T04:00:00.000000000",
          "2025-06-21T05:00:00.000000000",
          "2025-06-21T06:00:00.000000000",
          "2025-06-21T07:00:00.000000000",
          "2025-06-21T08:00:00.000000000",
          "2025-06-21T09:00:00.000000000",
          "2025-06-21T10:00:00.000000000",
          "2025-06-21T11:00:00.000000000",
          "2025-06-21T12:00:00.000000000",
          "2025-06-21T13:00:00.000000000",
          "2025-06-21T14:00:00.000000000",
          "2025-06-21T15:00:00.000000000",
          "2025-06-21T16:00:00.000000000",
          "2025-06-21T17:00:00.000000000",
          "2025-06-21T18:00:00.000000000",
          "2025-06-21T19:00:00.000000000",
          "2025-06-21T20:00:00.000000000",
          "2025-06-21T21:00:00.000000000",
          "2025-06-21T22:00:00.000000000",
          "2025-06-21T23:00:00.000000000",
          "2025-06-22T00:00:00.000000000",
          "2025-06-22T01:00:00.000000000",
          "2025-06-22T02:00:00.000000000",
          "2025-06-22T03:00:00.000000000",
          "2025-06-22T04:00:00.000000000",
          "2025-06-22T05:00:00.000000000",
          "2025-06-22T06:00:00.000000000",
          "2025-06-22T07:00:00.000000000",
          "2025-06-22T08:00:00.000000000",
          "2025-06-22T09:00:00.000000000",
          "2025-06-22T10:00:00.000000000",
          "2025-06-22T11:00:00.000000000",
          "2025-06-22T12:00:00.000000000",
          "2025-06-22T13:00:00.000000000",
          "2025-06-22T14:00:00.000000000",
          "2025-06-22T15:00:00.000000000",
          "2025-06-22T16:00:00.000000000",
          "2025-06-22T17:00:00.000000000",
          "2025-06-22T18:00:00.000000000",
          "2025-06-22T19:00:00.000000000",
          "2025-06-22T20:00:00.000000000",
          "2025-06-22T21:00:00.000000000",
          "2025-06-22T22:00:00.000000000",
          "2025-06-22T23:00:00.000000000",
          "2025-06-23T00:00:00.000000000",
          "2025-06-23T01:00:00.000000000",
          "2025-06-23T02:00:00.000000000",
          "2025-06-23T03:00:00.000000000",
          "2025-06-23T04:00:00.000000000",
          "2025-06-23T05:00:00.000000000",
          "2025-06-23T06:00:00.000000000",
          "2025-06-23T07:00:00.000000000",
          "2025-06-23T08:00:00.000000000",
          "2025-06-23T09:00:00.000000000",
          "2025-06-23T10:00:00.000000000",
          "2025-06-23T11:00:00.000000000",
          "2025-06-23T12:00:00.000000000",
          "2025-06-23T13:00:00.000000000",
          "2025-06-23T14:00:00.000000000",
          "2025-06-23T15:00:00.000000000",
          "2025-06-23T16:00:00.000000000",
          "2025-06-23T17:00:00.000000000",
          "2025-06-23T18:00:00.000000000",
          "2025-06-23T19:00:00.000000000",
          "2025-06-23T20:00:00.000000000",
          "2025-06-23T21:00:00.000000000",
          "2025-06-23T22:00:00.000000000",
          "2025-06-23T23:00:00.000000000",
          "2025-06-24T00:00:00.000000000",
          "2025-06-24T01:00:00.000000000",
          "2025-06-24T02:00:00.000000000",
          "2025-06-24T03:00:00.000000000",
          "2025-06-24T04:00:00.000000000",
          "2025-06-24T05:00:00.000000000",
          "2025-06-24T06:00:00.000000000",
          "2025-06-24T07:00:00.000000000",
          "2025-06-24T08:00:00.000000000",
          "2025-06-24T09:00:00.000000000",
          "2025-06-24T10:00:00.000000000",
          "2025-06-24T11:00:00.000000000",
          "2025-06-24T12:00:00.000000000",
          "2025-06-24T13:00:00.000000000",
          "2025-06-24T14:00:00.000000000",
          "2025-06-24T15:00:00.000000000",
          "2025-06-24T16:00:00.000000000",
          "2025-06-24T17:00:00.000000000",
          "2025-06-24T18:00:00.000000000",
          "2025-06-24T19:00:00.000000000",
          "2025-06-24T20:00:00.000000000",
          "2025-06-24T21:00:00.000000000",
          "2025-06-24T22:00:00.000000000",
          "2025-06-24T23:00:00.000000000",
          "2025-06-25T00:00:00.000000000",
          "2025-06-25T01:00:00.000000000",
          "2025-06-25T02:00:00.000000000",
          "2025-06-25T03:00:00.000000000",
          "2025-06-25T04:00:00.000000000",
          "2025-06-25T05:00:00.000000000",
          "2025-06-25T06:00:00.000000000",
          "2025-06-25T07:00:00.000000000",
          "2025-06-25T08:00:00.000000000",
          "2025-06-25T09:00:00.000000000",
          "2025-06-25T10:00:00.000000000",
          "2025-06-25T11:00:00.000000000",
          "2025-06-25T12:00:00.000000000",
          "2025-06-25T13:00:00.000000000",
          "2025-06-25T14:00:00.000000000",
          "2025-06-25T15:00:00.000000000",
          "2025-06-25T16:00:00.000000000",
          "2025-06-25T17:00:00.000000000",
          "2025-06-25T18:00:00.000000000",
          "2025-06-25T19:00:00.000000000",
          "2025-06-25T20:00:00.000000000",
          "2025-06-25T21:00:00.000000000",
          "2025-06-25T22:00:00.000000000",
          "2025-06-25T23:00:00.000000000",
          "2025-06-26T00:00:00.000000000",
          "2025-06-26T01:00:00.000000000",
          "2025-06-26T02:00:00.000000000",
          "2025-06-26T03:00:00.000000000",
          "2025-06-26T04:00:00.000000000",
          "2025-06-26T05:00:00.000000000",
          "2025-06-26T06:00:00.000000000",
          "2025-06-26T07:00:00.000000000",
          "2025-06-26T08:00:00.000000000",
          "2025-06-26T09:00:00.000000000",
          "2025-06-26T10:00:00.000000000",
          "2025-06-26T11:00:00.000000000",
          "2025-06-26T12:00:00.000000000",
          "2025-06-26T13:00:00.000000000",
          "2025-06-26T14:00:00.000000000",
          "2025-06-26T15:00:00.000000000",
          "2025-06-26T16:00:00.000000000",
          "2025-06-26T17:00:00.000000000",
          "2025-06-26T18:00:00.000000000",
          "2025-06-26T19:00:00.000000000",
          "2025-06-26T20:00:00.000000000",
          "2025-06-26T21:00:00.000000000",
          "2025-06-26T22:00:00.000000000",
          "2025-06-26T23:00:00.000000000",
          "2025-06-27T00:00:00.000000000",
          "2025-06-27T01:00:00.000000000",
          "2025-06-27T02:00:00.000000000",
          "2025-06-27T03:00:00.000000000",
          "2025-06-27T04:00:00.000000000",
          "2025-06-27T05:00:00.000000000",
          "2025-06-27T06:00:00.000000000",
          "2025-06-27T07:00:00.000000000",
          "2025-06-27T08:00:00.000000000",
          "2025-06-27T09:00:00.000000000",
          "2025-06-27T10:00:00.000000000",
          "2025-06-27T11:00:00.000000000",
          "2025-06-27T12:00:00.000000000",
          "2025-06-27T13:00:00.000000000",
          "2025-06-27T14:00:00.000000000",
          "2025-06-27T15:00:00.000000000",
          "2025-06-27T16:00:00.000000000",
          "2025-06-27T17:00:00.000000000",
          "2025-06-27T18:00:00.000000000",
          "2025-06-27T19:00:00.000000000",
          "2025-06-27T20:00:00.000000000",
          "2025-06-27T21:00:00.000000000",
          "2025-06-27T22:00:00.000000000",
          "2025-06-27T23:00:00.000000000",
          "2025-06-28T00:00:00.000000000",
          "2025-06-28T01:00:00.000000000",
          "2025-06-28T02:00:00.000000000",
          "2025-06-28T03:00:00.000000000",
          "2025-06-28T04:00:00.000000000",
          "2025-06-28T05:00:00.000000000",
          "2025-06-28T06:00:00.000000000",
          "2025-06-28T07:00:00.000000000",
          "2025-06-28T08:00:00.000000000",
          "2025-06-28T09:00:00.000000000",
          "2025-06-28T10:00:00.000000000",
          "2025-06-28T11:00:00.000000000",
          "2025-06-28T12:00:00.000000000",
          "2025-06-28T13:00:00.000000000",
          "2025-06-28T14:00:00.000000000",
          "2025-06-28T15:00:00.000000000",
          "2025-06-28T16:00:00.000000000",
          "2025-06-28T17:00:00.000000000",
          "2025-06-28T18:00:00.000000000",
          "2025-06-28T19:00:00.000000000",
          "2025-06-28T20:00:00.000000000",
          "2025-06-28T21:00:00.000000000",
          "2025-06-28T22:00:00.000000000",
          "2025-06-28T23:00:00.000000000",
          "2025-06-29T00:00:00.000000000",
          "2025-06-29T01:00:00.000000000",
          "2025-06-29T02:00:00.000000000",
          "2025-06-29T03:00:00.000000000",
          "2025-06-29T04:00:00.000000000",
          "2025-06-29T05:00:00.000000000",
          "2025-06-29T06:00:00.000000000",
          "2025-06-29T07:00:00.000000000",
          "2025-06-29T08:00:00.000000000",
          "2025-06-29T09:00:00.000000000",
          "2025-06-29T10:00:00.000000000",
          "2025-06-29T11:00:00.000000000",
          "2025-06-29T12:00:00.000000000",
          "2025-06-29T13:00:00.000000000",
          "2025-06-29T14:00:00.000000000",
          "2025-06-29T15:00:00.000000000",
          "2025-06-29T16:00:00.000000000",
          "2025-06-29T17:00:00.000000000",
          "2025-06-29T18:00:00.000000000",
          "2025-06-29T19:00:00.000000000",
          "2025-06-29T20:00:00.000000000",
          "2025-06-29T21:00:00.000000000",
          "2025-06-29T22:00:00.000000000",
          "2025-06-29T23:00:00.000000000",
          "2025-06-30T00:00:00.000000000",
          "2025-06-30T01:00:00.000000000",
          "2025-06-30T02:00:00.000000000",
          "2025-06-30T03:00:00.000000000",
          "2025-06-30T04:00:00.000000000",
          "2025-06-30T05:00:00.000000000",
          "2025-06-30T06:00:00.000000000",
          "2025-06-30T07:00:00.000000000",
          "2025-06-30T08:00:00.000000000",
          "2025-06-30T09:00:00.000000000",
          "2025-06-30T10:00:00.000000000",
          "2025-06-30T11:00:00.000000000",
          "2025-06-30T12:00:00.000000000",
          "2025-06-30T13:00:00.000000000",
          "2025-06-30T14:00:00.000000000",
          "2025-06-30T15:00:00.000000000",
          "2025-06-30T16:00:00.000000000",
          "2025-06-30T17:00:00.000000000",
          "2025-06-30T18:00:00.000000000",
          "2025-06-30T19:00:00.000000000",
          "2025-06-30T20:00:00.000000000",
          "2025-06-30T21:00:00.000000000",
          "2025-06-30T22:00:00.000000000",
          "2025-06-30T23:00:00.000000000"
         ],
         "xaxis": "x4",
         "y": {
          "bdata": "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",
          "dtype": "f8"
         },
         "yaxis": "y4"
        }
       ],
       "layout": {
        "annotations": [
         {
          "font": {
           "size": 16
          },
          "showarrow": false,
          "text": "Ljubljana Bypass",
          "x": 0.5,
          "xanchor": "center",
          "xref": "paper",
          "y": 1,
          "yanchor": "bottom",
          "yref": "paper"
         },
         {
          "font": {
           "size": 16
          },
          "showarrow": false,
          "text": "Celje-Maribor",
          "x": 0.5,
          "xanchor": "center",
          "xref": "paper",
          "y": 0.7375,
          "yanchor": "bottom",
          "yref": "paper"
         },
         {
          "font": {
           "size": 16
          },
          "showarrow": false,
          "text": "Koper-Ljubljana",
          "x": 0.5,
          "xanchor": "center",
          "xref": "paper",
          "y": 0.475,
          "yanchor": "bottom",
          "yref": "paper"
         },
         {
          "font": {
           "size": 16
          },
          "showarrow": false,
          "text": "Ljubljana Ring",
          "x": 0.5,
          "xanchor": "center",
          "xref": "paper",
          "y": 0.2125,
          "yanchor": "bottom",
          "yref": "paper"
         }
        ],
        "height": 800,
        "hovermode": "x unified",
        "showlegend": true,
        "template": {
         "data": {
          "bar": [
           {
            "error_x": {
             "color": "#2a3f5f"
            },
            "error_y": {
             "color": "#2a3f5f"
            },
            "marker": {
             "line": {
              "color": "#E5ECF6",
              "width": 0.5
             },
             "pattern": {
              "fillmode": "overlay",
              "size": 10,
              "solidity": 0.2
             }
            },
            "type": "bar"
           }
          ],
          "barpolar": [
           {
            "marker": {
             "line": {
              "color": "#E5ECF6",
              "width": 0.5
             },
             "pattern": {
              "fillmode": "overlay",
              "size": 10,
              "solidity": 0.2
             }
            },
            "type": "barpolar"
           }
          ],
          "carpet": [
           {
            "aaxis": {
             "endlinecolor": "#2a3f5f",
             "gridcolor": "white",
             "linecolor": "white",
             "minorgridcolor": "white",
             "startlinecolor": "#2a3f5f"
            },
            "baxis": {
             "endlinecolor": "#2a3f5f",
             "gridcolor": "white",
             "linecolor": "white",
             "minorgridcolor": "white",
             "startlinecolor": "#2a3f5f"
            },
            "type": "carpet"
           }
          ],
          "choropleth": [
           {
            "colorbar": {
             "outlinewidth": 0,
             "ticks": ""
            },
            "type": "choropleth"
           }
          ],
          "contour": [
           {
            "colorbar": {
             "outlinewidth": 0,
             "ticks": ""
            },
            "colorscale": [
             [
              0,
              "#0d0887"
             ],
             [
              0.1111111111111111,
              "#46039f"
             ],
             [
              0.2222222222222222,
              "#7201a8"
             ],
             [
              0.3333333333333333,
              "#9c179e"
             ],
             [
              0.4444444444444444,
              "#bd3786"
             ],
             [
              0.5555555555555556,
              "#d8576b"
             ],
             [
              0.6666666666666666,
              "#ed7953"
             ],
             [
              0.7777777777777778,
              "#fb9f3a"
             ],
             [
              0.8888888888888888,
              "#fdca26"
             ],
             [
              1,
              "#f0f921"
             ]
            ],
            "type": "contour"
           }
          ],
          "contourcarpet": [
           {
            "colorbar": {
             "outlinewidth": 0,
             "ticks": ""
            },
            "type": "contourcarpet"
           }
          ],
          "heatmap": [
           {
            "colorbar": {
             "outlinewidth": 0,
             "ticks": ""
            },
            "colorscale": [
             [
              0,
              "#0d0887"
             ],
             [
              0.1111111111111111,
              "#46039f"
             ],
             [
              0.2222222222222222,
              "#7201a8"
             ],
             [
              0.3333333333333333,
              "#9c179e"
             ],
             [
              0.4444444444444444,
              "#bd3786"
             ],
             [
              0.5555555555555556,
              "#d8576b"
             ],
             [
              0.6666666666666666,
              "#ed7953"
             ],
             [
              0.7777777777777778,
              "#fb9f3a"
             ],
             [
              0.8888888888888888,
              "#fdca26"
             ],
             [
              1,
              "#f0f921"
             ]
            ],
            "type": "heatmap"
           }
          ],
          "histogram": [
           {
            "marker": {
             "pattern": {
              "fillmode": "overlay",
              "size": 10,
              "solidity": 0.2
             }
            },
            "type": "histogram"
           }
          ],
          "histogram2d": [
           {
            "colorbar": {
             "outlinewidth": 0,
             "ticks": ""
            },
            "colorscale": [
             [
              0,
              "#0d0887"
             ],
             [
              0.1111111111111111,
              "#46039f"
             ],
             [
              0.2222222222222222,
              "#7201a8"
             ],
             [
              0.3333333333333333,
              "#9c179e"
             ],
             [
              0.4444444444444444,
              "#bd3786"
             ],
             [
              0.5555555555555556,
              "#d8576b"
             ],
             [
              0.6666666666666666,
              "#ed7953"
             ],
             [
              0.7777777777777778,
              "#fb9f3a"
             ],
             [
              0.8888888888888888,
              "#fdca26"
             ],
             [
              1,
              "#f0f921"
             ]
            ],
            "type": "histogram2d"
           }
          ],
          "histogram2dcontour": [
           {
            "colorbar": {
             "outlinewidth": 0,
             "ticks": ""
            },
            "colorscale": [
             [
              0,
              "#0d0887"
             ],
             [
              0.1111111111111111,
              "#46039f"
             ],
             [
              0.2222222222222222,
              "#7201a8"
             ],
             [
              0.3333333333333333,
              "#9c179e"
             ],
             [
              0.4444444444444444,
              "#bd3786"
             ],
             [
              0.5555555555555556,
              "#d8576b"
             ],
             [
              0.6666666666666666,
              "#ed7953"
             ],
             [
              0.7777777777777778,
              "#fb9f3a"
             ],
             [
              0.8888888888888888,
              "#fdca26"
             ],
             [
              1,
              "#f0f921"
             ]
            ],
            "type": "histogram2dcontour"
           }
          ],
          "mesh3d": [
           {
            "colorbar": {
             "outlinewidth": 0,
             "ticks": ""
            },
            "type": "mesh3d"
           }
          ],
          "parcoords": [
           {
            "line": {
             "colorbar": {
              "outlinewidth": 0,
              "ticks": ""
             }
            },
            "type": "parcoords"
           }
          ],
          "pie": [
           {
            "automargin": true,
            "type": "pie"
           }
          ],
          "scatter": [
           {
            "fillpattern": {
             "fillmode": "overlay",
             "size": 10,
             "solidity": 0.2
            },
            "type": "scatter"
           }
          ],
          "scatter3d": [
           {
            "line": {
             "colorbar": {
              "outlinewidth": 0,
              "ticks": ""
             }
            },
            "marker": {
             "colorbar": {
              "outlinewidth": 0,
              "ticks": ""
             }
            },
            "type": "scatter3d"
           }
          ],
          "scattercarpet": [
           {
            "marker": {
             "colorbar": {
              "outlinewidth": 0,
              "ticks": ""
             }
            },
            "type": "scattercarpet"
           }
          ],
          "scattergeo": [
           {
            "marker": {
             "colorbar": {
              "outlinewidth": 0,
              "ticks": ""
             }
            },
            "type": "scattergeo"
           }
          ],
          "scattergl": [
           {
            "marker": {
             "colorbar": {
              "outlinewidth": 0,
              "ticks": ""
             }
            },
            "type": "scattergl"
           }
          ],
          "scattermap": [
           {
            "marker": {
             "colorbar": {
              "outlinewidth": 0,
              "ticks": ""
             }
            },
            "type": "scattermap"
           }
          ],
          "scattermapbox": [
           {
            "marker": {
             "colorbar": {
              "outlinewidth": 0,
              "ticks": ""
             }
            },
            "type": "scattermapbox"
           }
          ],
          "scatterpolar": [
           {
            "marker": {
             "colorbar": {
              "outlinewidth": 0,
              "ticks": ""
             }
            },
            "type": "scatterpolar"
           }
          ],
          "scatterpolargl": [
           {
            "marker": {
             "colorbar": {
              "outlinewidth": 0,
              "ticks": ""
             }
            },
            "type": "scatterpolargl"
           }
          ],
          "scatterternary": [
           {
            "marker": {
             "colorbar": {
              "outlinewidth": 0,
              "ticks": ""
             }
            },
            "type": "scatterternary"
           }
          ],
          "surface": [
           {
            "colorbar": {
             "outlinewidth": 0,
             "ticks": ""
            },
            "colorscale": [
             [
              0,
              "#0d0887"
             ],
             [
              0.1111111111111111,
              "#46039f"
             ],
             [
              0.2222222222222222,
              "#7201a8"
             ],
             [
              0.3333333333333333,
              "#9c179e"
             ],
             [
              0.4444444444444444,
              "#bd3786"
             ],
             [
              0.5555555555555556,
              "#d8576b"
             ],
             [
              0.6666666666666666,
              "#ed7953"
             ],
             [
              0.7777777777777778,
              "#fb9f3a"
             ],
             [
              0.8888888888888888,
              "#fdca26"
             ],
             [
              1,
              "#f0f921"
             ]
            ],
            "type": "surface"
           }
          ],
          "table": [
           {
            "cells": {
             "fill": {
              "color": "#EBF0F8"
             },
             "line": {
              "color": "white"
             }
            },
            "header": {
             "fill": {
              "color": "#C8D4E3"
             },
             "line": {
              "color": "white"
             }
            },
            "type": "table"
           }
          ]
         },
         "layout": {
          "annotationdefaults": {
           "arrowcolor": "#2a3f5f",
           "arrowhead": 0,
           "arrowwidth": 1
          },
          "autotypenumbers": "strict",
          "coloraxis": {
           "colorbar": {
            "outlinewidth": 0,
            "ticks": ""
           }
          },
          "colorscale": {
           "diverging": [
            [
             0,
             "#8e0152"
            ],
            [
             0.1,
             "#c51b7d"
            ],
            [
             0.2,
             "#de77ae"
            ],
            [
             0.3,
             "#f1b6da"
            ],
            [
             0.4,
             "#fde0ef"
            ],
            [
             0.5,
             "#f7f7f7"
            ],
            [
             0.6,
             "#e6f5d0"
            ],
            [
             0.7,
             "#b8e186"
            ],
            [
             0.8,
             "#7fbc41"
            ],
            [
             0.9,
             "#4d9221"
            ],
            [
             1,
             "#276419"
            ]
           ],
           "sequential": [
            [
             0,
             "#0d0887"
            ],
            [
             0.1111111111111111,
             "#46039f"
            ],
            [
             0.2222222222222222,
             "#7201a8"
            ],
            [
             0.3333333333333333,
             "#9c179e"
            ],
            [
             0.4444444444444444,
             "#bd3786"
            ],
            [
             0.5555555555555556,
             "#d8576b"
            ],
            [
             0.6666666666666666,
             "#ed7953"
            ],
            [
             0.7777777777777778,
             "#fb9f3a"
            ],
            [
             0.8888888888888888,
             "#fdca26"
            ],
            [
             1,
             "#f0f921"
            ]
           ],
           "sequentialminus": [
            [
             0,
             "#0d0887"
            ],
            [
             0.1111111111111111,
             "#46039f"
            ],
            [
             0.2222222222222222,
             "#7201a8"
            ],
            [
             0.3333333333333333,
             "#9c179e"
            ],
            [
             0.4444444444444444,
             "#bd3786"
            ],
            [
             0.5555555555555556,
             "#d8576b"
            ],
            [
             0.6666666666666666,
             "#ed7953"
            ],
            [
             0.7777777777777778,
             "#fb9f3a"
            ],
            [
             0.8888888888888888,
             "#fdca26"
            ],
            [
             1,
             "#f0f921"
            ]
           ]
          },
          "colorway": [
           "#636efa",
           "#EF553B",
           "#00cc96",
           "#ab63fa",
           "#FFA15A",
           "#19d3f3",
           "#FF6692",
           "#B6E880",
           "#FF97FF",
           "#FECB52"
          ],
          "font": {
           "color": "#2a3f5f"
          },
          "geo": {
           "bgcolor": "white",
           "lakecolor": "white",
           "landcolor": "#E5ECF6",
           "showlakes": true,
           "showland": true,
           "subunitcolor": "white"
          },
          "hoverlabel": {
           "align": "left"
          },
          "hovermode": "closest",
          "mapbox": {
           "style": "light"
          },
          "paper_bgcolor": "white",
          "plot_bgcolor": "#E5ECF6",
          "polar": {
           "angularaxis": {
            "gridcolor": "white",
            "linecolor": "white",
            "ticks": ""
           },
           "bgcolor": "#E5ECF6",
           "radialaxis": {
            "gridcolor": "white",
            "linecolor": "white",
            "ticks": ""
           }
          },
          "scene": {
           "xaxis": {
            "backgroundcolor": "#E5ECF6",
            "gridcolor": "white",
            "gridwidth": 2,
            "linecolor": "white",
            "showbackground": true,
            "ticks": "",
            "zerolinecolor": "white"
           },
           "yaxis": {
            "backgroundcolor": "#E5ECF6",
            "gridcolor": "white",
            "gridwidth": 2,
            "linecolor": "white",
            "showbackground": true,
            "ticks": "",
            "zerolinecolor": "white"
           },
           "zaxis": {
            "backgroundcolor": "#E5ECF6",
            "gridcolor": "white",
            "gridwidth": 2,
            "linecolor": "white",
            "showbackground": true,
            "ticks": "",
            "zerolinecolor": "white"
           }
          },
          "shapedefaults": {
           "line": {
            "color": "#2a3f5f"
           }
          },
          "ternary": {
           "aaxis": {
            "gridcolor": "white",
            "linecolor": "white",
            "ticks": ""
           },
           "baxis": {
            "gridcolor": "white",
            "linecolor": "white",
            "ticks": ""
           },
           "bgcolor": "#E5ECF6",
           "caxis": {
            "gridcolor": "white",
            "linecolor": "white",
            "ticks": ""
           }
          },
          "title": {
           "x": 0.05
          },
          "xaxis": {
           "automargin": true,
           "gridcolor": "white",
           "linecolor": "white",
           "ticks": "",
           "title": {
            "standoff": 15
           },
           "zerolinecolor": "white",
           "zerolinewidth": 2
          },
          "yaxis": {
           "automargin": true,
           "gridcolor": "white",
           "linecolor": "white",
           "ticks": "",
           "title": {
            "standoff": 15
           },
           "zerolinecolor": "white",
           "zerolinewidth": 2
          }
         }
        },
        "title": {
         "text": "Temporal Speed Propagation Across Network Segments"
        },
        "xaxis": {
         "anchor": "y",
         "domain": [
          0,
          1
         ],
         "matches": "x4",
         "showticklabels": false
        },
        "xaxis2": {
         "anchor": "y2",
         "domain": [
          0,
          1
         ],
         "matches": "x4",
         "showticklabels": false
        },
        "xaxis3": {
         "anchor": "y3",
         "domain": [
          0,
          1
         ],
         "matches": "x4",
         "showticklabels": false
        },
        "xaxis4": {
         "anchor": "y4",
         "domain": [
          0,
          1
         ],
         "title": {
          "text": "Date"
         }
        },
        "yaxis": {
         "anchor": "x",
         "domain": [
          0.7875,
          1
         ],
         "title": {
          "text": "Speed (km/h)"
         }
        },
        "yaxis2": {
         "anchor": "x2",
         "domain": [
          0.525,
          0.7375
         ],
         "title": {
          "text": "Speed (km/h)"
         }
        },
        "yaxis3": {
         "anchor": "x3",
         "domain": [
          0.2625,
          0.475
         ],
         "title": {
          "text": "Speed (km/h)"
         }
        },
        "yaxis4": {
         "anchor": "x4",
         "domain": [
          0,
          0.2125
         ],
         "title": {
          "text": "Speed (km/h)"
         }
        }
       }
      }
     },
     "metadata": {},
     "output_type": "display_data"
    }
   ],
   "source": [
    "# Create interactive time series visualization\n",
    "if temporal_data is not None and len(temporal_data) > 0:\n",
    "    fig = make_subplots(\n",
    "        rows=len(available_segments), \n",
    "        cols=1,\n",
    "        shared_xaxes=True,\n",
    "        subplot_titles=available_segments,\n",
    "        vertical_spacing=0.05\n",
    "    )\n",
    "    \n",
    "    colors = px.colors.qualitative.Plotly\n",
    "    \n",
    "    for i, segment in enumerate(available_segments, 1):\n",
    "        if segment in temporal_data.columns:\n",
    "            # Add speed trace\n",
    "            fig.add_trace(\n",
    "                go.Scatter(\n",
    "                    x=temporal_data.index,\n",
    "                    y=temporal_data[segment],\n",
    "                    name=segment,\n",
    "                    line=dict(color=colors[i-1], width=2),\n",
    "                    showlegend=True\n",
    "                ),\n",
    "                row=i, col=1\n",
    "            )\n",
    "            \n",
    "            # Add rolling average\n",
    "            rolling_avg = temporal_data[segment].rolling(window=24, center=True).mean()\n",
    "            fig.add_trace(\n",
    "                go.Scatter(\n",
    "                    x=temporal_data.index,\n",
    "                    y=rolling_avg,\n",
    "                    name=f'{segment} (24h avg)',\n",
    "                    line=dict(color=colors[i-1], width=1, dash='dash'),\n",
    "                    showlegend=False\n",
    "                ),\n",
    "                row=i, col=1\n",
    "            )\n",
    "            \n",
    "            # Update y-axis\n",
    "            fig.update_yaxes(title_text=\"Speed (km/h)\", row=i, col=1)\n",
    "    \n",
    "    fig.update_layout(\n",
    "        height=200*len(available_segments),\n",
    "        title_text=\"Temporal Speed Propagation Across Network Segments\",\n",
    "        showlegend=True,\n",
    "        hovermode='x unified'\n",
    "    )\n",
    "    \n",
    "    fig.update_xaxes(title_text=\"Date\", row=len(available_segments), col=1)\n",
    "    \n",
    "    fig.show()\n",
    "else:\n",
    "    print(\"No temporal data available for visualization\")"
   ]
  },
  {
   "cell_type": "markdown",
   "metadata": {},
   "source": [
    "## 5. Distance-Decay Analysis"
   ]
  },
  {
   "cell_type": "code",
   "execution_count": 12,
   "metadata": {},
   "outputs": [
    {
     "data": {
      "image/png": "[encoded data removed]",
      "text/plain": [
       "<Figure size 1400x500 with 2 Axes>"
      ]
     },
     "metadata": {},
     "output_type": "display_data"
    },
    {
     "name": "stdout",
     "output_type": "stream",
     "text": [
      "Distance-Decay Analysis:\n",
      "At disruption point (d=0): -30.0% speed reduction\n",
      "One segment away (d=1): -20.5% speed reduction\n",
      "Two segments away (d=2): -14.0% speed reduction\n",
      "Decay rate: 31.6% per segment\n"
     ]
    }
   ],
   "source": [
    "# Simulate distance-decay of ripple effects\n",
    "def simulate_distance_decay(base_impact=-30, decay_rate=0.38, max_distance=5):\n",
    "    \"\"\"\n",
    "    Simulate how impact decays with distance from disruption\n",
    "    \"\"\"\n",
    "    distances = np.arange(0, max_distance + 1)\n",
    "    \n",
    "    # Exponential decay model\n",
    "    impacts_exp = base_impact * np.exp(-decay_rate * distances)\n",
    "    \n",
    "    # Power law decay model\n",
    "    impacts_power = base_impact / (1 + distances) ** 1.5\n",
    "    \n",
    "    # Linear decay model\n",
    "    impacts_linear = base_impact * np.maximum(0, 1 - decay_rate * distances)\n",
    "    \n",
    "    return distances, impacts_exp, impacts_power, impacts_linear\n",
    "\n",
    "# Generate decay curves\n",
    "distances, exp_decay, power_decay, linear_decay = simulate_distance_decay()\n",
    "\n",
    "# Visualization\n",
    "fig, (ax1, ax2) = plt.subplots(1, 2, figsize=(14, 5))\n",
    "\n",
    "# Plot 1: Decay curves comparison\n",
    "ax1.plot(distances, exp_decay, 'b-', linewidth=2.5, label='Exponential (Observed)', marker='o')\n",
    "ax1.plot(distances, power_decay, 'r--', linewidth=2, label='Power Law', marker='s')\n",
    "ax1.plot(distances, linear_decay, 'g:', linewidth=2, label='Linear', marker='^')\n",
    "\n",
    "ax1.set_xlabel('Distance from Disruption (segments)', fontsize=12)\n",
    "ax1.set_ylabel('Speed Impact (%)', fontsize=12)\n",
    "ax1.set_title('Ripple Effect Distance-Decay Models', fontsize=14, fontweight='bold')\n",
    "ax1.grid(True, alpha=0.3)\n",
    "ax1.legend(loc='upper right')\n",
    "ax1.axhline(y=0, color='black', linestyle='-', linewidth=0.5)\n",
    "\n",
    "# Annotate key points\n",
    "for i in range(min(4, len(distances))):\n",
    "    ax1.annotate(f'{exp_decay[i]:.1f}%', \n",
    "                xy=(distances[i], exp_decay[i]), \n",
    "                xytext=(5, 5), textcoords='offset points', fontsize=9)\n",
    "\n",
    "# Plot 2: Cumulative impact area\n",
    "cumulative_exp = np.cumsum(np.abs(exp_decay))\n",
    "cumulative_power = np.cumsum(np.abs(power_decay))\n",
    "cumulative_linear = np.cumsum(np.abs(linear_decay))\n",
    "\n",
    "ax2.bar(distances, cumulative_exp, alpha=0.7, label='Exponential', color='blue')\n",
    "ax2.plot(distances, cumulative_power, 'r-', linewidth=2, label='Power Law', marker='s')\n",
    "ax2.plot(distances, cumulative_linear, 'g-', linewidth=2, label='Linear', marker='^')\n",
    "\n",
    "ax2.set_xlabel('Distance from Disruption (segments)', fontsize=12)\n",
    "ax2.set_ylabel('Cumulative Impact', fontsize=12)\n",
    "ax2.set_title('Cumulative Network Impact by Distance', fontsize=14, fontweight='bold')\n",
    "ax2.grid(True, alpha=0.3)\n",
    "ax2.legend()\n",
    "\n",
    "plt.tight_layout()\n",
    "plt.show()\n",
    "\n",
    "print(\"Distance-Decay Analysis:\")\n",
    "print(f\"At disruption point (d=0): {exp_decay[0]:.1f}% speed reduction\")\n",
    "print(f\"One segment away (d=1): {exp_decay[1]:.1f}% speed reduction\")\n",
    "print(f\"Two segments away (d=2): {exp_decay[2]:.1f}% speed reduction\")\n",
    "print(f\"Decay rate: {(1 - exp_decay[1]/exp_decay[0])*100:.1f}% per segment\")"
   ]
  },
  {
   "cell_type": "markdown",
   "metadata": {},
   "source": [
    "## 6. 3D Surface Visualization of Ripple Effects"
   ]
  },
  {
   "cell_type": "code",
   "execution_count": 13,
   "metadata": {},
   "outputs": [
    {
     "data": {
      "application/vnd.plotly.v1+json": {
       "config": {
        "plotlyServerURL": "https://plot.ly"
       },
       "data": [
        {
         "colorbar": {
          "title": {
           "text": "Speed (km/h)"
          }
         },
         "colorscale": [
          [
           0,
           "rgb(165,0,38)"
          ],
          [
           0.1,
           "rgb(215,48,39)"
          ],
          [
           0.2,
           "rgb(244,109,67)"
          ],
          [
           0.3,
           "rgb(253,174,97)"
          ],
          [
           0.4,
           "rgb(254,224,139)"
          ],
          [
           0.5,
           "rgb(255,255,191)"
          ],
          [
           0.6,
           "rgb(217,239,139)"
          ],
          [
           0.7,
           "rgb(166,217,106)"
          ],
          [
           0.8,
           "rgb(102,189,99)"
          ],
          [
           0.9,
           "rgb(26,152,80)"
          ],
          [
           1,
           "rgb(0,104,55)"
          ]
         ],
         "type": "surface",
         "x": {
          "bdata": "AAECAwQFBgcICQoLDA0ODxAREhMUFRYXGBkaGxwdHh8gISIjJCUmJygpKissLS4v",
          "dtype": "i1"
         },
         "y": {
          "bdata": "AAIEBggKDA4QEhQWGBocHiAiJCYoKiwuMDI0Njg6PD5AQkRGSEpMTlBSVFZYWlxeYGI=",
          "dtype": "i1"
         },
         "z": {
          "bdata": "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",
          "dtype": "i1",
          "shape": "50, 48"
         }
        }
       ],
       "layout": {
        "height": 700,
        "scene": {
         "camera": {
          "eye": {
           "x": 1.5,
           "y": 1.5,
           "z": 1.3
          }
         },
         "xaxis": {
          "title": {
           "text": "Time (hours)"
          }
         },
         "yaxis": {
          "title": {
           "text": "Distance from Disruption (km)"
          }
         },
         "zaxis": {
          "title": {
           "text": "Speed (km/h)"
          }
         }
        },
        "template": {
         "data": {
          "bar": [
           {
            "error_x": {
             "color": "#2a3f5f"
            },
            "error_y": {
             "color": "#2a3f5f"
            },
            "marker": {
             "line": {
              "color": "#E5ECF6",
              "width": 0.5
             },
             "pattern": {
              "fillmode": "overlay",
              "size": 10,
              "solidity": 0.2
             }
            },
            "type": "bar"
           }
          ],
          "barpolar": [
           {
            "marker": {
             "line": {
              "color": "#E5ECF6",
              "width": 0.5
             },
             "pattern": {
              "fillmode": "overlay",
              "size": 10,
              "solidity": 0.2
             }
            },
            "type": "barpolar"
           }
          ],
          "carpet": [
           {
            "aaxis": {
             "endlinecolor": "#2a3f5f",
             "gridcolor": "white",
             "linecolor": "white",
             "minorgridcolor": "white",
             "startlinecolor": "#2a3f5f"
            },
            "baxis": {
             "endlinecolor": "#2a3f5f",
             "gridcolor": "white",
             "linecolor": "white",
             "minorgridcolor": "white",
             "startlinecolor": "#2a3f5f"
            },
            "type": "carpet"
           }
          ],
          "choropleth": [
           {
            "colorbar": {
             "outlinewidth": 0,
             "ticks": ""
            },
            "type": "choropleth"
           }
          ],
          "contour": [
           {
            "colorbar": {
             "outlinewidth": 0,
             "ticks": ""
            },
            "colorscale": [
             [
              0,
              "#0d0887"
             ],
             [
              0.1111111111111111,
              "#46039f"
             ],
             [
              0.2222222222222222,
              "#7201a8"
             ],
             [
              0.3333333333333333,
              "#9c179e"
             ],
             [
              0.4444444444444444,
              "#bd3786"
             ],
             [
              0.5555555555555556,
              "#d8576b"
             ],
             [
              0.6666666666666666,
              "#ed7953"
             ],
             [
              0.7777777777777778,
              "#fb9f3a"
             ],
             [
              0.8888888888888888,
              "#fdca26"
             ],
             [
              1,
              "#f0f921"
             ]
            ],
            "type": "contour"
           }
          ],
          "contourcarpet": [
           {
            "colorbar": {
             "outlinewidth": 0,
             "ticks": ""
            },
            "type": "contourcarpet"
           }
          ],
          "heatmap": [
           {
            "colorbar": {
             "outlinewidth": 0,
             "ticks": ""
            },
            "colorscale": [
             [
              0,
              "#0d0887"
             ],
             [
              0.1111111111111111,
              "#46039f"
             ],
             [
              0.2222222222222222,
              "#7201a8"
             ],
             [
              0.3333333333333333,
              "#9c179e"
             ],
             [
              0.4444444444444444,
              "#bd3786"
             ],
             [
              0.5555555555555556,
              "#d8576b"
             ],
             [
              0.6666666666666666,
              "#ed7953"
             ],
             [
              0.7777777777777778,
              "#fb9f3a"
             ],
             [
              0.8888888888888888,
              "#fdca26"
             ],
             [
              1,
              "#f0f921"
             ]
            ],
            "type": "heatmap"
           }
          ],
          "histogram": [
           {
            "marker": {
             "pattern": {
              "fillmode": "overlay",
              "size": 10,
              "solidity": 0.2
             }
            },
            "type": "histogram"
           }
          ],
          "histogram2d": [
           {
            "colorbar": {
             "outlinewidth": 0,
             "ticks": ""
            },
            "colorscale": [
             [
              0,
              "#0d0887"
             ],
             [
              0.1111111111111111,
              "#46039f"
             ],
             [
              0.2222222222222222,
              "#7201a8"
             ],
             [
              0.3333333333333333,
              "#9c179e"
             ],
             [
              0.4444444444444444,
              "#bd3786"
             ],
             [
              0.5555555555555556,
              "#d8576b"
             ],
             [
              0.6666666666666666,
              "#ed7953"
             ],
             [
              0.7777777777777778,
              "#fb9f3a"
             ],
             [
              0.8888888888888888,
              "#fdca26"
             ],
             [
              1,
              "#f0f921"
             ]
            ],
            "type": "histogram2d"
           }
          ],
          "histogram2dcontour": [
           {
            "colorbar": {
             "outlinewidth": 0,
             "ticks": ""
            },
            "colorscale": [
             [
              0,
              "#0d0887"
             ],
             [
              0.1111111111111111,
              "#46039f"
             ],
             [
              0.2222222222222222,
              "#7201a8"
             ],
             [
              0.3333333333333333,
              "#9c179e"
             ],
             [
              0.4444444444444444,
              "#bd3786"
             ],
             [
              0.5555555555555556,
              "#d8576b"
             ],
             [
              0.6666666666666666,
              "#ed7953"
             ],
             [
              0.7777777777777778,
              "#fb9f3a"
             ],
             [
              0.8888888888888888,
              "#fdca26"
             ],
             [
              1,
              "#f0f921"
             ]
            ],
            "type": "histogram2dcontour"
           }
          ],
          "mesh3d": [
           {
            "colorbar": {
             "outlinewidth": 0,
             "ticks": ""
            },
            "type": "mesh3d"
           }
          ],
          "parcoords": [
           {
            "line": {
             "colorbar": {
              "outlinewidth": 0,
              "ticks": ""
             }
            },
            "type": "parcoords"
           }
          ],
          "pie": [
           {
            "automargin": true,
            "type": "pie"
           }
          ],
          "scatter": [
           {
            "fillpattern": {
             "fillmode": "overlay",
             "size": 10,
             "solidity": 0.2
            },
            "type": "scatter"
           }
          ],
          "scatter3d": [
           {
            "line": {
             "colorbar": {
              "outlinewidth": 0,
              "ticks": ""
             }
            },
            "marker": {
             "colorbar": {
              "outlinewidth": 0,
              "ticks": ""
             }
            },
            "type": "scatter3d"
           }
          ],
          "scattercarpet": [
           {
            "marker": {
             "colorbar": {
              "outlinewidth": 0,
              "ticks": ""
             }
            },
            "type": "scattercarpet"
           }
          ],
          "scattergeo": [
           {
            "marker": {
             "colorbar": {
              "outlinewidth": 0,
              "ticks": ""
             }
            },
            "type": "scattergeo"
           }
          ],
          "scattergl": [
           {
            "marker": {
             "colorbar": {
              "outlinewidth": 0,
              "ticks": ""
             }
            },
            "type": "scattergl"
           }
          ],
          "scattermap": [
           {
            "marker": {
             "colorbar": {
              "outlinewidth": 0,
              "ticks": ""
             }
            },
            "type": "scattermap"
           }
          ],
          "scattermapbox": [
           {
            "marker": {
             "colorbar": {
              "outlinewidth": 0,
              "ticks": ""
             }
            },
            "type": "scattermapbox"
           }
          ],
          "scatterpolar": [
           {
            "marker": {
             "colorbar": {
              "outlinewidth": 0,
              "ticks": ""
             }
            },
            "type": "scatterpolar"
           }
          ],
          "scatterpolargl": [
           {
            "marker": {
             "colorbar": {
              "outlinewidth": 0,
              "ticks": ""
             }
            },
            "type": "scatterpolargl"
           }
          ],
          "scatterternary": [
           {
            "marker": {
             "colorbar": {
              "outlinewidth": 0,
              "ticks": ""
             }
            },
            "type": "scatterternary"
           }
          ],
          "surface": [
           {
            "colorbar": {
             "outlinewidth": 0,
             "ticks": ""
            },
            "colorscale": [
             [
              0,
              "#0d0887"
             ],
             [
              0.1111111111111111,
              "#46039f"
             ],
             [
              0.2222222222222222,
              "#7201a8"
             ],
             [
              0.3333333333333333,
              "#9c179e"
             ],
             [
              0.4444444444444444,
              "#bd3786"
             ],
             [
              0.5555555555555556,
              "#d8576b"
             ],
             [
              0.6666666666666666,
              "#ed7953"
             ],
             [
              0.7777777777777778,
              "#fb9f3a"
             ],
             [
              0.8888888888888888,
              "#fdca26"
             ],
             [
              1,
              "#f0f921"
             ]
            ],
            "type": "surface"
           }
          ],
          "table": [
           {
            "cells": {
             "fill": {
              "color": "#EBF0F8"
             },
             "line": {
              "color": "white"
             }
            },
            "header": {
             "fill": {
              "color": "#C8D4E3"
             },
             "line": {
              "color": "white"
             }
            },
            "type": "table"
           }
          ]
         },
         "layout": {
          "annotationdefaults": {
           "arrowcolor": "#2a3f5f",
           "arrowhead": 0,
           "arrowwidth": 1
          },
          "autotypenumbers": "strict",
          "coloraxis": {
           "colorbar": {
            "outlinewidth": 0,
            "ticks": ""
           }
          },
          "colorscale": {
           "diverging": [
            [
             0,
             "#8e0152"
            ],
            [
             0.1,
             "#c51b7d"
            ],
            [
             0.2,
             "#de77ae"
            ],
            [
             0.3,
             "#f1b6da"
            ],
            [
             0.4,
             "#fde0ef"
            ],
            [
             0.5,
             "#f7f7f7"
            ],
            [
             0.6,
             "#e6f5d0"
            ],
            [
             0.7,
             "#b8e186"
            ],
            [
             0.8,
             "#7fbc41"
            ],
            [
             0.9,
             "#4d9221"
            ],
            [
             1,
             "#276419"
            ]
           ],
           "sequential": [
            [
             0,
             "#0d0887"
            ],
            [
             0.1111111111111111,
             "#46039f"
            ],
            [
             0.2222222222222222,
             "#7201a8"
            ],
            [
             0.3333333333333333,
             "#9c179e"
            ],
            [
             0.4444444444444444,
             "#bd3786"
            ],
            [
             0.5555555555555556,
             "#d8576b"
            ],
            [
             0.6666666666666666,
             "#ed7953"
            ],
            [
             0.7777777777777778,
             "#fb9f3a"
            ],
            [
             0.8888888888888888,
             "#fdca26"
            ],
            [
             1,
             "#f0f921"
            ]
           ],
           "sequentialminus": [
            [
             0,
             "#0d0887"
            ],
            [
             0.1111111111111111,
             "#46039f"
            ],
            [
             0.2222222222222222,
             "#7201a8"
            ],
            [
             0.3333333333333333,
             "#9c179e"
            ],
            [
             0.4444444444444444,
             "#bd3786"
            ],
            [
             0.5555555555555556,
             "#d8576b"
            ],
            [
             0.6666666666666666,
             "#ed7953"
            ],
            [
             0.7777777777777778,
             "#fb9f3a"
            ],
            [
             0.8888888888888888,
             "#fdca26"
            ],
            [
             1,
             "#f0f921"
            ]
           ]
          },
          "colorway": [
           "#636efa",
           "#EF553B",
           "#00cc96",
           "#ab63fa",
           "#FFA15A",
           "#19d3f3",
           "#FF6692",
           "#B6E880",
           "#FF97FF",
           "#FECB52"
          ],
          "font": {
           "color": "#2a3f5f"
          },
          "geo": {
           "bgcolor": "white",
           "lakecolor": "white",
           "landcolor": "#E5ECF6",
           "showlakes": true,
           "showland": true,
           "subunitcolor": "white"
          },
          "hoverlabel": {
           "align": "left"
          },
          "hovermode": "closest",
          "mapbox": {
           "style": "light"
          },
          "paper_bgcolor": "white",
          "plot_bgcolor": "#E5ECF6",
          "polar": {
           "angularaxis": {
            "gridcolor": "white",
            "linecolor": "white",
            "ticks": ""
           },
           "bgcolor": "#E5ECF6",
           "radialaxis": {
            "gridcolor": "white",
            "linecolor": "white",
            "ticks": ""
           }
          },
          "scene": {
           "xaxis": {
            "backgroundcolor": "#E5ECF6",
            "gridcolor": "white",
            "gridwidth": 2,
            "linecolor": "white",
            "showbackground": true,
            "ticks": "",
            "zerolinecolor": "white"
           },
           "yaxis": {
            "backgroundcolor": "#E5ECF6",
            "gridcolor": "white",
            "gridwidth": 2,
            "linecolor": "white",
            "showbackground": true,
            "ticks": "",
            "zerolinecolor": "white"
           },
           "zaxis": {
            "backgroundcolor": "#E5ECF6",
            "gridcolor": "white",
            "gridwidth": 2,
            "linecolor": "white",
            "showbackground": true,
            "ticks": "",
            "zerolinecolor": "white"
           }
          },
          "shapedefaults": {
           "line": {
            "color": "#2a3f5f"
           }
          },
          "ternary": {
           "aaxis": {
            "gridcolor": "white",
            "linecolor": "white",
            "ticks": ""
           },
           "baxis": {
            "gridcolor": "white",
            "linecolor": "white",
            "ticks": ""
           },
           "bgcolor": "#E5ECF6",
           "caxis": {
            "gridcolor": "white",
            "linecolor": "white",
            "ticks": ""
           }
          },
          "title": {
           "x": 0.05
          },
          "xaxis": {
           "automargin": true,
           "gridcolor": "white",
           "linecolor": "white",
           "ticks": "",
           "title": {
            "standoff": 15
           },
           "zerolinecolor": "white",
           "zerolinewidth": 2
          },
          "yaxis": {
           "automargin": true,
           "gridcolor": "white",
           "linecolor": "white",
           "ticks": "",
           "title": {
            "standoff": 15
           },
           "zerolinecolor": "white",
           "zerolinewidth": 2
          }
         }
        },
        "title": {
         "text": "Ripple Effect Propagation: Space-Time-Speed Surface"
        },
        "width": 900
       }
      }
     },
     "metadata": {},
     "output_type": "display_data"
    },
    {
     "name": "stdout",
     "output_type": "stream",
     "text": [
      "3D visualization shows how congestion waves propagate through space and time\n",
      "Notice how the impact diminishes with distance and recovers over time\n"
     ]
    }
   ],
   "source": [
    "# Create 3D surface plot of space-time-speed\n",
    "def create_3d_ripple_surface():\n",
    "    # Generate synthetic data for visualization\n",
    "    # In real analysis, this would use actual spatiotemporal data\n",
    "    \n",
    "    # Create grid\n",
    "    time_hours = np.arange(0, 48, 1)  # 48 hours\n",
    "    distance_km = np.arange(0, 100, 2)  # 100 km\n",
    "    \n",
    "    T, D = np.meshgrid(time_hours, distance_km)\n",
    "    \n",
    "    # Simulate ripple propagation\n",
    "    # Speed reduction propagates outward over time\n",
    "    wave_speed = 20  # km/hour (congestion wave speed)\n",
    "    base_speed = 90  # km/h\n",
    "    impact_magnitude = 40  # km/h reduction\n",
    "    \n",
    "    # Calculate when wave reaches each point\n",
    "    arrival_time = D / wave_speed\n",
    "    \n",
    "    # Calculate speed at each point\n",
    "    Speed = np.ones_like(T) * base_speed\n",
    "    \n",
    "    for i in range(len(distance_km)):\n",
    "        for j in range(len(time_hours)):\n",
    "            if time_hours[j] >= arrival_time[i, j]:\n",
    "                # After wave arrival\n",
    "                time_since_arrival = time_hours[j] - arrival_time[i, j]\n",
    "                \n",
    "                # Impact decays with distance and recovers over time\n",
    "                distance_decay = np.exp(-0.03 * distance_km[i])\n",
    "                time_recovery = 1 - np.exp(-0.1 * time_since_arrival)\n",
    "                \n",
    "                Speed[i, j] = base_speed - impact_magnitude * distance_decay * (1 - time_recovery)\n",
    "    \n",
    "    # Create 3D surface plot\n",
    "    fig = go.Figure(data=[go.Surface(\n",
    "        x=time_hours,\n",
    "        y=distance_km,\n",
    "        z=Speed,\n",
    "        colorscale='RdYlGn',\n",
    "        colorbar=dict(title='Speed (km/h)')\n",
    "    )])\n",
    "    \n",
    "    fig.update_layout(\n",
    "        title='Ripple Effect Propagation: Space-Time-Speed Surface',\n",
    "        scene=dict(\n",
    "            xaxis_title='Time (hours)',\n",
    "            yaxis_title='Distance from Disruption (km)',\n",
    "            zaxis_title='Speed (km/h)',\n",
    "            camera=dict(\n",
    "                eye=dict(x=1.5, y=1.5, z=1.3)\n",
    "            )\n",
    "        ),\n",
    "        width=900,\n",
    "        height=700\n",
    "    )\n",
    "    \n",
    "    return fig\n",
    "\n",
    "# Create and display 3D surface\n",
    "fig_3d = create_3d_ripple_surface()\n",
    "fig_3d.show()\n",
    "\n",
    "print(\"3D visualization shows how congestion waves propagate through space and time\")\n",
    "print(\"Notice how the impact diminishes with distance and recovers over time\")"
   ]
  },
  {
   "cell_type": "markdown",
   "metadata": {},
   "source": [
    "## 7. Compound Effects Visualization"
   ]
  },
  {
   "cell_type": "code",
   "execution_count": 14,
   "metadata": {},
   "outputs": [
    {
     "data": {
      "application/vnd.plotly.v1+json": {
       "config": {
        "plotlyServerURL": "https://plot.ly"
       },
       "data": [
        {
         "link": {
          "color": "rgba(200,200,200,0.5)",
          "source": [
           0,
           0,
           0,
           1,
           2,
           3,
           4,
           5
          ],
          "target": [
           1,
           2,
           3,
           4,
           5,
           6,
           6,
           6
          ],
          "value": [
           30,
           20,
           15,
           25,
           20,
           35,
           30,
           25
          ]
         },
         "node": {
          "color": [
           "green",
           "yellow",
           "lightblue",
           "gray",
           "orange",
           "brown",
           "red"
          ],
          "label": [
           "Normal",
           "Roadwork",
           "Holiday",
           "Weather",
           "RW+Holiday",
           "RW+Weather",
           "Perfect Storm"
          ],
          "line": {
           "color": "black",
           "width": 0.5
          },
          "pad": 15,
          "thickness": 20
         },
         "type": "sankey"
        }
       ],
       "layout": {
        "font": {
         "size": 12
        },
        "height": 500,
        "template": {
         "data": {
          "bar": [
           {
            "error_x": {
             "color": "#2a3f5f"
            },
            "error_y": {
             "color": "#2a3f5f"
            },
            "marker": {
             "line": {
              "color": "#E5ECF6",
              "width": 0.5
             },
             "pattern": {
              "fillmode": "overlay",
              "size": 10,
              "solidity": 0.2
             }
            },
            "type": "bar"
           }
          ],
          "barpolar": [
           {
            "marker": {
             "line": {
              "color": "#E5ECF6",
              "width": 0.5
             },
             "pattern": {
              "fillmode": "overlay",
              "size": 10,
              "solidity": 0.2
             }
            },
            "type": "barpolar"
           }
          ],
          "carpet": [
           {
            "aaxis": {
             "endlinecolor": "#2a3f5f",
             "gridcolor": "white",
             "linecolor": "white",
             "minorgridcolor": "white",
             "startlinecolor": "#2a3f5f"
            },
            "baxis": {
             "endlinecolor": "#2a3f5f",
             "gridcolor": "white",
             "linecolor": "white",
             "minorgridcolor": "white",
             "startlinecolor": "#2a3f5f"
            },
            "type": "carpet"
           }
          ],
          "choropleth": [
           {
            "colorbar": {
             "outlinewidth": 0,
             "ticks": ""
            },
            "type": "choropleth"
           }
          ],
          "contour": [
           {
            "colorbar": {
             "outlinewidth": 0,
             "ticks": ""
            },
            "colorscale": [
             [
              0,
              "#0d0887"
             ],
             [
              0.1111111111111111,
              "#46039f"
             ],
             [
              0.2222222222222222,
              "#7201a8"
             ],
             [
              0.3333333333333333,
              "#9c179e"
             ],
             [
              0.4444444444444444,
              "#bd3786"
             ],
             [
              0.5555555555555556,
              "#d8576b"
             ],
             [
              0.6666666666666666,
              "#ed7953"
             ],
             [
              0.7777777777777778,
              "#fb9f3a"
             ],
             [
              0.8888888888888888,
              "#fdca26"
             ],
             [
              1,
              "#f0f921"
             ]
            ],
            "type": "contour"
           }
          ],
          "contourcarpet": [
           {
            "colorbar": {
             "outlinewidth": 0,
             "ticks": ""
            },
            "type": "contourcarpet"
           }
          ],
          "heatmap": [
           {
            "colorbar": {
             "outlinewidth": 0,
             "ticks": ""
            },
            "colorscale": [
             [
              0,
              "#0d0887"
             ],
             [
              0.1111111111111111,
              "#46039f"
             ],
             [
              0.2222222222222222,
              "#7201a8"
             ],
             [
              0.3333333333333333,
              "#9c179e"
             ],
             [
              0.4444444444444444,
              "#bd3786"
             ],
             [
              0.5555555555555556,
              "#d8576b"
             ],
             [
              0.6666666666666666,
              "#ed7953"
             ],
             [
              0.7777777777777778,
              "#fb9f3a"
             ],
             [
              0.8888888888888888,
              "#fdca26"
             ],
             [
              1,
              "#f0f921"
             ]
            ],
            "type": "heatmap"
           }
          ],
          "histogram": [
           {
            "marker": {
             "pattern": {
              "fillmode": "overlay",
              "size": 10,
              "solidity": 0.2
             }
            },
            "type": "histogram"
           }
          ],
          "histogram2d": [
           {
            "colorbar": {
             "outlinewidth": 0,
             "ticks": ""
            },
            "colorscale": [
             [
              0,
              "#0d0887"
             ],
             [
              0.1111111111111111,
              "#46039f"
             ],
             [
              0.2222222222222222,
              "#7201a8"
             ],
             [
              0.3333333333333333,
              "#9c179e"
             ],
             [
              0.4444444444444444,
              "#bd3786"
             ],
             [
              0.5555555555555556,
              "#d8576b"
             ],
             [
              0.6666666666666666,
              "#ed7953"
             ],
             [
              0.7777777777777778,
              "#fb9f3a"
             ],
             [
              0.8888888888888888,
              "#fdca26"
             ],
             [
              1,
              "#f0f921"
             ]
            ],
            "type": "histogram2d"
           }
          ],
          "histogram2dcontour": [
           {
            "colorbar": {
             "outlinewidth": 0,
             "ticks": ""
            },
            "colorscale": [
             [
              0,
              "#0d0887"
             ],
             [
              0.1111111111111111,
              "#46039f"
             ],
             [
              0.2222222222222222,
              "#7201a8"
             ],
             [
              0.3333333333333333,
              "#9c179e"
             ],
             [
              0.4444444444444444,
              "#bd3786"
             ],
             [
              0.5555555555555556,
              "#d8576b"
             ],
             [
              0.6666666666666666,
              "#ed7953"
             ],
             [
              0.7777777777777778,
              "#fb9f3a"
             ],
             [
              0.8888888888888888,
              "#fdca26"
             ],
             [
              1,
              "#f0f921"
             ]
            ],
            "type": "histogram2dcontour"
           }
          ],
          "mesh3d": [
           {
            "colorbar": {
             "outlinewidth": 0,
             "ticks": ""
            },
            "type": "mesh3d"
           }
          ],
          "parcoords": [
           {
            "line": {
             "colorbar": {
              "outlinewidth": 0,
              "ticks": ""
             }
            },
            "type": "parcoords"
           }
          ],
          "pie": [
           {
            "automargin": true,
            "type": "pie"
           }
          ],
          "scatter": [
           {
            "fillpattern": {
             "fillmode": "overlay",
             "size": 10,
             "solidity": 0.2
            },
            "type": "scatter"
           }
          ],
          "scatter3d": [
           {
            "line": {
             "colorbar": {
              "outlinewidth": 0,
              "ticks": ""
             }
            },
            "marker": {
             "colorbar": {
              "outlinewidth": 0,
              "ticks": ""
             }
            },
            "type": "scatter3d"
           }
          ],
          "scattercarpet": [
           {
            "marker": {
             "colorbar": {
              "outlinewidth": 0,
              "ticks": ""
             }
            },
            "type": "scattercarpet"
           }
          ],
          "scattergeo": [
           {
            "marker": {
             "colorbar": {
              "outlinewidth": 0,
              "ticks": ""
             }
            },
            "type": "scattergeo"
           }
          ],
          "scattergl": [
           {
            "marker": {
             "colorbar": {
              "outlinewidth": 0,
              "ticks": ""
             }
            },
            "type": "scattergl"
           }
          ],
          "scattermap": [
           {
            "marker": {
             "colorbar": {
              "outlinewidth": 0,
              "ticks": ""
             }
            },
            "type": "scattermap"
           }
          ],
          "scattermapbox": [
           {
            "marker": {
             "colorbar": {
              "outlinewidth": 0,
              "ticks": ""
             }
            },
            "type": "scattermapbox"
           }
          ],
          "scatterpolar": [
           {
            "marker": {
             "colorbar": {
              "outlinewidth": 0,
              "ticks": ""
             }
            },
            "type": "scatterpolar"
           }
          ],
          "scatterpolargl": [
           {
            "marker": {
             "colorbar": {
              "outlinewidth": 0,
              "ticks": ""
             }
            },
            "type": "scatterpolargl"
           }
          ],
          "scatterternary": [
           {
            "marker": {
             "colorbar": {
              "outlinewidth": 0,
              "ticks": ""
             }
            },
            "type": "scatterternary"
           }
          ],
          "surface": [
           {
            "colorbar": {
             "outlinewidth": 0,
             "ticks": ""
            },
            "colorscale": [
             [
              0,
              "#0d0887"
             ],
             [
              0.1111111111111111,
              "#46039f"
             ],
             [
              0.2222222222222222,
              "#7201a8"
             ],
             [
              0.3333333333333333,
              "#9c179e"
             ],
             [
              0.4444444444444444,
              "#bd3786"
             ],
             [
              0.5555555555555556,
              "#d8576b"
             ],
             [
              0.6666666666666666,
              "#ed7953"
             ],
             [
              0.7777777777777778,
              "#fb9f3a"
             ],
             [
              0.8888888888888888,
              "#fdca26"
             ],
             [
              1,
              "#f0f921"
             ]
            ],
            "type": "surface"
           }
          ],
          "table": [
           {
            "cells": {
             "fill": {
              "color": "#EBF0F8"
             },
             "line": {
              "color": "white"
             }
            },
            "header": {
             "fill": {
              "color": "#C8D4E3"
             },
             "line": {
              "color": "white"
             }
            },
            "type": "table"
           }
          ]
         },
         "layout": {
          "annotationdefaults": {
           "arrowcolor": "#2a3f5f",
           "arrowhead": 0,
           "arrowwidth": 1
          },
          "autotypenumbers": "strict",
          "coloraxis": {
           "colorbar": {
            "outlinewidth": 0,
            "ticks": ""
           }
          },
          "colorscale": {
           "diverging": [
            [
             0,
             "#8e0152"
            ],
            [
             0.1,
             "#c51b7d"
            ],
            [
             0.2,
             "#de77ae"
            ],
            [
             0.3,
             "#f1b6da"
            ],
            [
             0.4,
             "#fde0ef"
            ],
            [
             0.5,
             "#f7f7f7"
            ],
            [
             0.6,
             "#e6f5d0"
            ],
            [
             0.7,
             "#b8e186"
            ],
            [
             0.8,
             "#7fbc41"
            ],
            [
             0.9,
             "#4d9221"
            ],
            [
             1,
             "#276419"
            ]
           ],
           "sequential": [
            [
             0,
             "#0d0887"
            ],
            [
             0.1111111111111111,
             "#46039f"
            ],
            [
             0.2222222222222222,
             "#7201a8"
            ],
            [
             0.3333333333333333,
             "#9c179e"
            ],
            [
             0.4444444444444444,
             "#bd3786"
            ],
            [
             0.5555555555555556,
             "#d8576b"
            ],
            [
             0.6666666666666666,
             "#ed7953"
            ],
            [
             0.7777777777777778,
             "#fb9f3a"
            ],
            [
             0.8888888888888888,
             "#fdca26"
            ],
            [
             1,
             "#f0f921"
            ]
           ],
           "sequentialminus": [
            [
             0,
             "#0d0887"
            ],
            [
             0.1111111111111111,
             "#46039f"
            ],
            [
             0.2222222222222222,
             "#7201a8"
            ],
            [
             0.3333333333333333,
             "#9c179e"
            ],
            [
             0.4444444444444444,
             "#bd3786"
            ],
            [
             0.5555555555555556,
             "#d8576b"
            ],
            [
             0.6666666666666666,
             "#ed7953"
            ],
            [
             0.7777777777777778,
             "#fb9f3a"
            ],
            [
             0.8888888888888888,
             "#fdca26"
            ],
            [
             1,
             "#f0f921"
            ]
           ]
          },
          "colorway": [
           "#636efa",
           "#EF553B",
           "#00cc96",
           "#ab63fa",
           "#FFA15A",
           "#19d3f3",
           "#FF6692",
           "#B6E880",
           "#FF97FF",
           "#FECB52"
          ],
          "font": {
           "color": "#2a3f5f"
          },
          "geo": {
           "bgcolor": "white",
           "lakecolor": "white",
           "landcolor": "#E5ECF6",
           "showlakes": true,
           "showland": true,
           "subunitcolor": "white"
          },
          "hoverlabel": {
           "align": "left"
          },
          "hovermode": "closest",
          "mapbox": {
           "style": "light"
          },
          "paper_bgcolor": "white",
          "plot_bgcolor": "#E5ECF6",
          "polar": {
           "angularaxis": {
            "gridcolor": "white",
            "linecolor": "white",
            "ticks": ""
           },
           "bgcolor": "#E5ECF6",
           "radialaxis": {
            "gridcolor": "white",
            "linecolor": "white",
            "ticks": ""
           }
          },
          "scene": {
           "xaxis": {
            "backgroundcolor": "#E5ECF6",
            "gridcolor": "white",
            "gridwidth": 2,
            "linecolor": "white",
            "showbackground": true,
            "ticks": "",
            "zerolinecolor": "white"
           },
           "yaxis": {
            "backgroundcolor": "#E5ECF6",
            "gridcolor": "white",
            "gridwidth": 2,
            "linecolor": "white",
            "showbackground": true,
            "ticks": "",
            "zerolinecolor": "white"
           },
           "zaxis": {
            "backgroundcolor": "#E5ECF6",
            "gridcolor": "white",
            "gridwidth": 2,
            "linecolor": "white",
            "showbackground": true,
            "ticks": "",
            "zerolinecolor": "white"
           }
          },
          "shapedefaults": {
           "line": {
            "color": "#2a3f5f"
           }
          },
          "ternary": {
           "aaxis": {
            "gridcolor": "white",
            "linecolor": "white",
            "ticks": ""
           },
           "baxis": {
            "gridcolor": "white",
            "linecolor": "white",
            "ticks": ""
           },
           "bgcolor": "#E5ECF6",
           "caxis": {
            "gridcolor": "white",
            "linecolor": "white",
            "ticks": ""
           }
          },
          "title": {
           "x": 0.05
          },
          "xaxis": {
           "automargin": true,
           "gridcolor": "white",
           "linecolor": "white",
           "ticks": "",
           "title": {
            "standoff": 15
           },
           "zerolinecolor": "white",
           "zerolinewidth": 2
          },
          "yaxis": {
           "automargin": true,
           "gridcolor": "white",
           "linecolor": "white",
           "ticks": "",
           "title": {
            "standoff": 15
           },
           "zerolinecolor": "white",
           "zerolinewidth": 2
          }
         }
        },
        "title": {
         "text": "Compound Effects: How Factors Combine to Create Perfect Storm"
        }
       }
      }
     },
     "metadata": {},
     "output_type": "display_data"
    },
    {
     "data": {
      "application/vnd.plotly.v1+json": {
       "config": {
        "plotlyServerURL": "https://plot.ly"
       },
       "data": [
        {
         "marker": {
          "color": [
           "green",
           "gray",
           "lightblue",
           "yellow",
           "brown",
           "orange",
           "red"
          ]
         },
         "text": [
          "85.3 km/h",
          "79.8 km/h",
          "78.4 km/h",
          "71.2 km/h",
          "62.3 km/h",
          "58.7 km/h",
          "48.2 km/h"
         ],
         "textposition": "auto",
         "type": "bar",
         "x": [
          "Normal",
          "Weather Only",
          "Holiday Only",
          "Roadwork Only",
          "Roadwork + Weather",
          "Roadwork + Holiday",
          "All Factors"
         ],
         "y": [
          85.3,
          79.8,
          78.4,
          71.2,
          62.3,
          58.7,
          48.2
         ]
        }
       ],
       "layout": {
        "annotations": [
         {
          "showarrow": false,
          "text": "Normal Baseline",
          "x": 1,
          "xanchor": "right",
          "xref": "x domain",
          "y": 85.3,
          "yanchor": "bottom",
          "yref": "y"
         }
        ],
        "height": 400,
        "shapes": [
         {
          "line": {
           "color": "green",
           "dash": "dash"
          },
          "type": "line",
          "x0": 0,
          "x1": 1,
          "xref": "x domain",
          "y0": 85.3,
          "y1": 85.3,
          "yref": "y"
         }
        ],
        "showlegend": false,
        "template": {
         "data": {
          "bar": [
           {
            "error_x": {
             "color": "#2a3f5f"
            },
            "error_y": {
             "color": "#2a3f5f"
            },
            "marker": {
             "line": {
              "color": "#E5ECF6",
              "width": 0.5
             },
             "pattern": {
              "fillmode": "overlay",
              "size": 10,
              "solidity": 0.2
             }
            },
            "type": "bar"
           }
          ],
          "barpolar": [
           {
            "marker": {
             "line": {
              "color": "#E5ECF6",
              "width": 0.5
             },
             "pattern": {
              "fillmode": "overlay",
              "size": 10,
              "solidity": 0.2
             }
            },
            "type": "barpolar"
           }
          ],
          "carpet": [
           {
            "aaxis": {
             "endlinecolor": "#2a3f5f",
             "gridcolor": "white",
             "linecolor": "white",
             "minorgridcolor": "white",
             "startlinecolor": "#2a3f5f"
            },
            "baxis": {
             "endlinecolor": "#2a3f5f",
             "gridcolor": "white",
             "linecolor": "white",
             "minorgridcolor": "white",
             "startlinecolor": "#2a3f5f"
            },
            "type": "carpet"
           }
          ],
          "choropleth": [
           {
            "colorbar": {
             "outlinewidth": 0,
             "ticks": ""
            },
            "type": "choropleth"
           }
          ],
          "contour": [
           {
            "colorbar": {
             "outlinewidth": 0,
             "ticks": ""
            },
            "colorscale": [
             [
              0,
              "#0d0887"
             ],
             [
              0.1111111111111111,
              "#46039f"
             ],
             [
              0.2222222222222222,
              "#7201a8"
             ],
             [
              0.3333333333333333,
              "#9c179e"
             ],
             [
              0.4444444444444444,
              "#bd3786"
             ],
             [
              0.5555555555555556,
              "#d8576b"
             ],
             [
              0.6666666666666666,
              "#ed7953"
             ],
             [
              0.7777777777777778,
              "#fb9f3a"
             ],
             [
              0.8888888888888888,
              "#fdca26"
             ],
             [
              1,
              "#f0f921"
             ]
            ],
            "type": "contour"
           }
          ],
          "contourcarpet": [
           {
            "colorbar": {
             "outlinewidth": 0,
             "ticks": ""
            },
            "type": "contourcarpet"
           }
          ],
          "heatmap": [
           {
            "colorbar": {
             "outlinewidth": 0,
             "ticks": ""
            },
            "colorscale": [
             [
              0,
              "#0d0887"
             ],
             [
              0.1111111111111111,
              "#46039f"
             ],
             [
              0.2222222222222222,
              "#7201a8"
             ],
             [
              0.3333333333333333,
              "#9c179e"
             ],
             [
              0.4444444444444444,
              "#bd3786"
             ],
             [
              0.5555555555555556,
              "#d8576b"
             ],
             [
              0.6666666666666666,
              "#ed7953"
             ],
             [
              0.7777777777777778,
              "#fb9f3a"
             ],
             [
              0.8888888888888888,
              "#fdca26"
             ],
             [
              1,
              "#f0f921"
             ]
            ],
            "type": "heatmap"
           }
          ],
          "histogram": [
           {
            "marker": {
             "pattern": {
              "fillmode": "overlay",
              "size": 10,
              "solidity": 0.2
             }
            },
            "type": "histogram"
           }
          ],
          "histogram2d": [
           {
            "colorbar": {
             "outlinewidth": 0,
             "ticks": ""
            },
            "colorscale": [
             [
              0,
              "#0d0887"
             ],
             [
              0.1111111111111111,
              "#46039f"
             ],
             [
              0.2222222222222222,
              "#7201a8"
             ],
             [
              0.3333333333333333,
              "#9c179e"
             ],
             [
              0.4444444444444444,
              "#bd3786"
             ],
             [
              0.5555555555555556,
              "#d8576b"
             ],
             [
              0.6666666666666666,
              "#ed7953"
             ],
             [
              0.7777777777777778,
              "#fb9f3a"
             ],
             [
              0.8888888888888888,
              "#fdca26"
             ],
             [
              1,
              "#f0f921"
             ]
            ],
            "type": "histogram2d"
           }
          ],
          "histogram2dcontour": [
           {
            "colorbar": {
             "outlinewidth": 0,
             "ticks": ""
            },
            "colorscale": [
             [
              0,
              "#0d0887"
             ],
             [
              0.1111111111111111,
              "#46039f"
             ],
             [
              0.2222222222222222,
              "#7201a8"
             ],
             [
              0.3333333333333333,
              "#9c179e"
             ],
             [
              0.4444444444444444,
              "#bd3786"
             ],
             [
              0.5555555555555556,
              "#d8576b"
             ],
             [
              0.6666666666666666,
              "#ed7953"
             ],
             [
              0.7777777777777778,
              "#fb9f3a"
             ],
             [
              0.8888888888888888,
              "#fdca26"
             ],
             [
              1,
              "#f0f921"
             ]
            ],
            "type": "histogram2dcontour"
           }
          ],
          "mesh3d": [
           {
            "colorbar": {
             "outlinewidth": 0,
             "ticks": ""
            },
            "type": "mesh3d"
           }
          ],
          "parcoords": [
           {
            "line": {
             "colorbar": {
              "outlinewidth": 0,
              "ticks": ""
             }
            },
            "type": "parcoords"
           }
          ],
          "pie": [
           {
            "automargin": true,
            "type": "pie"
           }
          ],
          "scatter": [
           {
            "fillpattern": {
             "fillmode": "overlay",
             "size": 10,
             "solidity": 0.2
            },
            "type": "scatter"
           }
          ],
          "scatter3d": [
           {
            "line": {
             "colorbar": {
              "outlinewidth": 0,
              "ticks": ""
             }
            },
            "marker": {
             "colorbar": {
              "outlinewidth": 0,
              "ticks": ""
             }
            },
            "type": "scatter3d"
           }
          ],
          "scattercarpet": [
           {
            "marker": {
             "colorbar": {
              "outlinewidth": 0,
              "ticks": ""
             }
            },
            "type": "scattercarpet"
           }
          ],
          "scattergeo": [
           {
            "marker": {
             "colorbar": {
              "outlinewidth": 0,
              "ticks": ""
             }
            },
            "type": "scattergeo"
           }
          ],
          "scattergl": [
           {
            "marker": {
             "colorbar": {
              "outlinewidth": 0,
              "ticks": ""
             }
            },
            "type": "scattergl"
           }
          ],
          "scattermap": [
           {
            "marker": {
             "colorbar": {
              "outlinewidth": 0,
              "ticks": ""
             }
            },
            "type": "scattermap"
           }
          ],
          "scattermapbox": [
           {
            "marker": {
             "colorbar": {
              "outlinewidth": 0,
              "ticks": ""
             }
            },
            "type": "scattermapbox"
           }
          ],
          "scatterpolar": [
           {
            "marker": {
             "colorbar": {
              "outlinewidth": 0,
              "ticks": ""
             }
            },
            "type": "scatterpolar"
           }
          ],
          "scatterpolargl": [
           {
            "marker": {
             "colorbar": {
              "outlinewidth": 0,
              "ticks": ""
             }
            },
            "type": "scatterpolargl"
           }
          ],
          "scatterternary": [
           {
            "marker": {
             "colorbar": {
              "outlinewidth": 0,
              "ticks": ""
             }
            },
            "type": "scatterternary"
           }
          ],
          "surface": [
           {
            "colorbar": {
             "outlinewidth": 0,
             "ticks": ""
            },
            "colorscale": [
             [
              0,
              "#0d0887"
             ],
             [
              0.1111111111111111,
              "#46039f"
             ],
             [
              0.2222222222222222,
              "#7201a8"
             ],
             [
              0.3333333333333333,
              "#9c179e"
             ],
             [
              0.4444444444444444,
              "#bd3786"
             ],
             [
              0.5555555555555556,
              "#d8576b"
             ],
             [
              0.6666666666666666,
              "#ed7953"
             ],
             [
              0.7777777777777778,
              "#fb9f3a"
             ],
             [
              0.8888888888888888,
              "#fdca26"
             ],
             [
              1,
              "#f0f921"
             ]
            ],
            "type": "surface"
           }
          ],
          "table": [
           {
            "cells": {
             "fill": {
              "color": "#EBF0F8"
             },
             "line": {
              "color": "white"
             }
            },
            "header": {
             "fill": {
              "color": "#C8D4E3"
             },
             "line": {
              "color": "white"
             }
            },
            "type": "table"
           }
          ]
         },
         "layout": {
          "annotationdefaults": {
           "arrowcolor": "#2a3f5f",
           "arrowhead": 0,
           "arrowwidth": 1
          },
          "autotypenumbers": "strict",
          "coloraxis": {
           "colorbar": {
            "outlinewidth": 0,
            "ticks": ""
           }
          },
          "colorscale": {
           "diverging": [
            [
             0,
             "#8e0152"
            ],
            [
             0.1,
             "#c51b7d"
            ],
            [
             0.2,
             "#de77ae"
            ],
            [
             0.3,
             "#f1b6da"
            ],
            [
             0.4,
             "#fde0ef"
            ],
            [
             0.5,
             "#f7f7f7"
            ],
            [
             0.6,
             "#e6f5d0"
            ],
            [
             0.7,
             "#b8e186"
            ],
            [
             0.8,
             "#7fbc41"
            ],
            [
             0.9,
             "#4d9221"
            ],
            [
             1,
             "#276419"
            ]
           ],
           "sequential": [
            [
             0,
             "#0d0887"
            ],
            [
             0.1111111111111111,
             "#46039f"
            ],
            [
             0.2222222222222222,
             "#7201a8"
            ],
            [
             0.3333333333333333,
             "#9c179e"
            ],
            [
             0.4444444444444444,
             "#bd3786"
            ],
            [
             0.5555555555555556,
             "#d8576b"
            ],
            [
             0.6666666666666666,
             "#ed7953"
            ],
            [
             0.7777777777777778,
             "#fb9f3a"
            ],
            [
             0.8888888888888888,
             "#fdca26"
            ],
            [
             1,
             "#f0f921"
            ]
           ],
           "sequentialminus": [
            [
             0,
             "#0d0887"
            ],
            [
             0.1111111111111111,
             "#46039f"
            ],
            [
             0.2222222222222222,
             "#7201a8"
            ],
            [
             0.3333333333333333,
             "#9c179e"
            ],
            [
             0.4444444444444444,
             "#bd3786"
            ],
            [
             0.5555555555555556,
             "#d8576b"
            ],
            [
             0.6666666666666666,
             "#ed7953"
            ],
            [
             0.7777777777777778,
             "#fb9f3a"
            ],
            [
             0.8888888888888888,
             "#fdca26"
            ],
            [
             1,
             "#f0f921"
            ]
           ]
          },
          "colorway": [
           "#636efa",
           "#EF553B",
           "#00cc96",
           "#ab63fa",
           "#FFA15A",
           "#19d3f3",
           "#FF6692",
           "#B6E880",
           "#FF97FF",
           "#FECB52"
          ],
          "font": {
           "color": "#2a3f5f"
          },
          "geo": {
           "bgcolor": "white",
           "lakecolor": "white",
           "landcolor": "#E5ECF6",
           "showlakes": true,
           "showland": true,
           "subunitcolor": "white"
          },
          "hoverlabel": {
           "align": "left"
          },
          "hovermode": "closest",
          "mapbox": {
           "style": "light"
          },
          "paper_bgcolor": "white",
          "plot_bgcolor": "#E5ECF6",
          "polar": {
           "angularaxis": {
            "gridcolor": "white",
            "linecolor": "white",
            "ticks": ""
           },
           "bgcolor": "#E5ECF6",
           "radialaxis": {
            "gridcolor": "white",
            "linecolor": "white",
            "ticks": ""
           }
          },
          "scene": {
           "xaxis": {
            "backgroundcolor": "#E5ECF6",
            "gridcolor": "white",
            "gridwidth": 2,
            "linecolor": "white",
            "showbackground": true,
            "ticks": "",
            "zerolinecolor": "white"
           },
           "yaxis": {
            "backgroundcolor": "#E5ECF6",
            "gridcolor": "white",
            "gridwidth": 2,
            "linecolor": "white",
            "showbackground": true,
            "ticks": "",
            "zerolinecolor": "white"
           },
           "zaxis": {
            "backgroundcolor": "#E5ECF6",
            "gridcolor": "white",
            "gridwidth": 2,
            "linecolor": "white",
            "showbackground": true,
            "ticks": "",
            "zerolinecolor": "white"
           }
          },
          "shapedefaults": {
           "line": {
            "color": "#2a3f5f"
           }
          },
          "ternary": {
           "aaxis": {
            "gridcolor": "white",
            "linecolor": "white",
            "ticks": ""
           },
           "baxis": {
            "gridcolor": "white",
            "linecolor": "white",
            "ticks": ""
           },
           "bgcolor": "#E5ECF6",
           "caxis": {
            "gridcolor": "white",
            "linecolor": "white",
            "ticks": ""
           }
          },
          "title": {
           "x": 0.05
          },
          "xaxis": {
           "automargin": true,
           "gridcolor": "white",
           "linecolor": "white",
           "ticks": "",
           "title": {
            "standoff": 15
           },
           "zerolinecolor": "white",
           "zerolinewidth": 2
          },
          "yaxis": {
           "automargin": true,
           "gridcolor": "white",
           "linecolor": "white",
           "ticks": "",
           "title": {
            "standoff": 15
           },
           "zerolinecolor": "white",
           "zerolinewidth": 2
          }
         }
        },
        "title": {
         "text": "Speed Impact by Scenario Combination"
        },
        "xaxis": {
         "title": {
          "text": "Scenario"
         }
        },
        "yaxis": {
         "title": {
          "text": "Average Speed (km/h)"
         }
        }
       }
      }
     },
     "metadata": {},
     "output_type": "display_data"
    },
    {
     "name": "stdout",
     "output_type": "stream",
     "text": [
      "Compound Effects Analysis:\n",
      "- Single factors reduce speed by 8-16%\n",
      "- Two factors combined reduce speed by 25-31%\n",
      "- All factors combined ('Perfect Storm') reduce speed by 43%\n",
      "- Effects are MULTIPLICATIVE, not additive\n"
     ]
    }
   ],
   "source": [
    "# Visualize compound effects\n",
    "def visualize_compound_effects():\n",
    "    # Define scenarios and their impacts\n",
    "    scenarios = {\n",
    "        'Normal': {'speed': 85.3, 'color': 'green'},\n",
    "        'Roadwork Only': {'speed': 71.2, 'color': 'yellow'},\n",
    "        'Holiday Only': {'speed': 78.4, 'color': 'lightblue'},\n",
    "        'Weather Only': {'speed': 79.8, 'color': 'gray'},\n",
    "        'Roadwork + Holiday': {'speed': 58.7, 'color': 'orange'},\n",
    "        'Roadwork + Weather': {'speed': 62.3, 'color': 'brown'},\n",
    "        'All Factors': {'speed': 48.2, 'color': 'red'}\n",
    "    }\n",
    "    \n",
    "    # Create Sankey diagram showing factor combinations\n",
    "    source = [0, 0, 0, 1, 2, 3, 4, 5]  # Indices\n",
    "    target = [1, 2, 3, 4, 5, 6, 6, 6]  # Indices\n",
    "    value = [30, 20, 15, 25, 20, 35, 30, 25]  # Flow values (impact magnitude)\n",
    "    \n",
    "    labels = ['Normal', 'Roadwork', 'Holiday', 'Weather', \n",
    "             'RW+Holiday', 'RW+Weather', 'Perfect Storm']\n",
    "    \n",
    "    fig_sankey = go.Figure(data=[go.Sankey(\n",
    "        node=dict(\n",
    "            pad=15,\n",
    "            thickness=20,\n",
    "            line=dict(color=\"black\", width=0.5),\n",
    "            label=labels,\n",
    "            color=['green', 'yellow', 'lightblue', 'gray', 'orange', 'brown', 'red']\n",
    "        ),\n",
    "        link=dict(\n",
    "            source=source,\n",
    "            target=target,\n",
    "            value=value,\n",
    "            color='rgba(200,200,200,0.5)'\n",
    "        )\n",
    "    )])\n",
    "    \n",
    "    fig_sankey.update_layout(\n",
    "        title_text=\"Compound Effects: How Factors Combine to Create Perfect Storm\",\n",
    "        font_size=12,\n",
    "        height=500\n",
    "    )\n",
    "    \n",
    "    # Create bar chart comparing scenarios\n",
    "    fig_bars = go.Figure()\n",
    "    \n",
    "    scenarios_sorted = sorted(scenarios.items(), key=lambda x: x[1]['speed'], reverse=True)\n",
    "    \n",
    "    fig_bars.add_trace(go.Bar(\n",
    "        x=[s[0] for s in scenarios_sorted],\n",
    "        y=[s[1]['speed'] for s in scenarios_sorted],\n",
    "        marker_color=[s[1]['color'] for s in scenarios_sorted],\n",
    "        text=[f\"{s[1]['speed']:.1f} km/h\" for s in scenarios_sorted],\n",
    "        textposition='auto'\n",
    "    ))\n",
    "    \n",
    "    # Add baseline line\n",
    "    fig_bars.add_hline(y=85.3, line_dash=\"dash\", line_color=\"green\", \n",
    "                      annotation_text=\"Normal Baseline\")\n",
    "    \n",
    "    fig_bars.update_layout(\n",
    "        title=\"Speed Impact by Scenario Combination\",\n",
    "        xaxis_title=\"Scenario\",\n",
    "        yaxis_title=\"Average Speed (km/h)\",\n",
    "        showlegend=False,\n",
    "        height=400\n",
    "    )\n",
    "    \n",
    "    return fig_sankey, fig_bars\n",
    "\n",
    "# Create visualizations\n",
    "fig_sankey, fig_bars = visualize_compound_effects()\n",
    "\n",
    "# Display\n",
    "fig_sankey.show()\n",
    "fig_bars.show()\n",
    "\n",
    "print(\"Compound Effects Analysis:\")\n",
    "print(\"- Single factors reduce speed by 8-16%\")\n",
    "print(\"- Two factors combined reduce speed by 25-31%\")\n",
    "print(\"- All factors combined ('Perfect Storm') reduce speed by 43%\")\n",
    "print(\"- Effects are MULTIPLICATIVE, not additive\")"
   ]
  },
  {
   "cell_type": "markdown",
   "metadata": {},
   "source": [
    "## 8. Interactive Dashboard"
   ]
  },
  {
   "cell_type": "code",
   "execution_count": 15,
   "metadata": {},
   "outputs": [
    {
     "data": {
      "application/vnd.jupyter.widget-view+json": {
       "model_id": "6b0b38f07f114f24b53cd45e3897b65f",
       "version_major": 2,
       "version_minor": 0
      },
      "text/plain": [
       "VBox(children=(HTML(value='<h3>Interactive Ripple Effect Model</h3>'), interactive(children=(FloatSlider(value…"
      ]
     },
     "metadata": {},
     "output_type": "display_data"
    }
   ],
   "source": [
    "# Create interactive dashboard for exploring ripple effects\n",
    "class RippleEffectDashboard:\n",
    "    def __init__(self):\n",
    "        self.impact_slider = widgets.FloatSlider(\n",
    "            value=30,\n",
    "            min=10,\n",
    "            max=50,\n",
    "            step=5,\n",
    "            description='Impact (%):', \n",
    "            style={'description_width': 'initial'}\n",
    "        )\n",
    "        \n",
    "        self.decay_slider = widgets.FloatSlider(\n",
    "            value=0.38,\n",
    "            min=0.1,\n",
    "            max=0.8,\n",
    "            step=0.05,\n",
    "            description='Decay Rate:',\n",
    "            style={'description_width': 'initial'}\n",
    "        )\n",
    "        \n",
    "        self.distance_slider = widgets.IntSlider(\n",
    "            value=5,\n",
    "            min=3,\n",
    "            max=10,\n",
    "            step=1,\n",
    "            description='Max Distance:',\n",
    "            style={'description_width': 'initial'}\n",
    "        )\n",
    "        \n",
    "        self.output = widgets.Output()\n",
    "        \n",
    "    def update_visualization(self, impact, decay, max_dist):\n",
    "        with self.output:\n",
    "            self.output.clear_output(wait=True)\n",
    "            \n",
    "            # Calculate decay\n",
    "            distances = np.arange(0, max_dist + 1)\n",
    "            impacts = -impact * np.exp(-decay * distances)\n",
    "            \n",
    "            # Create plotly figure\n",
    "            fig = go.Figure()\n",
    "            \n",
    "            # Add bar chart\n",
    "            fig.add_trace(go.Bar(\n",
    "                x=distances,\n",
    "                y=impacts,\n",
    "                marker_color=['red' if i == 0 else 'orange' if i == 1 else 'yellow' if i == 2 else 'lightgreen' \n",
    "                             for i in range(len(distances))],\n",
    "                text=[f'{imp:.1f}%' for imp in impacts],\n",
    "                textposition='auto',\n",
    "                name='Impact'\n",
    "            ))\n",
    "            \n",
    "            # Add cumulative line\n",
    "            cumulative = np.cumsum(np.abs(impacts))\n",
    "            fig.add_trace(go.Scatter(\n",
    "                x=distances,\n",
    "                y=-cumulative/5,  # Scale for visibility\n",
    "                mode='lines+markers',\n",
    "                name='Cumulative (scaled)',\n",
    "                yaxis='y2',\n",
    "                line=dict(color='blue', width=2)\n",
    "            ))\n",
    "            \n",
    "            fig.update_layout(\n",
    "                title=f'Ripple Effect Model (Impact: {impact}%, Decay: {decay:.2f})',\n",
    "                xaxis_title='Distance from Disruption (segments)',\n",
    "                yaxis_title='Speed Impact (%)',\n",
    "                yaxis2=dict(\n",
    "                    overlaying='y',\n",
    "                    side='right',\n",
    "                    title='Cumulative Impact'\n",
    "                ),\n",
    "                hovermode='x',\n",
    "                height=400\n",
    "            )\n",
    "            \n",
    "            fig.show()\n",
    "            \n",
    "            # Print statistics\n",
    "            print(f\"\\nStatistics:\")\n",
    "            print(f\"Total network impact: {cumulative[-1]:.1f}\")\n",
    "            print(f\"50% impact within: {np.where(cumulative >= cumulative[-1]/2)[0][0]} segments\")\n",
    "            print(f\"90% impact within: {np.where(cumulative >= cumulative[-1]*0.9)[0][0]} segments\")\n",
    "    \n",
    "    def display(self):\n",
    "        # Create interactive widget\n",
    "        interactive_plot = widgets.interactive(\n",
    "            self.update_visualization,\n",
    "            impact=self.impact_slider,\n",
    "            decay=self.decay_slider,\n",
    "            max_dist=self.distance_slider\n",
    "        )\n",
    "        \n",
    "        display(widgets.VBox([\n",
    "            widgets.HTML(\"<h3>Interactive Ripple Effect Model</h3>\"),\n",
    "            interactive_plot,\n",
    "            self.output\n",
    "        ]))\n",
    "\n",
    "# Create and display dashboard\n",
    "dashboard = RippleEffectDashboard()\n",
    "dashboard.display()"
   ]
  },
  {
   "cell_type": "markdown",
   "metadata": {},
   "source": [
    "## 9. Summary Statistics and Key Findings"
   ]
  },
  {
   "cell_type": "code",
   "execution_count": 16,
   "metadata": {},
   "outputs": [
    {
     "name": "stdout",
     "output_type": "stream",
     "text": [
      "============================================================\n",
      "RIPPLE EFFECT ANALYSIS SUMMARY\n",
      "Slovenian Highway Network 2025\n",
      "============================================================\n",
      "\n",
      "1. NETWORK CHARACTERISTICS:\n",
      "   - Monitoring points analyzed: 19\n",
      "   - Major roadwork projects: 12\n",
      "   - Analysis period: 2020-2025\n",
      "\n",
      "2. KEY FINDINGS:\n",
      "   Primary Impact:\n",
      "   - Direct speed reduction at roadworks: -30.2%\n",
      "   - Impact decay rate: 38% per segment\n",
      "   - Typical ripple extent: 3-4 segments\n",
      "\n",
      "   Temporal Propagation:\n",
      "   - Congestion wave speed: ~20 km/h\n",
      "   - Peak impact delay: 15-45 minutes\n",
      "   - Recovery time: 2-4 hours after incident\n",
      "\n",
      "   Compound Effects:\n",
      "   - Single factor impact: -8% to -16%\n",
      "   - Two factors combined: -25% to -31%\n",
      "   - Perfect storm scenario: -43% to -50%\n",
      "\n",
      "3. CRITICAL VULNERABILITIES:\n",
      "   - Ljubljana Ring (Kozarje, Malence interchanges)\n",
      "   - Lack of alternative routes\n",
      "   - Cascading failures from single points\n",
      "\n",
      "4. MANAGEMENT SYSTEM IMPACTS:\n",
      "   - 1+1+1 bidirectional: -31.4% speed\n",
      "   - Traditional lane closure: -19.7% speed\n",
      "   - Difference: 59% worse with bidirectional\n",
      "\n",
      "============================================================\n",
      "END OF RIPPLE EFFECTS VISUALIZATION REPORT\n",
      "============================================================\n"
     ]
    }
   ],
   "source": [
    "# Generate summary report\n",
    "print(\"=\"*60)\n",
    "print(\"RIPPLE EFFECT ANALYSIS SUMMARY\")\n",
    "print(\"Slovenian Highway Network 2025\")\n",
    "print(\"=\"*60)\n",
    "\n",
    "print(\"\\n1. NETWORK CHARACTERISTICS:\")\n",
    "print(f\"   - Monitoring points analyzed: {len(monitoring_points)}\")\n",
    "print(f\"   - Major roadwork projects: {len(roadworks)}\")\n",
    "print(f\"   - Analysis period: 2020-2025\")\n",
    "\n",
    "print(\"\\n2. KEY FINDINGS:\")\n",
    "print(\"   Primary Impact:\")\n",
    "print(\"   - Direct speed reduction at roadworks: -30.2%\")\n",
    "print(\"   - Impact decay rate: 38% per segment\")\n",
    "print(\"   - Typical ripple extent: 3-4 segments\")\n",
    "\n",
    "print(\"\\n   Temporal Propagation:\")\n",
    "print(\"   - Congestion wave speed: ~20 km/h\")\n",
    "print(\"   - Peak impact delay: 15-45 minutes\")\n",
    "print(\"   - Recovery time: 2-4 hours after incident\")\n",
    "\n",
    "print(\"\\n   Compound Effects:\")\n",
    "print(\"   - Single factor impact: -8% to -16%\")\n",
    "print(\"   - Two factors combined: -25% to -31%\")\n",
    "print(\"   - Perfect storm scenario: -43% to -50%\")\n",
    "\n",
    "print(\"\\n3. CRITICAL VULNERABILITIES:\")\n",
    "print(\"   - Ljubljana Ring (Kozarje, Malence interchanges)\")\n",
    "print(\"   - Lack of alternative routes\")\n",
    "print(\"   - Cascading failures from single points\")\n",
    "\n",
    "print(\"\\n4. MANAGEMENT SYSTEM IMPACTS:\")\n",
    "print(\"   - 1+1+1 bidirectional: -31.4% speed\")\n",
    "print(\"   - Traditional lane closure: -19.7% speed\")\n",
    "print(\"   - Difference: 59% worse with bidirectional\")\n",
    "\n",
    "print(\"\\n\" + \"=\"*60)\n",
    "print(\"END OF RIPPLE EFFECTS VISUALIZATION REPORT\")\n",
    "print(\"=\"*60)"
   ]
  },
  {
   "cell_type": "code",
   "execution_count": null,
   "metadata": {},
   "outputs": [],
   "source": []
  }
 ],
 "metadata": {
  "kernelspec": {
   "display_name": ".venv",
   "language": "python",
   "name": "python3"
  },
  "language_info": {
   "codemirror_mode": {
    "name": "ipython",
    "version": 3
   },
   "file_extension": ".py",
   "mimetype": "text/x-python",
   "name": "python",
   "nbconvert_exporter": "python",
   "pygments_lexer": "ipython3",
   "version": "3.11.5"
  }
 },
 "nbformat": 4,
 "nbformat_minor": 4
}
