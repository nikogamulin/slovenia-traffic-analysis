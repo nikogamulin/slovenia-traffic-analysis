{
 "cells": [
  {
   "cell_type": "markdown",
   "metadata": {},
   "source": [
    "# Analiza obsega tovornega prometa Luke Koper\n",
    "# Port of Koper Truck Traffic Volume Analysis\n",
    "\n",
    "**Hipoteza H1**: Tovorni promet Luke Koper predstavlja manj kot 15% celotnega tovornega prometa na koprski obvoznici\n",
    "\n",
    "**Cilj**: Kvantificirati absolutni obseg tovornega prometa povezanega z Luko Koper in analizirati trende rasti"
   ]
  },
  {
   "cell_type": "code",
   "execution_count": 1,
   "metadata": {},
   "outputs": [
    {
     "name": "stdout",
     "output_type": "stream",
     "text": [
      "Knjižnice naložene uspešno\n"
     ]
    }
   ],
   "source": [
    "import pandas as pd\n",
    "import numpy as np\n",
    "import matplotlib.pyplot as plt\n",
    "import seaborn as sns\n",
    "from datetime import datetime, timedelta\n",
    "import warnings\n",
    "from scipy import stats\n",
    "from statsmodels.tsa.seasonal import seasonal_decompose\n",
    "import plotly.graph_objects as go\n",
    "import plotly.express as px\n",
    "from plotly.subplots import make_subplots\n",
    "\n",
    "warnings.filterwarnings('ignore')\n",
    "\n",
    "# Nastavitve za slovenščino\n",
    "plt.rcParams['font.family'] = 'DejaVu Sans'\n",
    "plt.style.use('seaborn-v0_8-darkgrid')\n",
    "sns.set_palette('husl')\n",
    "\n",
    "print(\"Knjižnice naložene uspešno\")"
   ]
  },
  {
   "cell_type": "markdown",
   "metadata": {},
   "source": [
    "## 1. Nalaganje in priprava podatkov"
   ]
  },
  {
   "cell_type": "code",
   "execution_count": 2,
   "metadata": {},
   "outputs": [
    {
     "name": "stdout",
     "output_type": "stream",
     "text": [
      "Nalaganje podatkov...\n",
      "Naloženih 876,480 zapisov\n",
      "Obdobje: 2020-08-30 00:00:00 do 2025-08-29 23:00:00\n",
      "\n",
      "Razpoložljivi cestni segmenti:\n",
      "road_code\n",
      "0011     43824\n",
      "0015a    43824\n",
      "0161     43824\n",
      "0151     43824\n",
      "0141     43824\n",
      "0131     43824\n",
      "0121     43824\n",
      "0111     43824\n",
      "0101     43824\n",
      "0091     43824\n",
      "Name: count, dtype: int64\n"
     ]
    }
   ],
   "source": [
    "# Nalaganje podatkov o prometu\n",
    "print(\"Nalaganje podatkov...\")\n",
    "\n",
    "# Glavni podatki o štetju vozil\n",
    "df_count = pd.read_csv('../data/production_merged_vehicle_count.csv', \n",
    "                       parse_dates=['datetime'],\n",
    "                       low_memory=False)\n",
    "\n",
    "print(f\"Naloženih {len(df_count):,} zapisov\")\n",
    "print(f\"Obdobje: {df_count['datetime'].min()} do {df_count['datetime'].max()}\")\n",
    "print(f\"\\nRazpoložljivi cestni segmenti:\")\n",
    "print(df_count['road_code'].value_counts().head(10))"
   ]
  },
  {
   "cell_type": "code",
   "execution_count": 3,
   "metadata": {},
   "outputs": [
    {
     "name": "stdout",
     "output_type": "stream",
     "text": [
      "Filtrirani podatki za Koper: 219,120 zapisov\n",
      "\n",
      "Vključeni segmenti:\n",
      "  road_code             road_name  count\n",
      "0      0011            Bertoki HC  43824\n",
      "1      0031       Koper-Ljubljana  43824\n",
      "2      0101        Postojna-Koper  43824\n",
      "3      0111  Ljubljana-Novo Mesto  43824\n",
      "4      0161            Koper Port  43824\n"
     ]
    }
   ],
   "source": [
    "# Filtriranje podatkov za Koprsko območje\n",
    "koper_segments = ['0161', '0011', '0111', '0211']  # Luka Koper, Bertoki, Koper-Ljubljana\n",
    "koper_roads = ['Koper', 'Bertoki', 'Srmin', 'Škofije']\n",
    "\n",
    "# Filter by road codes or road names\n",
    "df_koper = df_count[\n",
    "    (df_count['road_code'].isin(koper_segments)) |\n",
    "    (df_count['road_name'].str.contains('|'.join(koper_roads), case=False, na=False))\n",
    "].copy()\n",
    "\n",
    "print(f\"Filtrirani podatki za Koper: {len(df_koper):,} zapisov\")\n",
    "print(f\"\\nVključeni segmenti:\")\n",
    "print(df_koper.groupby(['road_code', 'road_name']).size().to_frame('count').reset_index())"
   ]
  },
  {
   "cell_type": "markdown",
   "metadata": {},
   "source": [
    "## 2. Analiza tovornega prometa"
   ]
  },
  {
   "cell_type": "code",
   "execution_count": 4,
   "metadata": {},
   "outputs": [
    {
     "name": "stdout",
     "output_type": "stream",
     "text": [
      "\n",
      "=== STATISTIKA TOVORNEGA PROMETA ===\n",
      "\n",
      "                     Trucks_7.5t              Total_All_Lanes truck_percentage\n",
      "                             sum   mean   std             sum             mean\n",
      "road_name                                                                     \n",
      "Bertoki HC                483440  11.03  5.49        13722946             3.81\n",
      "Koper Port                483108  11.02  5.49        12559273             4.26\n",
      "Koper-Ljubljana           481911  11.00  5.46        13756871             3.78\n",
      "Ljubljana-Novo Mesto      481922  11.00  5.49        12603218             4.22\n",
      "Postojna-Koper            478686  10.92  5.47        12606918             4.20\n"
     ]
    }
   ],
   "source": [
    "# Analiza stolpca Trucks_7.5t (tovornjaki nad 7.5 ton)\n",
    "df_koper['truck_percentage'] = (df_koper['Trucks_7.5t'] / df_koper['Total_All_Lanes']) * 100\n",
    "\n",
    "# Skupna statistika\n",
    "truck_stats = df_koper.groupby('road_name').agg({\n",
    "    'Trucks_7.5t': ['sum', 'mean', 'std'],\n",
    "    'Total_All_Lanes': 'sum',\n",
    "    'truck_percentage': 'mean'\n",
    "}).round(2)\n",
    "\n",
    "print(\"\\n=== STATISTIKA TOVORNEGA PROMETA ===\\n\")\n",
    "print(truck_stats)\n",
    "\n",
    "# Letni trendi\n",
    "df_koper['year'] = df_koper['datetime'].dt.year\n",
    "yearly_trucks = df_koper.groupby(['year', 'road_name']).agg({\n",
    "    'Trucks_7.5t': 'sum',\n",
    "    'Total_All_Lanes': 'sum'\n",
    "}).reset_index()\n",
    "yearly_trucks['truck_percentage'] = (yearly_trucks['Trucks_7.5t'] / yearly_trucks['Total_All_Lanes']) * 100"
   ]
  },
  {
   "cell_type": "code",
   "execution_count": 5,
   "metadata": {},
   "outputs": [
    {
     "data": {
      "image/png": "[encoded data removed]",
      "text/plain": [
       "<Figure size 1500x1000 with 4 Axes>"
      ]
     },
     "metadata": {},
     "output_type": "display_data"
    }
   ],
   "source": [
    "# Vizualizacija letnih trendov tovornega prometa\n",
    "fig, axes = plt.subplots(2, 2, figsize=(15, 10))\n",
    "fig.suptitle('Analiza tovornega prometa - Koprsko območje', fontsize=16, fontweight='bold')\n",
    "\n",
    "# 1. Letni obseg tovornjakov\n",
    "ax1 = axes[0, 0]\n",
    "for road in yearly_trucks['road_name'].unique():\n",
    "    data = yearly_trucks[yearly_trucks['road_name'] == road]\n",
    "    ax1.plot(data['year'], data['Trucks_7.5t'], marker='o', label=road, linewidth=2)\n",
    "ax1.set_xlabel('Leto')\n",
    "ax1.set_ylabel('Število tovornjakov (>7.5t)')\n",
    "ax1.set_title('Letni obseg tovornega prometa')\n",
    "ax1.legend()\n",
    "ax1.grid(True, alpha=0.3)\n",
    "\n",
    "# 2. Delež tovornjakov v prometu\n",
    "ax2 = axes[0, 1]\n",
    "for road in yearly_trucks['road_name'].unique():\n",
    "    data = yearly_trucks[yearly_trucks['road_name'] == road]\n",
    "    ax2.plot(data['year'], data['truck_percentage'], marker='s', label=road, linewidth=2)\n",
    "ax2.set_xlabel('Leto')\n",
    "ax2.set_ylabel('Delež tovornjakov (%)')\n",
    "ax2.set_title('Delež tovornega prometa v skupnem prometu')\n",
    "ax2.legend()\n",
    "ax2.grid(True, alpha=0.3)\n",
    "\n",
    "# 3. Mesečni vzorci (zadnje leto)\n",
    "ax3 = axes[1, 0]\n",
    "df_recent = df_koper[df_koper['year'] == df_koper['year'].max()].copy()\n",
    "df_recent['month'] = df_recent['datetime'].dt.month\n",
    "monthly_pattern = df_recent.groupby('month')['Trucks_7.5t'].mean()\n",
    "ax3.bar(monthly_pattern.index, monthly_pattern.values, color='steelblue', alpha=0.7)\n",
    "ax3.set_xlabel('Mesec')\n",
    "ax3.set_ylabel('Povprečno št. tovornjakov/uro')\n",
    "ax3.set_title(f'Mesečni vzorci tovornega prometa ({df_koper[\"year\"].max()})')\n",
    "ax3.set_xticks(range(1, 13))\n",
    "ax3.grid(True, alpha=0.3)\n",
    "\n",
    "# 4. Porazdelitev po urah dneva\n",
    "ax4 = axes[1, 1]\n",
    "df_koper['hour'] = df_koper['datetime'].dt.hour\n",
    "hourly_pattern = df_koper.groupby('hour')['Trucks_7.5t'].mean()\n",
    "ax4.plot(hourly_pattern.index, hourly_pattern.values, color='darkred', linewidth=2.5)\n",
    "ax4.fill_between(hourly_pattern.index, hourly_pattern.values, alpha=0.3, color='darkred')\n",
    "ax4.set_xlabel('Ura dneva')\n",
    "ax4.set_ylabel('Povprečno št. tovornjakov')\n",
    "ax4.set_title('Dnevni profil tovornega prometa')\n",
    "ax4.set_xticks(range(0, 24, 2))\n",
    "ax4.grid(True, alpha=0.3)\n",
    "\n",
    "plt.tight_layout()\n",
    "plt.show()"
   ]
  },
  {
   "cell_type": "markdown",
   "metadata": {},
   "source": [
    "## 3. Analiza smeri prometa (Inbound vs Outbound)"
   ]
  },
  {
   "cell_type": "code",
   "execution_count": 6,
   "metadata": {},
   "outputs": [
    {
     "data": {
      "application/vnd.plotly.v1+json": {
       "config": {
        "plotlyServerURL": "https://plot.ly"
       },
       "data": [
        {
         "mode": "lines+markers",
         "name": "Bertoki HC - Proti pristanišču",
         "type": "scatter",
         "x": {
          "bdata": "AAAAAAEAAAACAAAAAwAAAAQAAAAFAAAABgAAAAcAAAAIAAAACQAAAAoAAAALAAAADAAAAA0AAAAOAAAADwAAABAAAAARAAAAEgAAABMAAAAUAAAAFQAAABYAAAAXAAAA",
          "dtype": "i4"
         },
         "xaxis": "x",
         "y": {
          "bdata": "JmykeuIpC0D+syCX5xYLQKIZgm3NMwtA/bK7ltulC0ByrXwkGbsLQJEv8zJjYwxAzAxKWWs9DEA2iylF2zwMQI26sXynEAtA71CFmw+2C0AjZNBmH08LQIhbn96ofQxAJzA/GDDxCkDvqm0eau4LQMMejk4baAtA2QG8Rf9lC0BXzF2BR44LQMsT6ce4ggtAvAEkHRpxC0AYJ+W9hckLQJ5be6UqkQtAiCYHo0HuC0B02kzOLCAMQI4dHS7/EwtA",
          "dtype": "f8"
         },
         "yaxis": "y"
        },
        {
         "mode": "lines+markers",
         "name": "Bertoki HC - Iz pristanišča",
         "type": "scatter",
         "x": {
          "bdata": "AAAAAAEAAAACAAAAAwAAAAQAAAAFAAAABgAAAAcAAAAIAAAACQAAAAoAAAALAAAADAAAAA0AAAAOAAAADwAAABAAAAARAAAAEgAAABMAAAAUAAAAFQAAABYAAAAXAAAA",
          "dtype": "i4"
         },
         "xaxis": "x2",
         "y": {
          "bdata": "/EbQd+kfHkAjrqLenaUdQAmoihsMJR5ACqG98swzHkCADmnpymoeQEkoKp8kkx5AUvnLcPHNHkCe8mrOr4geQGYdCnETCB5AVo9mTxAvHkBqJeBqxOwdQOZFHKDkbR5AdVMZWQ8DHkAg7XMgwXseQFgO7yfATh5AkCHXN7WYHkCn7kr1Y5UeQLq+uNKQ0R5ASIasgs20HkCuflynzgQeQBoTk41LNh5AKZr6jB5HHkAdvTI7V1keQAMxBr99Jx5A",
          "dtype": "f8"
         },
         "yaxis": "y2"
        },
        {
         "mode": "lines+markers",
         "name": "Koper Port - Proti pristanišču",
         "type": "scatter",
         "x": {
          "bdata": "AAAAAAEAAAACAAAAAwAAAAQAAAAFAAAABgAAAAcAAAAIAAAACQAAAAoAAAALAAAADAAAAA0AAAAOAAAADwAAABAAAAARAAAAEgAAABMAAAAUAAAAFQAAABYAAAAXAAAA",
          "dtype": "i4"
         },
         "xaxis": "x",
         "y": {
          "bdata": "60dC6ZamEEBWUYyBiMgQQBpp5DBbzhBAhYY3wGCxEEAcgSoEcfAQQPkFrD8frxBAQDaFRz6REEB2QmZDR9cQQNj5DymgKhFA4PCb3Z7IEEDr8yRAU2EQQMVGUkcmzhBA3coiDT03EEBq6gXanQIRQEnneqQhnxBAaQlovbaREEAUhU42zOEQQK/FK5aO/RBATWQSLNjZEECx0ON/AuQQQOY2vvy7BxFApuFV3PyBEEAzGmDiiuwQQK2QMBK0phBA",
          "dtype": "f8"
         },
         "yaxis": "y"
        },
        {
         "mode": "lines+markers",
         "name": "Koper Port - Iz pristanišča",
         "type": "scatter",
         "x": {
          "bdata": "AAAAAAEAAAACAAAAAwAAAAQAAAAFAAAABgAAAAcAAAAIAAAACQAAAAoAAAALAAAADAAAAA0AAAAOAAAADwAAABAAAAARAAAAEgAAABMAAAAUAAAAFQAAABYAAAAXAAAA",
          "dtype": "i4"
         },
         "xaxis": "x2",
         "y": {
          "bdata": "LuCepA8oG0CO8Lh3D/obQP1krUfXvRtA+8A57CiUG0CeowLrCvYbQOGun5LTDxtAQvod09KBG0AezKXBxhYbQLUd3C2KLhtAurpAwN53G0AuNLxNU20bQMTgcIHO2RpA5W7vQUlaG0BvcPbi4HkbQDeViUsH7xpA2KyugfiNGkDdwQSxCz0bQNpD0oA/lBtAuTi+bJd4G0DItADCQhUbQKsF6itDSxtAPkIqa3QqG0D4eszuK0gbQKU44lqXnBtA",
          "dtype": "f8"
         },
         "yaxis": "y2"
        },
        {
         "mode": "lines+markers",
         "name": "Koper-Ljubljana - Proti pristanišču",
         "type": "scatter",
         "x": {
          "bdata": "AAAAAAEAAAACAAAAAwAAAAQAAAAFAAAABgAAAAcAAAAIAAAACQAAAAoAAAALAAAADAAAAA0AAAAOAAAADwAAABAAAAARAAAAEgAAABMAAAAUAAAAFQAAABYAAAAXAAAA",
          "dtype": "i4"
         },
         "xaxis": "x",
         "y": {
          "bdata": "jAokpD29CkB6NRQWmokLQA8mIvDJzgtAG2XB0WSzC0C9o1ZzrJ4LQAUZ7ZW8gApAxT4M8tmeC0DUO0KIqjMLQBaDH3TvQgtA2yNWiqCNC0BZGWnzoRMMQAMtqyjP6wtA9XZIthkSC0Daenx3NBMLQGbpbPqwCAtA35b9TfcQC0BihaivOBMMQM9hlzt4ZgtAkyDhqFSjCkBpDAAqzm4LQN+YXxmxQQtA2pJKVNL1CkApPZOwxCwMQJLjKIKTxgtA",
          "dtype": "f8"
         },
         "yaxis": "y"
        },
        {
         "mode": "lines+markers",
         "name": "Koper-Ljubljana - Iz pristanišča",
         "type": "scatter",
         "x": {
          "bdata": "AAAAAAEAAAACAAAAAwAAAAQAAAAFAAAABgAAAAcAAAAIAAAACQAAAAoAAAALAAAADAAAAA0AAAAOAAAADwAAABAAAAARAAAAEgAAABMAAAAUAAAAFQAAABYAAAAXAAAA",
          "dtype": "i4"
         },
         "xaxis": "x2",
         "y": {
          "bdata": "SxnRpDneHUAbBGhOZIseQFI8BHzdex5AtSH7hyNcHkBB6xq0WqoeQPRLRuysFx1ApblUA1CvHkCq8OrAOFQeQFY9tLskER5APoMBjOZtHkDUSZ8LzMYeQNXmWwNM0h5AoNXuICETHkCu01TAkxIeQK1CHEy66B1AGa8cFz9+HkBKkXi24BgfQK/VVK5skx5AgKDBqL/UHUC4jLSniOIdQBMRm5hyEx5AItW9TO/BHUBTyLdyCqYeQHIYT4ziXh5A",
          "dtype": "f8"
         },
         "yaxis": "y2"
        },
        {
         "mode": "lines+markers",
         "name": "Ljubljana-Novo Mesto - Proti pristanišču",
         "type": "scatter",
         "x": {
          "bdata": "AAAAAAEAAAACAAAAAwAAAAQAAAAFAAAABgAAAAcAAAAIAAAACQAAAAoAAAALAAAADAAAAA0AAAAOAAAADwAAABAAAAARAAAAEgAAABMAAAAUAAAAFQAAABYAAAAXAAAA",
          "dtype": "i4"
         },
         "xaxis": "x",
         "y": {
          "bdata": "EyU8md7wEEDv/3dcBA0RQIqk7eIdkxBAQSxQLG2pEEBBJdSwnbUQQO5sWasPiRBAhcX+LimrEECY0geFT3gQQO221s3O5xBAOXZnTV0AEUDkXhlZBhQQQNuLaXjQnhBAWUR0AGD8EEAAbdPx7W0QQJzYoeh95xBANY4IBvevEEBx6LfF4pQQQNK2f+iFrhBAa0Gn+y42EUDBWNeyMpsQQHCnffk+5xBAcx4zBMmhEEAZ4JEz5fkQQHzDnFcVHRBA",
          "dtype": "f8"
         },
         "yaxis": "y"
        },
        {
         "mode": "lines+markers",
         "name": "Ljubljana-Novo Mesto - Iz pristanišča",
         "type": "scatter",
         "x": {
          "bdata": "AAAAAAEAAAACAAAAAwAAAAQAAAAFAAAABgAAAAcAAAAIAAAACQAAAAoAAAALAAAADAAAAA0AAAAOAAAADwAAABAAAAARAAAAEgAAABMAAAAUAAAAFQAAABYAAAAXAAAA",
          "dtype": "i4"
         },
         "xaxis": "x2",
         "y": {
          "bdata": "ygckAK8mG0Dln+4V5AYcQOiWfrt9chtA+eX+WSRAG0CYcbJvLvMbQHccXfoRfxpAUOFeY21MG0BleVlQyAIbQHKmLObPQhtAkmdyukbHG0Bx4g3b34caQJm2+UV5ShpAU5gpfeB9G0Bm509wlFEbQH1PP6Uo5xpAQWECw4zaG0DxCiVnfQQbQCTaS6L7YxtAonAO/UrHG0BcMFAQllkbQEIsQDLlJxtA4pMR1wlvG0AXFuHS82AbQIBMOhq1MRtA",
          "dtype": "f8"
         },
         "yaxis": "y2"
        },
        {
         "mode": "lines+markers",
         "name": "Postojna-Koper - Proti pristanišču",
         "type": "scatter",
         "x": {
          "bdata": "AAAAAAEAAAACAAAAAwAAAAQAAAAFAAAABgAAAAcAAAAIAAAACQAAAAoAAAALAAAADAAAAA0AAAAOAAAADwAAABAAAAARAAAAEgAAABMAAAAUAAAAFQAAABYAAAAXAAAA",
          "dtype": "i4"
         },
         "xaxis": "x",
         "y": {
          "bdata": "V61/Lai+EEDGVFyoIxoRQF+NI1i7kRBAh6hBV1ZiEEAymaFGhF4QQAS4sWFhpBBAHOp9K6qYEEBSIk6/ew8QQCTcv/nYlBBAFupv9MZbEEBZ/x++wZ0QQOdZGKILdxBAIeFwDW29EEAK56p6jJ8QQGACTqTcuBBAGEMlj9Y/EEDXVnbud4wQQGkFePr5jhBA+xlzv+J0EEBu7lobsBMRQELiKNiDMBBAXyZAh+TbEEDf/8fy23AQQHCgFTnneBBA",
          "dtype": "f8"
         },
         "yaxis": "y"
        },
        {
         "mode": "lines+markers",
         "name": "Postojna-Koper - Iz pristanišča",
         "type": "scatter",
         "x": {
          "bdata": "AAAAAAEAAAACAAAAAwAAAAQAAAAFAAAABgAAAAcAAAAIAAAACQAAAAoAAAALAAAADAAAAA0AAAAOAAAADwAAABAAAAARAAAAEgAAABMAAAAUAAAAFQAAABYAAAAXAAAA",
          "dtype": "i4"
         },
         "xaxis": "x2",
         "y": {
          "bdata": "XNPlCLbxGkBXNMsapdoaQPzfts2t5xpA0GNSmfDwGkCzit4A7U0bQHlqA3lTpxtATVPXpF/0GkBUHX8lVRgaQG1+reBM1BpAcQHJcOAfG0AIuDILUc8aQBcu05ZZMBtAo+eDmixfG0D/2uHvt6wbQJDxrE01BxtATy/DhNKVGkAMkX/1q/MaQNTAdbZ/3xtALIuQg54OG0DREx35FocbQFLwWMk8kRtA/Le3RXESHEAAw3EfcxUbQNmbAw2/xhpA",
          "dtype": "f8"
         },
         "yaxis": "y2"
        }
       ],
       "layout": {
        "annotations": [
         {
          "font": {
           "size": 16
          },
          "showarrow": false,
          "text": "Tovorni promet proti pristanišču (Smer A)",
          "x": 0.5,
          "xanchor": "center",
          "xref": "paper",
          "y": 1,
          "yanchor": "bottom",
          "yref": "paper"
         },
         {
          "font": {
           "size": 16
          },
          "showarrow": false,
          "text": "Tovorni promet iz pristanišča (Smer B)",
          "x": 0.5,
          "xanchor": "center",
          "xref": "paper",
          "y": 0.45,
          "yanchor": "bottom",
          "yref": "paper"
         }
        ],
        "height": 700,
        "showlegend": true,
        "template": {
         "data": {
          "bar": [
           {
            "error_x": {
             "color": "#2a3f5f"
            },
            "error_y": {
             "color": "#2a3f5f"
            },
            "marker": {
             "line": {
              "color": "#E5ECF6",
              "width": 0.5
             },
             "pattern": {
              "fillmode": "overlay",
              "size": 10,
              "solidity": 0.2
             }
            },
            "type": "bar"
           }
          ],
          "barpolar": [
           {
            "marker": {
             "line": {
              "color": "#E5ECF6",
              "width": 0.5
             },
             "pattern": {
              "fillmode": "overlay",
              "size": 10,
              "solidity": 0.2
             }
            },
            "type": "barpolar"
           }
          ],
          "carpet": [
           {
            "aaxis": {
             "endlinecolor": "#2a3f5f",
             "gridcolor": "white",
             "linecolor": "white",
             "minorgridcolor": "white",
             "startlinecolor": "#2a3f5f"
            },
            "baxis": {
             "endlinecolor": "#2a3f5f",
             "gridcolor": "white",
             "linecolor": "white",
             "minorgridcolor": "white",
             "startlinecolor": "#2a3f5f"
            },
            "type": "carpet"
           }
          ],
          "choropleth": [
           {
            "colorbar": {
             "outlinewidth": 0,
             "ticks": ""
            },
            "type": "choropleth"
           }
          ],
          "contour": [
           {
            "colorbar": {
             "outlinewidth": 0,
             "ticks": ""
            },
            "colorscale": [
             [
              0,
              "#0d0887"
             ],
             [
              0.1111111111111111,
              "#46039f"
             ],
             [
              0.2222222222222222,
              "#7201a8"
             ],
             [
              0.3333333333333333,
              "#9c179e"
             ],
             [
              0.4444444444444444,
              "#bd3786"
             ],
             [
              0.5555555555555556,
              "#d8576b"
             ],
             [
              0.6666666666666666,
              "#ed7953"
             ],
             [
              0.7777777777777778,
              "#fb9f3a"
             ],
             [
              0.8888888888888888,
              "#fdca26"
             ],
             [
              1,
              "#f0f921"
             ]
            ],
            "type": "contour"
           }
          ],
          "contourcarpet": [
           {
            "colorbar": {
             "outlinewidth": 0,
             "ticks": ""
            },
            "type": "contourcarpet"
           }
          ],
          "heatmap": [
           {
            "colorbar": {
             "outlinewidth": 0,
             "ticks": ""
            },
            "colorscale": [
             [
              0,
              "#0d0887"
             ],
             [
              0.1111111111111111,
              "#46039f"
             ],
             [
              0.2222222222222222,
              "#7201a8"
             ],
             [
              0.3333333333333333,
              "#9c179e"
             ],
             [
              0.4444444444444444,
              "#bd3786"
             ],
             [
              0.5555555555555556,
              "#d8576b"
             ],
             [
              0.6666666666666666,
              "#ed7953"
             ],
             [
              0.7777777777777778,
              "#fb9f3a"
             ],
             [
              0.8888888888888888,
              "#fdca26"
             ],
             [
              1,
              "#f0f921"
             ]
            ],
            "type": "heatmap"
           }
          ],
          "histogram": [
           {
            "marker": {
             "pattern": {
              "fillmode": "overlay",
              "size": 10,
              "solidity": 0.2
             }
            },
            "type": "histogram"
           }
          ],
          "histogram2d": [
           {
            "colorbar": {
             "outlinewidth": 0,
             "ticks": ""
            },
            "colorscale": [
             [
              0,
              "#0d0887"
             ],
             [
              0.1111111111111111,
              "#46039f"
             ],
             [
              0.2222222222222222,
              "#7201a8"
             ],
             [
              0.3333333333333333,
              "#9c179e"
             ],
             [
              0.4444444444444444,
              "#bd3786"
             ],
             [
              0.5555555555555556,
              "#d8576b"
             ],
             [
              0.6666666666666666,
              "#ed7953"
             ],
             [
              0.7777777777777778,
              "#fb9f3a"
             ],
             [
              0.8888888888888888,
              "#fdca26"
             ],
             [
              1,
              "#f0f921"
             ]
            ],
            "type": "histogram2d"
           }
          ],
          "histogram2dcontour": [
           {
            "colorbar": {
             "outlinewidth": 0,
             "ticks": ""
            },
            "colorscale": [
             [
              0,
              "#0d0887"
             ],
             [
              0.1111111111111111,
              "#46039f"
             ],
             [
              0.2222222222222222,
              "#7201a8"
             ],
             [
              0.3333333333333333,
              "#9c179e"
             ],
             [
              0.4444444444444444,
              "#bd3786"
             ],
             [
              0.5555555555555556,
              "#d8576b"
             ],
             [
              0.6666666666666666,
              "#ed7953"
             ],
             [
              0.7777777777777778,
              "#fb9f3a"
             ],
             [
              0.8888888888888888,
              "#fdca26"
             ],
             [
              1,
              "#f0f921"
             ]
            ],
            "type": "histogram2dcontour"
           }
          ],
          "mesh3d": [
           {
            "colorbar": {
             "outlinewidth": 0,
             "ticks": ""
            },
            "type": "mesh3d"
           }
          ],
          "parcoords": [
           {
            "line": {
             "colorbar": {
              "outlinewidth": 0,
              "ticks": ""
             }
            },
            "type": "parcoords"
           }
          ],
          "pie": [
           {
            "automargin": true,
            "type": "pie"
           }
          ],
          "scatter": [
           {
            "fillpattern": {
             "fillmode": "overlay",
             "size": 10,
             "solidity": 0.2
            },
            "type": "scatter"
           }
          ],
          "scatter3d": [
           {
            "line": {
             "colorbar": {
              "outlinewidth": 0,
              "ticks": ""
             }
            },
            "marker": {
             "colorbar": {
              "outlinewidth": 0,
              "ticks": ""
             }
            },
            "type": "scatter3d"
           }
          ],
          "scattercarpet": [
           {
            "marker": {
             "colorbar": {
              "outlinewidth": 0,
              "ticks": ""
             }
            },
            "type": "scattercarpet"
           }
          ],
          "scattergeo": [
           {
            "marker": {
             "colorbar": {
              "outlinewidth": 0,
              "ticks": ""
             }
            },
            "type": "scattergeo"
           }
          ],
          "scattergl": [
           {
            "marker": {
             "colorbar": {
              "outlinewidth": 0,
              "ticks": ""
             }
            },
            "type": "scattergl"
           }
          ],
          "scattermap": [
           {
            "marker": {
             "colorbar": {
              "outlinewidth": 0,
              "ticks": ""
             }
            },
            "type": "scattermap"
           }
          ],
          "scattermapbox": [
           {
            "marker": {
             "colorbar": {
              "outlinewidth": 0,
              "ticks": ""
             }
            },
            "type": "scattermapbox"
           }
          ],
          "scatterpolar": [
           {
            "marker": {
             "colorbar": {
              "outlinewidth": 0,
              "ticks": ""
             }
            },
            "type": "scatterpolar"
           }
          ],
          "scatterpolargl": [
           {
            "marker": {
             "colorbar": {
              "outlinewidth": 0,
              "ticks": ""
             }
            },
            "type": "scatterpolargl"
           }
          ],
          "scatterternary": [
           {
            "marker": {
             "colorbar": {
              "outlinewidth": 0,
              "ticks": ""
             }
            },
            "type": "scatterternary"
           }
          ],
          "surface": [
           {
            "colorbar": {
             "outlinewidth": 0,
             "ticks": ""
            },
            "colorscale": [
             [
              0,
              "#0d0887"
             ],
             [
              0.1111111111111111,
              "#46039f"
             ],
             [
              0.2222222222222222,
              "#7201a8"
             ],
             [
              0.3333333333333333,
              "#9c179e"
             ],
             [
              0.4444444444444444,
              "#bd3786"
             ],
             [
              0.5555555555555556,
              "#d8576b"
             ],
             [
              0.6666666666666666,
              "#ed7953"
             ],
             [
              0.7777777777777778,
              "#fb9f3a"
             ],
             [
              0.8888888888888888,
              "#fdca26"
             ],
             [
              1,
              "#f0f921"
             ]
            ],
            "type": "surface"
           }
          ],
          "table": [
           {
            "cells": {
             "fill": {
              "color": "#EBF0F8"
             },
             "line": {
              "color": "white"
             }
            },
            "header": {
             "fill": {
              "color": "#C8D4E3"
             },
             "line": {
              "color": "white"
             }
            },
            "type": "table"
           }
          ]
         },
         "layout": {
          "annotationdefaults": {
           "arrowcolor": "#2a3f5f",
           "arrowhead": 0,
           "arrowwidth": 1
          },
          "autotypenumbers": "strict",
          "coloraxis": {
           "colorbar": {
            "outlinewidth": 0,
            "ticks": ""
           }
          },
          "colorscale": {
           "diverging": [
            [
             0,
             "#8e0152"
            ],
            [
             0.1,
             "#c51b7d"
            ],
            [
             0.2,
             "#de77ae"
            ],
            [
             0.3,
             "#f1b6da"
            ],
            [
             0.4,
             "#fde0ef"
            ],
            [
             0.5,
             "#f7f7f7"
            ],
            [
             0.6,
             "#e6f5d0"
            ],
            [
             0.7,
             "#b8e186"
            ],
            [
             0.8,
             "#7fbc41"
            ],
            [
             0.9,
             "#4d9221"
            ],
            [
             1,
             "#276419"
            ]
           ],
           "sequential": [
            [
             0,
             "#0d0887"
            ],
            [
             0.1111111111111111,
             "#46039f"
            ],
            [
             0.2222222222222222,
             "#7201a8"
            ],
            [
             0.3333333333333333,
             "#9c179e"
            ],
            [
             0.4444444444444444,
             "#bd3786"
            ],
            [
             0.5555555555555556,
             "#d8576b"
            ],
            [
             0.6666666666666666,
             "#ed7953"
            ],
            [
             0.7777777777777778,
             "#fb9f3a"
            ],
            [
             0.8888888888888888,
             "#fdca26"
            ],
            [
             1,
             "#f0f921"
            ]
           ],
           "sequentialminus": [
            [
             0,
             "#0d0887"
            ],
            [
             0.1111111111111111,
             "#46039f"
            ],
            [
             0.2222222222222222,
             "#7201a8"
            ],
            [
             0.3333333333333333,
             "#9c179e"
            ],
            [
             0.4444444444444444,
             "#bd3786"
            ],
            [
             0.5555555555555556,
             "#d8576b"
            ],
            [
             0.6666666666666666,
             "#ed7953"
            ],
            [
             0.7777777777777778,
             "#fb9f3a"
            ],
            [
             0.8888888888888888,
             "#fdca26"
            ],
            [
             1,
             "#f0f921"
            ]
           ]
          },
          "colorway": [
           "#636efa",
           "#EF553B",
           "#00cc96",
           "#ab63fa",
           "#FFA15A",
           "#19d3f3",
           "#FF6692",
           "#B6E880",
           "#FF97FF",
           "#FECB52"
          ],
          "font": {
           "color": "#2a3f5f"
          },
          "geo": {
           "bgcolor": "white",
           "lakecolor": "white",
           "landcolor": "#E5ECF6",
           "showlakes": true,
           "showland": true,
           "subunitcolor": "white"
          },
          "hoverlabel": {
           "align": "left"
          },
          "hovermode": "closest",
          "mapbox": {
           "style": "light"
          },
          "paper_bgcolor": "white",
          "plot_bgcolor": "#E5ECF6",
          "polar": {
           "angularaxis": {
            "gridcolor": "white",
            "linecolor": "white",
            "ticks": ""
           },
           "bgcolor": "#E5ECF6",
           "radialaxis": {
            "gridcolor": "white",
            "linecolor": "white",
            "ticks": ""
           }
          },
          "scene": {
           "xaxis": {
            "backgroundcolor": "#E5ECF6",
            "gridcolor": "white",
            "gridwidth": 2,
            "linecolor": "white",
            "showbackground": true,
            "ticks": "",
            "zerolinecolor": "white"
           },
           "yaxis": {
            "backgroundcolor": "#E5ECF6",
            "gridcolor": "white",
            "gridwidth": 2,
            "linecolor": "white",
            "showbackground": true,
            "ticks": "",
            "zerolinecolor": "white"
           },
           "zaxis": {
            "backgroundcolor": "#E5ECF6",
            "gridcolor": "white",
            "gridwidth": 2,
            "linecolor": "white",
            "showbackground": true,
            "ticks": "",
            "zerolinecolor": "white"
           }
          },
          "shapedefaults": {
           "line": {
            "color": "#2a3f5f"
           }
          },
          "ternary": {
           "aaxis": {
            "gridcolor": "white",
            "linecolor": "white",
            "ticks": ""
           },
           "baxis": {
            "gridcolor": "white",
            "linecolor": "white",
            "ticks": ""
           },
           "bgcolor": "#E5ECF6",
           "caxis": {
            "gridcolor": "white",
            "linecolor": "white",
            "ticks": ""
           }
          },
          "title": {
           "x": 0.05
          },
          "xaxis": {
           "automargin": true,
           "gridcolor": "white",
           "linecolor": "white",
           "ticks": "",
           "title": {
            "standoff": 15
           },
           "zerolinecolor": "white",
           "zerolinewidth": 2
          },
          "yaxis": {
           "automargin": true,
           "gridcolor": "white",
           "linecolor": "white",
           "ticks": "",
           "title": {
            "standoff": 15
           },
           "zerolinecolor": "white",
           "zerolinewidth": 2
          }
         }
        },
        "title": {
         "text": "Analiza smeri tovornega prometa - Luka Koper"
        },
        "xaxis": {
         "anchor": "y",
         "domain": [
          0,
          1
         ]
        },
        "xaxis2": {
         "anchor": "y2",
         "domain": [
          0,
          1
         ],
         "title": {
          "text": "Ura dneva"
         }
        },
        "yaxis": {
         "anchor": "x",
         "domain": [
          0.55,
          1
         ],
         "title": {
          "text": "Povprečno št. tovornjakov"
         }
        },
        "yaxis2": {
         "anchor": "x2",
         "domain": [
          0,
          0.45
         ],
         "title": {
          "text": "Povprečno št. tovornjakov"
         }
        }
       }
      }
     },
     "metadata": {},
     "output_type": "display_data"
    }
   ],
   "source": [
    "# Analiza smeri A vs B za identifikacijo pristaniškega prometa\n",
    "df_koper['trucks_direction_A'] = df_koper['Trucks_7.5t'] * (df_koper['direction_A_count'] / df_koper['Total_All_Lanes'])\n",
    "df_koper['trucks_direction_B'] = df_koper['Trucks_7.5t'] * (df_koper['direction_B_count'] / df_koper['Total_All_Lanes'])\n",
    "\n",
    "# Smer A = proti pristanišču, Smer B = iz pristanišča (predpostavka)\n",
    "directional_analysis = df_koper.groupby(['road_name', 'hour']).agg({\n",
    "    'trucks_direction_A': 'mean',\n",
    "    'trucks_direction_B': 'mean'\n",
    "}).reset_index()\n",
    "\n",
    "# Vizualizacija smeri prometa\n",
    "fig = make_subplots(\n",
    "    rows=2, cols=1,\n",
    "    subplot_titles=('Tovorni promet proti pristanišču (Smer A)', \n",
    "                   'Tovorni promet iz pristanišča (Smer B)'),\n",
    "    vertical_spacing=0.1\n",
    ")\n",
    "\n",
    "for road in directional_analysis['road_name'].unique():\n",
    "    data = directional_analysis[directional_analysis['road_name'] == road]\n",
    "    \n",
    "    # Smer A\n",
    "    fig.add_trace(\n",
    "        go.Scatter(x=data['hour'], y=data['trucks_direction_A'],\n",
    "                  mode='lines+markers', name=f'{road} - Proti pristanišču'),\n",
    "        row=1, col=1\n",
    "    )\n",
    "    \n",
    "    # Smer B\n",
    "    fig.add_trace(\n",
    "        go.Scatter(x=data['hour'], y=data['trucks_direction_B'],\n",
    "                  mode='lines+markers', name=f'{road} - Iz pristanišča'),\n",
    "        row=2, col=1\n",
    "    )\n",
    "\n",
    "fig.update_xaxes(title_text=\"Ura dneva\", row=2, col=1)\n",
    "fig.update_yaxes(title_text=\"Povprečno št. tovornjakov\", row=1, col=1)\n",
    "fig.update_yaxes(title_text=\"Povprečno št. tovornjakov\", row=2, col=1)\n",
    "\n",
    "fig.update_layout(\n",
    "    height=700,\n",
    "    title_text=\"Analiza smeri tovornega prometa - Luka Koper\",\n",
    "    showlegend=True\n",
    ")\n",
    "\n",
    "fig.show()"
   ]
  },
  {
   "cell_type": "markdown",
   "metadata": {},
   "source": [
    "## 4. Primerjava delovnih dni vs vikendi"
   ]
  },
  {
   "cell_type": "code",
   "execution_count": 7,
   "metadata": {},
   "outputs": [
    {
     "data": {
      "image/png": "[encoded data removed]",
      "text/plain": [
       "<Figure size 1500x600 with 2 Axes>"
      ]
     },
     "metadata": {},
     "output_type": "display_data"
    },
    {
     "name": "stdout",
     "output_type": "stream",
     "text": [
      "\n",
      "=== STATISTIČNI TEST: Delovni dnevi vs Vikendi ===\n",
      "Povprečje delovni dnevi: 11.00 tovornjakov/uro\n",
      "Povprečje vikendi: 10.98 tovornjakov/uro\n",
      "Razlika: 0.02 (0.1%)\n",
      "T-statistika: 0.6039\n",
      "P-vrednost: 5.4592e-01\n",
      "Rezultat: Ni statistično značilne razlike\n"
     ]
    }
   ],
   "source": [
    "# Dodajanje informacij o dnevu v tednu\n",
    "df_koper['weekday'] = df_koper['datetime'].dt.dayofweek\n",
    "df_koper['is_weekend'] = df_koper['weekday'].isin([5, 6])  # Sobota = 5, Nedelja = 6\n",
    "df_koper['day_type'] = df_koper['is_weekend'].map({True: 'Vikend', False: 'Delovni dan'})\n",
    "\n",
    "# Primerjava delovni dnevi vs vikendi\n",
    "comparison = df_koper.groupby(['day_type', 'hour']).agg({\n",
    "    'Trucks_7.5t': ['mean', 'std', 'count']\n",
    "}).reset_index()\n",
    "comparison.columns = ['day_type', 'hour', 'mean_trucks', 'std_trucks', 'count']\n",
    "\n",
    "# Vizualizacija\n",
    "fig, axes = plt.subplots(1, 2, figsize=(15, 6))\n",
    "\n",
    "# Urni profil\n",
    "ax1 = axes[0]\n",
    "for day_type in ['Delovni dan', 'Vikend']:\n",
    "    data = comparison[comparison['day_type'] == day_type]\n",
    "    ax1.plot(data['hour'], data['mean_trucks'], \n",
    "            label=day_type, linewidth=2.5, \n",
    "            marker='o' if day_type == 'Vikend' else 's')\n",
    "    ax1.fill_between(data['hour'], \n",
    "                     data['mean_trucks'] - data['std_trucks'],\n",
    "                     data['mean_trucks'] + data['std_trucks'],\n",
    "                     alpha=0.2)\n",
    "\n",
    "ax1.set_xlabel('Ura dneva')\n",
    "ax1.set_ylabel('Povprečno število tovornjakov')\n",
    "ax1.set_title('Primerjava tovornega prometa: Delovni dnevi vs Vikendi')\n",
    "ax1.legend()\n",
    "ax1.grid(True, alpha=0.3)\n",
    "ax1.set_xticks(range(0, 24, 2))\n",
    "\n",
    "# Skupna primerjava po dnevih v tednu\n",
    "ax2 = axes[1]\n",
    "daily_avg = df_koper.groupby('weekday')['Trucks_7.5t'].agg(['mean', 'std'])\n",
    "days = ['Pon', 'Tor', 'Sre', 'Čet', 'Pet', 'Sob', 'Ned']\n",
    "colors = ['steelblue'] * 5 + ['coral'] * 2\n",
    "ax2.bar(range(7), daily_avg['mean'], yerr=daily_avg['std'], \n",
    "        capsize=5, color=colors, alpha=0.7)\n",
    "ax2.set_xticks(range(7))\n",
    "ax2.set_xticklabels(days)\n",
    "ax2.set_xlabel('Dan v tednu')\n",
    "ax2.set_ylabel('Povprečno število tovornjakov/uro')\n",
    "ax2.set_title('Tovorni promet po dnevih v tednu')\n",
    "ax2.grid(True, alpha=0.3, axis='y')\n",
    "\n",
    "plt.tight_layout()\n",
    "plt.show()\n",
    "\n",
    "# Statistični test\n",
    "weekday_trucks = df_koper[~df_koper['is_weekend']]['Trucks_7.5t'].dropna()\n",
    "weekend_trucks = df_koper[df_koper['is_weekend']]['Trucks_7.5t'].dropna()\n",
    "t_stat, p_value = stats.ttest_ind(weekday_trucks, weekend_trucks)\n",
    "\n",
    "print(f\"\\n=== STATISTIČNI TEST: Delovni dnevi vs Vikendi ===\")\n",
    "print(f\"Povprečje delovni dnevi: {weekday_trucks.mean():.2f} tovornjakov/uro\")\n",
    "print(f\"Povprečje vikendi: {weekend_trucks.mean():.2f} tovornjakov/uro\")\n",
    "print(f\"Razlika: {(weekday_trucks.mean() - weekend_trucks.mean()):.2f} ({((weekday_trucks.mean() - weekend_trucks.mean())/weekday_trucks.mean()*100):.1f}%)\")\n",
    "print(f\"T-statistika: {t_stat:.4f}\")\n",
    "print(f\"P-vrednost: {p_value:.4e}\")\n",
    "print(f\"Rezultat: {'Statistično značilna razlika' if p_value < 0.05 else 'Ni statistično značilne razlike'}\")"
   ]
  },
  {
   "cell_type": "markdown",
   "metadata": {},
   "source": [
    "## 5. Trend analiza in rast"
   ]
  },
  {
   "cell_type": "code",
   "execution_count": 8,
   "metadata": {},
   "outputs": [
    {
     "data": {
      "application/vnd.plotly.v1+json": {
       "config": {
        "plotlyServerURL": "https://plot.ly"
       },
       "data": [
        {
         "line": {
          "color": "darkblue",
          "width": 2
         },
         "mode": "lines",
         "name": "Dejanski tovorni promet",
         "type": "scatter",
         "x": [
          "2020-08-01T00:00:00.000000000",
          "2020-09-01T00:00:00.000000000",
          "2020-10-01T00:00:00.000000000",
          "2020-11-01T00:00:00.000000000",
          "2020-12-01T00:00:00.000000000",
          "2021-01-01T00:00:00.000000000",
          "2021-02-01T00:00:00.000000000",
          "2021-03-01T00:00:00.000000000",
          "2021-04-01T00:00:00.000000000",
          "2021-05-01T00:00:00.000000000",
          "2021-06-01T00:00:00.000000000",
          "2021-07-01T00:00:00.000000000",
          "2021-08-01T00:00:00.000000000",
          "2021-09-01T00:00:00.000000000",
          "2021-10-01T00:00:00.000000000",
          "2021-11-01T00:00:00.000000000",
          "2021-12-01T00:00:00.000000000",
          "2022-01-01T00:00:00.000000000",
          "2022-02-01T00:00:00.000000000",
          "2022-03-01T00:00:00.000000000",
          "2022-04-01T00:00:00.000000000",
          "2022-05-01T00:00:00.000000000",
          "2022-06-01T00:00:00.000000000",
          "2022-07-01T00:00:00.000000000",
          "2022-08-01T00:00:00.000000000",
          "2022-09-01T00:00:00.000000000",
          "2022-10-01T00:00:00.000000000",
          "2022-11-01T00:00:00.000000000",
          "2022-12-01T00:00:00.000000000",
          "2023-01-01T00:00:00.000000000",
          "2023-02-01T00:00:00.000000000",
          "2023-03-01T00:00:00.000000000",
          "2023-04-01T00:00:00.000000000",
          "2023-05-01T00:00:00.000000000",
          "2023-06-01T00:00:00.000000000",
          "2023-07-01T00:00:00.000000000",
          "2023-08-01T00:00:00.000000000",
          "2023-09-01T00:00:00.000000000",
          "2023-10-01T00:00:00.000000000",
          "2023-11-01T00:00:00.000000000",
          "2023-12-01T00:00:00.000000000",
          "2024-01-01T00:00:00.000000000",
          "2024-02-01T00:00:00.000000000",
          "2024-03-01T00:00:00.000000000",
          "2024-04-01T00:00:00.000000000",
          "2024-05-01T00:00:00.000000000",
          "2024-06-01T00:00:00.000000000",
          "2024-07-01T00:00:00.000000000",
          "2024-08-01T00:00:00.000000000",
          "2024-09-01T00:00:00.000000000",
          "2024-10-01T00:00:00.000000000",
          "2024-11-01T00:00:00.000000000",
          "2024-12-01T00:00:00.000000000",
          "2025-01-01T00:00:00.000000000",
          "2025-02-01T00:00:00.000000000",
          "2025-03-01T00:00:00.000000000",
          "2025-04-01T00:00:00.000000000",
          "2025-05-01T00:00:00.000000000",
          "2025-06-01T00:00:00.000000000",
          "2025-07-01T00:00:00.000000000",
          "2025-08-01T00:00:00.000000000"
         ],
         "y": {
          "bdata": "GgoAANOaAAAgngAAIpsAACOgAADUoAAA65AAAKegAABCmgAAu54AAF+aAACIoQAA4KAAAAebAAC6ngAAvZwAAByfAAA1nwAATZEAAHagAAAUmwAAg50AAB6ZAAB7oAAAT50AAAqaAABenwAA0ZwAAEWgAAB1nQAANJEAAC2dAAAEmgAARKEAAFqcAADvnAAAFqIAAB2bAACXogAACJoAADWeAAA7ngAA/ZQAAIOiAADGmgAAqp0AABuaAADnoAAAXZ8AAJuZAADnoAAAhpkAAPSdAACanwAAh5AAAHWiAAAgnAAA3p8AAESaAAD0ngAAoJQAAA==",
          "dtype": "i4"
         }
        },
        {
         "line": {
          "color": "red",
          "dash": "dash",
          "width": 2
         },
         "mode": "lines",
         "name": "Trend (rast: 1.7% letno)",
         "type": "scatter",
         "x": [
          "2020-08-01T00:00:00.000000000",
          "2020-09-01T00:00:00.000000000",
          "2020-10-01T00:00:00.000000000",
          "2020-11-01T00:00:00.000000000",
          "2020-12-01T00:00:00.000000000",
          "2021-01-01T00:00:00.000000000",
          "2021-02-01T00:00:00.000000000",
          "2021-03-01T00:00:00.000000000",
          "2021-04-01T00:00:00.000000000",
          "2021-05-01T00:00:00.000000000",
          "2021-06-01T00:00:00.000000000",
          "2021-07-01T00:00:00.000000000",
          "2021-08-01T00:00:00.000000000",
          "2021-09-01T00:00:00.000000000",
          "2021-10-01T00:00:00.000000000",
          "2021-11-01T00:00:00.000000000",
          "2021-12-01T00:00:00.000000000",
          "2022-01-01T00:00:00.000000000",
          "2022-02-01T00:00:00.000000000",
          "2022-03-01T00:00:00.000000000",
          "2022-04-01T00:00:00.000000000",
          "2022-05-01T00:00:00.000000000",
          "2022-06-01T00:00:00.000000000",
          "2022-07-01T00:00:00.000000000",
          "2022-08-01T00:00:00.000000000",
          "2022-09-01T00:00:00.000000000",
          "2022-10-01T00:00:00.000000000",
          "2022-11-01T00:00:00.000000000",
          "2022-12-01T00:00:00.000000000",
          "2023-01-01T00:00:00.000000000",
          "2023-02-01T00:00:00.000000000",
          "2023-03-01T00:00:00.000000000",
          "2023-04-01T00:00:00.000000000",
          "2023-05-01T00:00:00.000000000",
          "2023-06-01T00:00:00.000000000",
          "2023-07-01T00:00:00.000000000",
          "2023-08-01T00:00:00.000000000",
          "2023-09-01T00:00:00.000000000",
          "2023-10-01T00:00:00.000000000",
          "2023-11-01T00:00:00.000000000",
          "2023-12-01T00:00:00.000000000",
          "2024-01-01T00:00:00.000000000",
          "2024-02-01T00:00:00.000000000",
          "2024-03-01T00:00:00.000000000",
          "2024-04-01T00:00:00.000000000",
          "2024-05-01T00:00:00.000000000",
          "2024-06-01T00:00:00.000000000",
          "2024-07-01T00:00:00.000000000",
          "2024-08-01T00:00:00.000000000",
          "2024-09-01T00:00:00.000000000",
          "2024-10-01T00:00:00.000000000",
          "2024-11-01T00:00:00.000000000",
          "2024-12-01T00:00:00.000000000",
          "2025-01-01T00:00:00.000000000",
          "2025-02-01T00:00:00.000000000",
          "2025-03-01T00:00:00.000000000",
          "2025-04-01T00:00:00.000000000",
          "2025-05-01T00:00:00.000000000",
          "2025-06-01T00:00:00.000000000",
          "2025-07-01T00:00:00.000000000",
          "2025-08-01T00:00:00.000000000"
         ],
         "y": {
          "bdata": "Sa0AiaRx4kB6NhzyznjiQKu/N1v5f+JA3UhTxCOH4kAO0m4tTo7iQD9bipZ4leJAcOSl/6Kc4kChbcFozaPiQNP23NH3quJABID4OiKy4kA1CRSkTLniQGaSLw13wOJAlxtLdqHH4kDJpGbfy87iQPotgkj21eJAK7edsSDd4kBcQLkaS+TiQI3J1IN16+JAvlLw7J/y4kDw2wtWyvniQCFlJ7/0AONAUu5CKB8I40CDd16RSQ/jQLQAevpzFuNA5omVY54d40AXE7HMyCTjQEiczDXzK+NAeSXonh0z40CqrgMISDrjQNw3H3FyQeNADcE62pxI40A+SlZDx0/jQG/TcazxVuNAoFyNFRxe40DS5ah+RmXjQANvxOdwbONANPjfUJtz40Blgfu5xXrjQJYKFyPwgeNAyJMyjBqJ40D5HE71RJDjQCqmaV5vl+NAWy+Fx5me40CMuKAwxKXjQL5BvJnurONA78rXAhm040AgVPNrQ7vjQFHdDtVtwuNAgmYqPpjJ40C070WnwtDjQOV4YRDt1+NAFgJ9eRff40BHi5jiQebjQHgUtEts7eNAqZ3PtJb040DbJusdwfvjQAywBofrAuRAPTki8BUK5EBuwj1ZQBHkQJ9LWcJqGORA0dR0K5Uf5EA=",
          "dtype": "f8"
         }
        }
       ],
       "layout": {
        "annotations": [
         {
          "font": {
           "size": 12
          },
          "showarrow": false,
          "text": "COVID-19 obdobje",
          "x": "2020-09-01",
          "y": 37460.700000000004
         }
        ],
        "height": 500,
        "hovermode": "x unified",
        "shapes": [
         {
          "fillcolor": "gray",
          "layer": "below",
          "line": {
           "width": 0
          },
          "opacity": 0.2,
          "type": "rect",
          "x0": "2020-03-01",
          "x1": "2021-06-01",
          "xref": "x",
          "y0": 0,
          "y1": 1,
          "yref": "y domain"
         }
        ],
        "template": {
         "data": {
          "bar": [
           {
            "error_x": {
             "color": "#2a3f5f"
            },
            "error_y": {
             "color": "#2a3f5f"
            },
            "marker": {
             "line": {
              "color": "#E5ECF6",
              "width": 0.5
             },
             "pattern": {
              "fillmode": "overlay",
              "size": 10,
              "solidity": 0.2
             }
            },
            "type": "bar"
           }
          ],
          "barpolar": [
           {
            "marker": {
             "line": {
              "color": "#E5ECF6",
              "width": 0.5
             },
             "pattern": {
              "fillmode": "overlay",
              "size": 10,
              "solidity": 0.2
             }
            },
            "type": "barpolar"
           }
          ],
          "carpet": [
           {
            "aaxis": {
             "endlinecolor": "#2a3f5f",
             "gridcolor": "white",
             "linecolor": "white",
             "minorgridcolor": "white",
             "startlinecolor": "#2a3f5f"
            },
            "baxis": {
             "endlinecolor": "#2a3f5f",
             "gridcolor": "white",
             "linecolor": "white",
             "minorgridcolor": "white",
             "startlinecolor": "#2a3f5f"
            },
            "type": "carpet"
           }
          ],
          "choropleth": [
           {
            "colorbar": {
             "outlinewidth": 0,
             "ticks": ""
            },
            "type": "choropleth"
           }
          ],
          "contour": [
           {
            "colorbar": {
             "outlinewidth": 0,
             "ticks": ""
            },
            "colorscale": [
             [
              0,
              "#0d0887"
             ],
             [
              0.1111111111111111,
              "#46039f"
             ],
             [
              0.2222222222222222,
              "#7201a8"
             ],
             [
              0.3333333333333333,
              "#9c179e"
             ],
             [
              0.4444444444444444,
              "#bd3786"
             ],
             [
              0.5555555555555556,
              "#d8576b"
             ],
             [
              0.6666666666666666,
              "#ed7953"
             ],
             [
              0.7777777777777778,
              "#fb9f3a"
             ],
             [
              0.8888888888888888,
              "#fdca26"
             ],
             [
              1,
              "#f0f921"
             ]
            ],
            "type": "contour"
           }
          ],
          "contourcarpet": [
           {
            "colorbar": {
             "outlinewidth": 0,
             "ticks": ""
            },
            "type": "contourcarpet"
           }
          ],
          "heatmap": [
           {
            "colorbar": {
             "outlinewidth": 0,
             "ticks": ""
            },
            "colorscale": [
             [
              0,
              "#0d0887"
             ],
             [
              0.1111111111111111,
              "#46039f"
             ],
             [
              0.2222222222222222,
              "#7201a8"
             ],
             [
              0.3333333333333333,
              "#9c179e"
             ],
             [
              0.4444444444444444,
              "#bd3786"
             ],
             [
              0.5555555555555556,
              "#d8576b"
             ],
             [
              0.6666666666666666,
              "#ed7953"
             ],
             [
              0.7777777777777778,
              "#fb9f3a"
             ],
             [
              0.8888888888888888,
              "#fdca26"
             ],
             [
              1,
              "#f0f921"
             ]
            ],
            "type": "heatmap"
           }
          ],
          "histogram": [
           {
            "marker": {
             "pattern": {
              "fillmode": "overlay",
              "size": 10,
              "solidity": 0.2
             }
            },
            "type": "histogram"
           }
          ],
          "histogram2d": [
           {
            "colorbar": {
             "outlinewidth": 0,
             "ticks": ""
            },
            "colorscale": [
             [
              0,
              "#0d0887"
             ],
             [
              0.1111111111111111,
              "#46039f"
             ],
             [
              0.2222222222222222,
              "#7201a8"
             ],
             [
              0.3333333333333333,
              "#9c179e"
             ],
             [
              0.4444444444444444,
              "#bd3786"
             ],
             [
              0.5555555555555556,
              "#d8576b"
             ],
             [
              0.6666666666666666,
              "#ed7953"
             ],
             [
              0.7777777777777778,
              "#fb9f3a"
             ],
             [
              0.8888888888888888,
              "#fdca26"
             ],
             [
              1,
              "#f0f921"
             ]
            ],
            "type": "histogram2d"
           }
          ],
          "histogram2dcontour": [
           {
            "colorbar": {
             "outlinewidth": 0,
             "ticks": ""
            },
            "colorscale": [
             [
              0,
              "#0d0887"
             ],
             [
              0.1111111111111111,
              "#46039f"
             ],
             [
              0.2222222222222222,
              "#7201a8"
             ],
             [
              0.3333333333333333,
              "#9c179e"
             ],
             [
              0.4444444444444444,
              "#bd3786"
             ],
             [
              0.5555555555555556,
              "#d8576b"
             ],
             [
              0.6666666666666666,
              "#ed7953"
             ],
             [
              0.7777777777777778,
              "#fb9f3a"
             ],
             [
              0.8888888888888888,
              "#fdca26"
             ],
             [
              1,
              "#f0f921"
             ]
            ],
            "type": "histogram2dcontour"
           }
          ],
          "mesh3d": [
           {
            "colorbar": {
             "outlinewidth": 0,
             "ticks": ""
            },
            "type": "mesh3d"
           }
          ],
          "parcoords": [
           {
            "line": {
             "colorbar": {
              "outlinewidth": 0,
              "ticks": ""
             }
            },
            "type": "parcoords"
           }
          ],
          "pie": [
           {
            "automargin": true,
            "type": "pie"
           }
          ],
          "scatter": [
           {
            "fillpattern": {
             "fillmode": "overlay",
             "size": 10,
             "solidity": 0.2
            },
            "type": "scatter"
           }
          ],
          "scatter3d": [
           {
            "line": {
             "colorbar": {
              "outlinewidth": 0,
              "ticks": ""
             }
            },
            "marker": {
             "colorbar": {
              "outlinewidth": 0,
              "ticks": ""
             }
            },
            "type": "scatter3d"
           }
          ],
          "scattercarpet": [
           {
            "marker": {
             "colorbar": {
              "outlinewidth": 0,
              "ticks": ""
             }
            },
            "type": "scattercarpet"
           }
          ],
          "scattergeo": [
           {
            "marker": {
             "colorbar": {
              "outlinewidth": 0,
              "ticks": ""
             }
            },
            "type": "scattergeo"
           }
          ],
          "scattergl": [
           {
            "marker": {
             "colorbar": {
              "outlinewidth": 0,
              "ticks": ""
             }
            },
            "type": "scattergl"
           }
          ],
          "scattermap": [
           {
            "marker": {
             "colorbar": {
              "outlinewidth": 0,
              "ticks": ""
             }
            },
            "type": "scattermap"
           }
          ],
          "scattermapbox": [
           {
            "marker": {
             "colorbar": {
              "outlinewidth": 0,
              "ticks": ""
             }
            },
            "type": "scattermapbox"
           }
          ],
          "scatterpolar": [
           {
            "marker": {
             "colorbar": {
              "outlinewidth": 0,
              "ticks": ""
             }
            },
            "type": "scatterpolar"
           }
          ],
          "scatterpolargl": [
           {
            "marker": {
             "colorbar": {
              "outlinewidth": 0,
              "ticks": ""
             }
            },
            "type": "scatterpolargl"
           }
          ],
          "scatterternary": [
           {
            "marker": {
             "colorbar": {
              "outlinewidth": 0,
              "ticks": ""
             }
            },
            "type": "scatterternary"
           }
          ],
          "surface": [
           {
            "colorbar": {
             "outlinewidth": 0,
             "ticks": ""
            },
            "colorscale": [
             [
              0,
              "#0d0887"
             ],
             [
              0.1111111111111111,
              "#46039f"
             ],
             [
              0.2222222222222222,
              "#7201a8"
             ],
             [
              0.3333333333333333,
              "#9c179e"
             ],
             [
              0.4444444444444444,
              "#bd3786"
             ],
             [
              0.5555555555555556,
              "#d8576b"
             ],
             [
              0.6666666666666666,
              "#ed7953"
             ],
             [
              0.7777777777777778,
              "#fb9f3a"
             ],
             [
              0.8888888888888888,
              "#fdca26"
             ],
             [
              1,
              "#f0f921"
             ]
            ],
            "type": "surface"
           }
          ],
          "table": [
           {
            "cells": {
             "fill": {
              "color": "#EBF0F8"
             },
             "line": {
              "color": "white"
             }
            },
            "header": {
             "fill": {
              "color": "#C8D4E3"
             },
             "line": {
              "color": "white"
             }
            },
            "type": "table"
           }
          ]
         },
         "layout": {
          "annotationdefaults": {
           "arrowcolor": "#2a3f5f",
           "arrowhead": 0,
           "arrowwidth": 1
          },
          "autotypenumbers": "strict",
          "coloraxis": {
           "colorbar": {
            "outlinewidth": 0,
            "ticks": ""
           }
          },
          "colorscale": {
           "diverging": [
            [
             0,
             "#8e0152"
            ],
            [
             0.1,
             "#c51b7d"
            ],
            [
             0.2,
             "#de77ae"
            ],
            [
             0.3,
             "#f1b6da"
            ],
            [
             0.4,
             "#fde0ef"
            ],
            [
             0.5,
             "#f7f7f7"
            ],
            [
             0.6,
             "#e6f5d0"
            ],
            [
             0.7,
             "#b8e186"
            ],
            [
             0.8,
             "#7fbc41"
            ],
            [
             0.9,
             "#4d9221"
            ],
            [
             1,
             "#276419"
            ]
           ],
           "sequential": [
            [
             0,
             "#0d0887"
            ],
            [
             0.1111111111111111,
             "#46039f"
            ],
            [
             0.2222222222222222,
             "#7201a8"
            ],
            [
             0.3333333333333333,
             "#9c179e"
            ],
            [
             0.4444444444444444,
             "#bd3786"
            ],
            [
             0.5555555555555556,
             "#d8576b"
            ],
            [
             0.6666666666666666,
             "#ed7953"
            ],
            [
             0.7777777777777778,
             "#fb9f3a"
            ],
            [
             0.8888888888888888,
             "#fdca26"
            ],
            [
             1,
             "#f0f921"
            ]
           ],
           "sequentialminus": [
            [
             0,
             "#0d0887"
            ],
            [
             0.1111111111111111,
             "#46039f"
            ],
            [
             0.2222222222222222,
             "#7201a8"
            ],
            [
             0.3333333333333333,
             "#9c179e"
            ],
            [
             0.4444444444444444,
             "#bd3786"
            ],
            [
             0.5555555555555556,
             "#d8576b"
            ],
            [
             0.6666666666666666,
             "#ed7953"
            ],
            [
             0.7777777777777778,
             "#fb9f3a"
            ],
            [
             0.8888888888888888,
             "#fdca26"
            ],
            [
             1,
             "#f0f921"
            ]
           ]
          },
          "colorway": [
           "#636efa",
           "#EF553B",
           "#00cc96",
           "#ab63fa",
           "#FFA15A",
           "#19d3f3",
           "#FF6692",
           "#B6E880",
           "#FF97FF",
           "#FECB52"
          ],
          "font": {
           "color": "#2a3f5f"
          },
          "geo": {
           "bgcolor": "white",
           "lakecolor": "white",
           "landcolor": "#E5ECF6",
           "showlakes": true,
           "showland": true,
           "subunitcolor": "white"
          },
          "hoverlabel": {
           "align": "left"
          },
          "hovermode": "closest",
          "mapbox": {
           "style": "light"
          },
          "paper_bgcolor": "white",
          "plot_bgcolor": "#E5ECF6",
          "polar": {
           "angularaxis": {
            "gridcolor": "white",
            "linecolor": "white",
            "ticks": ""
           },
           "bgcolor": "#E5ECF6",
           "radialaxis": {
            "gridcolor": "white",
            "linecolor": "white",
            "ticks": ""
           }
          },
          "scene": {
           "xaxis": {
            "backgroundcolor": "#E5ECF6",
            "gridcolor": "white",
            "gridwidth": 2,
            "linecolor": "white",
            "showbackground": true,
            "ticks": "",
            "zerolinecolor": "white"
           },
           "yaxis": {
            "backgroundcolor": "#E5ECF6",
            "gridcolor": "white",
            "gridwidth": 2,
            "linecolor": "white",
            "showbackground": true,
            "ticks": "",
            "zerolinecolor": "white"
           },
           "zaxis": {
            "backgroundcolor": "#E5ECF6",
            "gridcolor": "white",
            "gridwidth": 2,
            "linecolor": "white",
            "showbackground": true,
            "ticks": "",
            "zerolinecolor": "white"
           }
          },
          "shapedefaults": {
           "line": {
            "color": "#2a3f5f"
           }
          },
          "ternary": {
           "aaxis": {
            "gridcolor": "white",
            "linecolor": "white",
            "ticks": ""
           },
           "baxis": {
            "gridcolor": "white",
            "linecolor": "white",
            "ticks": ""
           },
           "bgcolor": "#E5ECF6",
           "caxis": {
            "gridcolor": "white",
            "linecolor": "white",
            "ticks": ""
           }
          },
          "title": {
           "x": 0.05
          },
          "xaxis": {
           "automargin": true,
           "gridcolor": "white",
           "linecolor": "white",
           "ticks": "",
           "title": {
            "standoff": 15
           },
           "zerolinecolor": "white",
           "zerolinewidth": 2
          },
          "yaxis": {
           "automargin": true,
           "gridcolor": "white",
           "linecolor": "white",
           "ticks": "",
           "title": {
            "standoff": 15
           },
           "zerolinecolor": "white",
           "zerolinewidth": 2
          }
         }
        },
        "title": {
         "text": "Trend tovornega prometa - Koprsko območje (2020-2025)"
        },
        "xaxis": {
         "title": {
          "text": "Mesec"
         }
        },
        "yaxis": {
         "title": {
          "text": "Skupno število tovornjakov (>7.5t)"
         }
        }
       }
      }
     },
     "metadata": {},
     "output_type": "display_data"
    },
    {
     "name": "stdout",
     "output_type": "stream",
     "text": [
      "\n",
      "=== ANALIZA TRENDA ===\n",
      "R² vrednost: 0.0426\n",
      "Mesečna rast: 57 tovornjakov\n",
      "Letna stopnja rasti: 1.74%\n",
      "P-vrednost trenda: 1.1071e-01\n"
     ]
    }
   ],
   "source": [
    "# Mesečna agregacija za trend analizo\n",
    "df_koper['year_month'] = pd.to_datetime(df_koper['datetime'].dt.to_period('M').astype(str))\n",
    "monthly_trucks = df_koper.groupby('year_month').agg({\n",
    "    'Trucks_7.5t': 'sum',\n",
    "    'Total_All_Lanes': 'sum'\n",
    "}).reset_index()\n",
    "monthly_trucks['truck_percentage'] = (monthly_trucks['Trucks_7.5t'] / monthly_trucks['Total_All_Lanes']) * 100\n",
    "\n",
    "# Linearni trend\n",
    "from scipy.stats import linregress\n",
    "x = np.arange(len(monthly_trucks))\n",
    "slope, intercept, r_value, p_value, std_err = linregress(x, monthly_trucks['Trucks_7.5t'])\n",
    "\n",
    "# Izračun letne stopnje rasti\n",
    "yearly_growth = (slope * 12 / monthly_trucks['Trucks_7.5t'].mean()) * 100\n",
    "\n",
    "# Vizualizacija trenda\n",
    "fig = go.Figure()\n",
    "\n",
    "# Dejanski podatki\n",
    "fig.add_trace(go.Scatter(\n",
    "    x=monthly_trucks['year_month'],\n",
    "    y=monthly_trucks['Trucks_7.5t'],\n",
    "    mode='lines',\n",
    "    name='Dejanski tovorni promet',\n",
    "    line=dict(color='darkblue', width=2)\n",
    "))\n",
    "\n",
    "# Trend linija\n",
    "trend_line = intercept + slope * x\n",
    "fig.add_trace(go.Scatter(\n",
    "    x=monthly_trucks['year_month'],\n",
    "    y=trend_line,\n",
    "    mode='lines',\n",
    "    name=f'Trend (rast: {yearly_growth:.1f}% letno)',\n",
    "    line=dict(color='red', width=2, dash='dash')\n",
    "))\n",
    "\n",
    "# Dodaj anotacijo za COVID obdobje\n",
    "fig.add_vrect(\n",
    "    x0=\"2020-03-01\", x1=\"2021-06-01\",\n",
    "    fillcolor=\"gray\", opacity=0.2,\n",
    "    layer=\"below\", line_width=0,\n",
    ")\n",
    "fig.add_annotation(\n",
    "    x=\"2020-09-01\", y=monthly_trucks['Trucks_7.5t'].max() * 0.9,\n",
    "    text=\"COVID-19 obdobje\",\n",
    "    showarrow=False,\n",
    "    font=dict(size=12)\n",
    ")\n",
    "\n",
    "fig.update_layout(\n",
    "    title=\"Trend tovornega prometa - Koprsko območje (2020-2025)\",\n",
    "    xaxis_title=\"Mesec\",\n",
    "    yaxis_title=\"Skupno število tovornjakov (>7.5t)\",\n",
    "    hovermode='x unified',\n",
    "    height=500\n",
    ")\n",
    "\n",
    "fig.show()\n",
    "\n",
    "print(f\"\\n=== ANALIZA TRENDA ===\")\n",
    "print(f\"R² vrednost: {r_value**2:.4f}\")\n",
    "print(f\"Mesečna rast: {slope:.0f} tovornjakov\")\n",
    "print(f\"Letna stopnja rasti: {yearly_growth:.2f}%\")\n",
    "print(f\"P-vrednost trenda: {p_value:.4e}\")"
   ]
  },
  {
   "cell_type": "markdown",
   "metadata": {},
   "source": [
    "## 6. Kvantifikacija pristaniškega vs tranzitnega prometa"
   ]
  },
  {
   "cell_type": "code",
   "execution_count": 9,
   "metadata": {},
   "outputs": [
    {
     "name": "stdout",
     "output_type": "stream",
     "text": [
      "\n",
      "=== ANALIZA PO ČASOVNIH OBDOBJIH ===\n",
      "                         Trucks_7.5t        Total_All_Lanes\n",
      "                                 sum   mean             sum\n",
      "is_port_hours is_weekend                                   \n",
      "False         False           862015  11.01        22948565\n",
      "              True            343318  10.98         9123959\n",
      "True          False           860389  10.99        23721371\n",
      "              True            343345  10.98         9455331\n",
      "\n",
      "=== ANALIZA SMERI V KONICAH ===\n",
      "Jutranja konica (6-9h):\n",
      "  Proti pristanišču: 106214\n",
      "  Iz pristanišča: 194322\n",
      "  Neto tok: -88108\n",
      "\n",
      "Večerna konica (15-18h):\n",
      "  Proti pristanišču: 106023\n",
      "  Iz pristanišča: 195934\n",
      "  Neto tok: -89911\n",
      "\n",
      "=== OCENA DELEŽA PRISTANIŠKEGA PROMETA ===\n",
      "Povprečni tovorni promet v delovnem času: 11.0 tovornjakov/uro\n",
      "Povprečni tovorni promet ponoči: 11.0 tovornjakov/uro\n",
      "Ocenjeni pristaniški promet: 0.0 tovornjakov/uro\n",
      "Ocenjeni delež pristaniškega prometa: 0.0%\n",
      "Ocenjeni delež tranzitnega prometa: 100.0%\n"
     ]
    }
   ],
   "source": [
    "# Metoda 1: Analiza na osnovi časovnih vzorcev\n",
    "# Predpostavka: Pristaniški tovornjaki imajo drugačen vzorec kot tranzitni\n",
    "\n",
    "# Identifikacija tipičnih ur pristaniškega prometa (delovni čas pristanišča)\n",
    "port_hours = list(range(6, 18))  # 6:00 - 18:00\n",
    "night_hours = list(range(22, 24)) + list(range(0, 6))  # 22:00 - 06:00\n",
    "\n",
    "df_koper['is_port_hours'] = df_koper['hour'].isin(port_hours)\n",
    "df_koper['is_night_hours'] = df_koper['hour'].isin(night_hours)\n",
    "\n",
    "# Analiza po časovnih obdobjih\n",
    "time_analysis = df_koper.groupby(['is_port_hours', 'is_weekend']).agg({\n",
    "    'Trucks_7.5t': ['sum', 'mean'],\n",
    "    'Total_All_Lanes': 'sum'\n",
    "}).round(2)\n",
    "\n",
    "print(\"\\n=== ANALIZA PO ČASOVNIH OBDOBJIH ===\")\n",
    "print(time_analysis)\n",
    "\n",
    "# Metoda 2: Primerjava smeri v jutranji in večerni konici\n",
    "morning_peak = list(range(6, 9))  # 6:00 - 9:00\n",
    "evening_peak = list(range(15, 18))  # 15:00 - 18:00\n",
    "\n",
    "df_morning = df_koper[df_koper['hour'].isin(morning_peak)]\n",
    "df_evening = df_koper[df_koper['hour'].isin(evening_peak)]\n",
    "\n",
    "morning_balance = df_morning['trucks_direction_A'].sum() - df_morning['trucks_direction_B'].sum()\n",
    "evening_balance = df_evening['trucks_direction_A'].sum() - df_evening['trucks_direction_B'].sum()\n",
    "\n",
    "print(f\"\\n=== ANALIZA SMERI V KONICAH ===\")\n",
    "print(f\"Jutranja konica (6-9h):\")\n",
    "print(f\"  Proti pristanišču: {df_morning['trucks_direction_A'].sum():.0f}\")\n",
    "print(f\"  Iz pristanišča: {df_morning['trucks_direction_B'].sum():.0f}\")\n",
    "print(f\"  Neto tok: {morning_balance:+.0f}\")\n",
    "print(f\"\\nVečerna konica (15-18h):\")\n",
    "print(f\"  Proti pristanišču: {df_evening['trucks_direction_A'].sum():.0f}\")\n",
    "print(f\"  Iz pristanišča: {df_evening['trucks_direction_B'].sum():.0f}\")\n",
    "print(f\"  Neto tok: {evening_balance:+.0f}\")\n",
    "\n",
    "# Ocena deleža pristaniškega prometa\n",
    "# Predpostavka: razlika med delovnim časom in nočnim prometom predstavlja pristaniški promet\n",
    "port_hours_trucks = df_koper[df_koper['is_port_hours'] & ~df_koper['is_weekend']]['Trucks_7.5t'].mean()\n",
    "night_trucks = df_koper[df_koper['is_night_hours'] & ~df_koper['is_weekend']]['Trucks_7.5t'].mean()\n",
    "estimated_port_traffic = max(0, port_hours_trucks - night_trucks)\n",
    "port_percentage = (estimated_port_traffic / port_hours_trucks) * 100 if port_hours_trucks > 0 else 0\n",
    "\n",
    "print(f\"\\n=== OCENA DELEŽA PRISTANIŠKEGA PROMETA ===\")\n",
    "print(f\"Povprečni tovorni promet v delovnem času: {port_hours_trucks:.1f} tovornjakov/uro\")\n",
    "print(f\"Povprečni tovorni promet ponoči: {night_trucks:.1f} tovornjakov/uro\")\n",
    "print(f\"Ocenjeni pristaniški promet: {estimated_port_traffic:.1f} tovornjakov/uro\")\n",
    "print(f\"Ocenjeni delež pristaniškega prometa: {port_percentage:.1f}%\")\n",
    "print(f\"Ocenjeni delež tranzitnega prometa: {100-port_percentage:.1f}%\")"
   ]
  },
  {
   "cell_type": "markdown",
   "metadata": {},
   "source": [
    "## 7. Ključne ugotovitve in zaključki"
   ]
  },
  {
   "cell_type": "code",
   "execution_count": 10,
   "metadata": {},
   "outputs": [
    {
     "name": "stdout",
     "output_type": "stream",
     "text": [
      "\n",
      "============================================================\n",
      "KLJUČNE UGOTOVITVE - TOVORNI PROMET LUKE KOPER\n",
      "============================================================\n",
      "\n",
      "1. OBSEG PROMETA:\n",
      "   - Skupno število tovornjakov (2020-2025): 2,409,067\n",
      "   - Povprečni delež tovornjakov: 3.7%\n",
      "   - Letna stopnja rasti: 1.7%\n",
      "\n",
      "2. ČASOVNI VZORCI:\n",
      "   - Razlika delovni dan/vikend: 0.1%\n",
      "   - Glavni vrhovi prometa: [4, 17, 1]\n",
      "   - Najnižji promet: [7, 5, 10]\n",
      "\n",
      "3. OCENA PRISTANIŠKEGA PROMETA:\n",
      "   - Ocenjeni delež pristaniškega prometa: 0.0%\n",
      "   - Ocenjeni delež tranzitnega prometa: 100.0%\n",
      "   - Povprečno 0 pristaniških tovornjakov/uro\n",
      "\n",
      "4. PRIMERJAVA PO SEGMENTIH:\n",
      "   1. Bertoki HC: 483,440 tovornjakov (3.8% prometa)\n",
      "   2. Koper Port: 483,108 tovornjakov (4.3% prometa)\n",
      "   3. Ljubljana-Novo Mesto: 481,922 tovornjakov (4.2% prometa)\n",
      "\n",
      "5. TEST HIPOTEZE:\n",
      "   Hipoteza: Pristaniški promet < 15% tovornega prometa\n",
      "   Rezultat: POTRJENA\n",
      "   Dejanski delež: 0.0%\n",
      "\n",
      "============================================================\n"
     ]
    }
   ],
   "source": [
    "# Povzetek ključnih metrik\n",
    "total_trucks = df_koper['Trucks_7.5t'].sum()\n",
    "total_vehicles = df_koper['Total_All_Lanes'].sum()\n",
    "overall_truck_percentage = (total_trucks / total_vehicles) * 100\n",
    "\n",
    "# Primerjava med segmenti\n",
    "segment_comparison = df_koper.groupby('road_name').agg({\n",
    "    'Trucks_7.5t': 'sum',\n",
    "    'Total_All_Lanes': 'sum',\n",
    "    'truck_percentage': 'mean'\n",
    "}).sort_values('Trucks_7.5t', ascending=False)\n",
    "\n",
    "print(\"\\n\" + \"=\"*60)\n",
    "print(\"KLJUČNE UGOTOVITVE - TOVORNI PROMET LUKE KOPER\")\n",
    "print(\"=\"*60)\n",
    "\n",
    "print(f\"\\n1. OBSEG PROMETA:\")\n",
    "print(f\"   - Skupno število tovornjakov (2020-2025): {total_trucks:,.0f}\")\n",
    "print(f\"   - Povprečni delež tovornjakov: {overall_truck_percentage:.1f}%\")\n",
    "print(f\"   - Letna stopnja rasti: {yearly_growth:.1f}%\")\n",
    "\n",
    "print(f\"\\n2. ČASOVNI VZORCI:\")\n",
    "print(f\"   - Razlika delovni dan/vikend: {(weekday_trucks.mean() - weekend_trucks.mean())/weekday_trucks.mean()*100:.1f}%\")\n",
    "print(f\"   - Glavni vrhovi prometa: {hourly_pattern.nlargest(3).index.tolist()}\")\n",
    "print(f\"   - Najnižji promet: {hourly_pattern.nsmallest(3).index.tolist()}\")\n",
    "\n",
    "print(f\"\\n3. OCENA PRISTANIŠKEGA PROMETA:\")\n",
    "print(f\"   - Ocenjeni delež pristaniškega prometa: {port_percentage:.1f}%\")\n",
    "print(f\"   - Ocenjeni delež tranzitnega prometa: {100-port_percentage:.1f}%\")\n",
    "print(f\"   - Povprečno {estimated_port_traffic:.0f} pristaniških tovornjakov/uro\")\n",
    "\n",
    "print(f\"\\n4. PRIMERJAVA PO SEGMENTIH:\")\n",
    "for idx, (road, row) in enumerate(segment_comparison.head(3).iterrows(), 1):\n",
    "    print(f\"   {idx}. {road}: {row['Trucks_7.5t']:,.0f} tovornjakov ({row['truck_percentage']:.1f}% prometa)\")\n",
    "\n",
    "# Test hipoteze\n",
    "hypothesis_result = port_percentage < 15\n",
    "print(f\"\\n5. TEST HIPOTEZE:\")\n",
    "print(f\"   Hipoteza: Pristaniški promet < 15% tovornega prometa\")\n",
    "print(f\"   Rezultat: {'POTRJENA' if hypothesis_result else 'ZAVRNJENA'}\")\n",
    "print(f\"   Dejanski delež: {port_percentage:.1f}%\")\n",
    "\n",
    "print(\"\\n\" + \"=\"*60)"
   ]
  },
  {
   "cell_type": "markdown",
   "metadata": {},
   "source": [
    "## 8. Izvoz rezultatov za poročilo"
   ]
  },
  {
   "cell_type": "code",
   "execution_count": 11,
   "metadata": {},
   "outputs": [
    {
     "name": "stdout",
     "output_type": "stream",
     "text": [
      "Rezultati shranjeni v: ../data/processed/port_koper_truck_analysis_results.csv\n",
      "Časovne serije shranjene v: ../data/processed/port_koper_truck_time_series.csv\n"
     ]
    }
   ],
   "source": [
    "# Priprava podatkov za izvoz\n",
    "results_summary = {\n",
    "    'metric': [\n",
    "        'Skupno število tovornjakov (2020-2025)',\n",
    "        'Povprečni delež tovornjakov v prometu',\n",
    "        'Letna stopnja rasti',\n",
    "        'Ocenjeni delež pristaniškega prometa',\n",
    "        'Ocenjeni delež tranzitnega prometa',\n",
    "        'Razlika delovni dan/vikend',\n",
    "        'Hipoteza potrjena (pristaniški < 15%)'\n",
    "    ],\n",
    "    'value': [\n",
    "        f\"{total_trucks:,.0f}\",\n",
    "        f\"{overall_truck_percentage:.1f}%\",\n",
    "        f\"{yearly_growth:.1f}%\",\n",
    "        f\"{port_percentage:.1f}%\",\n",
    "        f\"{100-port_percentage:.1f}%\",\n",
    "        f\"{(weekday_trucks.mean() - weekend_trucks.mean())/weekday_trucks.mean()*100:.1f}%\",\n",
    "        'DA' if hypothesis_result else 'NE'\n",
    "    ]\n",
    "}\n",
    "\n",
    "df_results = pd.DataFrame(results_summary)\n",
    "\n",
    "# Shrani rezultate\n",
    "output_file = '../data/processed/port_koper_truck_analysis_results.csv'\n",
    "df_results.to_csv(output_file, index=False, encoding='utf-8')\n",
    "print(f\"Rezultati shranjeni v: {output_file}\")\n",
    "\n",
    "# Shrani tudi časovne serije za nadaljnjo analizo\n",
    "time_series_file = '../data/processed/port_koper_truck_time_series.csv'\n",
    "monthly_trucks.to_csv(time_series_file, index=False)\n",
    "print(f\"Časovne serije shranjene v: {time_series_file}\")"
   ]
  },
  {
   "cell_type": "code",
   "execution_count": null,
   "metadata": {},
   "outputs": [],
   "source": []
  }
 ],
 "metadata": {
  "kernelspec": {
   "display_name": ".venv",
   "language": "python",
   "name": "python3"
  },
  "language_info": {
   "codemirror_mode": {
    "name": "ipython",
    "version": 3
   },
   "file_extension": ".py",
   "mimetype": "text/x-python",
   "name": "python",
   "nbconvert_exporter": "python",
   "pygments_lexer": "ipython3",
   "version": "3.11.5"
  }
 },
 "nbformat": 4,
 "nbformat_minor": 4
}
